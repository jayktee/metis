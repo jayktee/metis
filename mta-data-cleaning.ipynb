{
 "cells": [
  {
   "cell_type": "markdown",
   "id": "2b30b08d",
   "metadata": {},
   "source": [
    "## Data Cleaning for MTA DB\n",
    "\n",
    "Notebook to clean project database."
   ]
  },
  {
   "cell_type": "code",
   "execution_count": 2,
   "id": "18587eea",
   "metadata": {},
   "outputs": [],
   "source": [
    "import pandas as pd\n",
    "import numpy as np"
   ]
  },
  {
   "cell_type": "code",
   "execution_count": null,
   "id": "fbc98208",
   "metadata": {},
   "outputs": [],
   "source": []
  }
 ],
 "metadata": {
  "kernelspec": {
   "display_name": "Python [conda env:metis] *",
   "language": "python",
   "name": "conda-env-metis-py"
  },
  "language_info": {
   "codemirror_mode": {
    "name": "ipython",
    "version": 3
   },
   "file_extension": ".py",
   "mimetype": "text/x-python",
   "name": "python",
   "nbconvert_exporter": "python",
   "pygments_lexer": "ipython3",
   "version": "3.8.10"
  }
 },
 "nbformat": 4,
 "nbformat_minor": 5
}
