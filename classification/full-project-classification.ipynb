{
 "cells": [
  {
   "cell_type": "markdown",
   "id": "a9dca054",
   "metadata": {},
   "source": [
    "# Classification: Genre predicting using baseline models"
   ]
  },
  {
   "cell_type": "code",
   "execution_count": 1,
   "id": "a1073180",
   "metadata": {},
   "outputs": [],
   "source": [
    "import pandas as pd\n",
    "import numpy as np\n",
    "import matplotlib.pyplot as plt\n",
    "import seaborn as sns\n",
    "\n",
    "%config InlineBackend.figure_formats = ['svg']  # or svg\n",
    "%matplotlib inline\n",
    "np.set_printoptions(suppress=True) # Suppress scientific notation where possible\n",
    "\n",
    "sns.set(context='notebook', style='darkgrid', font_scale=0.8, rc={\n",
    "    'axes.facecolor':'#2b41bc', \n",
    "    'axes.grid.which': 'major', \n",
    "    'grid.color': '#ffffff'})"
   ]
  },
  {
   "cell_type": "markdown",
   "id": "de82752f",
   "metadata": {},
   "source": [
    "## Data cleaning"
   ]
  },
  {
   "cell_type": "code",
   "execution_count": 203,
   "id": "c6010389",
   "metadata": {},
   "outputs": [],
   "source": [
    "# import data\n",
    "df = pd.read_csv('/Users/joycetagal/Github/metis/reg/SpotifyFeatures.csv')"
   ]
  },
  {
   "cell_type": "code",
   "execution_count": 82,
   "id": "d39bc87a",
   "metadata": {
    "scrolled": false
   },
   "outputs": [
    {
     "data": {
      "text/html": [
       "<div>\n",
       "<style scoped>\n",
       "    .dataframe tbody tr th:only-of-type {\n",
       "        vertical-align: middle;\n",
       "    }\n",
       "\n",
       "    .dataframe tbody tr th {\n",
       "        vertical-align: top;\n",
       "    }\n",
       "\n",
       "    .dataframe thead th {\n",
       "        text-align: right;\n",
       "    }\n",
       "</style>\n",
       "<table border=\"1\" class=\"dataframe\">\n",
       "  <thead>\n",
       "    <tr style=\"text-align: right;\">\n",
       "      <th></th>\n",
       "      <th>genre</th>\n",
       "      <th>artist_name</th>\n",
       "      <th>track_name</th>\n",
       "      <th>track_id</th>\n",
       "      <th>popularity</th>\n",
       "      <th>acousticness</th>\n",
       "      <th>danceability</th>\n",
       "      <th>duration_ms</th>\n",
       "      <th>energy</th>\n",
       "      <th>instrumentalness</th>\n",
       "      <th>key</th>\n",
       "      <th>liveness</th>\n",
       "      <th>loudness</th>\n",
       "      <th>mode</th>\n",
       "      <th>speechiness</th>\n",
       "      <th>tempo</th>\n",
       "      <th>time_signature</th>\n",
       "      <th>valence</th>\n",
       "    </tr>\n",
       "  </thead>\n",
       "  <tbody>\n",
       "    <tr>\n",
       "      <th>0</th>\n",
       "      <td>Opera</td>\n",
       "      <td>Giuseppe Verdi</td>\n",
       "      <td>Stiffelio, Act III: Ei fugge! … Lina, pensai c...</td>\n",
       "      <td>7EsKYeHtTc4H4xWiTqSVZA</td>\n",
       "      <td>21</td>\n",
       "      <td>0.986</td>\n",
       "      <td>0.313</td>\n",
       "      <td>490867</td>\n",
       "      <td>0.23100</td>\n",
       "      <td>0.000431</td>\n",
       "      <td>C#</td>\n",
       "      <td>0.0964</td>\n",
       "      <td>-14.287</td>\n",
       "      <td>Major</td>\n",
       "      <td>0.0547</td>\n",
       "      <td>86.001</td>\n",
       "      <td>4/4</td>\n",
       "      <td>0.0886</td>\n",
       "    </tr>\n",
       "    <tr>\n",
       "      <th>1</th>\n",
       "      <td>Opera</td>\n",
       "      <td>Giacomo Puccini</td>\n",
       "      <td>Madama Butterfly / Act 1: ... E soffitto e pareti</td>\n",
       "      <td>7MfmRBvqaW0I6UTxXnad8p</td>\n",
       "      <td>18</td>\n",
       "      <td>0.972</td>\n",
       "      <td>0.360</td>\n",
       "      <td>176797</td>\n",
       "      <td>0.20100</td>\n",
       "      <td>0.028000</td>\n",
       "      <td>D#</td>\n",
       "      <td>0.1330</td>\n",
       "      <td>-19.794</td>\n",
       "      <td>Major</td>\n",
       "      <td>0.0581</td>\n",
       "      <td>131.798</td>\n",
       "      <td>4/4</td>\n",
       "      <td>0.3690</td>\n",
       "    </tr>\n",
       "    <tr>\n",
       "      <th>2</th>\n",
       "      <td>Opera</td>\n",
       "      <td>Giacomo Puccini</td>\n",
       "      <td>Turandot / Act 2: Gloria, gloria, o vincitore</td>\n",
       "      <td>7pBo1GDhIysyUMFXiDVoON</td>\n",
       "      <td>10</td>\n",
       "      <td>0.935</td>\n",
       "      <td>0.168</td>\n",
       "      <td>266184</td>\n",
       "      <td>0.47000</td>\n",
       "      <td>0.020400</td>\n",
       "      <td>C</td>\n",
       "      <td>0.3630</td>\n",
       "      <td>-8.415</td>\n",
       "      <td>Major</td>\n",
       "      <td>0.0383</td>\n",
       "      <td>75.126</td>\n",
       "      <td>3/4</td>\n",
       "      <td>0.0696</td>\n",
       "    </tr>\n",
       "    <tr>\n",
       "      <th>3</th>\n",
       "      <td>Opera</td>\n",
       "      <td>Giuseppe Verdi</td>\n",
       "      <td>Rigoletto, Act IV: Venti scudi hai tu detto?</td>\n",
       "      <td>02mvYZX5aKNzdqEo6jF20m</td>\n",
       "      <td>17</td>\n",
       "      <td>0.961</td>\n",
       "      <td>0.250</td>\n",
       "      <td>288573</td>\n",
       "      <td>0.00605</td>\n",
       "      <td>0.000000</td>\n",
       "      <td>D</td>\n",
       "      <td>0.1200</td>\n",
       "      <td>-33.440</td>\n",
       "      <td>Major</td>\n",
       "      <td>0.0480</td>\n",
       "      <td>76.493</td>\n",
       "      <td>4/4</td>\n",
       "      <td>0.0380</td>\n",
       "    </tr>\n",
       "    <tr>\n",
       "      <th>4</th>\n",
       "      <td>Opera</td>\n",
       "      <td>Giuseppe Verdi</td>\n",
       "      <td>Don Carlo / Act 4: \"Ella giammai m'amò!\"</td>\n",
       "      <td>03TW0jwGMGhUabAjOpB1T9</td>\n",
       "      <td>19</td>\n",
       "      <td>0.985</td>\n",
       "      <td>0.142</td>\n",
       "      <td>629760</td>\n",
       "      <td>0.05800</td>\n",
       "      <td>0.146000</td>\n",
       "      <td>D</td>\n",
       "      <td>0.0969</td>\n",
       "      <td>-23.625</td>\n",
       "      <td>Major</td>\n",
       "      <td>0.0493</td>\n",
       "      <td>172.935</td>\n",
       "      <td>4/4</td>\n",
       "      <td>0.0382</td>\n",
       "    </tr>\n",
       "  </tbody>\n",
       "</table>\n",
       "</div>"
      ],
      "text/plain": [
       "   genre      artist_name                                         track_name  \\\n",
       "0  Opera   Giuseppe Verdi  Stiffelio, Act III: Ei fugge! … Lina, pensai c...   \n",
       "1  Opera  Giacomo Puccini  Madama Butterfly / Act 1: ... E soffitto e pareti   \n",
       "2  Opera  Giacomo Puccini      Turandot / Act 2: Gloria, gloria, o vincitore   \n",
       "3  Opera   Giuseppe Verdi       Rigoletto, Act IV: Venti scudi hai tu detto?   \n",
       "4  Opera   Giuseppe Verdi           Don Carlo / Act 4: \"Ella giammai m'amò!\"   \n",
       "\n",
       "                 track_id  popularity  acousticness  danceability  \\\n",
       "0  7EsKYeHtTc4H4xWiTqSVZA          21         0.986         0.313   \n",
       "1  7MfmRBvqaW0I6UTxXnad8p          18         0.972         0.360   \n",
       "2  7pBo1GDhIysyUMFXiDVoON          10         0.935         0.168   \n",
       "3  02mvYZX5aKNzdqEo6jF20m          17         0.961         0.250   \n",
       "4  03TW0jwGMGhUabAjOpB1T9          19         0.985         0.142   \n",
       "\n",
       "   duration_ms   energy  instrumentalness key  liveness  loudness   mode  \\\n",
       "0       490867  0.23100          0.000431  C#    0.0964   -14.287  Major   \n",
       "1       176797  0.20100          0.028000  D#    0.1330   -19.794  Major   \n",
       "2       266184  0.47000          0.020400   C    0.3630    -8.415  Major   \n",
       "3       288573  0.00605          0.000000   D    0.1200   -33.440  Major   \n",
       "4       629760  0.05800          0.146000   D    0.0969   -23.625  Major   \n",
       "\n",
       "   speechiness    tempo time_signature  valence  \n",
       "0       0.0547   86.001            4/4   0.0886  \n",
       "1       0.0581  131.798            4/4   0.3690  \n",
       "2       0.0383   75.126            3/4   0.0696  \n",
       "3       0.0480   76.493            4/4   0.0380  \n",
       "4       0.0493  172.935            4/4   0.0382  "
      ]
     },
     "execution_count": 82,
     "metadata": {},
     "output_type": "execute_result"
    }
   ],
   "source": [
    "df.head()"
   ]
  },
  {
   "cell_type": "code",
   "execution_count": 204,
   "id": "cb578541",
   "metadata": {},
   "outputs": [
    {
     "data": {
      "text/plain": [
       "array(['Opera', 'A Capella', 'Alternative', 'Blues', 'Dance', 'Pop',\n",
       "       'Electronic', 'R&B', 'Children’s Music', 'Folk', 'Anime', 'Rap',\n",
       "       'Classical', 'Reggae', 'Hip-Hop', 'Comedy', 'Country', 'Reggaeton',\n",
       "       'Ska', 'Indie', 'Rock', 'Soul', 'Soundtrack', 'Jazz', 'World',\n",
       "       'Movie'], dtype=object)"
      ]
     },
     "execution_count": 204,
     "metadata": {},
     "output_type": "execute_result"
    }
   ],
   "source": [
    "df['genre'].unique()"
   ]
  },
  {
   "cell_type": "code",
   "execution_count": 205,
   "id": "3a81757b",
   "metadata": {},
   "outputs": [
    {
     "data": {
      "text/plain": [
       "Comedy              9681\n",
       "Soundtrack          9646\n",
       "Indie               9543\n",
       "Jazz                9441\n",
       "Pop                 9386\n",
       "Electronic          9377\n",
       "Alternative         9353\n",
       "Blues               9353\n",
       "Children’s Music    9353\n",
       "Anime               9353\n",
       "Folk                9299\n",
       "Hip-Hop             9295\n",
       "Rock                9272\n",
       "Classical           9256\n",
       "Rap                 9232\n",
       "World               9096\n",
       "Soul                9089\n",
       "R&B                 8992\n",
       "Reggaeton           8927\n",
       "Ska                 8874\n",
       "Reggae              8771\n",
       "Dance               8701\n",
       "Country             8664\n",
       "Opera               8280\n",
       "Movie               7806\n",
       "A Capella            119\n",
       "Name: genre, dtype: int64"
      ]
     },
     "execution_count": 205,
     "metadata": {},
     "output_type": "execute_result"
    }
   ],
   "source": [
    "df['genre'].value_counts()"
   ]
  },
  {
   "cell_type": "code",
   "execution_count": 85,
   "id": "d6a9c124",
   "metadata": {},
   "outputs": [
    {
     "name": "stdout",
     "output_type": "stream",
     "text": [
      "<class 'pandas.core.frame.DataFrame'>\n",
      "RangeIndex: 228159 entries, 0 to 228158\n",
      "Data columns (total 18 columns):\n",
      " #   Column            Non-Null Count   Dtype  \n",
      "---  ------            --------------   -----  \n",
      " 0   genre             228159 non-null  object \n",
      " 1   artist_name       228159 non-null  object \n",
      " 2   track_name        228159 non-null  object \n",
      " 3   track_id          228159 non-null  object \n",
      " 4   popularity        228159 non-null  int64  \n",
      " 5   acousticness      228159 non-null  float64\n",
      " 6   danceability      228159 non-null  float64\n",
      " 7   duration_ms       228159 non-null  int64  \n",
      " 8   energy            228159 non-null  float64\n",
      " 9   instrumentalness  228159 non-null  float64\n",
      " 10  key               228159 non-null  object \n",
      " 11  liveness          228159 non-null  float64\n",
      " 12  loudness          228159 non-null  float64\n",
      " 13  mode              228159 non-null  object \n",
      " 14  speechiness       228159 non-null  float64\n",
      " 15  tempo             228159 non-null  float64\n",
      " 16  time_signature    228159 non-null  object \n",
      " 17  valence           228159 non-null  float64\n",
      "dtypes: float64(9), int64(2), object(7)\n",
      "memory usage: 31.3+ MB\n"
     ]
    }
   ],
   "source": [
    "df.info()"
   ]
  },
  {
   "cell_type": "code",
   "execution_count": 206,
   "id": "4b1d9167",
   "metadata": {},
   "outputs": [],
   "source": [
    "# replace mode with binary (as per Spotify Web API)\n",
    "# https://developer.spotify.com/documentation/web-api/reference/#/operations/get-several-audio-features\n",
    "df = df.replace({'mode': {'Major':1, 'Minor':0}})\n",
    "df = df.replace({'key': {'C#':1, 'D#':3, 'C':0, 'D':2, 'G#':8, 'F#':6, 'B':11, 'A':9, 'G':7, 'E':4, 'A#':10, 'F':5}})"
   ]
  },
  {
   "cell_type": "code",
   "execution_count": 207,
   "id": "5977d7cc",
   "metadata": {},
   "outputs": [],
   "source": [
    "# Remove podcasts and other non-music genres\n",
    "mask = ~df['genre'].isin(['Comedy', 'Movie', 'Soundtrack', 'A Capella'])"
   ]
  },
  {
   "cell_type": "code",
   "execution_count": 208,
   "id": "10a9912e",
   "metadata": {},
   "outputs": [
    {
     "data": {
      "text/html": [
       "<div>\n",
       "<style scoped>\n",
       "    .dataframe tbody tr th:only-of-type {\n",
       "        vertical-align: middle;\n",
       "    }\n",
       "\n",
       "    .dataframe tbody tr th {\n",
       "        vertical-align: top;\n",
       "    }\n",
       "\n",
       "    .dataframe thead th {\n",
       "        text-align: right;\n",
       "    }\n",
       "</style>\n",
       "<table border=\"1\" class=\"dataframe\">\n",
       "  <thead>\n",
       "    <tr style=\"text-align: right;\">\n",
       "      <th></th>\n",
       "      <th>genre</th>\n",
       "      <th>artist_name</th>\n",
       "      <th>track_name</th>\n",
       "      <th>track_id</th>\n",
       "      <th>popularity</th>\n",
       "      <th>acousticness</th>\n",
       "      <th>danceability</th>\n",
       "      <th>duration_ms</th>\n",
       "      <th>energy</th>\n",
       "      <th>instrumentalness</th>\n",
       "      <th>key</th>\n",
       "      <th>liveness</th>\n",
       "      <th>loudness</th>\n",
       "      <th>mode</th>\n",
       "      <th>speechiness</th>\n",
       "      <th>tempo</th>\n",
       "      <th>time_signature</th>\n",
       "      <th>valence</th>\n",
       "    </tr>\n",
       "  </thead>\n",
       "  <tbody>\n",
       "    <tr>\n",
       "      <th>0</th>\n",
       "      <td>Opera</td>\n",
       "      <td>Giuseppe Verdi</td>\n",
       "      <td>Stiffelio, Act III: Ei fugge! … Lina, pensai c...</td>\n",
       "      <td>7EsKYeHtTc4H4xWiTqSVZA</td>\n",
       "      <td>21</td>\n",
       "      <td>0.986</td>\n",
       "      <td>0.313</td>\n",
       "      <td>490867</td>\n",
       "      <td>0.23100</td>\n",
       "      <td>0.000431</td>\n",
       "      <td>1</td>\n",
       "      <td>0.0964</td>\n",
       "      <td>-14.287</td>\n",
       "      <td>1</td>\n",
       "      <td>0.0547</td>\n",
       "      <td>86.001</td>\n",
       "      <td>4/4</td>\n",
       "      <td>0.0886</td>\n",
       "    </tr>\n",
       "    <tr>\n",
       "      <th>1</th>\n",
       "      <td>Opera</td>\n",
       "      <td>Giacomo Puccini</td>\n",
       "      <td>Madama Butterfly / Act 1: ... E soffitto e pareti</td>\n",
       "      <td>7MfmRBvqaW0I6UTxXnad8p</td>\n",
       "      <td>18</td>\n",
       "      <td>0.972</td>\n",
       "      <td>0.360</td>\n",
       "      <td>176797</td>\n",
       "      <td>0.20100</td>\n",
       "      <td>0.028000</td>\n",
       "      <td>3</td>\n",
       "      <td>0.1330</td>\n",
       "      <td>-19.794</td>\n",
       "      <td>1</td>\n",
       "      <td>0.0581</td>\n",
       "      <td>131.798</td>\n",
       "      <td>4/4</td>\n",
       "      <td>0.3690</td>\n",
       "    </tr>\n",
       "    <tr>\n",
       "      <th>2</th>\n",
       "      <td>Opera</td>\n",
       "      <td>Giacomo Puccini</td>\n",
       "      <td>Turandot / Act 2: Gloria, gloria, o vincitore</td>\n",
       "      <td>7pBo1GDhIysyUMFXiDVoON</td>\n",
       "      <td>10</td>\n",
       "      <td>0.935</td>\n",
       "      <td>0.168</td>\n",
       "      <td>266184</td>\n",
       "      <td>0.47000</td>\n",
       "      <td>0.020400</td>\n",
       "      <td>0</td>\n",
       "      <td>0.3630</td>\n",
       "      <td>-8.415</td>\n",
       "      <td>1</td>\n",
       "      <td>0.0383</td>\n",
       "      <td>75.126</td>\n",
       "      <td>3/4</td>\n",
       "      <td>0.0696</td>\n",
       "    </tr>\n",
       "    <tr>\n",
       "      <th>3</th>\n",
       "      <td>Opera</td>\n",
       "      <td>Giuseppe Verdi</td>\n",
       "      <td>Rigoletto, Act IV: Venti scudi hai tu detto?</td>\n",
       "      <td>02mvYZX5aKNzdqEo6jF20m</td>\n",
       "      <td>17</td>\n",
       "      <td>0.961</td>\n",
       "      <td>0.250</td>\n",
       "      <td>288573</td>\n",
       "      <td>0.00605</td>\n",
       "      <td>0.000000</td>\n",
       "      <td>2</td>\n",
       "      <td>0.1200</td>\n",
       "      <td>-33.440</td>\n",
       "      <td>1</td>\n",
       "      <td>0.0480</td>\n",
       "      <td>76.493</td>\n",
       "      <td>4/4</td>\n",
       "      <td>0.0380</td>\n",
       "    </tr>\n",
       "    <tr>\n",
       "      <th>4</th>\n",
       "      <td>Opera</td>\n",
       "      <td>Giuseppe Verdi</td>\n",
       "      <td>Don Carlo / Act 4: \"Ella giammai m'amò!\"</td>\n",
       "      <td>03TW0jwGMGhUabAjOpB1T9</td>\n",
       "      <td>19</td>\n",
       "      <td>0.985</td>\n",
       "      <td>0.142</td>\n",
       "      <td>629760</td>\n",
       "      <td>0.05800</td>\n",
       "      <td>0.146000</td>\n",
       "      <td>2</td>\n",
       "      <td>0.0969</td>\n",
       "      <td>-23.625</td>\n",
       "      <td>1</td>\n",
       "      <td>0.0493</td>\n",
       "      <td>172.935</td>\n",
       "      <td>4/4</td>\n",
       "      <td>0.0382</td>\n",
       "    </tr>\n",
       "  </tbody>\n",
       "</table>\n",
       "</div>"
      ],
      "text/plain": [
       "   genre      artist_name                                         track_name  \\\n",
       "0  Opera   Giuseppe Verdi  Stiffelio, Act III: Ei fugge! … Lina, pensai c...   \n",
       "1  Opera  Giacomo Puccini  Madama Butterfly / Act 1: ... E soffitto e pareti   \n",
       "2  Opera  Giacomo Puccini      Turandot / Act 2: Gloria, gloria, o vincitore   \n",
       "3  Opera   Giuseppe Verdi       Rigoletto, Act IV: Venti scudi hai tu detto?   \n",
       "4  Opera   Giuseppe Verdi           Don Carlo / Act 4: \"Ella giammai m'amò!\"   \n",
       "\n",
       "                 track_id  popularity  acousticness  danceability  \\\n",
       "0  7EsKYeHtTc4H4xWiTqSVZA          21         0.986         0.313   \n",
       "1  7MfmRBvqaW0I6UTxXnad8p          18         0.972         0.360   \n",
       "2  7pBo1GDhIysyUMFXiDVoON          10         0.935         0.168   \n",
       "3  02mvYZX5aKNzdqEo6jF20m          17         0.961         0.250   \n",
       "4  03TW0jwGMGhUabAjOpB1T9          19         0.985         0.142   \n",
       "\n",
       "   duration_ms   energy  instrumentalness  key  liveness  loudness  mode  \\\n",
       "0       490867  0.23100          0.000431    1    0.0964   -14.287     1   \n",
       "1       176797  0.20100          0.028000    3    0.1330   -19.794     1   \n",
       "2       266184  0.47000          0.020400    0    0.3630    -8.415     1   \n",
       "3       288573  0.00605          0.000000    2    0.1200   -33.440     1   \n",
       "4       629760  0.05800          0.146000    2    0.0969   -23.625     1   \n",
       "\n",
       "   speechiness    tempo time_signature  valence  \n",
       "0       0.0547   86.001            4/4   0.0886  \n",
       "1       0.0581  131.798            4/4   0.3690  \n",
       "2       0.0383   75.126            3/4   0.0696  \n",
       "3       0.0480   76.493            4/4   0.0380  \n",
       "4       0.0493  172.935            4/4   0.0382  "
      ]
     },
     "execution_count": 208,
     "metadata": {},
     "output_type": "execute_result"
    }
   ],
   "source": [
    "df = df[mask]\n",
    "df.head()"
   ]
  },
  {
   "cell_type": "code",
   "execution_count": 259,
   "id": "6a9d3c43",
   "metadata": {
    "scrolled": false
   },
   "outputs": [
    {
     "data": {
      "text/plain": [
       "[Text(0, 0, 'Indie'),\n",
       " Text(1, 0, 'Jazz'),\n",
       " Text(2, 0, 'Pop'),\n",
       " Text(3, 0, 'Electronic'),\n",
       " Text(4, 0, 'Blues'),\n",
       " Text(5, 0, 'Children’s Music'),\n",
       " Text(6, 0, 'Anime'),\n",
       " Text(7, 0, 'Alternative'),\n",
       " Text(8, 0, 'Folk'),\n",
       " Text(9, 0, 'Hip-Hop'),\n",
       " Text(10, 0, 'Rock'),\n",
       " Text(11, 0, 'Classical'),\n",
       " Text(12, 0, 'Rap'),\n",
       " Text(13, 0, 'World'),\n",
       " Text(14, 0, 'Soul'),\n",
       " Text(15, 0, 'R&B'),\n",
       " Text(16, 0, 'Reggaeton'),\n",
       " Text(17, 0, 'Ska'),\n",
       " Text(18, 0, 'Reggae'),\n",
       " Text(19, 0, 'Dance'),\n",
       " Text(20, 0, 'Country'),\n",
       " Text(21, 0, 'Opera')]"
      ]
     },
     "execution_count": 259,
     "metadata": {},
     "output_type": "execute_result"
    },
    {
     "data": {
      "image/png": "[encoded data removed]",
      "text/plain": [
       "<Figure size 1080x576 with 1 Axes>"
      ]
     },
     "metadata": {},
     "output_type": "display_data"
    }
   ],
   "source": [
    "sns.set(font_scale=1.2)\n",
    "plt.figure(figsize = (15,8))\n",
    "ax = sns.barplot(x=df['genre'].value_counts().index, y=df['genre'].value_counts(), color='#1ed65f')\n",
    "ax.set_xticklabels(ax.get_xticklabels(),rotation = 30)"
   ]
  },
  {
   "cell_type": "code",
   "execution_count": 210,
   "id": "25ea4431",
   "metadata": {
    "scrolled": true
   },
   "outputs": [],
   "source": [
    "X = df.select_dtypes(exclude=['object']).copy().reset_index(drop=True)"
   ]
  },
  {
   "cell_type": "code",
   "execution_count": 211,
   "id": "29793a5e",
   "metadata": {},
   "outputs": [],
   "source": [
    "y = df['genre'].reset_index(drop=True)"
   ]
  },
  {
   "cell_type": "code",
   "execution_count": 201,
   "id": "6a767c6f",
   "metadata": {},
   "outputs": [
    {
     "data": {
      "text/html": [
       "<div>\n",
       "<style scoped>\n",
       "    .dataframe tbody tr th:only-of-type {\n",
       "        vertical-align: middle;\n",
       "    }\n",
       "\n",
       "    .dataframe tbody tr th {\n",
       "        vertical-align: top;\n",
       "    }\n",
       "\n",
       "    .dataframe thead th {\n",
       "        text-align: right;\n",
       "    }\n",
       "</style>\n",
       "<table border=\"1\" class=\"dataframe\">\n",
       "  <thead>\n",
       "    <tr style=\"text-align: right;\">\n",
       "      <th></th>\n",
       "      <th>popularity</th>\n",
       "      <th>acousticness</th>\n",
       "      <th>danceability</th>\n",
       "      <th>duration_ms</th>\n",
       "      <th>energy</th>\n",
       "      <th>instrumentalness</th>\n",
       "      <th>key</th>\n",
       "      <th>liveness</th>\n",
       "      <th>loudness</th>\n",
       "      <th>mode</th>\n",
       "      <th>speechiness</th>\n",
       "      <th>tempo</th>\n",
       "      <th>valence</th>\n",
       "    </tr>\n",
       "  </thead>\n",
       "  <tbody>\n",
       "    <tr>\n",
       "      <th>0</th>\n",
       "      <td>21</td>\n",
       "      <td>0.986</td>\n",
       "      <td>0.313</td>\n",
       "      <td>490867</td>\n",
       "      <td>0.23100</td>\n",
       "      <td>0.000431</td>\n",
       "      <td>1</td>\n",
       "      <td>0.0964</td>\n",
       "      <td>-14.287</td>\n",
       "      <td>1</td>\n",
       "      <td>0.0547</td>\n",
       "      <td>86.001</td>\n",
       "      <td>0.0886</td>\n",
       "    </tr>\n",
       "    <tr>\n",
       "      <th>1</th>\n",
       "      <td>18</td>\n",
       "      <td>0.972</td>\n",
       "      <td>0.360</td>\n",
       "      <td>176797</td>\n",
       "      <td>0.20100</td>\n",
       "      <td>0.028000</td>\n",
       "      <td>3</td>\n",
       "      <td>0.1330</td>\n",
       "      <td>-19.794</td>\n",
       "      <td>1</td>\n",
       "      <td>0.0581</td>\n",
       "      <td>131.798</td>\n",
       "      <td>0.3690</td>\n",
       "    </tr>\n",
       "    <tr>\n",
       "      <th>2</th>\n",
       "      <td>10</td>\n",
       "      <td>0.935</td>\n",
       "      <td>0.168</td>\n",
       "      <td>266184</td>\n",
       "      <td>0.47000</td>\n",
       "      <td>0.020400</td>\n",
       "      <td>0</td>\n",
       "      <td>0.3630</td>\n",
       "      <td>-8.415</td>\n",
       "      <td>1</td>\n",
       "      <td>0.0383</td>\n",
       "      <td>75.126</td>\n",
       "      <td>0.0696</td>\n",
       "    </tr>\n",
       "    <tr>\n",
       "      <th>3</th>\n",
       "      <td>17</td>\n",
       "      <td>0.961</td>\n",
       "      <td>0.250</td>\n",
       "      <td>288573</td>\n",
       "      <td>0.00605</td>\n",
       "      <td>0.000000</td>\n",
       "      <td>2</td>\n",
       "      <td>0.1200</td>\n",
       "      <td>-33.440</td>\n",
       "      <td>1</td>\n",
       "      <td>0.0480</td>\n",
       "      <td>76.493</td>\n",
       "      <td>0.0380</td>\n",
       "    </tr>\n",
       "    <tr>\n",
       "      <th>4</th>\n",
       "      <td>19</td>\n",
       "      <td>0.985</td>\n",
       "      <td>0.142</td>\n",
       "      <td>629760</td>\n",
       "      <td>0.05800</td>\n",
       "      <td>0.146000</td>\n",
       "      <td>2</td>\n",
       "      <td>0.0969</td>\n",
       "      <td>-23.625</td>\n",
       "      <td>1</td>\n",
       "      <td>0.0493</td>\n",
       "      <td>172.935</td>\n",
       "      <td>0.0382</td>\n",
       "    </tr>\n",
       "  </tbody>\n",
       "</table>\n",
       "</div>"
      ],
      "text/plain": [
       "   popularity  acousticness  danceability  duration_ms   energy  \\\n",
       "0          21         0.986         0.313       490867  0.23100   \n",
       "1          18         0.972         0.360       176797  0.20100   \n",
       "2          10         0.935         0.168       266184  0.47000   \n",
       "3          17         0.961         0.250       288573  0.00605   \n",
       "4          19         0.985         0.142       629760  0.05800   \n",
       "\n",
       "   instrumentalness  key  liveness  loudness  mode  speechiness    tempo  \\\n",
       "0          0.000431    1    0.0964   -14.287     1       0.0547   86.001   \n",
       "1          0.028000    3    0.1330   -19.794     1       0.0581  131.798   \n",
       "2          0.020400    0    0.3630    -8.415     1       0.0383   75.126   \n",
       "3          0.000000    2    0.1200   -33.440     1       0.0480   76.493   \n",
       "4          0.146000    2    0.0969   -23.625     1       0.0493  172.935   \n",
       "\n",
       "   valence  \n",
       "0   0.0886  \n",
       "1   0.3690  \n",
       "2   0.0696  \n",
       "3   0.0380  \n",
       "4   0.0382  "
      ]
     },
     "execution_count": 201,
     "metadata": {},
     "output_type": "execute_result"
    }
   ],
   "source": [
    "X.head()"
   ]
  },
  {
   "cell_type": "code",
   "execution_count": 212,
   "id": "57e33469",
   "metadata": {},
   "outputs": [
    {
     "data": {
      "text/plain": [
       "(200907, 13)"
      ]
     },
     "execution_count": 212,
     "metadata": {},
     "output_type": "execute_result"
    }
   ],
   "source": [
    "X.shape"
   ]
  },
  {
   "cell_type": "code",
   "execution_count": 15,
   "id": "d34d09cb",
   "metadata": {},
   "outputs": [
    {
     "data": {
      "text/plain": [
       "(200907,)"
      ]
     },
     "execution_count": 15,
     "metadata": {},
     "output_type": "execute_result"
    }
   ],
   "source": [
    "y.shape"
   ]
  },
  {
   "cell_type": "code",
   "execution_count": 16,
   "id": "78d983ea",
   "metadata": {
    "scrolled": true
   },
   "outputs": [
    {
     "data": {
      "text/plain": [
       "200902    Opera\n",
       "200903    Opera\n",
       "200904    Opera\n",
       "200905    Opera\n",
       "200906    Opera\n",
       "Name: genre, dtype: object"
      ]
     },
     "execution_count": 16,
     "metadata": {},
     "output_type": "execute_result"
    }
   ],
   "source": [
    "y.tail()"
   ]
  },
  {
   "cell_type": "code",
   "execution_count": 227,
   "id": "5a3a7969",
   "metadata": {},
   "outputs": [],
   "source": [
    "# Create list of model and accuracy dicts\n",
    "list_of_perform = []\n",
    "\n",
    "# List to keep track of models\n",
    "models = []\n",
    "\n",
    "# List to keep track of y_scores\n",
    "y_scores = []"
   ]
  },
  {
   "cell_type": "markdown",
   "id": "50ef1858",
   "metadata": {},
   "source": [
    "## KNN\n",
    "### 1) Naive kNN"
   ]
  },
  {
   "cell_type": "code",
   "execution_count": 213,
   "id": "ca4fa49a",
   "metadata": {},
   "outputs": [],
   "source": [
    "# Naive KNN with scaled values\n",
    "from sklearn.neighbors import KNeighborsClassifier\n",
    "from sklearn.model_selection import train_test_split\n",
    "from sklearn.preprocessing import StandardScaler\n",
    "from sklearn import metrics\n",
    "\n",
    "# Split training and testing data\n",
    "X, X_test, y, y_test = train_test_split(X, y, test_size=.2, random_state=11)\n",
    "# Split data one more time into train and eval\n",
    "X_train, X_val, y_train, y_val = train_test_split(X, y, test_size=.25, random_state=3)\n",
    "\n",
    "std = StandardScaler()\n",
    "std.fit(X_train.values)\n",
    "X_tr = std.transform(X_train.values)\n",
    "X_te = std.transform(X_test.values)"
   ]
  },
  {
   "cell_type": "code",
   "execution_count": 215,
   "id": "066da6b9",
   "metadata": {},
   "outputs": [],
   "source": [
    "knn_naive = KNeighborsClassifier()\n",
    "knn_naive.fit(X_tr, y_train)\n",
    "y_train_pred = knn_naive.predict(X_tr)\n",
    "y_pred = knn_naive.predict(X_te)\n",
    "knn_base_y_score = knn_naive.predict_proba(X_te)"
   ]
  },
  {
   "cell_type": "code",
   "execution_count": 228,
   "id": "2220294f",
   "metadata": {},
   "outputs": [
    {
     "name": "stdout",
     "output_type": "stream",
     "text": [
      "Precision : 0.27131755669427376\n",
      "Recall    : 0.24919118013040664\n",
      "F-score   : 0.2548939005513972\n"
     ]
    }
   ],
   "source": [
    "precision, recall, fscore, support = precision_recall_fscore_support(y_test, y_pred, average='weighted')\n",
    "print(f'Precision : {precision}')\n",
    "print(f'Recall    : {recall}')\n",
    "print(f'F-score   : {fscore}')\n",
    "\n",
    "# save to dict\n",
    "list_of_perform.append(dict([\n",
    "    ('Model', 'KNN Naive'),\n",
    "    ('Train Accuracy', round(metrics.accuracy_score(y_train, y_train_pred), 2)),\n",
    "    ('Test Accuracy', round(metrics.accuracy_score(y_test, y_pred), 2)),\n",
    "    ('Train Precision', round(metrics.precision_score(y_train, y_train_pred, average='weighted'), 2)),\n",
    "    ('Test Precision', round(precision, 2)),\n",
    "    ('Test Recall', round(recall, 2)),\n",
    "    ('Test F1', round(fscore, 2))\n",
    "     ]))\n",
    "\n",
    "# Add model to list\n",
    "models.append('KNN Naive')\n",
    "\n",
    "# Add y_score to list\n",
    "y_scores.append(knn_base_y_score)"
   ]
  },
  {
   "cell_type": "markdown",
   "id": "089bab81",
   "metadata": {},
   "source": [
    "Since this is a multiclass classification, the mean accuracy score can be compared to the naive baseline accuracy which would be 100% divided by the number of unique targets, namely the accuracy if our model naively predicted just one target across all predictions. This is assuming that our targets are equally distributed across the data, which is roughly the case. \n",
    "\n",
    "Recall that in the MVP with only 6 selected genres, we had a mean accuracy score of 44%, which is significantly better than a naive accuracy of 100%/6 = 16.67%. \n",
    "\n",
    "In this case, we now have 22 unique target genres, which means that in a naive model which guessed only \"Opera\" for all the predictions would have a mean accuracy of 100%/22 = 4.54%. Thus, the KNN model performs better than the naive model at 27.11% mean accuracy across all targets.\n",
    "\n",
    "That being said, we "
   ]
  },
  {
   "cell_type": "code",
   "execution_count": 19,
   "id": "3db29d3d",
   "metadata": {},
   "outputs": [],
   "source": [
    "# Let's do a pipeline that involves the following steps\n",
    "# Scale the training data\n",
    "# Use Kfold cross-validator to split data\n",
    "# Use GridSearchCV to test parameters \n",
    "\n",
    "from sklearn.model_selection import (cross_val_score, KFold, GridSearchCV)\n",
    "from sklearn.metrics import make_scorer, precision_score, accuracy_score, precision_recall_fscore_support, recall_score, f1_score\n",
    "from sklearn.pipeline import Pipeline\n",
    "\n",
    "pipe = Pipeline([(\"scale\", StandardScaler()),\n",
    "                 (\"knn\", KNeighborsClassifier())\n",
    "                ])"
   ]
  },
  {
   "cell_type": "markdown",
   "id": "60c8e241",
   "metadata": {},
   "source": [
    "### 2) kNN optimized with GridSearch"
   ]
  },
  {
   "cell_type": "code",
   "execution_count": 256,
   "id": "45376fc5",
   "metadata": {
    "scrolled": false
   },
   "outputs": [],
   "source": [
    "# GridSearch for KNN best model\n",
    "\n",
    "params = [{'knn__leaf_size': [15, 20], 'knn__n_neighbors': [35, 37, 39]}]\n",
    "\n",
    "# random shuffle\n",
    "kfold = KFold(n_splits=5, shuffle=True, random_state=0)\n",
    "\n",
    "# Create weighted scorer\n",
    "scoring_functions = {'precision': make_scorer(precision_score, average = 'weighted', zero_division=0),\n",
    "                     'recall': make_scorer(recall_score, average = 'weighted', zero_division=0),\n",
    "                     'f1': make_scorer(f1_score, average = 'weighted', zero_division=0)\n",
    "                    }\n",
    "\n",
    "#Use GridSearch and refit for precision\n",
    "grid_knn = GridSearchCV(pipe, params, scoring=scoring_functions, cv=kfold, refit='precision')\n",
    "\n",
    "#Fit the model\n",
    "best_model_knn = grid_knn.fit(X_train, y_train)"
   ]
  },
  {
   "cell_type": "code",
   "execution_count": 22,
   "id": "3835b908",
   "metadata": {
    "scrolled": true
   },
   "outputs": [
    {
     "name": "stdout",
     "output_type": "stream",
     "text": [
      "Best estimator: Pipeline(steps=[('scale', StandardScaler()),\n",
      "                ('knn', KNeighborsClassifier(leaf_size=15, n_neighbors=35))])\n",
      "Best leaf_size: 15\n",
      "Best n_neighbors: 35\n",
      "Best mean precision score:  30.59%\n"
     ]
    }
   ],
   "source": [
    "#Print The value of best Hyperparameters\n",
    "print('Best estimator:', best_model_knn.best_estimator_)\n",
    "print('Best leaf_size:', best_model_knn.best_estimator_.get_params()['knn__leaf_size'])\n",
    "print('Best n_neighbors:', best_model_knn.best_estimator_.get_params()['knn__n_neighbors'])\n",
    "print('Best mean precision score: {:6.2f}%'.format(100*best_model_knn.best_score_))"
   ]
  },
  {
   "cell_type": "code",
   "execution_count": 26,
   "id": "54d0a88c",
   "metadata": {},
   "outputs": [],
   "source": [
    "y_predict_knn = best_model_knn.predict(X_train)\n",
    "y_predict_knn_test = best_model_knn.predict(X_test)\n",
    "knn_gs_y_score = best_model_knn.predict_proba(X_test)"
   ]
  },
  {
   "cell_type": "markdown",
   "id": "85bea80a",
   "metadata": {},
   "source": [
    "Overall, my chosen metric will be precision, because we care more about not labelling a negative sample as a positive, as opposed to labelling all positive samples as positive (recall). Contextually, a user will be more frustrated that a rap song shows up in their Classical music playlist, and will care less that a playlist hits all the Classical music in the Spotify catalog."
   ]
  },
  {
   "cell_type": "code",
   "execution_count": 219,
   "id": "76faf5e1",
   "metadata": {},
   "outputs": [
    {
     "data": {
      "text/plain": [
       "(40182,)"
      ]
     },
     "execution_count": 219,
     "metadata": {},
     "output_type": "execute_result"
    }
   ],
   "source": [
    "y_test.shape"
   ]
  },
  {
   "cell_type": "code",
   "execution_count": 230,
   "id": "a3587f0c",
   "metadata": {
    "scrolled": true
   },
   "outputs": [
    {
     "name": "stdout",
     "output_type": "stream",
     "text": [
      "Precision : 0.2975967910487211\n",
      "Recall    : 0.3069035886715445\n",
      "F-score   : 0.2977570548863324\n"
     ]
    }
   ],
   "source": [
    "precision, recall, fscore, support = precision_recall_fscore_support(y_test, y_predict_knn_test, average='weighted')\n",
    "print(f'Precision : {precision}')\n",
    "print(f'Recall    : {recall}')\n",
    "print(f'F-score   : {fscore}')\n",
    "\n",
    "# save to dict\n",
    "list_of_perform.append(dict([\n",
    "    ('Model', 'KNN GS'),\n",
    "    ('Train Accuracy', round(metrics.accuracy_score(y_train, y_predict_knn), 2)),\n",
    "    ('Test Accuracy', round(metrics.accuracy_score(y_test, y_predict_knn_test), 2)),\n",
    "    ('Train Precision', round(metrics.precision_score(y_train, y_predict_knn, average='weighted'), 2)),\n",
    "    ('Test Precision', round(precision, 2)),\n",
    "    ('Test Recall', round(recall, 2)),\n",
    "    ('Test F1', round(fscore, 2))\n",
    "     ]))\n",
    "\n",
    "# Add model to list\n",
    "models.append('KNN GS')\n",
    "\n",
    "# Add y_score to list\n",
    "y_scores.append(knn_gs_y_score)"
   ]
  },
  {
   "cell_type": "code",
   "execution_count": 231,
   "id": "cdca6618",
   "metadata": {},
   "outputs": [
    {
     "data": {
      "text/plain": [
       "[{'Model': 'KNN Naive',\n",
       "  'Train Accuracy': 0.45,\n",
       "  'Test Accuracy': 0.25,\n",
       "  'Train Precision': 0.49,\n",
       "  'Test Precision': 0.27,\n",
       "  'Test Recall': 0.25,\n",
       "  'Test F1': 0.25},\n",
       " {'Model': 'KNN GS',\n",
       "  'Train Accuracy': 0.37,\n",
       "  'Test Accuracy': 0.31,\n",
       "  'Train Precision': 0.37,\n",
       "  'Test Precision': 0.3,\n",
       "  'Test Recall': 0.31,\n",
       "  'Test F1': 0.3}]"
      ]
     },
     "execution_count": 231,
     "metadata": {},
     "output_type": "execute_result"
    }
   ],
   "source": [
    "list_of_perform"
   ]
  },
  {
   "cell_type": "code",
   "execution_count": 129,
   "id": "55ef6c47",
   "metadata": {},
   "outputs": [
    {
     "name": "stdout",
     "output_type": "stream",
     "text": [
      "Train precision score is:  36.57%\n",
      "Test precision score is:  29.76%\n",
      "Test recall score is:  30.69%\n",
      "Test F1 score is:  29.76%\n"
     ]
    }
   ],
   "source": [
    "print('Train precision score is: {:6.2f}%'.format(100*precision_score(y_train, y_predict_knn, average='weighted')))\n",
    "print('Test precision score is: {:6.2f}%'.format(100*precision_score(y_test, y_predict_knn_test, average='weighted')))\n",
    "print('Test recall score is: {:6.2f}%'.format(100*recall_score(y_test, y_predict_knn_test, average='weighted')))\n",
    "print('Test F1 score is: {:6.2f}%'.format(100*precision_score(y_test, y_predict_knn_test, average='weighted')))\n"
   ]
  },
  {
   "cell_type": "markdown",
   "id": "61b30bbb",
   "metadata": {},
   "source": [
    "It looks like there's still some amount of overfitting in our model. Since this is a multiclass model, our accuracy score is an average across the model and even our F1 score is an average albeit a weighted average. To fully understand what's going on, let's examine each target in greater detail without averaging."
   ]
  },
  {
   "cell_type": "code",
   "execution_count": 28,
   "id": "0024516d",
   "metadata": {},
   "outputs": [
    {
     "data": {
      "text/html": [
       "<div>\n",
       "<style scoped>\n",
       "    .dataframe tbody tr th:only-of-type {\n",
       "        vertical-align: middle;\n",
       "    }\n",
       "\n",
       "    .dataframe tbody tr th {\n",
       "        vertical-align: top;\n",
       "    }\n",
       "\n",
       "    .dataframe thead th {\n",
       "        text-align: right;\n",
       "    }\n",
       "</style>\n",
       "<table border=\"1\" class=\"dataframe\">\n",
       "  <thead>\n",
       "    <tr style=\"text-align: right;\">\n",
       "      <th></th>\n",
       "      <th>precision</th>\n",
       "      <th>recall</th>\n",
       "      <th>fscore</th>\n",
       "      <th>support</th>\n",
       "      <th>genre</th>\n",
       "    </tr>\n",
       "  </thead>\n",
       "  <tbody>\n",
       "    <tr>\n",
       "      <th>12</th>\n",
       "      <td>0.752775</td>\n",
       "      <td>0.873536</td>\n",
       "      <td>0.808672</td>\n",
       "      <td>1708.0</td>\n",
       "      <td>Opera</td>\n",
       "    </tr>\n",
       "    <tr>\n",
       "      <th>19</th>\n",
       "      <td>0.705400</td>\n",
       "      <td>0.566411</td>\n",
       "      <td>0.628311</td>\n",
       "      <td>1822.0</td>\n",
       "      <td>Ska</td>\n",
       "    </tr>\n",
       "    <tr>\n",
       "      <th>4</th>\n",
       "      <td>0.650027</td>\n",
       "      <td>0.643533</td>\n",
       "      <td>0.646764</td>\n",
       "      <td>1902.0</td>\n",
       "      <td>Classical</td>\n",
       "    </tr>\n",
       "    <tr>\n",
       "      <th>7</th>\n",
       "      <td>0.493318</td>\n",
       "      <td>0.488423</td>\n",
       "      <td>0.490859</td>\n",
       "      <td>1814.0</td>\n",
       "      <td>Electronic</td>\n",
       "    </tr>\n",
       "    <tr>\n",
       "      <th>17</th>\n",
       "      <td>0.490538</td>\n",
       "      <td>0.553993</td>\n",
       "      <td>0.520338</td>\n",
       "      <td>1778.0</td>\n",
       "      <td>Reggaeton</td>\n",
       "    </tr>\n",
       "    <tr>\n",
       "      <th>21</th>\n",
       "      <td>0.445016</td>\n",
       "      <td>0.390299</td>\n",
       "      <td>0.415865</td>\n",
       "      <td>1773.0</td>\n",
       "      <td>World</td>\n",
       "    </tr>\n",
       "    <tr>\n",
       "      <th>16</th>\n",
       "      <td>0.427178</td>\n",
       "      <td>0.387839</td>\n",
       "      <td>0.406559</td>\n",
       "      <td>1694.0</td>\n",
       "      <td>Reggae</td>\n",
       "    </tr>\n",
       "    <tr>\n",
       "      <th>11</th>\n",
       "      <td>0.373690</td>\n",
       "      <td>0.380064</td>\n",
       "      <td>0.376850</td>\n",
       "      <td>1876.0</td>\n",
       "      <td>Jazz</td>\n",
       "    </tr>\n",
       "    <tr>\n",
       "      <th>5</th>\n",
       "      <td>0.265411</td>\n",
       "      <td>0.452687</td>\n",
       "      <td>0.334629</td>\n",
       "      <td>1712.0</td>\n",
       "      <td>Country</td>\n",
       "    </tr>\n",
       "    <tr>\n",
       "      <th>13</th>\n",
       "      <td>0.239703</td>\n",
       "      <td>0.310566</td>\n",
       "      <td>0.270572</td>\n",
       "      <td>1874.0</td>\n",
       "      <td>Pop</td>\n",
       "    </tr>\n",
       "    <tr>\n",
       "      <th>8</th>\n",
       "      <td>0.238296</td>\n",
       "      <td>0.307065</td>\n",
       "      <td>0.268345</td>\n",
       "      <td>1840.0</td>\n",
       "      <td>Folk</td>\n",
       "    </tr>\n",
       "    <tr>\n",
       "      <th>9</th>\n",
       "      <td>0.223250</td>\n",
       "      <td>0.397366</td>\n",
       "      <td>0.285884</td>\n",
       "      <td>1822.0</td>\n",
       "      <td>Hip-Hop</td>\n",
       "    </tr>\n",
       "    <tr>\n",
       "      <th>18</th>\n",
       "      <td>0.194328</td>\n",
       "      <td>0.198498</td>\n",
       "      <td>0.196391</td>\n",
       "      <td>1864.0</td>\n",
       "      <td>Rock</td>\n",
       "    </tr>\n",
       "    <tr>\n",
       "      <th>20</th>\n",
       "      <td>0.185005</td>\n",
       "      <td>0.103542</td>\n",
       "      <td>0.132774</td>\n",
       "      <td>1835.0</td>\n",
       "      <td>Soul</td>\n",
       "    </tr>\n",
       "    <tr>\n",
       "      <th>15</th>\n",
       "      <td>0.178862</td>\n",
       "      <td>0.144184</td>\n",
       "      <td>0.159661</td>\n",
       "      <td>1831.0</td>\n",
       "      <td>Rap</td>\n",
       "    </tr>\n",
       "    <tr>\n",
       "      <th>14</th>\n",
       "      <td>0.161491</td>\n",
       "      <td>0.140845</td>\n",
       "      <td>0.150463</td>\n",
       "      <td>1846.0</td>\n",
       "      <td>R&amp;B</td>\n",
       "    </tr>\n",
       "    <tr>\n",
       "      <th>6</th>\n",
       "      <td>0.150028</td>\n",
       "      <td>0.149862</td>\n",
       "      <td>0.149945</td>\n",
       "      <td>1815.0</td>\n",
       "      <td>Dance</td>\n",
       "    </tr>\n",
       "    <tr>\n",
       "      <th>10</th>\n",
       "      <td>0.128223</td>\n",
       "      <td>0.095238</td>\n",
       "      <td>0.109296</td>\n",
       "      <td>1932.0</td>\n",
       "      <td>Indie</td>\n",
       "    </tr>\n",
       "    <tr>\n",
       "      <th>0</th>\n",
       "      <td>0.093153</td>\n",
       "      <td>0.104877</td>\n",
       "      <td>0.098668</td>\n",
       "      <td>1907.0</td>\n",
       "      <td>Alternative</td>\n",
       "    </tr>\n",
       "    <tr>\n",
       "      <th>1</th>\n",
       "      <td>0.073684</td>\n",
       "      <td>0.060541</td>\n",
       "      <td>0.066469</td>\n",
       "      <td>1850.0</td>\n",
       "      <td>Anime</td>\n",
       "    </tr>\n",
       "    <tr>\n",
       "      <th>2</th>\n",
       "      <td>0.073228</td>\n",
       "      <td>0.051183</td>\n",
       "      <td>0.060253</td>\n",
       "      <td>1817.0</td>\n",
       "      <td>Blues</td>\n",
       "    </tr>\n",
       "    <tr>\n",
       "      <th>3</th>\n",
       "      <td>0.067797</td>\n",
       "      <td>0.032086</td>\n",
       "      <td>0.043557</td>\n",
       "      <td>1870.0</td>\n",
       "      <td>Children’s Music</td>\n",
       "    </tr>\n",
       "  </tbody>\n",
       "</table>\n",
       "</div>"
      ],
      "text/plain": [
       "    precision    recall    fscore  support             genre\n",
       "12   0.752775  0.873536  0.808672   1708.0             Opera\n",
       "19   0.705400  0.566411  0.628311   1822.0               Ska\n",
       "4    0.650027  0.643533  0.646764   1902.0         Classical\n",
       "7    0.493318  0.488423  0.490859   1814.0        Electronic\n",
       "17   0.490538  0.553993  0.520338   1778.0         Reggaeton\n",
       "21   0.445016  0.390299  0.415865   1773.0             World\n",
       "16   0.427178  0.387839  0.406559   1694.0            Reggae\n",
       "11   0.373690  0.380064  0.376850   1876.0              Jazz\n",
       "5    0.265411  0.452687  0.334629   1712.0           Country\n",
       "13   0.239703  0.310566  0.270572   1874.0               Pop\n",
       "8    0.238296  0.307065  0.268345   1840.0              Folk\n",
       "9    0.223250  0.397366  0.285884   1822.0           Hip-Hop\n",
       "18   0.194328  0.198498  0.196391   1864.0              Rock\n",
       "20   0.185005  0.103542  0.132774   1835.0              Soul\n",
       "15   0.178862  0.144184  0.159661   1831.0               Rap\n",
       "14   0.161491  0.140845  0.150463   1846.0               R&B\n",
       "6    0.150028  0.149862  0.149945   1815.0             Dance\n",
       "10   0.128223  0.095238  0.109296   1932.0             Indie\n",
       "0    0.093153  0.104877  0.098668   1907.0       Alternative\n",
       "1    0.073684  0.060541  0.066469   1850.0             Anime\n",
       "2    0.073228  0.051183  0.060253   1817.0             Blues\n",
       "3    0.067797  0.032086  0.043557   1870.0  Children’s Music"
      ]
     },
     "execution_count": 28,
     "metadata": {},
     "output_type": "execute_result"
    }
   ],
   "source": [
    "prfs = precision_recall_fscore_support(y_test, y_predict_knn_test, average=None)\n",
    "prfs = pd.DataFrame(prfs).T\n",
    "prfs['genre'] = ['Alternative', 'Anime', 'Blues', 'Children’s Music',\n",
    "       'Classical', 'Country', 'Dance', 'Electronic', 'Folk', 'Hip-Hop',\n",
    "       'Indie', 'Jazz', 'Opera', 'Pop', 'R&B', 'Rap', 'Reggae',\n",
    "       'Reggaeton', 'Rock', 'Ska', 'Soul', 'World']\n",
    "prfs.columns = [\"precision\", \"recall\",  \"fscore\",  \"support\", \"genre\"]\n",
    "prfs.sort_values('precision', ascending=False)"
   ]
  },
  {
   "cell_type": "markdown",
   "id": "4cc675c8",
   "metadata": {},
   "source": [
    "As we can see here, once we break down the genres, we see a wide range of scores from an precision score of 75.3% (Opera) to 6.0% (Anime). Unsurprisingly, the more specific genres (e.g. Ska, Opera, Classical, Electronic) have higher scores in general."
   ]
  },
  {
   "cell_type": "markdown",
   "id": "9885846f",
   "metadata": {},
   "source": [
    "## Decision Tree\n",
    "### 3) Random Forest Baseline"
   ]
  },
  {
   "cell_type": "code",
   "execution_count": 30,
   "id": "cc333fee",
   "metadata": {
    "scrolled": true
   },
   "outputs": [
    {
     "name": "stdout",
     "output_type": "stream",
     "text": [
      "Accuracy score:  21.54%\n",
      "Train precision score is:  79.93%\n",
      "Test precision score is:  22.76%\n"
     ]
    }
   ],
   "source": [
    "# Naive decision tree\n",
    "from sklearn.tree import DecisionTreeClassifier\n",
    "\n",
    "decisiontree_naive = DecisionTreeClassifier()\n",
    "decisiontree_naive.fit(X_train, y_train)\n",
    "ypred_nv_dt = decisiontree_naive.predict(X_train)\n",
    "ypred_nv_dt_test = decisiontree_naive.predict(X_test)\n",
    "dt_naive_y_score = decisiontree_naive.predict_proba(X_test)\n",
    "\n",
    "print('Accuracy score: {:6.2f}%'.format(100*metrics.accuracy_score(y_test, ypred_nv_dt_test)))\n",
    "print('Train precision score is: {:6.2f}%'.format(100*precision_score(y_train, ypred_nv_dt, average='weighted')))\n",
    "print('Test precision score is: {:6.2f}%'.format(100*precision_score(y_test, ypred_nv_dt_test, average='weighted')))"
   ]
  },
  {
   "cell_type": "code",
   "execution_count": 232,
   "id": "50a91a11",
   "metadata": {},
   "outputs": [
    {
     "name": "stdout",
     "output_type": "stream",
     "text": [
      "Precision : 0.22759173860239856\n",
      "Recall    : 0.21537006619879548\n",
      "F-score   : 0.22052621606661155\n"
     ]
    }
   ],
   "source": [
    "precision, recall, fscore, support = precision_recall_fscore_support(y_test, ypred_nv_dt_test, average='weighted')\n",
    "print(f'Precision : {precision}')\n",
    "print(f'Recall    : {recall}')\n",
    "print(f'F-score   : {fscore}')\n",
    "\n",
    "# save to dict\n",
    "list_of_perform.append(dict([\n",
    "    ('Model', 'DT Naive'),\n",
    "    ('Train Accuracy', round(metrics.accuracy_score(y_train, ypred_nv_dt), 2)),\n",
    "    ('Test Accuracy', round(metrics.accuracy_score(y_test, ypred_nv_dt_test), 2)),\n",
    "    ('Train Precision', round(metrics.precision_score(y_train, ypred_nv_dt, average='weighted'), 2)),\n",
    "    ('Test Precision', round(precision, 2)),\n",
    "    ('Test Recall', round(recall, 2)),\n",
    "    ('Test F1', round(fscore, 2))\n",
    "     ]))\n",
    "\n",
    "# Add model to list\n",
    "models.append('DT Naive')\n",
    "\n",
    "# Add y_score to list\n",
    "y_scores.append(dt_naive_y_score)"
   ]
  },
  {
   "cell_type": "markdown",
   "id": "278ad472",
   "metadata": {},
   "source": [
    "Wow, the naive decision tree really overfit! Let's see if we can do better with GridSearchCV"
   ]
  },
  {
   "cell_type": "markdown",
   "id": "c0584604",
   "metadata": {},
   "source": [
    "### 4) DecisionTree Optimized with GridSearch"
   ]
  },
  {
   "cell_type": "code",
   "execution_count": 31,
   "id": "957bb857",
   "metadata": {},
   "outputs": [],
   "source": [
    "# GridSearch for decision tree best model\n",
    "\n",
    "decisiontree = DecisionTreeClassifier()\n",
    "params = [{'max_depth': [10, 15, 20, 25, 30], \n",
    "           'max_leaf_nodes': [200, 250, 300, 350, 400, 450, 500, None],\n",
    "           'class_weight': ['balanced']}]\n",
    "\n",
    "# random shuffle\n",
    "kfold = KFold(n_splits=5, shuffle=True, random_state=0)\n",
    "\n",
    "# Create weighted scorer\n",
    "scoring_functions = {'precision': make_scorer(precision_score, average = 'weighted', zero_division=0),\n",
    "                     'recall': make_scorer(recall_score, average = 'weighted', zero_division=0),\n",
    "                     'f1': make_scorer(f1_score, average = 'weighted', zero_division=0)\n",
    "                    }\n",
    "\n",
    "#Use GridSearch\n",
    "grid_dt = GridSearchCV(decisiontree, params, scoring=scoring_functions, cv=kfold, refit='precision')\n",
    "\n",
    "#Fit the model\n",
    "best_model_dt = grid_dt.fit(X_train, y_train)"
   ]
  },
  {
   "cell_type": "code",
   "execution_count": 32,
   "id": "25dcfd11",
   "metadata": {},
   "outputs": [
    {
     "name": "stdout",
     "output_type": "stream",
     "text": [
      "Best estimator: DecisionTreeClassifier(class_weight='balanced', max_depth=15,\n",
      "                       max_leaf_nodes=500)\n",
      "Best max_depth: 15\n",
      "Best max_leaf_nodes: 500\n",
      "Best mean precision score:  31.93%\n"
     ]
    }
   ],
   "source": [
    "#Print The value of best Hyperparameters\n",
    "print('Best estimator:', best_model_dt.best_estimator_)\n",
    "print('Best max_depth:', best_model_dt.best_estimator_.get_params()['max_depth'])\n",
    "print('Best max_leaf_nodes:', best_model_dt.best_estimator_.get_params()['max_leaf_nodes'])\n",
    "print('Best mean precision score: {:6.2f}%'.format(100*best_model_dt.best_score_))"
   ]
  },
  {
   "cell_type": "code",
   "execution_count": 33,
   "id": "d8214ede",
   "metadata": {},
   "outputs": [],
   "source": [
    "y_predict_dt = best_model_dt.predict(X_train)\n",
    "y_predict_dt_test = best_model_dt.predict(X_test)\n",
    "dt_gs_y_score = best_model_dt.predict_proba(X_test)"
   ]
  },
  {
   "cell_type": "code",
   "execution_count": 36,
   "id": "7a240531",
   "metadata": {},
   "outputs": [
    {
     "name": "stdout",
     "output_type": "stream",
     "text": [
      "Train precision score is:  34.20%\n",
      "Test precision score is:  31.22%\n"
     ]
    }
   ],
   "source": [
    "print('Train precision score is: {:6.2f}%'.format(100*precision_score(y_train, y_predict_dt, average='weighted', zero_division=0)))\n",
    "print('Test precision score is: {:6.2f}%'.format(100*precision_score(y_test, y_predict_dt_test, average='weighted', zero_division=0)))"
   ]
  },
  {
   "cell_type": "markdown",
   "id": "333a9abd",
   "metadata": {},
   "source": [
    "The overfitting has improved, with about the same performance on test data. There's still an amount of overfitting, so if we choose this model we can go back and try and fix the overfitting. First, let's see if the range for the targets improve."
   ]
  },
  {
   "cell_type": "code",
   "execution_count": 233,
   "id": "0ca57140",
   "metadata": {},
   "outputs": [
    {
     "name": "stderr",
     "output_type": "stream",
     "text": [
      "/Users/joycetagal/opt/anaconda3/envs/metis/lib/python3.8/site-packages/sklearn/metrics/_classification.py:1248: UndefinedMetricWarning: Precision and F-score are ill-defined and being set to 0.0 in labels with no predicted samples. Use `zero_division` parameter to control this behavior.\n",
      "  _warn_prf(average, modifier, msg_start, len(result))\n"
     ]
    },
    {
     "name": "stdout",
     "output_type": "stream",
     "text": [
      "Precision : 0.31222039951102165\n",
      "Recall    : 0.323901249315614\n",
      "F-score   : 0.30811118871675125\n"
     ]
    },
    {
     "name": "stderr",
     "output_type": "stream",
     "text": [
      "/Users/joycetagal/opt/anaconda3/envs/metis/lib/python3.8/site-packages/sklearn/metrics/_classification.py:1248: UndefinedMetricWarning: Precision is ill-defined and being set to 0.0 in labels with no predicted samples. Use `zero_division` parameter to control this behavior.\n",
      "  _warn_prf(average, modifier, msg_start, len(result))\n"
     ]
    }
   ],
   "source": [
    "precision, recall, fscore, support = precision_recall_fscore_support(y_test, y_predict_dt_test, average='weighted')\n",
    "print(f'Precision : {precision}')\n",
    "print(f'Recall    : {recall}')\n",
    "print(f'F-score   : {fscore}')\n",
    "\n",
    "# save to dict\n",
    "list_of_perform.append(dict([\n",
    "    ('Model', 'DT GS'),\n",
    "    ('Train Accuracy', round(metrics.accuracy_score(y_train, y_predict_dt), 2)),\n",
    "    ('Test Accuracy', round(metrics.accuracy_score(y_test, y_predict_dt_test), 2)),\n",
    "    ('Train Precision', round(metrics.precision_score(y_train, y_predict_dt, average='weighted'), 2)),\n",
    "    ('Test Precision', round(precision, 2)),\n",
    "    ('Test Recall', round(recall, 2)),\n",
    "    ('Test F1', round(fscore, 2))\n",
    "     ]))\n",
    "\n",
    "# Add model to list\n",
    "models.append('DT GS')\n",
    "\n",
    "# Add y_score to list\n",
    "y_scores.append(dt_gs_y_score)"
   ]
  },
  {
   "cell_type": "code",
   "execution_count": 245,
   "id": "babd1f55",
   "metadata": {},
   "outputs": [
    {
     "data": {
      "text/plain": [
       "[{'Model': 'KNN Naive',\n",
       "  'Train Accuracy': 0.45,\n",
       "  'Test Accuracy': 0.25,\n",
       "  'Train Precision': 0.49,\n",
       "  'Test Precision': 0.27,\n",
       "  'Test Recall': 0.25,\n",
       "  'Test F1': 0.25},\n",
       " {'Model': 'KNN GS',\n",
       "  'Train Accuracy': 0.37,\n",
       "  'Test Accuracy': 0.31,\n",
       "  'Train Precision': 0.37,\n",
       "  'Test Precision': 0.3,\n",
       "  'Test Recall': 0.31,\n",
       "  'Test F1': 0.3},\n",
       " {'Model': 'DT Naive',\n",
       "  'Train Accuracy': 0.74,\n",
       "  'Test Accuracy': 0.22,\n",
       "  'Train Precision': 0.8,\n",
       "  'Test Precision': 0.23,\n",
       "  'Test Recall': 0.22,\n",
       "  'Test F1': 0.22},\n",
       " {'Model': 'DT GS',\n",
       "  'Train Accuracy': 0.35,\n",
       "  'Test Accuracy': 0.32,\n",
       "  'Train Precision': 0.34,\n",
       "  'Test Precision': 0.31,\n",
       "  'Test Recall': 0.32,\n",
       "  'Test F1': 0.31},\n",
       " {'Model': 'RF Naive',\n",
       "  'Train Accuracy': 0.74,\n",
       "  'Test Accuracy': 0.3,\n",
       "  'Train Precision': 0.74,\n",
       "  'Test Precision': 0.3,\n",
       "  'Test Recall': 0.3,\n",
       "  'Test F1': 0.3},\n",
       " {'Model': 'RF GS',\n",
       "  'Train Accuracy': 0.38,\n",
       "  'Test Accuracy': 0.34,\n",
       "  'Train Precision': 0.38,\n",
       "  'Test Precision': 0.33,\n",
       "  'Test Recall': 0.34,\n",
       "  'Test F1': 0.32}]"
      ]
     },
     "execution_count": 245,
     "metadata": {},
     "output_type": "execute_result"
    }
   ],
   "source": [
    "list_of_perform"
   ]
  },
  {
   "cell_type": "code",
   "execution_count": 37,
   "id": "2c10c5e6",
   "metadata": {},
   "outputs": [
    {
     "data": {
      "text/html": [
       "<div>\n",
       "<style scoped>\n",
       "    .dataframe tbody tr th:only-of-type {\n",
       "        vertical-align: middle;\n",
       "    }\n",
       "\n",
       "    .dataframe tbody tr th {\n",
       "        vertical-align: top;\n",
       "    }\n",
       "\n",
       "    .dataframe thead th {\n",
       "        text-align: right;\n",
       "    }\n",
       "</style>\n",
       "<table border=\"1\" class=\"dataframe\">\n",
       "  <thead>\n",
       "    <tr style=\"text-align: right;\">\n",
       "      <th></th>\n",
       "      <th>precision</th>\n",
       "      <th>recall</th>\n",
       "      <th>fscore</th>\n",
       "      <th>support</th>\n",
       "      <th>genre</th>\n",
       "    </tr>\n",
       "  </thead>\n",
       "  <tbody>\n",
       "    <tr>\n",
       "      <th>12</th>\n",
       "      <td>0.870122</td>\n",
       "      <td>0.874707</td>\n",
       "      <td>0.872409</td>\n",
       "      <td>1708.0</td>\n",
       "      <td>Opera</td>\n",
       "    </tr>\n",
       "    <tr>\n",
       "      <th>4</th>\n",
       "      <td>0.696800</td>\n",
       "      <td>0.721346</td>\n",
       "      <td>0.708861</td>\n",
       "      <td>1902.0</td>\n",
       "      <td>Classical</td>\n",
       "    </tr>\n",
       "    <tr>\n",
       "      <th>19</th>\n",
       "      <td>0.668746</td>\n",
       "      <td>0.588364</td>\n",
       "      <td>0.625985</td>\n",
       "      <td>1822.0</td>\n",
       "      <td>Ska</td>\n",
       "    </tr>\n",
       "    <tr>\n",
       "      <th>17</th>\n",
       "      <td>0.542326</td>\n",
       "      <td>0.443195</td>\n",
       "      <td>0.487775</td>\n",
       "      <td>1778.0</td>\n",
       "      <td>Reggaeton</td>\n",
       "    </tr>\n",
       "    <tr>\n",
       "      <th>21</th>\n",
       "      <td>0.498158</td>\n",
       "      <td>0.381275</td>\n",
       "      <td>0.431949</td>\n",
       "      <td>1773.0</td>\n",
       "      <td>World</td>\n",
       "    </tr>\n",
       "    <tr>\n",
       "      <th>7</th>\n",
       "      <td>0.453059</td>\n",
       "      <td>0.473539</td>\n",
       "      <td>0.463073</td>\n",
       "      <td>1814.0</td>\n",
       "      <td>Electronic</td>\n",
       "    </tr>\n",
       "    <tr>\n",
       "      <th>16</th>\n",
       "      <td>0.377262</td>\n",
       "      <td>0.393743</td>\n",
       "      <td>0.385326</td>\n",
       "      <td>1694.0</td>\n",
       "      <td>Reggae</td>\n",
       "    </tr>\n",
       "    <tr>\n",
       "      <th>11</th>\n",
       "      <td>0.348983</td>\n",
       "      <td>0.356610</td>\n",
       "      <td>0.352755</td>\n",
       "      <td>1876.0</td>\n",
       "      <td>Jazz</td>\n",
       "    </tr>\n",
       "    <tr>\n",
       "      <th>5</th>\n",
       "      <td>0.296760</td>\n",
       "      <td>0.401285</td>\n",
       "      <td>0.341197</td>\n",
       "      <td>1712.0</td>\n",
       "      <td>Country</td>\n",
       "    </tr>\n",
       "    <tr>\n",
       "      <th>9</th>\n",
       "      <td>0.246300</td>\n",
       "      <td>0.383644</td>\n",
       "      <td>0.300000</td>\n",
       "      <td>1822.0</td>\n",
       "      <td>Hip-Hop</td>\n",
       "    </tr>\n",
       "    <tr>\n",
       "      <th>15</th>\n",
       "      <td>0.235398</td>\n",
       "      <td>0.145276</td>\n",
       "      <td>0.179669</td>\n",
       "      <td>1831.0</td>\n",
       "      <td>Rap</td>\n",
       "    </tr>\n",
       "    <tr>\n",
       "      <th>8</th>\n",
       "      <td>0.231669</td>\n",
       "      <td>0.279891</td>\n",
       "      <td>0.253507</td>\n",
       "      <td>1840.0</td>\n",
       "      <td>Folk</td>\n",
       "    </tr>\n",
       "    <tr>\n",
       "      <th>13</th>\n",
       "      <td>0.226667</td>\n",
       "      <td>0.508004</td>\n",
       "      <td>0.313467</td>\n",
       "      <td>1874.0</td>\n",
       "      <td>Pop</td>\n",
       "    </tr>\n",
       "    <tr>\n",
       "      <th>20</th>\n",
       "      <td>0.197712</td>\n",
       "      <td>0.131880</td>\n",
       "      <td>0.158222</td>\n",
       "      <td>1835.0</td>\n",
       "      <td>Soul</td>\n",
       "    </tr>\n",
       "    <tr>\n",
       "      <th>18</th>\n",
       "      <td>0.189007</td>\n",
       "      <td>0.361588</td>\n",
       "      <td>0.248250</td>\n",
       "      <td>1864.0</td>\n",
       "      <td>Rock</td>\n",
       "    </tr>\n",
       "    <tr>\n",
       "      <th>14</th>\n",
       "      <td>0.175824</td>\n",
       "      <td>0.208017</td>\n",
       "      <td>0.190571</td>\n",
       "      <td>1846.0</td>\n",
       "      <td>R&amp;B</td>\n",
       "    </tr>\n",
       "    <tr>\n",
       "      <th>1</th>\n",
       "      <td>0.157638</td>\n",
       "      <td>0.157297</td>\n",
       "      <td>0.157468</td>\n",
       "      <td>1850.0</td>\n",
       "      <td>Anime</td>\n",
       "    </tr>\n",
       "    <tr>\n",
       "      <th>6</th>\n",
       "      <td>0.147305</td>\n",
       "      <td>0.174656</td>\n",
       "      <td>0.159819</td>\n",
       "      <td>1815.0</td>\n",
       "      <td>Dance</td>\n",
       "    </tr>\n",
       "    <tr>\n",
       "      <th>10</th>\n",
       "      <td>0.144256</td>\n",
       "      <td>0.167702</td>\n",
       "      <td>0.155098</td>\n",
       "      <td>1932.0</td>\n",
       "      <td>Indie</td>\n",
       "    </tr>\n",
       "    <tr>\n",
       "      <th>2</th>\n",
       "      <td>0.120879</td>\n",
       "      <td>0.012108</td>\n",
       "      <td>0.022011</td>\n",
       "      <td>1817.0</td>\n",
       "      <td>Blues</td>\n",
       "    </tr>\n",
       "    <tr>\n",
       "      <th>0</th>\n",
       "      <td>0.113636</td>\n",
       "      <td>0.023597</td>\n",
       "      <td>0.039079</td>\n",
       "      <td>1907.0</td>\n",
       "      <td>Alternative</td>\n",
       "    </tr>\n",
       "    <tr>\n",
       "      <th>3</th>\n",
       "      <td>0.000000</td>\n",
       "      <td>0.000000</td>\n",
       "      <td>0.000000</td>\n",
       "      <td>1870.0</td>\n",
       "      <td>Children’s Music</td>\n",
       "    </tr>\n",
       "  </tbody>\n",
       "</table>\n",
       "</div>"
      ],
      "text/plain": [
       "    precision    recall    fscore  support             genre\n",
       "12   0.870122  0.874707  0.872409   1708.0             Opera\n",
       "4    0.696800  0.721346  0.708861   1902.0         Classical\n",
       "19   0.668746  0.588364  0.625985   1822.0               Ska\n",
       "17   0.542326  0.443195  0.487775   1778.0         Reggaeton\n",
       "21   0.498158  0.381275  0.431949   1773.0             World\n",
       "7    0.453059  0.473539  0.463073   1814.0        Electronic\n",
       "16   0.377262  0.393743  0.385326   1694.0            Reggae\n",
       "11   0.348983  0.356610  0.352755   1876.0              Jazz\n",
       "5    0.296760  0.401285  0.341197   1712.0           Country\n",
       "9    0.246300  0.383644  0.300000   1822.0           Hip-Hop\n",
       "15   0.235398  0.145276  0.179669   1831.0               Rap\n",
       "8    0.231669  0.279891  0.253507   1840.0              Folk\n",
       "13   0.226667  0.508004  0.313467   1874.0               Pop\n",
       "20   0.197712  0.131880  0.158222   1835.0              Soul\n",
       "18   0.189007  0.361588  0.248250   1864.0              Rock\n",
       "14   0.175824  0.208017  0.190571   1846.0               R&B\n",
       "1    0.157638  0.157297  0.157468   1850.0             Anime\n",
       "6    0.147305  0.174656  0.159819   1815.0             Dance\n",
       "10   0.144256  0.167702  0.155098   1932.0             Indie\n",
       "2    0.120879  0.012108  0.022011   1817.0             Blues\n",
       "0    0.113636  0.023597  0.039079   1907.0       Alternative\n",
       "3    0.000000  0.000000  0.000000   1870.0  Children’s Music"
      ]
     },
     "execution_count": 37,
     "metadata": {},
     "output_type": "execute_result"
    }
   ],
   "source": [
    "prfs_dt = precision_recall_fscore_support(y_test, y_predict_dt_test, average=None, zero_division=0)\n",
    "prfs_dt = pd.DataFrame(prfs_dt).T\n",
    "prfs_dt['genre'] = ['Alternative', 'Anime', 'Blues', 'Children’s Music',\n",
    "       'Classical', 'Country', 'Dance', 'Electronic', 'Folk', 'Hip-Hop',\n",
    "       'Indie', 'Jazz', 'Opera', 'Pop', 'R&B', 'Rap', 'Reggae',\n",
    "       'Reggaeton', 'Rock', 'Ska', 'Soul', 'World']\n",
    "prfs_dt.columns = [\"precision\", \"recall\",  \"fscore\",  \"support\", \"genre\"]\n",
    "prfs_dt.sort_values('precision', ascending=False)"
   ]
  },
  {
   "cell_type": "markdown",
   "id": "befb64d9",
   "metadata": {},
   "source": [
    "Looking at the genres, we can see that the model performs really well on certain genres and poorly on others, with precision scores ranging from 87.0% (Opera) to 0% (Children's Music). The range is larger overall compared to our KNN model."
   ]
  },
  {
   "cell_type": "markdown",
   "id": "65881b04",
   "metadata": {},
   "source": [
    "## Random Forest"
   ]
  },
  {
   "cell_type": "markdown",
   "id": "a8d01d22",
   "metadata": {},
   "source": [
    "### 5) Naive Random Forest"
   ]
  },
  {
   "cell_type": "code",
   "execution_count": 38,
   "id": "11b2afb8",
   "metadata": {},
   "outputs": [
    {
     "name": "stdout",
     "output_type": "stream",
     "text": [
      "Accuracy score:  29.60%\n",
      "Train precision score is:  74.06%\n",
      "Test precision score is:  29.81%\n"
     ]
    }
   ],
   "source": [
    "from sklearn.ensemble import RandomForestClassifier\n",
    "\n",
    "# Naive RF\n",
    "randomforest_naive = RandomForestClassifier()\n",
    "randomforest_naive.fit(X_train, y_train)\n",
    "ypred_nv_rf = randomforest_naive.predict(X_train)\n",
    "ypred_nv_rf_test = randomforest_naive.predict(X_test)\n",
    "rf_nv_y_score = randomforest_naive.predict_proba(X_test)\n",
    "\n",
    "print('Accuracy score: {:6.2f}%'.format(100*metrics.accuracy_score(y_test, ypred_nv_rf_test)))\n",
    "print('Train precision score is: {:6.2f}%'.format(100*precision_score(y_train, ypred_nv_rf, average='weighted')))\n",
    "print('Test precision score is: {:6.2f}%'.format(100*precision_score(y_test, ypred_nv_rf_test, average='weighted')))"
   ]
  },
  {
   "cell_type": "code",
   "execution_count": 235,
   "id": "c9705f80",
   "metadata": {},
   "outputs": [
    {
     "name": "stdout",
     "output_type": "stream",
     "text": [
      "Precision : 0.2980637713025361\n",
      "Recall    : 0.2960280722711662\n",
      "F-score   : 0.2962888663823459\n"
     ]
    }
   ],
   "source": [
    "precision, recall, fscore, support = precision_recall_fscore_support(y_test, ypred_nv_rf_test, average='weighted')\n",
    "print(f'Precision : {precision}')\n",
    "print(f'Recall    : {recall}')\n",
    "print(f'F-score   : {fscore}')\n",
    "\n",
    "# save to dict\n",
    "list_of_perform.append(dict([\n",
    "    ('Model', 'RF Naive'),\n",
    "    ('Train Accuracy', round(metrics.accuracy_score(y_train, ypred_nv_rf), 2)),\n",
    "    ('Test Accuracy', round(metrics.accuracy_score(y_test, ypred_nv_rf_test), 2)),\n",
    "    ('Train Precision', round(metrics.precision_score(y_train, ypred_nv_rf, average='weighted'), 2)),\n",
    "    ('Test Precision', round(precision, 2)),\n",
    "    ('Test Recall', round(recall, 2)),\n",
    "    ('Test F1', round(fscore, 2))\n",
    "     ]))\n",
    "\n",
    "# Add model to list\n",
    "models.append('RF Naive')\n",
    "\n",
    "# Add y_score to list\n",
    "y_scores.append(rf_nv_y_score)"
   ]
  },
  {
   "cell_type": "markdown",
   "id": "5d78978c",
   "metadata": {},
   "source": [
    "Lower precision score compared to the DT, and similar overfitting."
   ]
  },
  {
   "cell_type": "markdown",
   "id": "8250093c",
   "metadata": {},
   "source": [
    "### 6) Random Forest Optimized with GridSearch"
   ]
  },
  {
   "cell_type": "code",
   "execution_count": 240,
   "id": "09b72ae3",
   "metadata": {},
   "outputs": [],
   "source": [
    "# GridSearch for Random Forest best model\n",
    "\n",
    "randomforest = RandomForestClassifier()\n",
    "\n",
    "params = [{'n_estimators': [10, 15, 20, 25, 30], \n",
    "           'max_depth': [10, 15, 20, None],\n",
    "           'criterion': ['entropy', 'gini'],\n",
    "           'class_weight': ['balanced'],\n",
    "           'random_state': [42]}]\n",
    "\n",
    "# random shuffle\n",
    "kfold = KFold(n_splits=5, shuffle=True, random_state=0)\n",
    "\n",
    "# Create weighted scorer\n",
    "scoring_functions = {'precision': make_scorer(precision_score, average = 'weighted', zero_division=0),\n",
    "                     'recall': make_scorer(recall_score, average = 'weighted', zero_division=0),\n",
    "                     'f1': make_scorer(f1_score, average = 'weighted', zero_division=0)\n",
    "                    }\n",
    "\n",
    "#Use GridSearch\n",
    "grid_rf = GridSearchCV(randomforest, params, scoring=scoring_functions, cv=kfold, refit='precision')\n",
    "\n",
    "#Fit the model\n",
    "best_model_rf = grid_rf.fit(X_train, y_train)"
   ]
  },
  {
   "cell_type": "code",
   "execution_count": 241,
   "id": "a4e32aa8",
   "metadata": {},
   "outputs": [
    {
     "name": "stdout",
     "output_type": "stream",
     "text": [
      "Best estimator: RandomForestClassifier(class_weight='balanced', max_depth=10, n_estimators=15,\n",
      "                       random_state=42)\n",
      "Best n_estimators: 15\n",
      "Best max_depth: 10\n",
      "Best criterion: gini\n",
      "Best mean precision score:  32.44%\n"
     ]
    }
   ],
   "source": [
    "#Print The value of best Hyperparameters\n",
    "print('Best estimator:', best_model_rf.best_estimator_)\n",
    "print('Best n_estimators:', best_model_rf.best_estimator_.get_params()['n_estimators'])\n",
    "print('Best max_depth:', best_model_rf.best_estimator_.get_params()['max_depth'])\n",
    "print('Best criterion:', best_model_rf.best_estimator_.get_params()['criterion'])\n",
    "print('Best mean precision score: {:6.2f}%'.format(100*best_model_rf.best_score_))"
   ]
  },
  {
   "cell_type": "code",
   "execution_count": 243,
   "id": "aa242b59",
   "metadata": {},
   "outputs": [],
   "source": [
    "y_predict_rf = best_model_rf.predict(X_train)\n",
    "y_predict_rf_test = best_model_rf.predict(X_test)\n",
    "rf_gs_y_score = best_model_rf.predict_proba(X_test)"
   ]
  },
  {
   "cell_type": "code",
   "execution_count": 244,
   "id": "a13ce6cf",
   "metadata": {},
   "outputs": [
    {
     "name": "stdout",
     "output_type": "stream",
     "text": [
      "Precision : 0.3250266781378266\n",
      "Recall    : 0.3419441540988502\n",
      "F-score   : 0.3240362456219885\n"
     ]
    }
   ],
   "source": [
    "precision, recall, fscore, support = precision_recall_fscore_support(y_test, y_predict_rf_test, average='weighted')\n",
    "print(f'Precision : {precision}')\n",
    "print(f'Recall    : {recall}')\n",
    "print(f'F-score   : {fscore}')\n",
    "\n",
    "# save to dict\n",
    "list_of_perform.append(dict([\n",
    "    ('Model', 'RF GS'),\n",
    "    ('Train Accuracy', round(metrics.accuracy_score(y_train, y_predict_rf), 2)),\n",
    "    ('Test Accuracy', round(metrics.accuracy_score(y_test, y_predict_rf_test), 2)),\n",
    "    ('Train Precision', round(metrics.precision_score(y_train, y_predict_rf, average='weighted'), 2)),\n",
    "    ('Test Precision', round(precision, 2)),\n",
    "    ('Test Recall', round(recall, 2)),\n",
    "    ('Test F1', round(fscore, 2))\n",
    "     ]))\n",
    "\n",
    "# Add model to list\n",
    "models.append('RF GS')\n",
    "\n",
    "# Add y_score to list\n",
    "y_scores.append(rf_gs_y_score)"
   ]
  },
  {
   "cell_type": "code",
   "execution_count": 246,
   "id": "aceda117",
   "metadata": {
    "scrolled": false
   },
   "outputs": [
    {
     "data": {
      "text/html": [
       "<div>\n",
       "<style scoped>\n",
       "    .dataframe tbody tr th:only-of-type {\n",
       "        vertical-align: middle;\n",
       "    }\n",
       "\n",
       "    .dataframe tbody tr th {\n",
       "        vertical-align: top;\n",
       "    }\n",
       "\n",
       "    .dataframe thead th {\n",
       "        text-align: right;\n",
       "    }\n",
       "</style>\n",
       "<table border=\"1\" class=\"dataframe\">\n",
       "  <thead>\n",
       "    <tr style=\"text-align: right;\">\n",
       "      <th></th>\n",
       "      <th>precision</th>\n",
       "      <th>recall</th>\n",
       "      <th>fscore</th>\n",
       "      <th>support</th>\n",
       "      <th>genre</th>\n",
       "    </tr>\n",
       "  </thead>\n",
       "  <tbody>\n",
       "    <tr>\n",
       "      <th>12</th>\n",
       "      <td>0.839161</td>\n",
       "      <td>0.913349</td>\n",
       "      <td>0.874685</td>\n",
       "      <td>1708.0</td>\n",
       "      <td>Opera</td>\n",
       "    </tr>\n",
       "    <tr>\n",
       "      <th>4</th>\n",
       "      <td>0.706728</td>\n",
       "      <td>0.723449</td>\n",
       "      <td>0.714991</td>\n",
       "      <td>1902.0</td>\n",
       "      <td>Classical</td>\n",
       "    </tr>\n",
       "    <tr>\n",
       "      <th>19</th>\n",
       "      <td>0.647968</td>\n",
       "      <td>0.621295</td>\n",
       "      <td>0.634351</td>\n",
       "      <td>1822.0</td>\n",
       "      <td>Ska</td>\n",
       "    </tr>\n",
       "    <tr>\n",
       "      <th>7</th>\n",
       "      <td>0.513670</td>\n",
       "      <td>0.538589</td>\n",
       "      <td>0.525834</td>\n",
       "      <td>1814.0</td>\n",
       "      <td>Electronic</td>\n",
       "    </tr>\n",
       "    <tr>\n",
       "      <th>17</th>\n",
       "      <td>0.500478</td>\n",
       "      <td>0.588301</td>\n",
       "      <td>0.540848</td>\n",
       "      <td>1778.0</td>\n",
       "      <td>Reggaeton</td>\n",
       "    </tr>\n",
       "    <tr>\n",
       "      <th>21</th>\n",
       "      <td>0.500336</td>\n",
       "      <td>0.420192</td>\n",
       "      <td>0.456775</td>\n",
       "      <td>1773.0</td>\n",
       "      <td>World</td>\n",
       "    </tr>\n",
       "    <tr>\n",
       "      <th>11</th>\n",
       "      <td>0.410830</td>\n",
       "      <td>0.372068</td>\n",
       "      <td>0.390490</td>\n",
       "      <td>1876.0</td>\n",
       "      <td>Jazz</td>\n",
       "    </tr>\n",
       "    <tr>\n",
       "      <th>16</th>\n",
       "      <td>0.398741</td>\n",
       "      <td>0.411452</td>\n",
       "      <td>0.404997</td>\n",
       "      <td>1694.0</td>\n",
       "      <td>Reggae</td>\n",
       "    </tr>\n",
       "    <tr>\n",
       "      <th>5</th>\n",
       "      <td>0.330693</td>\n",
       "      <td>0.390187</td>\n",
       "      <td>0.357985</td>\n",
       "      <td>1712.0</td>\n",
       "      <td>Country</td>\n",
       "    </tr>\n",
       "    <tr>\n",
       "      <th>20</th>\n",
       "      <td>0.252061</td>\n",
       "      <td>0.116621</td>\n",
       "      <td>0.159463</td>\n",
       "      <td>1835.0</td>\n",
       "      <td>Soul</td>\n",
       "    </tr>\n",
       "    <tr>\n",
       "      <th>8</th>\n",
       "      <td>0.245253</td>\n",
       "      <td>0.329891</td>\n",
       "      <td>0.281344</td>\n",
       "      <td>1840.0</td>\n",
       "      <td>Folk</td>\n",
       "    </tr>\n",
       "    <tr>\n",
       "      <th>13</th>\n",
       "      <td>0.239739</td>\n",
       "      <td>0.470651</td>\n",
       "      <td>0.317666</td>\n",
       "      <td>1874.0</td>\n",
       "      <td>Pop</td>\n",
       "    </tr>\n",
       "    <tr>\n",
       "      <th>9</th>\n",
       "      <td>0.232109</td>\n",
       "      <td>0.468167</td>\n",
       "      <td>0.310351</td>\n",
       "      <td>1822.0</td>\n",
       "      <td>Hip-Hop</td>\n",
       "    </tr>\n",
       "    <tr>\n",
       "      <th>14</th>\n",
       "      <td>0.214185</td>\n",
       "      <td>0.165222</td>\n",
       "      <td>0.186544</td>\n",
       "      <td>1846.0</td>\n",
       "      <td>R&amp;B</td>\n",
       "    </tr>\n",
       "    <tr>\n",
       "      <th>18</th>\n",
       "      <td>0.212837</td>\n",
       "      <td>0.410944</td>\n",
       "      <td>0.280432</td>\n",
       "      <td>1864.0</td>\n",
       "      <td>Rock</td>\n",
       "    </tr>\n",
       "    <tr>\n",
       "      <th>15</th>\n",
       "      <td>0.211694</td>\n",
       "      <td>0.172037</td>\n",
       "      <td>0.189816</td>\n",
       "      <td>1831.0</td>\n",
       "      <td>Rap</td>\n",
       "    </tr>\n",
       "    <tr>\n",
       "      <th>6</th>\n",
       "      <td>0.173152</td>\n",
       "      <td>0.147107</td>\n",
       "      <td>0.159071</td>\n",
       "      <td>1815.0</td>\n",
       "      <td>Dance</td>\n",
       "    </tr>\n",
       "    <tr>\n",
       "      <th>10</th>\n",
       "      <td>0.169096</td>\n",
       "      <td>0.120083</td>\n",
       "      <td>0.140436</td>\n",
       "      <td>1932.0</td>\n",
       "      <td>Indie</td>\n",
       "    </tr>\n",
       "    <tr>\n",
       "      <th>1</th>\n",
       "      <td>0.137748</td>\n",
       "      <td>0.112432</td>\n",
       "      <td>0.123810</td>\n",
       "      <td>1850.0</td>\n",
       "      <td>Anime</td>\n",
       "    </tr>\n",
       "    <tr>\n",
       "      <th>0</th>\n",
       "      <td>0.096277</td>\n",
       "      <td>0.039329</td>\n",
       "      <td>0.055845</td>\n",
       "      <td>1907.0</td>\n",
       "      <td>Alternative</td>\n",
       "    </tr>\n",
       "    <tr>\n",
       "      <th>3</th>\n",
       "      <td>0.093236</td>\n",
       "      <td>0.027273</td>\n",
       "      <td>0.042201</td>\n",
       "      <td>1870.0</td>\n",
       "      <td>Children’s Music</td>\n",
       "    </tr>\n",
       "    <tr>\n",
       "      <th>2</th>\n",
       "      <td>0.088949</td>\n",
       "      <td>0.036324</td>\n",
       "      <td>0.051583</td>\n",
       "      <td>1817.0</td>\n",
       "      <td>Blues</td>\n",
       "    </tr>\n",
       "  </tbody>\n",
       "</table>\n",
       "</div>"
      ],
      "text/plain": [
       "    precision    recall    fscore  support             genre\n",
       "12   0.839161  0.913349  0.874685   1708.0             Opera\n",
       "4    0.706728  0.723449  0.714991   1902.0         Classical\n",
       "19   0.647968  0.621295  0.634351   1822.0               Ska\n",
       "7    0.513670  0.538589  0.525834   1814.0        Electronic\n",
       "17   0.500478  0.588301  0.540848   1778.0         Reggaeton\n",
       "21   0.500336  0.420192  0.456775   1773.0             World\n",
       "11   0.410830  0.372068  0.390490   1876.0              Jazz\n",
       "16   0.398741  0.411452  0.404997   1694.0            Reggae\n",
       "5    0.330693  0.390187  0.357985   1712.0           Country\n",
       "20   0.252061  0.116621  0.159463   1835.0              Soul\n",
       "8    0.245253  0.329891  0.281344   1840.0              Folk\n",
       "13   0.239739  0.470651  0.317666   1874.0               Pop\n",
       "9    0.232109  0.468167  0.310351   1822.0           Hip-Hop\n",
       "14   0.214185  0.165222  0.186544   1846.0               R&B\n",
       "18   0.212837  0.410944  0.280432   1864.0              Rock\n",
       "15   0.211694  0.172037  0.189816   1831.0               Rap\n",
       "6    0.173152  0.147107  0.159071   1815.0             Dance\n",
       "10   0.169096  0.120083  0.140436   1932.0             Indie\n",
       "1    0.137748  0.112432  0.123810   1850.0             Anime\n",
       "0    0.096277  0.039329  0.055845   1907.0       Alternative\n",
       "3    0.093236  0.027273  0.042201   1870.0  Children’s Music\n",
       "2    0.088949  0.036324  0.051583   1817.0             Blues"
      ]
     },
     "execution_count": 246,
     "metadata": {},
     "output_type": "execute_result"
    }
   ],
   "source": [
    "prfs_rf = precision_recall_fscore_support(y_test, y_predict_rf_test, average=None, labels = ['Alternative', 'Anime', 'Blues', 'Children’s Music',\n",
    "       'Classical', 'Country', 'Dance', 'Electronic', 'Folk', 'Hip-Hop',\n",
    "       'Indie', 'Jazz', 'Opera', 'Pop', 'R&B', 'Rap', 'Reggae',\n",
    "       'Reggaeton', 'Rock', 'Ska', 'Soul', 'World'], zero_division=0)\n",
    "prfs_rf = pd.DataFrame(prfs_rf).T\n",
    "prfs_rf['genre'] = ['Alternative', 'Anime', 'Blues', 'Children’s Music',\n",
    "       'Classical', 'Country', 'Dance', 'Electronic', 'Folk', 'Hip-Hop',\n",
    "       'Indie', 'Jazz', 'Opera', 'Pop', 'R&B', 'Rap', 'Reggae',\n",
    "       'Reggaeton', 'Rock', 'Ska', 'Soul', 'World']\n",
    "prfs_rf.columns = [\"precision\", \"recall\",  \"fscore\",  \"support\", \"genre\"]\n",
    "prfs_rf.sort_values('precision', ascending=False)"
   ]
  },
  {
   "cell_type": "markdown",
   "id": "e50f8cc6",
   "metadata": {},
   "source": [
    "The RF model is the best model so far, with a mean weighted precision score of 32.36% on unseen data, and a range of precision scores on the targets ranging from 87.9% (Opera) to 2.47% (Children's Music). Let's choose this model and see if we can improve it from our current baseline."
   ]
  },
  {
   "cell_type": "code",
   "execution_count": 260,
   "id": "32f13092",
   "metadata": {},
   "outputs": [
    {
     "data": {
      "text/plain": [
       "Text(0.5, 1.0, 'Random Forest GS Precision scores')"
      ]
     },
     "execution_count": 260,
     "metadata": {},
     "output_type": "execute_result"
    },
    {
     "data": {
      "image/png": "[encoded data removed]",
      "text/plain": [
       "<Figure size 1080x576 with 1 Axes>"
      ]
     },
     "metadata": {},
     "output_type": "display_data"
    }
   ],
   "source": [
    "plt.figure(figsize = (15,8))\n",
    "ax = sns.barplot(x=prfs_rf['genre'],y=prfs_rf['precision'], color='#1ed65f')\n",
    "ax.set_xticklabels(ax.get_xticklabels(),rotation = 30)\n",
    "ax.set_title(\"Random Forest GS Precision scores\")"
   ]
  },
  {
   "cell_type": "code",
   "execution_count": 247,
   "id": "648d906d",
   "metadata": {},
   "outputs": [
    {
     "name": "stdout",
     "output_type": "stream",
     "text": [
      "Train precision score is:  37.83%\n",
      "Test precision score is:  32.50%\n"
     ]
    }
   ],
   "source": [
    "print('Train precision score is: {:6.2f}%'.format(100*precision_score(y_train, y_predict_rf, average='weighted')))\n",
    "print('Test precision score is: {:6.2f}%'.format(100*precision_score(y_test, y_predict_rf_test, average='weighted')))"
   ]
  },
  {
   "cell_type": "markdown",
   "id": "333ad845",
   "metadata": {},
   "source": [
    "## Extra Trees\n",
    "\n",
    "### Naive Extra Trees"
   ]
  },
  {
   "cell_type": "code",
   "execution_count": 345,
   "id": "ab3c93bc",
   "metadata": {},
   "outputs": [
    {
     "name": "stdout",
     "output_type": "stream",
     "text": [
      "Accuracy score:  29.24%\n",
      "Train precision score is:  79.93%\n",
      "Test precision score is:  29.32%\n"
     ]
    }
   ],
   "source": [
    "from sklearn.ensemble import ExtraTreesClassifier\n",
    "\n",
    "extratrees_naive = ExtraTreesClassifier()\n",
    "extratrees_naive.fit(X_train, y_train)\n",
    "ypred_nv_et = extratrees_naive.predict(X_train)\n",
    "ypred_nv_et_test = extratrees_naive.predict(X_test)\n",
    "et_nv_y_score = extratrees_naive.predict_proba(X_test)\n",
    "\n",
    "print('Accuracy score: {:6.2f}%'.format(100*metrics.accuracy_score(y_test, ypred_nv_et_test)))\n",
    "print('Train precision score is: {:6.2f}%'.format(100*precision_score(y_train, ypred_nv_et, average='weighted')))\n",
    "print('Test precision score is: {:6.2f}%'.format(100*precision_score(y_test, ypred_nv_et_test, average='weighted')))"
   ]
  },
  {
   "cell_type": "code",
   "execution_count": 346,
   "id": "258e104c",
   "metadata": {},
   "outputs": [
    {
     "name": "stdout",
     "output_type": "stream",
     "text": [
      "Precision : 0.2932430261377526\n",
      "Recall    : 0.29241949131451894\n",
      "F-score   : 0.29098821350905796\n"
     ]
    }
   ],
   "source": [
    "precision, recall, fscore, support = precision_recall_fscore_support(y_test, ypred_nv_et_test, average='weighted')\n",
    "print(f'Precision : {precision}')\n",
    "print(f'Recall    : {recall}')\n",
    "print(f'F-score   : {fscore}')\n",
    "\n",
    "# save to dict\n",
    "list_of_perform.append(dict([\n",
    "    ('Model', 'ET Naive'),\n",
    "    ('Train Accuracy', round(metrics.accuracy_score(y_train, ypred_nv_et), 2)),\n",
    "    ('Test Accuracy', round(metrics.accuracy_score(y_test, ypred_nv_et_test), 2)),\n",
    "    ('Train Precision', round(metrics.precision_score(y_train, ypred_nv_et, average='weighted'), 2)),\n",
    "    ('Test Precision', round(precision, 2)),\n",
    "    ('Test Recall', round(recall, 2)),\n",
    "    ('Test F1', round(fscore, 2))\n",
    "     ]))\n",
    "\n",
    "# Add model to list\n",
    "models.append('ET Naive')\n",
    "\n",
    "# Add y_score to list\n",
    "y_scores.append(et_nv_y_score)"
   ]
  },
  {
   "cell_type": "code",
   "execution_count": 347,
   "id": "ad48d786",
   "metadata": {},
   "outputs": [
    {
     "data": {
      "text/plain": [
       "[{'Model': 'KNN Naive',\n",
       "  'Train Accuracy': 0.45,\n",
       "  'Test Accuracy': 0.25,\n",
       "  'Train Precision': 0.49,\n",
       "  'Test Precision': 0.27,\n",
       "  'Test Recall': 0.25,\n",
       "  'Test F1': 0.25},\n",
       " {'Model': 'KNN GS',\n",
       "  'Train Accuracy': 0.37,\n",
       "  'Test Accuracy': 0.31,\n",
       "  'Train Precision': 0.37,\n",
       "  'Test Precision': 0.3,\n",
       "  'Test Recall': 0.31,\n",
       "  'Test F1': 0.3},\n",
       " {'Model': 'DT Naive',\n",
       "  'Train Accuracy': 0.74,\n",
       "  'Test Accuracy': 0.22,\n",
       "  'Train Precision': 0.8,\n",
       "  'Test Precision': 0.23,\n",
       "  'Test Recall': 0.22,\n",
       "  'Test F1': 0.22},\n",
       " {'Model': 'DT GS',\n",
       "  'Train Accuracy': 0.35,\n",
       "  'Test Accuracy': 0.32,\n",
       "  'Train Precision': 0.34,\n",
       "  'Test Precision': 0.31,\n",
       "  'Test Recall': 0.32,\n",
       "  'Test F1': 0.31},\n",
       " {'Model': 'RF Naive',\n",
       "  'Train Accuracy': 0.74,\n",
       "  'Test Accuracy': 0.3,\n",
       "  'Train Precision': 0.74,\n",
       "  'Test Precision': 0.3,\n",
       "  'Test Recall': 0.3,\n",
       "  'Test F1': 0.3},\n",
       " {'Model': 'RF GS',\n",
       "  'Train Accuracy': 0.38,\n",
       "  'Test Accuracy': 0.34,\n",
       "  'Train Precision': 0.38,\n",
       "  'Test Precision': 0.33,\n",
       "  'Test Recall': 0.34,\n",
       "  'Test F1': 0.32},\n",
       " {'Model': 'RF GS 2',\n",
       "  'Train Accuracy': 0.46,\n",
       "  'Test Accuracy': 0.4,\n",
       "  'Train Precision': 0.47,\n",
       "  'Test Precision': 0.4,\n",
       "  'Test Recall': 0.4,\n",
       "  'Test F1': 0.39},\n",
       " {'Model': 'ET Naive',\n",
       "  'Train Accuracy': 0.74,\n",
       "  'Test Accuracy': 0.29,\n",
       "  'Train Precision': 0.8,\n",
       "  'Test Precision': 0.29,\n",
       "  'Test Recall': 0.29,\n",
       "  'Test F1': 0.29}]"
      ]
     },
     "execution_count": 347,
     "metadata": {},
     "output_type": "execute_result"
    }
   ],
   "source": [
    "list_of_perform"
   ]
  },
  {
   "cell_type": "markdown",
   "id": "8685d38e",
   "metadata": {},
   "source": [
    "## Performance Metrics"
   ]
  },
  {
   "cell_type": "code",
   "execution_count": 348,
   "id": "757e2485",
   "metadata": {},
   "outputs": [
    {
     "data": {
      "text/html": [
       "<div>\n",
       "<style scoped>\n",
       "    .dataframe tbody tr th:only-of-type {\n",
       "        vertical-align: middle;\n",
       "    }\n",
       "\n",
       "    .dataframe tbody tr th {\n",
       "        vertical-align: top;\n",
       "    }\n",
       "\n",
       "    .dataframe thead th {\n",
       "        text-align: right;\n",
       "    }\n",
       "</style>\n",
       "<table border=\"1\" class=\"dataframe\">\n",
       "  <thead>\n",
       "    <tr style=\"text-align: right;\">\n",
       "      <th></th>\n",
       "      <th>Model</th>\n",
       "      <th>Train Accuracy</th>\n",
       "      <th>Test Accuracy</th>\n",
       "      <th>Train Precision</th>\n",
       "      <th>Test Precision</th>\n",
       "      <th>Test Recall</th>\n",
       "      <th>Test F1</th>\n",
       "    </tr>\n",
       "  </thead>\n",
       "  <tbody>\n",
       "    <tr>\n",
       "      <th>0</th>\n",
       "      <td>KNN Naive</td>\n",
       "      <td>0.45</td>\n",
       "      <td>0.25</td>\n",
       "      <td>0.49</td>\n",
       "      <td>0.27</td>\n",
       "      <td>0.25</td>\n",
       "      <td>0.25</td>\n",
       "    </tr>\n",
       "    <tr>\n",
       "      <th>1</th>\n",
       "      <td>KNN GS</td>\n",
       "      <td>0.37</td>\n",
       "      <td>0.31</td>\n",
       "      <td>0.37</td>\n",
       "      <td>0.30</td>\n",
       "      <td>0.31</td>\n",
       "      <td>0.30</td>\n",
       "    </tr>\n",
       "    <tr>\n",
       "      <th>2</th>\n",
       "      <td>DT Naive</td>\n",
       "      <td>0.74</td>\n",
       "      <td>0.22</td>\n",
       "      <td>0.80</td>\n",
       "      <td>0.23</td>\n",
       "      <td>0.22</td>\n",
       "      <td>0.22</td>\n",
       "    </tr>\n",
       "    <tr>\n",
       "      <th>3</th>\n",
       "      <td>DT GS</td>\n",
       "      <td>0.35</td>\n",
       "      <td>0.32</td>\n",
       "      <td>0.34</td>\n",
       "      <td>0.31</td>\n",
       "      <td>0.32</td>\n",
       "      <td>0.31</td>\n",
       "    </tr>\n",
       "    <tr>\n",
       "      <th>4</th>\n",
       "      <td>RF Naive</td>\n",
       "      <td>0.74</td>\n",
       "      <td>0.30</td>\n",
       "      <td>0.74</td>\n",
       "      <td>0.30</td>\n",
       "      <td>0.30</td>\n",
       "      <td>0.30</td>\n",
       "    </tr>\n",
       "    <tr>\n",
       "      <th>5</th>\n",
       "      <td>RF GS</td>\n",
       "      <td>0.38</td>\n",
       "      <td>0.34</td>\n",
       "      <td>0.38</td>\n",
       "      <td>0.33</td>\n",
       "      <td>0.34</td>\n",
       "      <td>0.32</td>\n",
       "    </tr>\n",
       "    <tr>\n",
       "      <th>6</th>\n",
       "      <td>RF GS 2</td>\n",
       "      <td>0.46</td>\n",
       "      <td>0.40</td>\n",
       "      <td>0.47</td>\n",
       "      <td>0.40</td>\n",
       "      <td>0.40</td>\n",
       "      <td>0.39</td>\n",
       "    </tr>\n",
       "    <tr>\n",
       "      <th>7</th>\n",
       "      <td>ET Naive</td>\n",
       "      <td>0.74</td>\n",
       "      <td>0.29</td>\n",
       "      <td>0.80</td>\n",
       "      <td>0.29</td>\n",
       "      <td>0.29</td>\n",
       "      <td>0.29</td>\n",
       "    </tr>\n",
       "  </tbody>\n",
       "</table>\n",
       "</div>"
      ],
      "text/plain": [
       "       Model  Train Accuracy  Test Accuracy  Train Precision  Test Precision  \\\n",
       "0  KNN Naive            0.45           0.25             0.49            0.27   \n",
       "1     KNN GS            0.37           0.31             0.37            0.30   \n",
       "2   DT Naive            0.74           0.22             0.80            0.23   \n",
       "3      DT GS            0.35           0.32             0.34            0.31   \n",
       "4   RF Naive            0.74           0.30             0.74            0.30   \n",
       "5      RF GS            0.38           0.34             0.38            0.33   \n",
       "6    RF GS 2            0.46           0.40             0.47            0.40   \n",
       "7   ET Naive            0.74           0.29             0.80            0.29   \n",
       "\n",
       "   Test Recall  Test F1  \n",
       "0         0.25     0.25  \n",
       "1         0.31     0.30  \n",
       "2         0.22     0.22  \n",
       "3         0.32     0.31  \n",
       "4         0.30     0.30  \n",
       "5         0.34     0.32  \n",
       "6         0.40     0.39  \n",
       "7         0.29     0.29  "
      ]
     },
     "execution_count": 348,
     "metadata": {},
     "output_type": "execute_result"
    }
   ],
   "source": [
    "model_perf = pd.DataFrame(data=list_of_perform)\n",
    "model_perf"
   ]
  },
  {
   "cell_type": "markdown",
   "id": "ccd6cd53",
   "metadata": {},
   "source": [
    "## Feature engineering\n",
    "\n",
    "Let's see what were the features that were most important for our optimized RF model."
   ]
  },
  {
   "cell_type": "code",
   "execution_count": 249,
   "id": "76a93fac",
   "metadata": {},
   "outputs": [
    {
     "data": {
      "text/html": [
       "<div>\n",
       "<style scoped>\n",
       "    .dataframe tbody tr th:only-of-type {\n",
       "        vertical-align: middle;\n",
       "    }\n",
       "\n",
       "    .dataframe tbody tr th {\n",
       "        vertical-align: top;\n",
       "    }\n",
       "\n",
       "    .dataframe thead th {\n",
       "        text-align: right;\n",
       "    }\n",
       "</style>\n",
       "<table border=\"1\" class=\"dataframe\">\n",
       "  <thead>\n",
       "    <tr style=\"text-align: right;\">\n",
       "      <th></th>\n",
       "      <th>feature</th>\n",
       "      <th>importance</th>\n",
       "    </tr>\n",
       "  </thead>\n",
       "  <tbody>\n",
       "    <tr>\n",
       "      <th>0</th>\n",
       "      <td>popularity</td>\n",
       "      <td>0.321985</td>\n",
       "    </tr>\n",
       "    <tr>\n",
       "      <th>1</th>\n",
       "      <td>acousticness</td>\n",
       "      <td>0.125522</td>\n",
       "    </tr>\n",
       "    <tr>\n",
       "      <th>2</th>\n",
       "      <td>danceability</td>\n",
       "      <td>0.089942</td>\n",
       "    </tr>\n",
       "    <tr>\n",
       "      <th>3</th>\n",
       "      <td>duration_ms</td>\n",
       "      <td>0.040588</td>\n",
       "    </tr>\n",
       "    <tr>\n",
       "      <th>4</th>\n",
       "      <td>energy</td>\n",
       "      <td>0.077807</td>\n",
       "    </tr>\n",
       "    <tr>\n",
       "      <th>5</th>\n",
       "      <td>instrumentalness</td>\n",
       "      <td>0.091552</td>\n",
       "    </tr>\n",
       "    <tr>\n",
       "      <th>6</th>\n",
       "      <td>key</td>\n",
       "      <td>0.002960</td>\n",
       "    </tr>\n",
       "    <tr>\n",
       "      <th>7</th>\n",
       "      <td>liveness</td>\n",
       "      <td>0.009758</td>\n",
       "    </tr>\n",
       "    <tr>\n",
       "      <th>8</th>\n",
       "      <td>loudness</td>\n",
       "      <td>0.099098</td>\n",
       "    </tr>\n",
       "    <tr>\n",
       "      <th>9</th>\n",
       "      <td>mode</td>\n",
       "      <td>0.006246</td>\n",
       "    </tr>\n",
       "    <tr>\n",
       "      <th>10</th>\n",
       "      <td>speechiness</td>\n",
       "      <td>0.064735</td>\n",
       "    </tr>\n",
       "    <tr>\n",
       "      <th>11</th>\n",
       "      <td>tempo</td>\n",
       "      <td>0.019071</td>\n",
       "    </tr>\n",
       "    <tr>\n",
       "      <th>12</th>\n",
       "      <td>valence</td>\n",
       "      <td>0.050737</td>\n",
       "    </tr>\n",
       "  </tbody>\n",
       "</table>\n",
       "</div>"
      ],
      "text/plain": [
       "             feature  importance\n",
       "0         popularity    0.321985\n",
       "1       acousticness    0.125522\n",
       "2       danceability    0.089942\n",
       "3        duration_ms    0.040588\n",
       "4             energy    0.077807\n",
       "5   instrumentalness    0.091552\n",
       "6                key    0.002960\n",
       "7           liveness    0.009758\n",
       "8           loudness    0.099098\n",
       "9               mode    0.006246\n",
       "10       speechiness    0.064735\n",
       "11             tempo    0.019071\n",
       "12           valence    0.050737"
      ]
     },
     "execution_count": 249,
     "metadata": {},
     "output_type": "execute_result"
    }
   ],
   "source": [
    "pd.DataFrame({\n",
    "    'feature': X_train.columns,\n",
    "    'importance': best_model_rf.best_estimator_.feature_importances_\n",
    "})"
   ]
  },
  {
   "cell_type": "code",
   "execution_count": 253,
   "id": "dde52d16",
   "metadata": {
    "scrolled": false
   },
   "outputs": [
    {
     "data": {
      "image/png": "[encoded data removed]",
      "text/plain": [
       "<Figure size 1080x576 with 1 Axes>"
      ]
     },
     "metadata": {},
     "output_type": "display_data"
    }
   ],
   "source": [
    "sns.set(font_scale=1)\n",
    "feature_names = [f\"{i}\" for i in list(X.columns)]\n",
    "importances = best_model_rf.best_estimator_.feature_importances_\n",
    "std = np.std([tree.feature_importances_ for tree in best_model_rf.best_estimator_.estimators_], axis=0)\n",
    "forest_importances = pd.Series(importances, index=feature_names)\n",
    "\n",
    "fig, ax = plt.subplots(figsize = (15,8))\n",
    "forest_importances.plot.barh(xerr=std, ax=ax)\n",
    "ax.set_title(\"Feature importances using MDI\")\n",
    "ax.set_ylabel(\"Mean decrease in impurity\")\n",
    "fig.tight_layout()"
   ]
  },
  {
   "cell_type": "markdown",
   "id": "101264cb",
   "metadata": {},
   "source": [
    "Interestingly, popularity is a very important feature, along with acousticness, instrumentalness, loudness, danceability and energy. "
   ]
  },
  {
   "cell_type": "code",
   "execution_count": 265,
   "id": "8bc49009",
   "metadata": {},
   "outputs": [
    {
     "data": {
      "image/png": "[encoded data removed]",
      "text/plain": [
       "<Figure size 1200x800 with 2 Axes>"
      ]
     },
     "metadata": {},
     "output_type": "display_data"
    }
   ],
   "source": [
    "from sklearn.metrics import confusion_matrix\n",
    "sns.set(font_scale=0.4)\n",
    "sns.color_palette(\"crest\", as_cmap=True)\n",
    "# Print confusion matrix for Random Forest\n",
    "rf_confusion = confusion_matrix(y_test, y_predict_rf_test)\n",
    "plt.figure(dpi=200)\n",
    "ax = sns.heatmap(rf_confusion, \n",
    "            cmap=\"Greens\", \n",
    "            annot=True, \n",
    "            annot_kws={\"size\": 4},\n",
    "            square=True, \n",
    "            fmt='g', \n",
    "            xticklabels=best_model_rf.classes_, \n",
    "            yticklabels=best_model_rf.classes_\n",
    "           )\n",
    "plt.xlabel('Predicted genre', fontsize=7)\n",
    "plt.ylabel('Actual genre', fontsize=7)\n",
    "plt.title('RF confusion matrix', fontsize=10);"
   ]
  },
  {
   "cell_type": "markdown",
   "id": "a5639c50",
   "metadata": {},
   "source": [
    "From the confusion matrix, we can see that the model doesn't do well on several genres, in particular genres such as \"Alternative\", \"Anime\", and \"Children's Music\". Intuitively, it makes sense because these genres are very broad and arguably do not have distinctive audio features to set them apart. For example, Anime music could range from instrumental, classical music from Miyazaki, or to rock music like RADWIMPS. Similarly, for Children's Music. In these cases, we could consider dropping these categories and seeing if the model performs better overall.\n",
    "\n",
    "However, what is more concerning is for genres which have clear musical differentiation but the model is still getting wrong, such as Blues, R&B, and Rap. We could consider an ensembling model which takes the best 3 models we have so far, and combining them. Using an ensembling technique means we will reduce interpretability, but since this model will be used primarily to automate the creation of user playlists, interpretability is not that important. "
   ]
  },
  {
   "cell_type": "code",
   "execution_count": 268,
   "id": "57d91f0d",
   "metadata": {},
   "outputs": [
    {
     "data": {
      "text/plain": [
       "(200907, 18)"
      ]
     },
     "execution_count": 268,
     "metadata": {},
     "output_type": "execute_result"
    }
   ],
   "source": [
    "df.shape"
   ]
  },
  {
   "cell_type": "code",
   "execution_count": 304,
   "id": "9c6a6f29",
   "metadata": {},
   "outputs": [],
   "source": [
    "# Remove low-performing genres\n",
    "# Add back in time-signature as binary\n",
    "mask = ~df2['genre'].isin([\"Alternative\", \"Anime\", 'Children’s Music'])\n",
    "df2 = df2[mask]\n",
    "df2['time_signature_bin'] = ['1' if x == '4/4' else '0' for x in df2['time_signature']]\n",
    "df2['time_signature_bin'] = df2['time_signature_bin'].astype(int)"
   ]
  },
  {
   "cell_type": "code",
   "execution_count": 305,
   "id": "15d83a51",
   "metadata": {},
   "outputs": [
    {
     "name": "stdout",
     "output_type": "stream",
     "text": [
      "<class 'pandas.core.frame.DataFrame'>\n",
      "Int64Index: 172848 entries, 0 to 226766\n",
      "Data columns (total 19 columns):\n",
      " #   Column              Non-Null Count   Dtype  \n",
      "---  ------              --------------   -----  \n",
      " 0   genre               172848 non-null  object \n",
      " 1   artist_name         172848 non-null  object \n",
      " 2   track_name          172848 non-null  object \n",
      " 3   track_id            172848 non-null  object \n",
      " 4   popularity          172848 non-null  int64  \n",
      " 5   acousticness        172848 non-null  float64\n",
      " 6   danceability        172848 non-null  float64\n",
      " 7   duration_ms         172848 non-null  int64  \n",
      " 8   energy              172848 non-null  float64\n",
      " 9   instrumentalness    172848 non-null  float64\n",
      " 10  key                 172848 non-null  int64  \n",
      " 11  liveness            172848 non-null  float64\n",
      " 12  loudness            172848 non-null  float64\n",
      " 13  mode                172848 non-null  int64  \n",
      " 14  speechiness         172848 non-null  float64\n",
      " 15  tempo               172848 non-null  float64\n",
      " 16  time_signature      172848 non-null  object \n",
      " 17  valence             172848 non-null  float64\n",
      " 18  time_signature_bin  172848 non-null  int64  \n",
      "dtypes: float64(9), int64(5), object(5)\n",
      "memory usage: 26.4+ MB\n"
     ]
    }
   ],
   "source": [
    "df2.info()"
   ]
  },
  {
   "cell_type": "code",
   "execution_count": 306,
   "id": "864f0bdb",
   "metadata": {},
   "outputs": [
    {
     "data": {
      "text/plain": [
       "array(['Opera', 'Blues', 'Dance', 'Pop', 'Electronic', 'R&B', 'Folk',\n",
       "       'Rap', 'Classical', 'Reggae', 'Hip-Hop', 'Country', 'Reggaeton',\n",
       "       'Ska', 'Indie', 'Rock', 'Soul', 'Jazz', 'World'], dtype=object)"
      ]
     },
     "execution_count": 306,
     "metadata": {},
     "output_type": "execute_result"
    }
   ],
   "source": [
    "df2['genre'].unique()"
   ]
  },
  {
   "cell_type": "code",
   "execution_count": 307,
   "id": "5685aa72",
   "metadata": {},
   "outputs": [],
   "source": [
    "X2 = df2.select_dtypes(exclude=['object']).copy().reset_index(drop=True)\n",
    "y2 = df2['genre'].reset_index(drop=True)"
   ]
  },
  {
   "cell_type": "code",
   "execution_count": 308,
   "id": "80179aa5",
   "metadata": {},
   "outputs": [
    {
     "name": "stdout",
     "output_type": "stream",
     "text": [
      "<class 'pandas.core.frame.DataFrame'>\n",
      "RangeIndex: 172848 entries, 0 to 172847\n",
      "Data columns (total 14 columns):\n",
      " #   Column              Non-Null Count   Dtype  \n",
      "---  ------              --------------   -----  \n",
      " 0   popularity          172848 non-null  int64  \n",
      " 1   acousticness        172848 non-null  float64\n",
      " 2   danceability        172848 non-null  float64\n",
      " 3   duration_ms         172848 non-null  int64  \n",
      " 4   energy              172848 non-null  float64\n",
      " 5   instrumentalness    172848 non-null  float64\n",
      " 6   key                 172848 non-null  int64  \n",
      " 7   liveness            172848 non-null  float64\n",
      " 8   loudness            172848 non-null  float64\n",
      " 9   mode                172848 non-null  int64  \n",
      " 10  speechiness         172848 non-null  float64\n",
      " 11  tempo               172848 non-null  float64\n",
      " 12  valence             172848 non-null  float64\n",
      " 13  time_signature_bin  172848 non-null  int64  \n",
      "dtypes: float64(9), int64(5)\n",
      "memory usage: 18.5 MB\n"
     ]
    }
   ],
   "source": [
    "X2.info()"
   ]
  },
  {
   "cell_type": "code",
   "execution_count": 320,
   "id": "f930e875",
   "metadata": {
    "scrolled": true
   },
   "outputs": [
    {
     "data": {
      "text/plain": [
       "(138278, 14)"
      ]
     },
     "execution_count": 320,
     "metadata": {},
     "output_type": "execute_result"
    }
   ],
   "source": [
    "X2.shape"
   ]
  },
  {
   "cell_type": "code",
   "execution_count": 321,
   "id": "400f9316",
   "metadata": {},
   "outputs": [
    {
     "data": {
      "text/plain": [
       "(138278,)"
      ]
     },
     "execution_count": 321,
     "metadata": {},
     "output_type": "execute_result"
    }
   ],
   "source": [
    "y2.shape"
   ]
  },
  {
   "cell_type": "code",
   "execution_count": 322,
   "id": "6be6afe1",
   "metadata": {},
   "outputs": [],
   "source": [
    "# Split training and testing data\n",
    "X2, X_test2, y2, y_test2 = train_test_split(X2, y2, test_size=.2, random_state=11)\n",
    "# Split data one more time into train and eval\n",
    "X_train2, X_val2, y_train2, y_val2 = train_test_split(X2, y2, test_size=.25, random_state=3)"
   ]
  },
  {
   "cell_type": "code",
   "execution_count": 323,
   "id": "3f8fec6b",
   "metadata": {},
   "outputs": [
    {
     "data": {
      "text/plain": [
       "array(['Country', 'R&B', 'Hip-Hop', 'Jazz', 'Classical', 'Indie', 'Blues',\n",
       "       'Pop', 'Rap', 'Electronic', 'Opera', 'Dance', 'Ska', 'Reggaeton',\n",
       "       'World', 'Folk', 'Rock', 'Soul', 'Reggae'], dtype=object)"
      ]
     },
     "execution_count": 323,
     "metadata": {},
     "output_type": "execute_result"
    }
   ],
   "source": [
    "y_train2.unique()"
   ]
  },
  {
   "cell_type": "code",
   "execution_count": 324,
   "id": "7a57ce16",
   "metadata": {},
   "outputs": [],
   "source": [
    "# Use new data - GridSearch for Random Forest best model \n",
    "\n",
    "randomforest_2 = RandomForestClassifier()\n",
    "\n",
    "params = [{'n_estimators': [10, 15, 20, 25, 30], \n",
    "           'max_depth': [10, 15, 20, None],\n",
    "           'criterion': ['entropy', 'gini'],\n",
    "           'class_weight': ['balanced'],\n",
    "           'random_state': [42]}]\n",
    "\n",
    "# random shuffle\n",
    "kfold = KFold(n_splits=5, shuffle=True, random_state=0)\n",
    "\n",
    "# Create weighted scorer\n",
    "scoring_functions = {'precision': make_scorer(precision_score, average = 'weighted', zero_division=0),\n",
    "                     'recall': make_scorer(recall_score, average = 'weighted', zero_division=0),\n",
    "                     'f1': make_scorer(f1_score, average = 'weighted', zero_division=0)\n",
    "                    }\n",
    "\n",
    "#Use GridSearch\n",
    "grid_rf_2 = GridSearchCV(randomforest_2 , params, scoring=scoring_functions, cv=kfold, refit='precision')\n",
    "\n",
    "#Fit the model\n",
    "best_model_rf_2 = grid_rf_2.fit(X_train2, y_train2)"
   ]
  },
  {
   "cell_type": "code",
   "execution_count": 326,
   "id": "76297a70",
   "metadata": {},
   "outputs": [],
   "source": [
    "y_predict_rf_2 = best_model_rf_2.predict(X_train2)\n",
    "y_predict_rf_test_2 = best_model_rf_2.predict(X_test2)\n",
    "rf_gs_2_y_score = best_model_rf_2.predict_proba(X_test2)"
   ]
  },
  {
   "cell_type": "code",
   "execution_count": 339,
   "id": "538cf45b",
   "metadata": {},
   "outputs": [
    {
     "name": "stdout",
     "output_type": "stream",
     "text": [
      "Precision : 0.39836712088880377\n",
      "Recall    : 0.40360138848712757\n",
      "F-score   : 0.3934988416261012\n"
     ]
    }
   ],
   "source": [
    "precision, recall, fscore, support = precision_recall_fscore_support(y_test2, y_predict_rf_test_2, average='weighted')\n",
    "print(f'Precision : {precision}')\n",
    "print(f'Recall    : {recall}')\n",
    "print(f'F-score   : {fscore}')\n",
    "\n",
    "# save to dict\n",
    "list_of_perform.append(dict([\n",
    "    ('Model', 'RF GS 2'),\n",
    "    ('Train Accuracy', round(metrics.accuracy_score(y_train2, y_predict_rf_2), 2)),\n",
    "    ('Test Accuracy', round(metrics.accuracy_score(y_test2, y_predict_rf_test_2), 2)),\n",
    "    ('Train Precision', round(metrics.precision_score(y_train2, y_predict_rf_2, average='weighted'), 2)),\n",
    "    ('Test Precision', round(precision, 2)),\n",
    "    ('Test Recall', round(recall, 2)),\n",
    "    ('Test F1', round(fscore, 2))\n",
    "     ]))\n",
    "\n",
    "# Add model to list\n",
    "models.append('RF GS 2')\n",
    "\n",
    "# Add y_score to list\n",
    "y_scores.append(rf_gs_2_y_score)"
   ]
  },
  {
   "cell_type": "code",
   "execution_count": 315,
   "id": "c3ff6674",
   "metadata": {},
   "outputs": [
    {
     "data": {
      "text/plain": [
       "array(['Blues', 'Classical', 'Country', 'Dance', 'Electronic', 'Folk',\n",
       "       'Hip-Hop', 'Indie', 'Jazz', 'Opera', 'Pop', 'R&B', 'Rap', 'Reggae',\n",
       "       'Reggaeton', 'Rock', 'Ska', 'Soul', 'World'], dtype=object)"
      ]
     },
     "execution_count": 315,
     "metadata": {},
     "output_type": "execute_result"
    }
   ],
   "source": [
    "np.sort(y_test2.unique())"
   ]
  },
  {
   "cell_type": "code",
   "execution_count": 328,
   "id": "d9013d04",
   "metadata": {},
   "outputs": [
    {
     "data": {
      "text/html": [
       "<div>\n",
       "<style scoped>\n",
       "    .dataframe tbody tr th:only-of-type {\n",
       "        vertical-align: middle;\n",
       "    }\n",
       "\n",
       "    .dataframe tbody tr th {\n",
       "        vertical-align: top;\n",
       "    }\n",
       "\n",
       "    .dataframe thead th {\n",
       "        text-align: right;\n",
       "    }\n",
       "</style>\n",
       "<table border=\"1\" class=\"dataframe\">\n",
       "  <thead>\n",
       "    <tr style=\"text-align: right;\">\n",
       "      <th></th>\n",
       "      <th>precision</th>\n",
       "      <th>recall</th>\n",
       "      <th>fscore</th>\n",
       "      <th>support</th>\n",
       "      <th>genre</th>\n",
       "    </tr>\n",
       "  </thead>\n",
       "  <tbody>\n",
       "    <tr>\n",
       "      <th>9</th>\n",
       "      <td>0.853589</td>\n",
       "      <td>0.909160</td>\n",
       "      <td>0.880499</td>\n",
       "      <td>1321.0</td>\n",
       "      <td>Opera</td>\n",
       "    </tr>\n",
       "    <tr>\n",
       "      <th>1</th>\n",
       "      <td>0.715333</td>\n",
       "      <td>0.782754</td>\n",
       "      <td>0.747526</td>\n",
       "      <td>1496.0</td>\n",
       "      <td>Classical</td>\n",
       "    </tr>\n",
       "    <tr>\n",
       "      <th>16</th>\n",
       "      <td>0.679094</td>\n",
       "      <td>0.664996</td>\n",
       "      <td>0.671971</td>\n",
       "      <td>1397.0</td>\n",
       "      <td>Ska</td>\n",
       "    </tr>\n",
       "    <tr>\n",
       "      <th>18</th>\n",
       "      <td>0.548102</td>\n",
       "      <td>0.424761</td>\n",
       "      <td>0.478613</td>\n",
       "      <td>1462.0</td>\n",
       "      <td>World</td>\n",
       "    </tr>\n",
       "    <tr>\n",
       "      <th>4</th>\n",
       "      <td>0.542138</td>\n",
       "      <td>0.559014</td>\n",
       "      <td>0.550447</td>\n",
       "      <td>1542.0</td>\n",
       "      <td>Electronic</td>\n",
       "    </tr>\n",
       "    <tr>\n",
       "      <th>14</th>\n",
       "      <td>0.523929</td>\n",
       "      <td>0.569863</td>\n",
       "      <td>0.545932</td>\n",
       "      <td>1460.0</td>\n",
       "      <td>Reggaeton</td>\n",
       "    </tr>\n",
       "    <tr>\n",
       "      <th>8</th>\n",
       "      <td>0.448738</td>\n",
       "      <td>0.377822</td>\n",
       "      <td>0.410238</td>\n",
       "      <td>1506.0</td>\n",
       "      <td>Jazz</td>\n",
       "    </tr>\n",
       "    <tr>\n",
       "      <th>13</th>\n",
       "      <td>0.445746</td>\n",
       "      <td>0.406695</td>\n",
       "      <td>0.425326</td>\n",
       "      <td>1404.0</td>\n",
       "      <td>Reggae</td>\n",
       "    </tr>\n",
       "    <tr>\n",
       "      <th>2</th>\n",
       "      <td>0.387718</td>\n",
       "      <td>0.468364</td>\n",
       "      <td>0.424242</td>\n",
       "      <td>1375.0</td>\n",
       "      <td>Country</td>\n",
       "    </tr>\n",
       "    <tr>\n",
       "      <th>0</th>\n",
       "      <td>0.302003</td>\n",
       "      <td>0.265943</td>\n",
       "      <td>0.282828</td>\n",
       "      <td>1474.0</td>\n",
       "      <td>Blues</td>\n",
       "    </tr>\n",
       "    <tr>\n",
       "      <th>5</th>\n",
       "      <td>0.282160</td>\n",
       "      <td>0.313131</td>\n",
       "      <td>0.296840</td>\n",
       "      <td>1485.0</td>\n",
       "      <td>Folk</td>\n",
       "    </tr>\n",
       "    <tr>\n",
       "      <th>10</th>\n",
       "      <td>0.269158</td>\n",
       "      <td>0.484375</td>\n",
       "      <td>0.346033</td>\n",
       "      <td>1472.0</td>\n",
       "      <td>Pop</td>\n",
       "    </tr>\n",
       "    <tr>\n",
       "      <th>15</th>\n",
       "      <td>0.268133</td>\n",
       "      <td>0.389002</td>\n",
       "      <td>0.317452</td>\n",
       "      <td>1473.0</td>\n",
       "      <td>Rock</td>\n",
       "    </tr>\n",
       "    <tr>\n",
       "      <th>6</th>\n",
       "      <td>0.258684</td>\n",
       "      <td>0.442039</td>\n",
       "      <td>0.326373</td>\n",
       "      <td>1432.0</td>\n",
       "      <td>Hip-Hop</td>\n",
       "    </tr>\n",
       "    <tr>\n",
       "      <th>17</th>\n",
       "      <td>0.244604</td>\n",
       "      <td>0.115962</td>\n",
       "      <td>0.157335</td>\n",
       "      <td>1466.0</td>\n",
       "      <td>Soul</td>\n",
       "    </tr>\n",
       "    <tr>\n",
       "      <th>11</th>\n",
       "      <td>0.236305</td>\n",
       "      <td>0.156250</td>\n",
       "      <td>0.188115</td>\n",
       "      <td>1408.0</td>\n",
       "      <td>R&amp;B</td>\n",
       "    </tr>\n",
       "    <tr>\n",
       "      <th>12</th>\n",
       "      <td>0.230691</td>\n",
       "      <td>0.151333</td>\n",
       "      <td>0.182770</td>\n",
       "      <td>1500.0</td>\n",
       "      <td>Rap</td>\n",
       "    </tr>\n",
       "    <tr>\n",
       "      <th>7</th>\n",
       "      <td>0.195796</td>\n",
       "      <td>0.113171</td>\n",
       "      <td>0.143436</td>\n",
       "      <td>1564.0</td>\n",
       "      <td>Indie</td>\n",
       "    </tr>\n",
       "    <tr>\n",
       "      <th>3</th>\n",
       "      <td>0.186408</td>\n",
       "      <td>0.135307</td>\n",
       "      <td>0.156799</td>\n",
       "      <td>1419.0</td>\n",
       "      <td>Dance</td>\n",
       "    </tr>\n",
       "  </tbody>\n",
       "</table>\n",
       "</div>"
      ],
      "text/plain": [
       "    precision    recall    fscore  support       genre\n",
       "9    0.853589  0.909160  0.880499   1321.0       Opera\n",
       "1    0.715333  0.782754  0.747526   1496.0   Classical\n",
       "16   0.679094  0.664996  0.671971   1397.0         Ska\n",
       "18   0.548102  0.424761  0.478613   1462.0       World\n",
       "4    0.542138  0.559014  0.550447   1542.0  Electronic\n",
       "14   0.523929  0.569863  0.545932   1460.0   Reggaeton\n",
       "8    0.448738  0.377822  0.410238   1506.0        Jazz\n",
       "13   0.445746  0.406695  0.425326   1404.0      Reggae\n",
       "2    0.387718  0.468364  0.424242   1375.0     Country\n",
       "0    0.302003  0.265943  0.282828   1474.0       Blues\n",
       "5    0.282160  0.313131  0.296840   1485.0        Folk\n",
       "10   0.269158  0.484375  0.346033   1472.0         Pop\n",
       "15   0.268133  0.389002  0.317452   1473.0        Rock\n",
       "6    0.258684  0.442039  0.326373   1432.0     Hip-Hop\n",
       "17   0.244604  0.115962  0.157335   1466.0        Soul\n",
       "11   0.236305  0.156250  0.188115   1408.0         R&B\n",
       "12   0.230691  0.151333  0.182770   1500.0         Rap\n",
       "7    0.195796  0.113171  0.143436   1564.0       Indie\n",
       "3    0.186408  0.135307  0.156799   1419.0       Dance"
      ]
     },
     "execution_count": 328,
     "metadata": {},
     "output_type": "execute_result"
    }
   ],
   "source": [
    "prfs_rf2 = precision_recall_fscore_support(y_test2, y_predict_rf_test_2, average=None, labels = ['Blues', 'Classical', 'Country', 'Dance',\n",
    "       'Electronic', 'Folk', 'Hip-Hop', 'Indie', 'Jazz', 'Opera', 'Pop',\n",
    "       'R&B', 'Rap', 'Reggae', 'Reggaeton', 'Rock', 'Ska', 'Soul',\n",
    "       'World'], zero_division=0)\n",
    "prfs_rf2 = pd.DataFrame(prfs_rf2).T\n",
    "prfs_rf2['genre'] = ['Blues', 'Classical', 'Country', 'Dance',\n",
    "       'Electronic', 'Folk', 'Hip-Hop', 'Indie', 'Jazz', 'Opera', 'Pop',\n",
    "       'R&B', 'Rap', 'Reggae', 'Reggaeton', 'Rock', 'Ska', 'Soul',\n",
    "       'World']\n",
    "prfs_rf2.columns = [\"precision\", \"recall\",  \"fscore\",  \"support\", \"genre\"]\n",
    "prfs_rf2.sort_values('precision', ascending=False)"
   ]
  },
  {
   "cell_type": "code",
   "execution_count": 329,
   "id": "01e86221",
   "metadata": {},
   "outputs": [
    {
     "data": {
      "text/plain": [
       "Text(0.5, 1.0, 'Random Forest GS 2 Precision scores')"
      ]
     },
     "execution_count": 329,
     "metadata": {},
     "output_type": "execute_result"
    },
    {
     "data": {
      "image/png": "[encoded data removed]",
      "text/plain": [
       "<Figure size 1080x576 with 1 Axes>"
      ]
     },
     "metadata": {},
     "output_type": "display_data"
    }
   ],
   "source": [
    "sns.set(font_scale=1)\n",
    "plt.figure(figsize = (15,8))\n",
    "ax = sns.barplot(x=prfs_rf2['genre'],y=prfs_rf2['precision'], color='#1ed65f')\n",
    "ax.set_xticklabels(ax.get_xticklabels(),rotation = 30)\n",
    "ax.set_title(\"Random Forest GS 2 Precision scores\")"
   ]
  },
  {
   "cell_type": "code",
   "execution_count": 343,
   "id": "a749538d",
   "metadata": {},
   "outputs": [
    {
     "data": {
      "image/png": "[encoded data removed]",
      "text/plain": [
       "<Figure size 1200x800 with 2 Axes>"
      ]
     },
     "metadata": {},
     "output_type": "display_data"
    }
   ],
   "source": [
    "sns.set(font_scale=0.4)\n",
    "sns.color_palette(\"crest\", as_cmap=True)\n",
    "# Print confusion matrix for Random Forest\n",
    "rf_confusion2 = confusion_matrix(y_test2, y_predict_rf_test_2)\n",
    "plt.figure(dpi=200)\n",
    "ax = sns.heatmap(rf_confusion2, \n",
    "            cmap=\"Greens\", \n",
    "            annot=True, \n",
    "            annot_kws={\"size\": 4},\n",
    "            square=True, \n",
    "            fmt='g', \n",
    "            xticklabels=best_model_rf_2.classes_, \n",
    "            yticklabels=best_model_rf_2.classes_\n",
    "           )\n",
    "plt.xlabel('Predicted genre', fontsize=7)\n",
    "plt.ylabel('Actual genre', fontsize=7)\n",
    "plt.title('RF confusion matrix', fontsize=10);"
   ]
  },
  {
   "cell_type": "code",
   "execution_count": 344,
   "id": "c9a165d2",
   "metadata": {},
   "outputs": [
    {
     "data": {
      "text/html": [
       "<div>\n",
       "<style scoped>\n",
       "    .dataframe tbody tr th:only-of-type {\n",
       "        vertical-align: middle;\n",
       "    }\n",
       "\n",
       "    .dataframe tbody tr th {\n",
       "        vertical-align: top;\n",
       "    }\n",
       "\n",
       "    .dataframe thead th {\n",
       "        text-align: right;\n",
       "    }\n",
       "</style>\n",
       "<table border=\"1\" class=\"dataframe\">\n",
       "  <thead>\n",
       "    <tr style=\"text-align: right;\">\n",
       "      <th></th>\n",
       "      <th>feature</th>\n",
       "      <th>importance</th>\n",
       "    </tr>\n",
       "  </thead>\n",
       "  <tbody>\n",
       "    <tr>\n",
       "      <th>0</th>\n",
       "      <td>popularity</td>\n",
       "      <td>0.304214</td>\n",
       "    </tr>\n",
       "    <tr>\n",
       "      <th>1</th>\n",
       "      <td>acousticness</td>\n",
       "      <td>0.107986</td>\n",
       "    </tr>\n",
       "    <tr>\n",
       "      <th>2</th>\n",
       "      <td>danceability</td>\n",
       "      <td>0.100165</td>\n",
       "    </tr>\n",
       "    <tr>\n",
       "      <th>3</th>\n",
       "      <td>duration_ms</td>\n",
       "      <td>0.042478</td>\n",
       "    </tr>\n",
       "    <tr>\n",
       "      <th>4</th>\n",
       "      <td>energy</td>\n",
       "      <td>0.078597</td>\n",
       "    </tr>\n",
       "    <tr>\n",
       "      <th>5</th>\n",
       "      <td>instrumentalness</td>\n",
       "      <td>0.092044</td>\n",
       "    </tr>\n",
       "    <tr>\n",
       "      <th>6</th>\n",
       "      <td>key</td>\n",
       "      <td>0.004331</td>\n",
       "    </tr>\n",
       "    <tr>\n",
       "      <th>7</th>\n",
       "      <td>liveness</td>\n",
       "      <td>0.011984</td>\n",
       "    </tr>\n",
       "    <tr>\n",
       "      <th>8</th>\n",
       "      <td>loudness</td>\n",
       "      <td>0.093262</td>\n",
       "    </tr>\n",
       "    <tr>\n",
       "      <th>9</th>\n",
       "      <td>mode</td>\n",
       "      <td>0.008514</td>\n",
       "    </tr>\n",
       "    <tr>\n",
       "      <th>10</th>\n",
       "      <td>speechiness</td>\n",
       "      <td>0.082714</td>\n",
       "    </tr>\n",
       "    <tr>\n",
       "      <th>11</th>\n",
       "      <td>tempo</td>\n",
       "      <td>0.022155</td>\n",
       "    </tr>\n",
       "    <tr>\n",
       "      <th>12</th>\n",
       "      <td>valence</td>\n",
       "      <td>0.048622</td>\n",
       "    </tr>\n",
       "    <tr>\n",
       "      <th>13</th>\n",
       "      <td>time_signature_bin</td>\n",
       "      <td>0.002934</td>\n",
       "    </tr>\n",
       "  </tbody>\n",
       "</table>\n",
       "</div>"
      ],
      "text/plain": [
       "               feature  importance\n",
       "0           popularity    0.304214\n",
       "1         acousticness    0.107986\n",
       "2         danceability    0.100165\n",
       "3          duration_ms    0.042478\n",
       "4               energy    0.078597\n",
       "5     instrumentalness    0.092044\n",
       "6                  key    0.004331\n",
       "7             liveness    0.011984\n",
       "8             loudness    0.093262\n",
       "9                 mode    0.008514\n",
       "10         speechiness    0.082714\n",
       "11               tempo    0.022155\n",
       "12             valence    0.048622\n",
       "13  time_signature_bin    0.002934"
      ]
     },
     "execution_count": 344,
     "metadata": {},
     "output_type": "execute_result"
    }
   ],
   "source": [
    "pd.DataFrame({\n",
    "    'feature': X_train2.columns,\n",
    "    'importance': best_model_rf_2.best_estimator_.feature_importances_\n",
    "})"
   ]
  },
  {
   "cell_type": "code",
   "execution_count": 349,
   "id": "950b75e8",
   "metadata": {},
   "outputs": [
    {
     "data": {
      "text/html": [
       "<div>\n",
       "<style scoped>\n",
       "    .dataframe tbody tr th:only-of-type {\n",
       "        vertical-align: middle;\n",
       "    }\n",
       "\n",
       "    .dataframe tbody tr th {\n",
       "        vertical-align: top;\n",
       "    }\n",
       "\n",
       "    .dataframe thead th {\n",
       "        text-align: right;\n",
       "    }\n",
       "</style>\n",
       "<table border=\"1\" class=\"dataframe\">\n",
       "  <thead>\n",
       "    <tr style=\"text-align: right;\">\n",
       "      <th></th>\n",
       "      <th>Model</th>\n",
       "      <th>Train Accuracy</th>\n",
       "      <th>Test Accuracy</th>\n",
       "      <th>Train Precision</th>\n",
       "      <th>Test Precision</th>\n",
       "      <th>Test Recall</th>\n",
       "      <th>Test F1</th>\n",
       "    </tr>\n",
       "  </thead>\n",
       "  <tbody>\n",
       "    <tr>\n",
       "      <th>0</th>\n",
       "      <td>KNN Naive</td>\n",
       "      <td>0.45</td>\n",
       "      <td>0.25</td>\n",
       "      <td>0.49</td>\n",
       "      <td>0.27</td>\n",
       "      <td>0.25</td>\n",
       "      <td>0.25</td>\n",
       "    </tr>\n",
       "    <tr>\n",
       "      <th>1</th>\n",
       "      <td>KNN GS</td>\n",
       "      <td>0.37</td>\n",
       "      <td>0.31</td>\n",
       "      <td>0.37</td>\n",
       "      <td>0.30</td>\n",
       "      <td>0.31</td>\n",
       "      <td>0.30</td>\n",
       "    </tr>\n",
       "    <tr>\n",
       "      <th>2</th>\n",
       "      <td>DT Naive</td>\n",
       "      <td>0.74</td>\n",
       "      <td>0.22</td>\n",
       "      <td>0.80</td>\n",
       "      <td>0.23</td>\n",
       "      <td>0.22</td>\n",
       "      <td>0.22</td>\n",
       "    </tr>\n",
       "    <tr>\n",
       "      <th>3</th>\n",
       "      <td>DT GS</td>\n",
       "      <td>0.35</td>\n",
       "      <td>0.32</td>\n",
       "      <td>0.34</td>\n",
       "      <td>0.31</td>\n",
       "      <td>0.32</td>\n",
       "      <td>0.31</td>\n",
       "    </tr>\n",
       "    <tr>\n",
       "      <th>4</th>\n",
       "      <td>RF Naive</td>\n",
       "      <td>0.74</td>\n",
       "      <td>0.30</td>\n",
       "      <td>0.74</td>\n",
       "      <td>0.30</td>\n",
       "      <td>0.30</td>\n",
       "      <td>0.30</td>\n",
       "    </tr>\n",
       "    <tr>\n",
       "      <th>5</th>\n",
       "      <td>RF GS</td>\n",
       "      <td>0.38</td>\n",
       "      <td>0.34</td>\n",
       "      <td>0.38</td>\n",
       "      <td>0.33</td>\n",
       "      <td>0.34</td>\n",
       "      <td>0.32</td>\n",
       "    </tr>\n",
       "    <tr>\n",
       "      <th>6</th>\n",
       "      <td>RF GS 2</td>\n",
       "      <td>0.46</td>\n",
       "      <td>0.40</td>\n",
       "      <td>0.47</td>\n",
       "      <td>0.40</td>\n",
       "      <td>0.40</td>\n",
       "      <td>0.39</td>\n",
       "    </tr>\n",
       "    <tr>\n",
       "      <th>7</th>\n",
       "      <td>ET Naive</td>\n",
       "      <td>0.74</td>\n",
       "      <td>0.29</td>\n",
       "      <td>0.80</td>\n",
       "      <td>0.29</td>\n",
       "      <td>0.29</td>\n",
       "      <td>0.29</td>\n",
       "    </tr>\n",
       "  </tbody>\n",
       "</table>\n",
       "</div>"
      ],
      "text/plain": [
       "       Model  Train Accuracy  Test Accuracy  Train Precision  Test Precision  \\\n",
       "0  KNN Naive            0.45           0.25             0.49            0.27   \n",
       "1     KNN GS            0.37           0.31             0.37            0.30   \n",
       "2   DT Naive            0.74           0.22             0.80            0.23   \n",
       "3      DT GS            0.35           0.32             0.34            0.31   \n",
       "4   RF Naive            0.74           0.30             0.74            0.30   \n",
       "5      RF GS            0.38           0.34             0.38            0.33   \n",
       "6    RF GS 2            0.46           0.40             0.47            0.40   \n",
       "7   ET Naive            0.74           0.29             0.80            0.29   \n",
       "\n",
       "   Test Recall  Test F1  \n",
       "0         0.25     0.25  \n",
       "1         0.31     0.30  \n",
       "2         0.22     0.22  \n",
       "3         0.32     0.31  \n",
       "4         0.30     0.30  \n",
       "5         0.34     0.32  \n",
       "6         0.40     0.39  \n",
       "7         0.29     0.29  "
      ]
     },
     "execution_count": 349,
     "metadata": {},
     "output_type": "execute_result"
    }
   ],
   "source": [
    "model_perf = pd.DataFrame(data=list_of_perform)\n",
    "model_perf"
   ]
  },
  {
   "cell_type": "code",
   "execution_count": 353,
   "id": "677217c9",
   "metadata": {},
   "outputs": [],
   "source": [
    "y_pred_rf2_val = best_model_rf_2.best_estimator_.predict(X_val2)"
   ]
  },
  {
   "cell_type": "code",
   "execution_count": 357,
   "id": "57db255e",
   "metadata": {},
   "outputs": [
    {
     "name": "stdout",
     "output_type": "stream",
     "text": [
      "Holdout Accuracy:  0.405\n",
      "Precision : 0.40113246487260035\n",
      "Recall    : 0.4050115707260631\n",
      "F-score   : 0.39539494633794203\n"
     ]
    }
   ],
   "source": [
    "precision, recall, fscore, support = precision_recall_fscore_support(y_val2, y_pred_rf2_val, average='weighted')\n",
    "print(f'Holdout Accuracy: ', round(metrics.accuracy_score(y_val2, y_pred_rf2_val), 3))\n",
    "print(f'Precision : {precision}')\n",
    "print(f'Recall    : {recall}')\n",
    "print(f'F-score   : {fscore}')"
   ]
  }
 ],
 "metadata": {
  "kernelspec": {
   "display_name": "Python [conda env:metis] *",
   "language": "python",
   "name": "conda-env-metis-py"
  },
  "language_info": {
   "codemirror_mode": {
    "name": "ipython",
    "version": 3
   },
   "file_extension": ".py",
   "mimetype": "text/x-python",
   "name": "python",
   "nbconvert_exporter": "python",
   "pygments_lexer": "ipython3",
   "version": "3.8.10"
  }
 },
 "nbformat": 4,
 "nbformat_minor": 5
}
