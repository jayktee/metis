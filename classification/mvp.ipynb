{
 "cells": [
  {
   "cell_type": "markdown",
   "id": "a9dca054",
   "metadata": {},
   "source": [
    "# MVP for Classification: Genre predicting using baseline models"
   ]
  },
  {
   "cell_type": "code",
   "execution_count": 162,
   "id": "a1073180",
   "metadata": {},
   "outputs": [],
   "source": [
    "import pandas as pd\n",
    "import numpy as np\n",
    "import matplotlib.pyplot as plt\n",
    "import seaborn as sns\n",
    "\n",
    "plt.style.use('ggplot')\n",
    "%matplotlib inline\n",
    "np.set_printoptions(suppress=True) # Suppress scientific notation where possible"
   ]
  },
  {
   "cell_type": "markdown",
   "id": "de82752f",
   "metadata": {},
   "source": [
    "## Data cleaning"
   ]
  },
  {
   "cell_type": "code",
   "execution_count": 163,
   "id": "c6010389",
   "metadata": {},
   "outputs": [],
   "source": [
    "# import data\n",
    "df = pd.read_csv('/Users/joycetagal/Github/metis/reg/SpotifyFeatures.csv')"
   ]
  },
  {
   "cell_type": "code",
   "execution_count": 164,
   "id": "d39bc87a",
   "metadata": {
    "scrolled": false
   },
   "outputs": [
    {
     "data": {
      "text/html": [
       "<div>\n",
       "<style scoped>\n",
       "    .dataframe tbody tr th:only-of-type {\n",
       "        vertical-align: middle;\n",
       "    }\n",
       "\n",
       "    .dataframe tbody tr th {\n",
       "        vertical-align: top;\n",
       "    }\n",
       "\n",
       "    .dataframe thead th {\n",
       "        text-align: right;\n",
       "    }\n",
       "</style>\n",
       "<table border=\"1\" class=\"dataframe\">\n",
       "  <thead>\n",
       "    <tr style=\"text-align: right;\">\n",
       "      <th></th>\n",
       "      <th>genre</th>\n",
       "      <th>artist_name</th>\n",
       "      <th>track_name</th>\n",
       "      <th>track_id</th>\n",
       "      <th>popularity</th>\n",
       "      <th>acousticness</th>\n",
       "      <th>danceability</th>\n",
       "      <th>duration_ms</th>\n",
       "      <th>energy</th>\n",
       "      <th>instrumentalness</th>\n",
       "      <th>key</th>\n",
       "      <th>liveness</th>\n",
       "      <th>loudness</th>\n",
       "      <th>mode</th>\n",
       "      <th>speechiness</th>\n",
       "      <th>tempo</th>\n",
       "      <th>time_signature</th>\n",
       "      <th>valence</th>\n",
       "    </tr>\n",
       "  </thead>\n",
       "  <tbody>\n",
       "    <tr>\n",
       "      <th>0</th>\n",
       "      <td>Opera</td>\n",
       "      <td>Giuseppe Verdi</td>\n",
       "      <td>Stiffelio, Act III: Ei fugge! … Lina, pensai c...</td>\n",
       "      <td>7EsKYeHtTc4H4xWiTqSVZA</td>\n",
       "      <td>21</td>\n",
       "      <td>0.986</td>\n",
       "      <td>0.313</td>\n",
       "      <td>490867</td>\n",
       "      <td>0.23100</td>\n",
       "      <td>0.000431</td>\n",
       "      <td>C#</td>\n",
       "      <td>0.0964</td>\n",
       "      <td>-14.287</td>\n",
       "      <td>Major</td>\n",
       "      <td>0.0547</td>\n",
       "      <td>86.001</td>\n",
       "      <td>4/4</td>\n",
       "      <td>0.0886</td>\n",
       "    </tr>\n",
       "    <tr>\n",
       "      <th>1</th>\n",
       "      <td>Opera</td>\n",
       "      <td>Giacomo Puccini</td>\n",
       "      <td>Madama Butterfly / Act 1: ... E soffitto e pareti</td>\n",
       "      <td>7MfmRBvqaW0I6UTxXnad8p</td>\n",
       "      <td>18</td>\n",
       "      <td>0.972</td>\n",
       "      <td>0.360</td>\n",
       "      <td>176797</td>\n",
       "      <td>0.20100</td>\n",
       "      <td>0.028000</td>\n",
       "      <td>D#</td>\n",
       "      <td>0.1330</td>\n",
       "      <td>-19.794</td>\n",
       "      <td>Major</td>\n",
       "      <td>0.0581</td>\n",
       "      <td>131.798</td>\n",
       "      <td>4/4</td>\n",
       "      <td>0.3690</td>\n",
       "    </tr>\n",
       "    <tr>\n",
       "      <th>2</th>\n",
       "      <td>Opera</td>\n",
       "      <td>Giacomo Puccini</td>\n",
       "      <td>Turandot / Act 2: Gloria, gloria, o vincitore</td>\n",
       "      <td>7pBo1GDhIysyUMFXiDVoON</td>\n",
       "      <td>10</td>\n",
       "      <td>0.935</td>\n",
       "      <td>0.168</td>\n",
       "      <td>266184</td>\n",
       "      <td>0.47000</td>\n",
       "      <td>0.020400</td>\n",
       "      <td>C</td>\n",
       "      <td>0.3630</td>\n",
       "      <td>-8.415</td>\n",
       "      <td>Major</td>\n",
       "      <td>0.0383</td>\n",
       "      <td>75.126</td>\n",
       "      <td>3/4</td>\n",
       "      <td>0.0696</td>\n",
       "    </tr>\n",
       "    <tr>\n",
       "      <th>3</th>\n",
       "      <td>Opera</td>\n",
       "      <td>Giuseppe Verdi</td>\n",
       "      <td>Rigoletto, Act IV: Venti scudi hai tu detto?</td>\n",
       "      <td>02mvYZX5aKNzdqEo6jF20m</td>\n",
       "      <td>17</td>\n",
       "      <td>0.961</td>\n",
       "      <td>0.250</td>\n",
       "      <td>288573</td>\n",
       "      <td>0.00605</td>\n",
       "      <td>0.000000</td>\n",
       "      <td>D</td>\n",
       "      <td>0.1200</td>\n",
       "      <td>-33.440</td>\n",
       "      <td>Major</td>\n",
       "      <td>0.0480</td>\n",
       "      <td>76.493</td>\n",
       "      <td>4/4</td>\n",
       "      <td>0.0380</td>\n",
       "    </tr>\n",
       "    <tr>\n",
       "      <th>4</th>\n",
       "      <td>Opera</td>\n",
       "      <td>Giuseppe Verdi</td>\n",
       "      <td>Don Carlo / Act 4: \"Ella giammai m'amò!\"</td>\n",
       "      <td>03TW0jwGMGhUabAjOpB1T9</td>\n",
       "      <td>19</td>\n",
       "      <td>0.985</td>\n",
       "      <td>0.142</td>\n",
       "      <td>629760</td>\n",
       "      <td>0.05800</td>\n",
       "      <td>0.146000</td>\n",
       "      <td>D</td>\n",
       "      <td>0.0969</td>\n",
       "      <td>-23.625</td>\n",
       "      <td>Major</td>\n",
       "      <td>0.0493</td>\n",
       "      <td>172.935</td>\n",
       "      <td>4/4</td>\n",
       "      <td>0.0382</td>\n",
       "    </tr>\n",
       "  </tbody>\n",
       "</table>\n",
       "</div>"
      ],
      "text/plain": [
       "   genre      artist_name                                         track_name  \\\n",
       "0  Opera   Giuseppe Verdi  Stiffelio, Act III: Ei fugge! … Lina, pensai c...   \n",
       "1  Opera  Giacomo Puccini  Madama Butterfly / Act 1: ... E soffitto e pareti   \n",
       "2  Opera  Giacomo Puccini      Turandot / Act 2: Gloria, gloria, o vincitore   \n",
       "3  Opera   Giuseppe Verdi       Rigoletto, Act IV: Venti scudi hai tu detto?   \n",
       "4  Opera   Giuseppe Verdi           Don Carlo / Act 4: \"Ella giammai m'amò!\"   \n",
       "\n",
       "                 track_id  popularity  acousticness  danceability  \\\n",
       "0  7EsKYeHtTc4H4xWiTqSVZA          21         0.986         0.313   \n",
       "1  7MfmRBvqaW0I6UTxXnad8p          18         0.972         0.360   \n",
       "2  7pBo1GDhIysyUMFXiDVoON          10         0.935         0.168   \n",
       "3  02mvYZX5aKNzdqEo6jF20m          17         0.961         0.250   \n",
       "4  03TW0jwGMGhUabAjOpB1T9          19         0.985         0.142   \n",
       "\n",
       "   duration_ms   energy  instrumentalness key  liveness  loudness   mode  \\\n",
       "0       490867  0.23100          0.000431  C#    0.0964   -14.287  Major   \n",
       "1       176797  0.20100          0.028000  D#    0.1330   -19.794  Major   \n",
       "2       266184  0.47000          0.020400   C    0.3630    -8.415  Major   \n",
       "3       288573  0.00605          0.000000   D    0.1200   -33.440  Major   \n",
       "4       629760  0.05800          0.146000   D    0.0969   -23.625  Major   \n",
       "\n",
       "   speechiness    tempo time_signature  valence  \n",
       "0       0.0547   86.001            4/4   0.0886  \n",
       "1       0.0581  131.798            4/4   0.3690  \n",
       "2       0.0383   75.126            3/4   0.0696  \n",
       "3       0.0480   76.493            4/4   0.0380  \n",
       "4       0.0493  172.935            4/4   0.0382  "
      ]
     },
     "execution_count": 164,
     "metadata": {},
     "output_type": "execute_result"
    }
   ],
   "source": [
    "df.head()"
   ]
  },
  {
   "cell_type": "code",
   "execution_count": 165,
   "id": "cb578541",
   "metadata": {},
   "outputs": [
    {
     "data": {
      "text/plain": [
       "array(['Opera', 'A Capella', 'Alternative', 'Blues', 'Dance', 'Pop',\n",
       "       'Electronic', 'R&B', 'Children’s Music', 'Folk', 'Anime', 'Rap',\n",
       "       'Classical', 'Reggae', 'Hip-Hop', 'Comedy', 'Country', 'Reggaeton',\n",
       "       'Ska', 'Indie', 'Rock', 'Soul', 'Soundtrack', 'Jazz', 'World',\n",
       "       'Movie'], dtype=object)"
      ]
     },
     "execution_count": 165,
     "metadata": {},
     "output_type": "execute_result"
    }
   ],
   "source": [
    "df['genre'].unique()"
   ]
  },
  {
   "cell_type": "code",
   "execution_count": 166,
   "id": "3a81757b",
   "metadata": {},
   "outputs": [
    {
     "data": {
      "text/plain": [
       "Comedy              9681\n",
       "Soundtrack          9646\n",
       "Indie               9543\n",
       "Jazz                9441\n",
       "Pop                 9386\n",
       "Electronic          9377\n",
       "Alternative         9353\n",
       "Blues               9353\n",
       "Children’s Music    9353\n",
       "Anime               9353\n",
       "Folk                9299\n",
       "Hip-Hop             9295\n",
       "Rock                9272\n",
       "Classical           9256\n",
       "Rap                 9232\n",
       "World               9096\n",
       "Soul                9089\n",
       "R&B                 8992\n",
       "Reggaeton           8927\n",
       "Ska                 8874\n",
       "Reggae              8771\n",
       "Dance               8701\n",
       "Country             8664\n",
       "Opera               8280\n",
       "Movie               7806\n",
       "A Capella            119\n",
       "Name: genre, dtype: int64"
      ]
     },
     "execution_count": 166,
     "metadata": {},
     "output_type": "execute_result"
    }
   ],
   "source": [
    "df['genre'].value_counts()"
   ]
  },
  {
   "cell_type": "code",
   "execution_count": 231,
   "id": "81034bfa",
   "metadata": {},
   "outputs": [],
   "source": [
    "# Choose top genres to begin\n",
    "mask = df['genre'].isin(['Indie', 'Jazz', 'Pop', 'Electronic', 'Alternative', 'Blues'])"
   ]
  },
  {
   "cell_type": "code",
   "execution_count": 232,
   "id": "c92e8c6c",
   "metadata": {
    "scrolled": true
   },
   "outputs": [],
   "source": [
    "X = df[mask].select_dtypes(exclude=['object']).copy().reset_index(drop=True)"
   ]
  },
  {
   "cell_type": "code",
   "execution_count": 233,
   "id": "255ce65a",
   "metadata": {},
   "outputs": [
    {
     "data": {
      "text/plain": [
       "(56453, 13)"
      ]
     },
     "execution_count": 233,
     "metadata": {},
     "output_type": "execute_result"
    }
   ],
   "source": [
    "X.shape"
   ]
  },
  {
   "cell_type": "code",
   "execution_count": 234,
   "id": "25ea4431",
   "metadata": {
    "scrolled": true
   },
   "outputs": [
    {
     "data": {
      "text/html": [
       "<div>\n",
       "<style scoped>\n",
       "    .dataframe tbody tr th:only-of-type {\n",
       "        vertical-align: middle;\n",
       "    }\n",
       "\n",
       "    .dataframe tbody tr th {\n",
       "        vertical-align: top;\n",
       "    }\n",
       "\n",
       "    .dataframe thead th {\n",
       "        text-align: right;\n",
       "    }\n",
       "</style>\n",
       "<table border=\"1\" class=\"dataframe\">\n",
       "  <thead>\n",
       "    <tr style=\"text-align: right;\">\n",
       "      <th></th>\n",
       "      <th>popularity</th>\n",
       "      <th>acousticness</th>\n",
       "      <th>danceability</th>\n",
       "      <th>duration_ms</th>\n",
       "      <th>energy</th>\n",
       "      <th>instrumentalness</th>\n",
       "      <th>key</th>\n",
       "      <th>liveness</th>\n",
       "      <th>loudness</th>\n",
       "      <th>mode</th>\n",
       "      <th>speechiness</th>\n",
       "      <th>tempo</th>\n",
       "      <th>valence</th>\n",
       "    </tr>\n",
       "  </thead>\n",
       "  <tbody>\n",
       "    <tr>\n",
       "      <th>0</th>\n",
       "      <td>84</td>\n",
       "      <td>0.5440</td>\n",
       "      <td>0.515</td>\n",
       "      <td>209274</td>\n",
       "      <td>0.479</td>\n",
       "      <td>0.005980</td>\n",
       "      <td>3</td>\n",
       "      <td>0.1910</td>\n",
       "      <td>-7.458</td>\n",
       "      <td>1</td>\n",
       "      <td>0.0261</td>\n",
       "      <td>88.964</td>\n",
       "      <td>0.284</td>\n",
       "    </tr>\n",
       "    <tr>\n",
       "      <th>1</th>\n",
       "      <td>86</td>\n",
       "      <td>0.0116</td>\n",
       "      <td>0.464</td>\n",
       "      <td>239507</td>\n",
       "      <td>0.852</td>\n",
       "      <td>0.000000</td>\n",
       "      <td>11</td>\n",
       "      <td>0.1080</td>\n",
       "      <td>-3.804</td>\n",
       "      <td>1</td>\n",
       "      <td>0.0670</td>\n",
       "      <td>160.075</td>\n",
       "      <td>0.233</td>\n",
       "    </tr>\n",
       "    <tr>\n",
       "      <th>2</th>\n",
       "      <td>84</td>\n",
       "      <td>0.7950</td>\n",
       "      <td>0.473</td>\n",
       "      <td>209400</td>\n",
       "      <td>0.371</td>\n",
       "      <td>0.000000</td>\n",
       "      <td>4</td>\n",
       "      <td>0.1090</td>\n",
       "      <td>-10.219</td>\n",
       "      <td>0</td>\n",
       "      <td>0.0405</td>\n",
       "      <td>75.208</td>\n",
       "      <td>0.413</td>\n",
       "    </tr>\n",
       "    <tr>\n",
       "      <th>3</th>\n",
       "      <td>81</td>\n",
       "      <td>0.6190</td>\n",
       "      <td>0.672</td>\n",
       "      <td>174358</td>\n",
       "      <td>0.588</td>\n",
       "      <td>0.241000</td>\n",
       "      <td>1</td>\n",
       "      <td>0.0992</td>\n",
       "      <td>-9.573</td>\n",
       "      <td>1</td>\n",
       "      <td>0.1330</td>\n",
       "      <td>169.033</td>\n",
       "      <td>0.204</td>\n",
       "    </tr>\n",
       "    <tr>\n",
       "      <th>4</th>\n",
       "      <td>79</td>\n",
       "      <td>0.6400</td>\n",
       "      <td>0.545</td>\n",
       "      <td>248467</td>\n",
       "      <td>0.330</td>\n",
       "      <td>0.000007</td>\n",
       "      <td>1</td>\n",
       "      <td>0.2200</td>\n",
       "      <td>-11.719</td>\n",
       "      <td>0</td>\n",
       "      <td>0.1640</td>\n",
       "      <td>103.553</td>\n",
       "      <td>0.399</td>\n",
       "    </tr>\n",
       "  </tbody>\n",
       "</table>\n",
       "</div>"
      ],
      "text/plain": [
       "   popularity  acousticness  danceability  duration_ms  energy  \\\n",
       "0          84        0.5440         0.515       209274   0.479   \n",
       "1          86        0.0116         0.464       239507   0.852   \n",
       "2          84        0.7950         0.473       209400   0.371   \n",
       "3          81        0.6190         0.672       174358   0.588   \n",
       "4          79        0.6400         0.545       248467   0.330   \n",
       "\n",
       "   instrumentalness  key  liveness  loudness  mode  speechiness    tempo  \\\n",
       "0          0.005980    3    0.1910    -7.458     1       0.0261   88.964   \n",
       "1          0.000000   11    0.1080    -3.804     1       0.0670  160.075   \n",
       "2          0.000000    4    0.1090   -10.219     0       0.0405   75.208   \n",
       "3          0.241000    1    0.0992    -9.573     1       0.1330  169.033   \n",
       "4          0.000007    1    0.2200   -11.719     0       0.1640  103.553   \n",
       "\n",
       "   valence  \n",
       "0    0.284  \n",
       "1    0.233  \n",
       "2    0.413  \n",
       "3    0.204  \n",
       "4    0.399  "
      ]
     },
     "execution_count": 234,
     "metadata": {},
     "output_type": "execute_result"
    }
   ],
   "source": [
    "X.head()"
   ]
  },
  {
   "cell_type": "code",
   "execution_count": 235,
   "id": "29793a5e",
   "metadata": {},
   "outputs": [],
   "source": [
    "y = df[mask]['genre'].reset_index(drop=True)"
   ]
  },
  {
   "cell_type": "code",
   "execution_count": 236,
   "id": "d34d09cb",
   "metadata": {},
   "outputs": [
    {
     "data": {
      "text/plain": [
       "(56453,)"
      ]
     },
     "execution_count": 236,
     "metadata": {},
     "output_type": "execute_result"
    }
   ],
   "source": [
    "y.shape"
   ]
  },
  {
   "cell_type": "code",
   "execution_count": 230,
   "id": "78d983ea",
   "metadata": {
    "scrolled": true
   },
   "outputs": [
    {
     "data": {
      "text/plain": [
       "171701    Soundtrack\n",
       "171702    Soundtrack\n",
       "171703    Soundtrack\n",
       "171704    Soundtrack\n",
       "171705    Soundtrack\n",
       "Name: genre, dtype: object"
      ]
     },
     "execution_count": 230,
     "metadata": {},
     "output_type": "execute_result"
    }
   ],
   "source": [
    "y.tail()"
   ]
  },
  {
   "cell_type": "markdown",
   "id": "9885846f",
   "metadata": {},
   "source": [
    "## Base model - begin with KNN"
   ]
  },
  {
   "cell_type": "code",
   "execution_count": 174,
   "id": "cc333fee",
   "metadata": {},
   "outputs": [],
   "source": [
    "from sklearn.neighbors import KNeighborsClassifier\n",
    "from sklearn import metrics"
   ]
  },
  {
   "cell_type": "code",
   "execution_count": 175,
   "id": "5dddcb5b",
   "metadata": {},
   "outputs": [],
   "source": [
    "# Split data into train and hold out\n",
    "from sklearn.model_selection import train_test_split\n",
    "X, X_test, y, y_test = train_test_split(X, y, test_size=.2, random_state=11)"
   ]
  },
  {
   "cell_type": "code",
   "execution_count": 176,
   "id": "8c76fab1",
   "metadata": {},
   "outputs": [],
   "source": [
    "# Split data one more time into train and eval\n",
    "X_train, X_val, y_train, y_val = train_test_split(X, y, test_size=.25, random_state=3)"
   ]
  },
  {
   "cell_type": "code",
   "execution_count": 177,
   "id": "f89d1937",
   "metadata": {},
   "outputs": [
    {
     "name": "stdout",
     "output_type": "stream",
     "text": [
      "(33871, 11)\n",
      "(11291, 11)\n"
     ]
    }
   ],
   "source": [
    "# print the shapes of the new X objects\n",
    "print(X_train.shape)\n",
    "print(X_test.shape)"
   ]
  },
  {
   "cell_type": "code",
   "execution_count": 178,
   "id": "b008b672",
   "metadata": {},
   "outputs": [
    {
     "name": "stdout",
     "output_type": "stream",
     "text": [
      "(33871,)\n",
      "(11291,)\n"
     ]
    }
   ],
   "source": [
    "# print the shapes of the new y objects\n",
    "print(y_train.shape)\n",
    "print(y_test.shape)"
   ]
  },
  {
   "cell_type": "markdown",
   "id": "2a794adb",
   "metadata": {},
   "source": [
    "Since our features are in different scales, let's go ahead and scale the features with StandardScaler."
   ]
  },
  {
   "cell_type": "code",
   "execution_count": 179,
   "id": "33a12012",
   "metadata": {},
   "outputs": [],
   "source": [
    "from sklearn.preprocessing import StandardScaler\n",
    "std = StandardScaler()\n",
    "std.fit(X_train.values)\n",
    "X_tr = std.transform(X_train.values)\n",
    "X_te = std.transform(X_test.values)\n",
    "X_vl = std.transform(X_val.values)"
   ]
  },
  {
   "cell_type": "code",
   "execution_count": 180,
   "id": "22dbe7f8",
   "metadata": {},
   "outputs": [
    {
     "name": "stdout",
     "output_type": "stream",
     "text": [
      "0.36790364006731024\n"
     ]
    }
   ],
   "source": [
    "# Set up KNN model with 1 nearest neighbor (less computationally intensive)\n",
    "knn_1 = KNeighborsClassifier(n_neighbors=1)\n",
    "knn_1.fit(X_tr, y_train)\n",
    "y_pred = knn_1.predict(X_te)\n",
    "print(metrics.accuracy_score(y_test, y_pred))"
   ]
  },
  {
   "cell_type": "code",
   "execution_count": 181,
   "id": "78cf0a82",
   "metadata": {
    "scrolled": true
   },
   "outputs": [
    {
     "name": "stdout",
     "output_type": "stream",
     "text": [
      "0.44309627136657515\n"
     ]
    }
   ],
   "source": [
    "# Set up KNN model with 5 nearest neighbors\n",
    "knn_5 = KNeighborsClassifier(n_neighbors=5)\n",
    "knn_5.fit(X_tr, y_train)\n",
    "y_pred = knn_5.predict(X_te)\n",
    "print(metrics.accuracy_score(y_test, y_pred))"
   ]
  },
  {
   "cell_type": "markdown",
   "id": "4e018f5d",
   "metadata": {},
   "source": [
    "Looks like the baseline models with K=1 and K=5 with scaled features are at between 0.36 to 0.42. Now let's use cross-validation to decide on an optimal K.\n",
    "\n",
    "## Cross validation"
   ]
  },
  {
   "cell_type": "code",
   "execution_count": 182,
   "id": "7f8ccfe8",
   "metadata": {},
   "outputs": [],
   "source": [
    "from sklearn.model_selection import cross_val_score"
   ]
  },
  {
   "cell_type": "code",
   "execution_count": 183,
   "id": "f7c51d3b",
   "metadata": {},
   "outputs": [],
   "source": [
    "X_trans = std.transform(X.values)"
   ]
  },
  {
   "cell_type": "code",
   "execution_count": 184,
   "id": "41ec27b4",
   "metadata": {},
   "outputs": [
    {
     "name": "stdout",
     "output_type": "stream",
     "text": [
      "[0.41731238 0.43236662 0.43024801 0.43534101 0.42980514 0.42249779\n",
      " 0.44109832 0.43467671 0.425155   0.42869796]\n"
     ]
    }
   ],
   "source": [
    "# 10-fold cross-validation with K=5 for KNN (the n_neighbors parameter)\n",
    "knn = KNeighborsClassifier(n_neighbors=5)\n",
    "scores = cross_val_score(knn, X_trans, y, cv=10, scoring='accuracy')\n",
    "print(scores)"
   ]
  },
  {
   "cell_type": "code",
   "execution_count": 185,
   "id": "2809d021",
   "metadata": {},
   "outputs": [
    {
     "name": "stdout",
     "output_type": "stream",
     "text": [
      "0.429719891962124\n"
     ]
    }
   ],
   "source": [
    "# use average accuracy as an estimate of out-of-sample accuracy\n",
    "print(scores.mean())"
   ]
  },
  {
   "cell_type": "code",
   "execution_count": 186,
   "id": "61e63cff",
   "metadata": {},
   "outputs": [
    {
     "name": "stdout",
     "output_type": "stream",
     "text": [
      "[0.35979368267854556, 0.38835750504981376, 0.429719891962124, 0.4475003005082855, 0.4611620150467881, 0.469133303710635, 0.47632976141897165, 0.48241899071179384, 0.48709108567907916, 0.4910101794362915, 0.49366726095080626, 0.4956378844765754, 0.4966343219091816, 0.4988706329969276, 0.5009963589965121]\n"
     ]
    }
   ],
   "source": [
    "# search for an optimal value of K for KNN\n",
    "k_range = list(range(1, 31, 2))\n",
    "k_scores = []\n",
    "for k in k_range:\n",
    "    knn = KNeighborsClassifier(n_neighbors=k)\n",
    "    scores = cross_val_score(knn, X_trans, y, cv=10, scoring='accuracy')\n",
    "    k_scores.append(scores.mean())\n",
    "print(k_scores)"
   ]
  },
  {
   "cell_type": "code",
   "execution_count": 187,
   "id": "8cf3c557",
   "metadata": {
    "scrolled": false
   },
   "outputs": [
    {
     "data": {
      "text/plain": [
       "Text(0, 0.5, 'Cross-Validated Accuracy')"
      ]
     },
     "execution_count": 187,
     "metadata": {},
     "output_type": "execute_result"
    },
    {
     "data": {
      "image/png": "[encoded data removed]",
      "text/plain": [
       "<Figure size 432x288 with 1 Axes>"
      ]
     },
     "metadata": {
      "needs_background": "light"
     },
     "output_type": "display_data"
    }
   ],
   "source": [
    "# plot the value of K for KNN (x-axis) versus the cross-validated accuracy (y-axis)\n",
    "plt.plot(k_range, k_scores)\n",
    "plt.xlabel('Value of K for KNN')\n",
    "plt.ylabel('Cross-Validated Accuracy')"
   ]
  },
  {
   "cell_type": "markdown",
   "id": "ef1157fc",
   "metadata": {},
   "source": [
    "## Feature engineering\n",
    "\n",
    "Let's replace several `object`-type features to numerical."
   ]
  },
  {
   "cell_type": "code",
   "execution_count": 188,
   "id": "7a29e79e",
   "metadata": {},
   "outputs": [
    {
     "data": {
      "text/plain": [
       "array(['C#', 'D#', 'C', 'D', 'G#', 'F#', 'B', 'A', 'G', 'E', 'A#', 'F'],\n",
       "      dtype=object)"
      ]
     },
     "execution_count": 188,
     "metadata": {},
     "output_type": "execute_result"
    }
   ],
   "source": [
    "# replace key using standard pitch notation (https://en.wikipedia.org/wiki/Pitch_class)\n",
    "df['key'].unique()"
   ]
  },
  {
   "cell_type": "code",
   "execution_count": 189,
   "id": "b1baa037",
   "metadata": {},
   "outputs": [],
   "source": [
    "df = df.replace({'key': {'C#':1, 'D#':3, 'C':0, 'D':2, 'G#':8, 'F#':6, 'B':11, 'A':9, 'G':7, 'E':4, 'A#':10, 'F':5}})"
   ]
  },
  {
   "cell_type": "code",
   "execution_count": 190,
   "id": "db0be0c0",
   "metadata": {},
   "outputs": [],
   "source": [
    "# replace mode with binary (as per Spotify Web API)\n",
    "# https://developer.spotify.com/documentation/web-api/reference/#/operations/get-several-audio-features\n",
    "df = df.replace({'mode': {'Major':1, 'Minor':0}})"
   ]
  },
  {
   "cell_type": "code",
   "execution_count": 191,
   "id": "a83c4a90",
   "metadata": {},
   "outputs": [
    {
     "data": {
      "text/html": [
       "<div>\n",
       "<style scoped>\n",
       "    .dataframe tbody tr th:only-of-type {\n",
       "        vertical-align: middle;\n",
       "    }\n",
       "\n",
       "    .dataframe tbody tr th {\n",
       "        vertical-align: top;\n",
       "    }\n",
       "\n",
       "    .dataframe thead th {\n",
       "        text-align: right;\n",
       "    }\n",
       "</style>\n",
       "<table border=\"1\" class=\"dataframe\">\n",
       "  <thead>\n",
       "    <tr style=\"text-align: right;\">\n",
       "      <th></th>\n",
       "      <th>genre</th>\n",
       "      <th>artist_name</th>\n",
       "      <th>track_name</th>\n",
       "      <th>track_id</th>\n",
       "      <th>popularity</th>\n",
       "      <th>acousticness</th>\n",
       "      <th>danceability</th>\n",
       "      <th>duration_ms</th>\n",
       "      <th>energy</th>\n",
       "      <th>instrumentalness</th>\n",
       "      <th>key</th>\n",
       "      <th>liveness</th>\n",
       "      <th>loudness</th>\n",
       "      <th>mode</th>\n",
       "      <th>speechiness</th>\n",
       "      <th>tempo</th>\n",
       "      <th>time_signature</th>\n",
       "      <th>valence</th>\n",
       "    </tr>\n",
       "  </thead>\n",
       "  <tbody>\n",
       "    <tr>\n",
       "      <th>0</th>\n",
       "      <td>Opera</td>\n",
       "      <td>Giuseppe Verdi</td>\n",
       "      <td>Stiffelio, Act III: Ei fugge! … Lina, pensai c...</td>\n",
       "      <td>7EsKYeHtTc4H4xWiTqSVZA</td>\n",
       "      <td>21</td>\n",
       "      <td>0.986</td>\n",
       "      <td>0.313</td>\n",
       "      <td>490867</td>\n",
       "      <td>0.23100</td>\n",
       "      <td>0.000431</td>\n",
       "      <td>1</td>\n",
       "      <td>0.0964</td>\n",
       "      <td>-14.287</td>\n",
       "      <td>1</td>\n",
       "      <td>0.0547</td>\n",
       "      <td>86.001</td>\n",
       "      <td>4/4</td>\n",
       "      <td>0.0886</td>\n",
       "    </tr>\n",
       "    <tr>\n",
       "      <th>1</th>\n",
       "      <td>Opera</td>\n",
       "      <td>Giacomo Puccini</td>\n",
       "      <td>Madama Butterfly / Act 1: ... E soffitto e pareti</td>\n",
       "      <td>7MfmRBvqaW0I6UTxXnad8p</td>\n",
       "      <td>18</td>\n",
       "      <td>0.972</td>\n",
       "      <td>0.360</td>\n",
       "      <td>176797</td>\n",
       "      <td>0.20100</td>\n",
       "      <td>0.028000</td>\n",
       "      <td>3</td>\n",
       "      <td>0.1330</td>\n",
       "      <td>-19.794</td>\n",
       "      <td>1</td>\n",
       "      <td>0.0581</td>\n",
       "      <td>131.798</td>\n",
       "      <td>4/4</td>\n",
       "      <td>0.3690</td>\n",
       "    </tr>\n",
       "    <tr>\n",
       "      <th>2</th>\n",
       "      <td>Opera</td>\n",
       "      <td>Giacomo Puccini</td>\n",
       "      <td>Turandot / Act 2: Gloria, gloria, o vincitore</td>\n",
       "      <td>7pBo1GDhIysyUMFXiDVoON</td>\n",
       "      <td>10</td>\n",
       "      <td>0.935</td>\n",
       "      <td>0.168</td>\n",
       "      <td>266184</td>\n",
       "      <td>0.47000</td>\n",
       "      <td>0.020400</td>\n",
       "      <td>0</td>\n",
       "      <td>0.3630</td>\n",
       "      <td>-8.415</td>\n",
       "      <td>1</td>\n",
       "      <td>0.0383</td>\n",
       "      <td>75.126</td>\n",
       "      <td>3/4</td>\n",
       "      <td>0.0696</td>\n",
       "    </tr>\n",
       "    <tr>\n",
       "      <th>3</th>\n",
       "      <td>Opera</td>\n",
       "      <td>Giuseppe Verdi</td>\n",
       "      <td>Rigoletto, Act IV: Venti scudi hai tu detto?</td>\n",
       "      <td>02mvYZX5aKNzdqEo6jF20m</td>\n",
       "      <td>17</td>\n",
       "      <td>0.961</td>\n",
       "      <td>0.250</td>\n",
       "      <td>288573</td>\n",
       "      <td>0.00605</td>\n",
       "      <td>0.000000</td>\n",
       "      <td>2</td>\n",
       "      <td>0.1200</td>\n",
       "      <td>-33.440</td>\n",
       "      <td>1</td>\n",
       "      <td>0.0480</td>\n",
       "      <td>76.493</td>\n",
       "      <td>4/4</td>\n",
       "      <td>0.0380</td>\n",
       "    </tr>\n",
       "    <tr>\n",
       "      <th>4</th>\n",
       "      <td>Opera</td>\n",
       "      <td>Giuseppe Verdi</td>\n",
       "      <td>Don Carlo / Act 4: \"Ella giammai m'amò!\"</td>\n",
       "      <td>03TW0jwGMGhUabAjOpB1T9</td>\n",
       "      <td>19</td>\n",
       "      <td>0.985</td>\n",
       "      <td>0.142</td>\n",
       "      <td>629760</td>\n",
       "      <td>0.05800</td>\n",
       "      <td>0.146000</td>\n",
       "      <td>2</td>\n",
       "      <td>0.0969</td>\n",
       "      <td>-23.625</td>\n",
       "      <td>1</td>\n",
       "      <td>0.0493</td>\n",
       "      <td>172.935</td>\n",
       "      <td>4/4</td>\n",
       "      <td>0.0382</td>\n",
       "    </tr>\n",
       "  </tbody>\n",
       "</table>\n",
       "</div>"
      ],
      "text/plain": [
       "   genre      artist_name                                         track_name  \\\n",
       "0  Opera   Giuseppe Verdi  Stiffelio, Act III: Ei fugge! … Lina, pensai c...   \n",
       "1  Opera  Giacomo Puccini  Madama Butterfly / Act 1: ... E soffitto e pareti   \n",
       "2  Opera  Giacomo Puccini      Turandot / Act 2: Gloria, gloria, o vincitore   \n",
       "3  Opera   Giuseppe Verdi       Rigoletto, Act IV: Venti scudi hai tu detto?   \n",
       "4  Opera   Giuseppe Verdi           Don Carlo / Act 4: \"Ella giammai m'amò!\"   \n",
       "\n",
       "                 track_id  popularity  acousticness  danceability  \\\n",
       "0  7EsKYeHtTc4H4xWiTqSVZA          21         0.986         0.313   \n",
       "1  7MfmRBvqaW0I6UTxXnad8p          18         0.972         0.360   \n",
       "2  7pBo1GDhIysyUMFXiDVoON          10         0.935         0.168   \n",
       "3  02mvYZX5aKNzdqEo6jF20m          17         0.961         0.250   \n",
       "4  03TW0jwGMGhUabAjOpB1T9          19         0.985         0.142   \n",
       "\n",
       "   duration_ms   energy  instrumentalness  key  liveness  loudness  mode  \\\n",
       "0       490867  0.23100          0.000431    1    0.0964   -14.287     1   \n",
       "1       176797  0.20100          0.028000    3    0.1330   -19.794     1   \n",
       "2       266184  0.47000          0.020400    0    0.3630    -8.415     1   \n",
       "3       288573  0.00605          0.000000    2    0.1200   -33.440     1   \n",
       "4       629760  0.05800          0.146000    2    0.0969   -23.625     1   \n",
       "\n",
       "   speechiness    tempo time_signature  valence  \n",
       "0       0.0547   86.001            4/4   0.0886  \n",
       "1       0.0581  131.798            4/4   0.3690  \n",
       "2       0.0383   75.126            3/4   0.0696  \n",
       "3       0.0480   76.493            4/4   0.0380  \n",
       "4       0.0493  172.935            4/4   0.0382  "
      ]
     },
     "execution_count": 191,
     "metadata": {},
     "output_type": "execute_result"
    }
   ],
   "source": [
    "df.head()"
   ]
  },
  {
   "cell_type": "code",
   "execution_count": 202,
   "id": "6addc2d9",
   "metadata": {},
   "outputs": [
    {
     "name": "stdout",
     "output_type": "stream",
     "text": [
      "<class 'pandas.core.frame.DataFrame'>\n",
      "RangeIndex: 228159 entries, 0 to 228158\n",
      "Data columns (total 18 columns):\n",
      " #   Column            Non-Null Count   Dtype  \n",
      "---  ------            --------------   -----  \n",
      " 0   genre             228159 non-null  object \n",
      " 1   artist_name       228159 non-null  object \n",
      " 2   track_name        228159 non-null  object \n",
      " 3   track_id          228159 non-null  object \n",
      " 4   popularity        228159 non-null  int64  \n",
      " 5   acousticness      228159 non-null  float64\n",
      " 6   danceability      228159 non-null  float64\n",
      " 7   duration_ms       228159 non-null  int64  \n",
      " 8   energy            228159 non-null  float64\n",
      " 9   instrumentalness  228159 non-null  float64\n",
      " 10  key               228159 non-null  int64  \n",
      " 11  liveness          228159 non-null  float64\n",
      " 12  loudness          228159 non-null  float64\n",
      " 13  mode              228159 non-null  int64  \n",
      " 14  speechiness       228159 non-null  float64\n",
      " 15  tempo             228159 non-null  float64\n",
      " 16  time_signature    228159 non-null  object \n",
      " 17  valence           228159 non-null  float64\n",
      "dtypes: float64(9), int64(4), object(5)\n",
      "memory usage: 31.3+ MB\n"
     ]
    }
   ],
   "source": [
    "df.info()"
   ]
  },
  {
   "cell_type": "code",
   "execution_count": 203,
   "id": "9747d77d",
   "metadata": {},
   "outputs": [],
   "source": [
    "X = df[mask].select_dtypes(exclude=['object']).copy().reset_index(drop=True)\n",
    "y = df[mask]['genre'].reset_index(drop=True)"
   ]
  },
  {
   "cell_type": "code",
   "execution_count": 216,
   "id": "8bb30fb5",
   "metadata": {},
   "outputs": [
    {
     "ename": "AttributeError",
     "evalue": "'numpy.ndarray' object has no attribute 'columns'",
     "output_type": "error",
     "traceback": [
      "\u001b[0;31m---------------------------------------------------------------------------\u001b[0m",
      "\u001b[0;31mAttributeError\u001b[0m                            Traceback (most recent call last)",
      "\u001b[0;32m/var/folders/fn/01g6402n52j2vlccb_xrqvgw0000gn/T/ipykernel_1291/460773467.py\u001b[0m in \u001b[0;36m<module>\u001b[0;34m\u001b[0m\n\u001b[0;32m----> 1\u001b[0;31m \u001b[0mX\u001b[0m\u001b[0;34m.\u001b[0m\u001b[0mcolumns\u001b[0m\u001b[0;34m\u001b[0m\u001b[0;34m\u001b[0m\u001b[0m\n\u001b[0m",
      "\u001b[0;31mAttributeError\u001b[0m: 'numpy.ndarray' object has no attribute 'columns'"
     ]
    }
   ],
   "source": [
    "X.columns"
   ]
  },
  {
   "cell_type": "code",
   "execution_count": 205,
   "id": "658f42e8",
   "metadata": {},
   "outputs": [],
   "source": [
    "std = StandardScaler()\n",
    "std.fit(X.values)\n",
    "X = std.transform(X.values)"
   ]
  },
  {
   "cell_type": "code",
   "execution_count": 206,
   "id": "6c0c8d83",
   "metadata": {},
   "outputs": [],
   "source": [
    "# Split data into train and hold out\n",
    "from sklearn.model_selection import train_test_split\n",
    "X, X_test, y, y_test = train_test_split(X, y, test_size=.2, random_state=11)"
   ]
  },
  {
   "cell_type": "code",
   "execution_count": 207,
   "id": "28962e26",
   "metadata": {},
   "outputs": [],
   "source": [
    "# Split data one more time into train and eval\n",
    "X_train, X_val, y_train, y_val = train_test_split(X, y, test_size=.25, random_state=3)"
   ]
  },
  {
   "cell_type": "code",
   "execution_count": 208,
   "id": "0a18e5ae",
   "metadata": {
    "scrolled": true
   },
   "outputs": [
    {
     "name": "stdout",
     "output_type": "stream",
     "text": [
      "(33871, 13)\n",
      "(11291, 13)\n"
     ]
    }
   ],
   "source": [
    "# print the shapes of the new X objects\n",
    "print(X_train.shape)\n",
    "print(X_test.shape)"
   ]
  },
  {
   "cell_type": "markdown",
   "id": "f7f44f1e",
   "metadata": {},
   "source": [
    "Note that we now have 13 features (including the key and mode), whereas previously we had only 11.\n",
    "\n",
    "Since the previous cross-validation showed that the higher the number of K neighbors, the more accurate the model, let's go ahead and choose 31 for our K."
   ]
  },
  {
   "cell_type": "code",
   "execution_count": 209,
   "id": "2067fa7f",
   "metadata": {},
   "outputs": [
    {
     "name": "stdout",
     "output_type": "stream",
     "text": [
      "The score for kNN is\n",
      "Training:  54.88%\n",
      "Test set:  49.26%\n"
     ]
    }
   ],
   "source": [
    "# Set up KNN model with 31 nearest neighbors\n",
    "knn = KNeighborsClassifier(n_neighbors=31)\n",
    "knn.fit(X_train, y_train)\n",
    "y_pred = knn.predict(X_test)\n",
    "\n",
    "print(\"The score for kNN is\")\n",
    "print(\"Training: {:6.2f}%\".format(100*knn.score(X_train, y_train)))\n",
    "print(\"Test set: {:6.2f}%\".format(100*knn.score(X_test, y_test)))"
   ]
  },
  {
   "cell_type": "markdown",
   "id": "bc574129",
   "metadata": {},
   "source": [
    "The accuracy score has increased to 0.49. Let's look at other metrics."
   ]
  },
  {
   "cell_type": "code",
   "execution_count": 210,
   "id": "f8ecad87",
   "metadata": {},
   "outputs": [],
   "source": [
    "from sklearn.metrics import confusion_matrix, precision_score, recall_score, precision_recall_curve, f1_score, fbeta_score"
   ]
  },
  {
   "cell_type": "code",
   "execution_count": 211,
   "id": "e38edb8b",
   "metadata": {},
   "outputs": [
    {
     "data": {
      "text/plain": [
       "array(['Pop', 'Jazz', 'Electronic', 'Blues', 'Indie', 'Alternative'],\n",
       "      dtype=object)"
      ]
     },
     "execution_count": 211,
     "metadata": {},
     "output_type": "execute_result"
    }
   ],
   "source": [
    "y_test.unique()"
   ]
  },
  {
   "cell_type": "code",
   "execution_count": 212,
   "id": "8d661777",
   "metadata": {},
   "outputs": [
    {
     "data": {
      "image/png": "[encoded data removed]",
      "text/plain": [
       "<Figure size 900x600 with 2 Axes>"
      ]
     },
     "metadata": {
      "needs_background": "light"
     },
     "output_type": "display_data"
    }
   ],
   "source": [
    "# Print confusion matrix for kNN\n",
    "knn_confusion = confusion_matrix(y_test, knn.predict(X_test))\n",
    "plt.figure(dpi=150)\n",
    "sns.heatmap(knn_confusion, \n",
    "            cmap=plt.cm.Blues, \n",
    "            annot=True, \n",
    "            square=True, \n",
    "            fmt='g', \n",
    "            xticklabels=y_test.unique(), \n",
    "            yticklabels=y_test.unique()\n",
    "           )\n",
    "plt.xlabel('Predicted genre')\n",
    "plt.ylabel('Actual genre')\n",
    "plt.title('kNN confusion matrix');"
   ]
  },
  {
   "cell_type": "code",
   "execution_count": 213,
   "id": "c6076d86",
   "metadata": {},
   "outputs": [
    {
     "name": "stdout",
     "output_type": "stream",
     "text": [
      "Default threshold:\n",
      "Precision: 0.4882,   Recall: 0.4920\n"
     ]
    }
   ],
   "source": [
    "print(\"Default threshold:\")\n",
    "print(\"Precision: {:6.4f},   Recall: {:6.4f}\".format(precision_score(y_test, knn.predict(X_test), average='macro'), \n",
    "                                                     recall_score(y_test, knn.predict(X_test), average='macro')))"
   ]
  },
  {
   "cell_type": "code",
   "execution_count": 214,
   "id": "7f8b79de",
   "metadata": {},
   "outputs": [],
   "source": [
    "# Take a closer look at wrong predictions\n",
    "y_pred = knn.predict(X_test)"
   ]
  },
  {
   "cell_type": "code",
   "execution_count": 217,
   "id": "647b0681",
   "metadata": {
    "scrolled": true
   },
   "outputs": [],
   "source": [
    "combined = pd.concat(\n",
    "    [pd.DataFrame(X_test).reset_index(drop=True), \n",
    "     pd.DataFrame(y_test).reset_index(drop=True), \n",
    "     pd.DataFrame(y_pred).reset_index(drop=True)], \n",
    "    axis=1, ignore_index=True)"
   ]
  },
  {
   "cell_type": "code",
   "execution_count": 218,
   "id": "f48b5831",
   "metadata": {},
   "outputs": [
    {
     "data": {
      "text/html": [
       "<div>\n",
       "<style scoped>\n",
       "    .dataframe tbody tr th:only-of-type {\n",
       "        vertical-align: middle;\n",
       "    }\n",
       "\n",
       "    .dataframe tbody tr th {\n",
       "        vertical-align: top;\n",
       "    }\n",
       "\n",
       "    .dataframe thead th {\n",
       "        text-align: right;\n",
       "    }\n",
       "</style>\n",
       "<table border=\"1\" class=\"dataframe\">\n",
       "  <thead>\n",
       "    <tr style=\"text-align: right;\">\n",
       "      <th></th>\n",
       "      <th>0</th>\n",
       "      <th>1</th>\n",
       "      <th>2</th>\n",
       "      <th>3</th>\n",
       "      <th>4</th>\n",
       "      <th>5</th>\n",
       "      <th>6</th>\n",
       "      <th>7</th>\n",
       "      <th>8</th>\n",
       "      <th>9</th>\n",
       "      <th>10</th>\n",
       "      <th>11</th>\n",
       "      <th>12</th>\n",
       "      <th>13</th>\n",
       "      <th>14</th>\n",
       "    </tr>\n",
       "  </thead>\n",
       "  <tbody>\n",
       "    <tr>\n",
       "      <th>0</th>\n",
       "      <td>0.741588</td>\n",
       "      <td>-0.812012</td>\n",
       "      <td>0.609277</td>\n",
       "      <td>-0.311400</td>\n",
       "      <td>1.452798</td>\n",
       "      <td>-0.526010</td>\n",
       "      <td>0.756124</td>\n",
       "      <td>0.953832</td>\n",
       "      <td>1.447104</td>\n",
       "      <td>0.801119</td>\n",
       "      <td>-0.277504</td>\n",
       "      <td>-0.456608</td>\n",
       "      <td>0.505037</td>\n",
       "      <td>Pop</td>\n",
       "      <td>Alternative</td>\n",
       "    </tr>\n",
       "    <tr>\n",
       "      <th>1</th>\n",
       "      <td>-1.619795</td>\n",
       "      <td>1.650256</td>\n",
       "      <td>-0.842239</td>\n",
       "      <td>1.803873</td>\n",
       "      <td>-0.834554</td>\n",
       "      <td>-0.524055</td>\n",
       "      <td>1.591139</td>\n",
       "      <td>-0.785216</td>\n",
       "      <td>-0.068627</td>\n",
       "      <td>0.801119</td>\n",
       "      <td>-0.619939</td>\n",
       "      <td>0.733805</td>\n",
       "      <td>-0.668463</td>\n",
       "      <td>Jazz</td>\n",
       "      <td>Jazz</td>\n",
       "    </tr>\n",
       "    <tr>\n",
       "      <th>2</th>\n",
       "      <td>-2.406922</td>\n",
       "      <td>-0.722403</td>\n",
       "      <td>0.813808</td>\n",
       "      <td>0.209508</td>\n",
       "      <td>1.068629</td>\n",
       "      <td>-0.525929</td>\n",
       "      <td>-0.913908</td>\n",
       "      <td>2.053154</td>\n",
       "      <td>0.871450</td>\n",
       "      <td>-1.248254</td>\n",
       "      <td>-0.575754</td>\n",
       "      <td>0.569912</td>\n",
       "      <td>2.105657</td>\n",
       "      <td>Electronic</td>\n",
       "      <td>Electronic</td>\n",
       "    </tr>\n",
       "    <tr>\n",
       "      <th>3</th>\n",
       "      <td>0.111886</td>\n",
       "      <td>0.177364</td>\n",
       "      <td>0.391549</td>\n",
       "      <td>0.257139</td>\n",
       "      <td>-1.271712</td>\n",
       "      <td>-0.526010</td>\n",
       "      <td>1.312801</td>\n",
       "      <td>-0.624291</td>\n",
       "      <td>-1.261545</td>\n",
       "      <td>-1.248254</td>\n",
       "      <td>1.420310</td>\n",
       "      <td>-1.051422</td>\n",
       "      <td>-0.754750</td>\n",
       "      <td>Blues</td>\n",
       "      <td>Alternative</td>\n",
       "    </tr>\n",
       "    <tr>\n",
       "      <th>4</th>\n",
       "      <td>-1.383656</td>\n",
       "      <td>-0.570772</td>\n",
       "      <td>-1.211716</td>\n",
       "      <td>-0.553940</td>\n",
       "      <td>1.240843</td>\n",
       "      <td>-0.520350</td>\n",
       "      <td>0.477785</td>\n",
       "      <td>4.761724</td>\n",
       "      <td>2.214643</td>\n",
       "      <td>0.801119</td>\n",
       "      <td>-0.417792</td>\n",
       "      <td>-0.348305</td>\n",
       "      <td>-0.526090</td>\n",
       "      <td>Electronic</td>\n",
       "      <td>Alternative</td>\n",
       "    </tr>\n",
       "  </tbody>\n",
       "</table>\n",
       "</div>"
      ],
      "text/plain": [
       "         0         1         2         3         4         5         6   \\\n",
       "0  0.741588 -0.812012  0.609277 -0.311400  1.452798 -0.526010  0.756124   \n",
       "1 -1.619795  1.650256 -0.842239  1.803873 -0.834554 -0.524055  1.591139   \n",
       "2 -2.406922 -0.722403  0.813808  0.209508  1.068629 -0.525929 -0.913908   \n",
       "3  0.111886  0.177364  0.391549  0.257139 -1.271712 -0.526010  1.312801   \n",
       "4 -1.383656 -0.570772 -1.211716 -0.553940  1.240843 -0.520350  0.477785   \n",
       "\n",
       "         7         8         9         10        11        12          13  \\\n",
       "0  0.953832  1.447104  0.801119 -0.277504 -0.456608  0.505037         Pop   \n",
       "1 -0.785216 -0.068627  0.801119 -0.619939  0.733805 -0.668463        Jazz   \n",
       "2  2.053154  0.871450 -1.248254 -0.575754  0.569912  2.105657  Electronic   \n",
       "3 -0.624291 -1.261545 -1.248254  1.420310 -1.051422 -0.754750       Blues   \n",
       "4  4.761724  2.214643  0.801119 -0.417792 -0.348305 -0.526090  Electronic   \n",
       "\n",
       "            14  \n",
       "0  Alternative  \n",
       "1         Jazz  \n",
       "2   Electronic  \n",
       "3  Alternative  \n",
       "4  Alternative  "
      ]
     },
     "execution_count": 218,
     "metadata": {},
     "output_type": "execute_result"
    }
   ],
   "source": [
    "combined.head()"
   ]
  },
  {
   "cell_type": "code",
   "execution_count": 221,
   "id": "06aae4f1",
   "metadata": {},
   "outputs": [],
   "source": [
    "combined = combined.rename(columns = {0:\"popularity\", 1: \"acousticness\", 2: \"danceability\", \n",
    "                           3:\"duration_ms\", 4: \"energy\", 5: \"instrumentalness\", 6: \"key\",\n",
    "                           7: \"liveness\", 8: \"loudness\", 9: \"mode\", 10:\"speechiness\", \n",
    "                           11: \"tempo\", 12: \"valence\", 13:'y_test', 14:'y_pred'})"
   ]
  },
  {
   "cell_type": "code",
   "execution_count": 222,
   "id": "d5cd7905",
   "metadata": {},
   "outputs": [
    {
     "data": {
      "text/html": [
       "<div>\n",
       "<style scoped>\n",
       "    .dataframe tbody tr th:only-of-type {\n",
       "        vertical-align: middle;\n",
       "    }\n",
       "\n",
       "    .dataframe tbody tr th {\n",
       "        vertical-align: top;\n",
       "    }\n",
       "\n",
       "    .dataframe thead th {\n",
       "        text-align: right;\n",
       "    }\n",
       "</style>\n",
       "<table border=\"1\" class=\"dataframe\">\n",
       "  <thead>\n",
       "    <tr style=\"text-align: right;\">\n",
       "      <th></th>\n",
       "      <th>popularity</th>\n",
       "      <th>acousticness</th>\n",
       "      <th>danceability</th>\n",
       "      <th>duration_ms</th>\n",
       "      <th>energy</th>\n",
       "      <th>instrumentalness</th>\n",
       "      <th>key</th>\n",
       "      <th>liveness</th>\n",
       "      <th>loudness</th>\n",
       "      <th>mode</th>\n",
       "      <th>speechiness</th>\n",
       "      <th>tempo</th>\n",
       "      <th>valence</th>\n",
       "      <th>y_test</th>\n",
       "      <th>y_pred</th>\n",
       "    </tr>\n",
       "  </thead>\n",
       "  <tbody>\n",
       "    <tr>\n",
       "      <th>0</th>\n",
       "      <td>0.741588</td>\n",
       "      <td>-0.812012</td>\n",
       "      <td>0.609277</td>\n",
       "      <td>-0.311400</td>\n",
       "      <td>1.452798</td>\n",
       "      <td>-0.526010</td>\n",
       "      <td>0.756124</td>\n",
       "      <td>0.953832</td>\n",
       "      <td>1.447104</td>\n",
       "      <td>0.801119</td>\n",
       "      <td>-0.277504</td>\n",
       "      <td>-0.456608</td>\n",
       "      <td>0.505037</td>\n",
       "      <td>Pop</td>\n",
       "      <td>Alternative</td>\n",
       "    </tr>\n",
       "    <tr>\n",
       "      <th>1</th>\n",
       "      <td>-1.619795</td>\n",
       "      <td>1.650256</td>\n",
       "      <td>-0.842239</td>\n",
       "      <td>1.803873</td>\n",
       "      <td>-0.834554</td>\n",
       "      <td>-0.524055</td>\n",
       "      <td>1.591139</td>\n",
       "      <td>-0.785216</td>\n",
       "      <td>-0.068627</td>\n",
       "      <td>0.801119</td>\n",
       "      <td>-0.619939</td>\n",
       "      <td>0.733805</td>\n",
       "      <td>-0.668463</td>\n",
       "      <td>Jazz</td>\n",
       "      <td>Jazz</td>\n",
       "    </tr>\n",
       "    <tr>\n",
       "      <th>2</th>\n",
       "      <td>-2.406922</td>\n",
       "      <td>-0.722403</td>\n",
       "      <td>0.813808</td>\n",
       "      <td>0.209508</td>\n",
       "      <td>1.068629</td>\n",
       "      <td>-0.525929</td>\n",
       "      <td>-0.913908</td>\n",
       "      <td>2.053154</td>\n",
       "      <td>0.871450</td>\n",
       "      <td>-1.248254</td>\n",
       "      <td>-0.575754</td>\n",
       "      <td>0.569912</td>\n",
       "      <td>2.105657</td>\n",
       "      <td>Electronic</td>\n",
       "      <td>Electronic</td>\n",
       "    </tr>\n",
       "    <tr>\n",
       "      <th>3</th>\n",
       "      <td>0.111886</td>\n",
       "      <td>0.177364</td>\n",
       "      <td>0.391549</td>\n",
       "      <td>0.257139</td>\n",
       "      <td>-1.271712</td>\n",
       "      <td>-0.526010</td>\n",
       "      <td>1.312801</td>\n",
       "      <td>-0.624291</td>\n",
       "      <td>-1.261545</td>\n",
       "      <td>-1.248254</td>\n",
       "      <td>1.420310</td>\n",
       "      <td>-1.051422</td>\n",
       "      <td>-0.754750</td>\n",
       "      <td>Blues</td>\n",
       "      <td>Alternative</td>\n",
       "    </tr>\n",
       "    <tr>\n",
       "      <th>4</th>\n",
       "      <td>-1.383656</td>\n",
       "      <td>-0.570772</td>\n",
       "      <td>-1.211716</td>\n",
       "      <td>-0.553940</td>\n",
       "      <td>1.240843</td>\n",
       "      <td>-0.520350</td>\n",
       "      <td>0.477785</td>\n",
       "      <td>4.761724</td>\n",
       "      <td>2.214643</td>\n",
       "      <td>0.801119</td>\n",
       "      <td>-0.417792</td>\n",
       "      <td>-0.348305</td>\n",
       "      <td>-0.526090</td>\n",
       "      <td>Electronic</td>\n",
       "      <td>Alternative</td>\n",
       "    </tr>\n",
       "  </tbody>\n",
       "</table>\n",
       "</div>"
      ],
      "text/plain": [
       "   popularity  acousticness  danceability  duration_ms    energy  \\\n",
       "0    0.741588     -0.812012      0.609277    -0.311400  1.452798   \n",
       "1   -1.619795      1.650256     -0.842239     1.803873 -0.834554   \n",
       "2   -2.406922     -0.722403      0.813808     0.209508  1.068629   \n",
       "3    0.111886      0.177364      0.391549     0.257139 -1.271712   \n",
       "4   -1.383656     -0.570772     -1.211716    -0.553940  1.240843   \n",
       "\n",
       "   instrumentalness       key  liveness  loudness      mode  speechiness  \\\n",
       "0         -0.526010  0.756124  0.953832  1.447104  0.801119    -0.277504   \n",
       "1         -0.524055  1.591139 -0.785216 -0.068627  0.801119    -0.619939   \n",
       "2         -0.525929 -0.913908  2.053154  0.871450 -1.248254    -0.575754   \n",
       "3         -0.526010  1.312801 -0.624291 -1.261545 -1.248254     1.420310   \n",
       "4         -0.520350  0.477785  4.761724  2.214643  0.801119    -0.417792   \n",
       "\n",
       "      tempo   valence      y_test       y_pred  \n",
       "0 -0.456608  0.505037         Pop  Alternative  \n",
       "1  0.733805 -0.668463        Jazz         Jazz  \n",
       "2  0.569912  2.105657  Electronic   Electronic  \n",
       "3 -1.051422 -0.754750       Blues  Alternative  \n",
       "4 -0.348305 -0.526090  Electronic  Alternative  "
      ]
     },
     "execution_count": 222,
     "metadata": {},
     "output_type": "execute_result"
    }
   ],
   "source": [
    "combined.head()"
   ]
  },
  {
   "cell_type": "code",
   "execution_count": 223,
   "id": "90ea8394",
   "metadata": {},
   "outputs": [
    {
     "data": {
      "text/plain": [
       "(11291, 15)"
      ]
     },
     "execution_count": 223,
     "metadata": {},
     "output_type": "execute_result"
    }
   ],
   "source": [
    "combined['diff'] = np.where(df['y_test'] != df['y_pred'], 'Positive', 'Negative')"
   ]
  }
 ],
 "metadata": {
  "kernelspec": {
   "display_name": "Python [conda env:metis] *",
   "language": "python",
   "name": "conda-env-metis-py"
  },
  "language_info": {
   "codemirror_mode": {
    "name": "ipython",
    "version": 3
   },
   "file_extension": ".py",
   "mimetype": "text/x-python",
   "name": "python",
   "nbconvert_exporter": "python",
   "pygments_lexer": "ipython3",
   "version": "3.8.10"
  }
 },
 "nbformat": 4,
 "nbformat_minor": 5
}
