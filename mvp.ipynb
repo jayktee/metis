{
 "cells": [
  {
   "cell_type": "markdown",
   "id": "04f80daf",
   "metadata": {},
   "source": [
    "## MVP submission\n",
    "Identifying foot traffic for a single Duane Reade store using MTA station entry data."
   ]
  },
  {
   "cell_type": "markdown",
   "id": "01e9f8bf",
   "metadata": {},
   "source": [
    "### Importing and selecting a Duane Reade store"
   ]
  },
  {
   "cell_type": "code",
   "execution_count": 1,
   "id": "0f1f7f49",
   "metadata": {},
   "outputs": [],
   "source": [
    "# Import env variable API key\n",
    "from dotenv import dotenv_values\n",
    "config = dotenv_values(\".env\")\n",
    "API_KEY = config[\"API_KEY\"]\n",
    "OSR_TOKEN = config[\"OSR_TOKEN\"]"
   ]
  },
  {
   "cell_type": "code",
   "execution_count": 2,
   "id": "ecc704be",
   "metadata": {},
   "outputs": [],
   "source": [
    "# Import libraries\n",
    "import pandas as pd\n",
    "import numpy as np\n",
    "import geopandas\n",
    "import matplotlib.pyplot as plt\n",
    "\n",
    "import glob\n",
    "import json\n",
    "import requests\n",
    "from geojson import Feature, Point, FeatureCollection\n",
    "\n",
    "import folium\n",
    "from openrouteservice import client\n",
    "from datetime import datetime\n",
    "\n",
    "drlocations = pd.read_csv('/Users/joycetagal/GitHub/metis-eda/drlocations_new.csv')"
   ]
  },
  {
   "cell_type": "code",
   "execution_count": 3,
   "id": "6991da2b",
   "metadata": {},
   "outputs": [],
   "source": [
    "# Code for geocoding latlongs from address. Commented out to ensure API isn't pinged unnecessarily\n",
    "# import googlemaps\n",
    "# gmaps = googlemaps.Client(key=API_KEY)\n",
    "# drlocations[\"latlon\"] = drlocations.address.apply(lambda address : gmaps.geocode(address)[0]['geometry']['location'])\n",
    "# drlocations = pd.concat([drlocations, drlocations['latlon']\n",
    "#                         .apply(pd.Series)], axis=1\n",
    "#                       ).drop(\"latlon\", axis=1)\n",
    "# drlocations.to_csv(\"drlocations_new.csv\", index=False)"
   ]
  },
  {
   "cell_type": "code",
   "execution_count": 4,
   "id": "1418bdba",
   "metadata": {},
   "outputs": [
    {
     "data": {
      "text/html": [
       "<div>\n",
       "<style scoped>\n",
       "    .dataframe tbody tr th:only-of-type {\n",
       "        vertical-align: middle;\n",
       "    }\n",
       "\n",
       "    .dataframe tbody tr th {\n",
       "        vertical-align: top;\n",
       "    }\n",
       "\n",
       "    .dataframe thead th {\n",
       "        text-align: right;\n",
       "    }\n",
       "</style>\n",
       "<table border=\"1\" class=\"dataframe\">\n",
       "  <thead>\n",
       "    <tr style=\"text-align: right;\">\n",
       "      <th></th>\n",
       "      <th>store_name</th>\n",
       "      <th>address</th>\n",
       "      <th>lat</th>\n",
       "      <th>lng</th>\n",
       "    </tr>\n",
       "  </thead>\n",
       "  <tbody>\n",
       "    <tr>\n",
       "      <th>0</th>\n",
       "      <td>Duane Reade</td>\n",
       "      <td>250 BROADWAY, NEW YORK, NY 10007</td>\n",
       "      <td>40.713008</td>\n",
       "      <td>-74.007821</td>\n",
       "    </tr>\n",
       "    <tr>\n",
       "      <th>1</th>\n",
       "      <td>Duane Reade</td>\n",
       "      <td>305 BROADWAY, NEW YORK, NY 10007</td>\n",
       "      <td>40.715479</td>\n",
       "      <td>-74.005545</td>\n",
       "    </tr>\n",
       "    <tr>\n",
       "      <th>2</th>\n",
       "      <td>Duane Reade</td>\n",
       "      <td>17 JOHN ST NEW YORK, NY 10038</td>\n",
       "      <td>40.709970</td>\n",
       "      <td>-74.008741</td>\n",
       "    </tr>\n",
       "    <tr>\n",
       "      <th>3</th>\n",
       "      <td>Duane Reade</td>\n",
       "      <td>185 GREENWICH ST, NEW YORK, NY 10007</td>\n",
       "      <td>40.711566</td>\n",
       "      <td>-74.011426</td>\n",
       "    </tr>\n",
       "    <tr>\n",
       "      <th>4</th>\n",
       "      <td>Duane Reade</td>\n",
       "      <td>200 WATER ST, NEW YORK, NY 10038</td>\n",
       "      <td>40.707256</td>\n",
       "      <td>-74.004805</td>\n",
       "    </tr>\n",
       "  </tbody>\n",
       "</table>\n",
       "</div>"
      ],
      "text/plain": [
       "    store_name                               address        lat        lng\n",
       "0  Duane Reade      250 BROADWAY, NEW YORK, NY 10007  40.713008 -74.007821\n",
       "1  Duane Reade      305 BROADWAY, NEW YORK, NY 10007  40.715479 -74.005545\n",
       "2  Duane Reade         17 JOHN ST NEW YORK, NY 10038  40.709970 -74.008741\n",
       "3  Duane Reade  185 GREENWICH ST, NEW YORK, NY 10007  40.711566 -74.011426\n",
       "4  Duane Reade      200 WATER ST, NEW YORK, NY 10038  40.707256 -74.004805"
      ]
     },
     "execution_count": 4,
     "metadata": {},
     "output_type": "execute_result"
    }
   ],
   "source": [
    "drlocations.head()"
   ]
  },
  {
   "cell_type": "markdown",
   "id": "804ad2aa",
   "metadata": {},
   "source": [
    "For the purposes of this notebook, I will just use the first Duane Reade store in this dataset, i.e. the one at 250 Broadway."
   ]
  },
  {
   "cell_type": "code",
   "execution_count": 5,
   "id": "798a8334",
   "metadata": {},
   "outputs": [
    {
     "data": {
      "text/html": [
       "<div>\n",
       "<style scoped>\n",
       "    .dataframe tbody tr th:only-of-type {\n",
       "        vertical-align: middle;\n",
       "    }\n",
       "\n",
       "    .dataframe tbody tr th {\n",
       "        vertical-align: top;\n",
       "    }\n",
       "\n",
       "    .dataframe thead th {\n",
       "        text-align: right;\n",
       "    }\n",
       "</style>\n",
       "<table border=\"1\" class=\"dataframe\">\n",
       "  <thead>\n",
       "    <tr style=\"text-align: right;\">\n",
       "      <th></th>\n",
       "      <th>store_name</th>\n",
       "      <th>address</th>\n",
       "      <th>lat</th>\n",
       "      <th>lng</th>\n",
       "    </tr>\n",
       "  </thead>\n",
       "  <tbody>\n",
       "    <tr>\n",
       "      <th>1</th>\n",
       "      <td>Duane Reade</td>\n",
       "      <td>305 BROADWAY, NEW YORK, NY 10007</td>\n",
       "      <td>40.715479</td>\n",
       "      <td>-74.005545</td>\n",
       "    </tr>\n",
       "  </tbody>\n",
       "</table>\n",
       "</div>"
      ],
      "text/plain": [
       "    store_name                           address        lat        lng\n",
       "1  Duane Reade  305 BROADWAY, NEW YORK, NY 10007  40.715479 -74.005545"
      ]
     },
     "execution_count": 5,
     "metadata": {},
     "output_type": "execute_result"
    }
   ],
   "source": [
    "drlocation = drlocations.iloc[[1,]]\n",
    "drlocation"
   ]
  },
  {
   "cell_type": "markdown",
   "id": "39011633",
   "metadata": {},
   "source": [
    "## Identifying isochrones for the DR location"
   ]
  },
  {
   "cell_type": "code",
   "execution_count": 6,
   "id": "9f1e1cc7",
   "metadata": {},
   "outputs": [],
   "source": [
    "# First we import our MTA stations dataset. For the MVP I'm just using 3 stations.\n",
    "\n",
    "d = [['City Hall', '40.7131583', '-74.00773'], \n",
    "     ['Park Place', '40.7131736', '-74.0092965'], \n",
    "     ['Fulton Street', '40.7115643' , '-74.009928']\n",
    "    ]"
   ]
  },
  {
   "cell_type": "code",
   "execution_count": 68,
   "id": "b6503dbb",
   "metadata": {},
   "outputs": [],
   "source": [
    "stations = pd.DataFrame(d, columns = ['station_name', 'lat', 'lng'])"
   ]
  },
  {
   "cell_type": "code",
   "execution_count": 69,
   "id": "263117d3",
   "metadata": {},
   "outputs": [
    {
     "data": {
      "text/plain": [
       "array([['City Hall', '40.7131583', '-74.00773'],\n",
       "       ['Park Place', '40.7131736', '-74.0092965'],\n",
       "       ['Fulton Street', '40.7115643', '-74.009928']], dtype=object)"
      ]
     },
     "execution_count": 69,
     "metadata": {},
     "output_type": "execute_result"
    }
   ],
   "source": [
    "stations.values"
   ]
  },
  {
   "cell_type": "code",
   "execution_count": 70,
   "id": "8a6cec47",
   "metadata": {},
   "outputs": [
    {
     "data": {
      "text/html": [
       "<div style=\"width:100%;\"><div style=\"position:relative;width:100%;height:0;padding-bottom:60%;\"><span style=\"color:#565656\">Make this Notebook Trusted to load map: File -> Trust Notebook</span><iframe src=\"about:blank\" style=\"position:absolute;width:100%;height:100%;left:0;top:0;border:none !important;\" data-html=%3C%21DOCTYPE%20html%3E%0A%3Chead%3E%20%20%20%20%0A%20%20%20%20%3Cmeta%20http-equiv%3D%22content-type%22%20content%3D%22text/html%3B%20charset%3DUTF-8%22%20/%3E%0A%20%20%20%20%0A%20%20%20%20%20%20%20%20%3Cscript%3E%0A%20%20%20%20%20%20%20%20%20%20%20%20L_NO_TOUCH%20%3D%20false%3B%0A%20%20%20%20%20%20%20%20%20%20%20%20L_DISABLE_3D%20%3D%20false%3B%0A%20%20%20%20%20%20%20%20%3C/script%3E%0A%20%20%20%20%0A%20%20%20%20%3Cstyle%3Ehtml%2C%20body%20%7Bwidth%3A%20100%25%3Bheight%3A%20100%25%3Bmargin%3A%200%3Bpadding%3A%200%3B%7D%3C/style%3E%0A%20%20%20%20%3Cstyle%3E%23map%20%7Bposition%3Aabsolute%3Btop%3A0%3Bbottom%3A0%3Bright%3A0%3Bleft%3A0%3B%7D%3C/style%3E%0A%20%20%20%20%3Cscript%20src%3D%22https%3A//cdn.jsdelivr.net/npm/leaflet%401.6.0/dist/leaflet.js%22%3E%3C/script%3E%0A%20%20%20%20%3Cscript%20src%3D%22https%3A//code.jquery.com/jquery-1.12.4.min.js%22%3E%3C/script%3E%0A%20%20%20%20%3Cscript%20src%3D%22https%3A//maxcdn.bootstrapcdn.com/bootstrap/3.2.0/js/bootstrap.min.js%22%3E%3C/script%3E%0A%20%20%20%20%3Cscript%20src%3D%22https%3A//cdnjs.cloudflare.com/ajax/libs/Leaflet.awesome-markers/2.0.2/leaflet.awesome-markers.js%22%3E%3C/script%3E%0A%20%20%20%20%3Clink%20rel%3D%22stylesheet%22%20href%3D%22https%3A//cdn.jsdelivr.net/npm/leaflet%401.6.0/dist/leaflet.css%22/%3E%0A%20%20%20%20%3Clink%20rel%3D%22stylesheet%22%20href%3D%22https%3A//maxcdn.bootstrapcdn.com/bootstrap/3.2.0/css/bootstrap.min.css%22/%3E%0A%20%20%20%20%3Clink%20rel%3D%22stylesheet%22%20href%3D%22https%3A//maxcdn.bootstrapcdn.com/bootstrap/3.2.0/css/bootstrap-theme.min.css%22/%3E%0A%20%20%20%20%3Clink%20rel%3D%22stylesheet%22%20href%3D%22https%3A//maxcdn.bootstrapcdn.com/font-awesome/4.6.3/css/font-awesome.min.css%22/%3E%0A%20%20%20%20%3Clink%20rel%3D%22stylesheet%22%20href%3D%22https%3A//cdnjs.cloudflare.com/ajax/libs/Leaflet.awesome-markers/2.0.2/leaflet.awesome-markers.css%22/%3E%0A%20%20%20%20%3Clink%20rel%3D%22stylesheet%22%20href%3D%22https%3A//cdn.jsdelivr.net/gh/python-visualization/folium/folium/templates/leaflet.awesome.rotate.min.css%22/%3E%0A%20%20%20%20%0A%20%20%20%20%20%20%20%20%20%20%20%20%3Cmeta%20name%3D%22viewport%22%20content%3D%22width%3Ddevice-width%2C%0A%20%20%20%20%20%20%20%20%20%20%20%20%20%20%20%20initial-scale%3D1.0%2C%20maximum-scale%3D1.0%2C%20user-scalable%3Dno%22%20/%3E%0A%20%20%20%20%20%20%20%20%20%20%20%20%3Cstyle%3E%0A%20%20%20%20%20%20%20%20%20%20%20%20%20%20%20%20%23map_8201657e756d42e6af37a304e64fdd7a%20%7B%0A%20%20%20%20%20%20%20%20%20%20%20%20%20%20%20%20%20%20%20%20position%3A%20relative%3B%0A%20%20%20%20%20%20%20%20%20%20%20%20%20%20%20%20%20%20%20%20width%3A%20100.0%25%3B%0A%20%20%20%20%20%20%20%20%20%20%20%20%20%20%20%20%20%20%20%20height%3A%20100.0%25%3B%0A%20%20%20%20%20%20%20%20%20%20%20%20%20%20%20%20%20%20%20%20left%3A%200.0%25%3B%0A%20%20%20%20%20%20%20%20%20%20%20%20%20%20%20%20%20%20%20%20top%3A%200.0%25%3B%0A%20%20%20%20%20%20%20%20%20%20%20%20%20%20%20%20%7D%0A%20%20%20%20%20%20%20%20%20%20%20%20%3C/style%3E%0A%20%20%20%20%20%20%20%20%0A%3C/head%3E%0A%3Cbody%3E%20%20%20%20%0A%20%20%20%20%0A%20%20%20%20%20%20%20%20%20%20%20%20%3Cdiv%20class%3D%22folium-map%22%20id%3D%22map_8201657e756d42e6af37a304e64fdd7a%22%20%3E%3C/div%3E%0A%20%20%20%20%20%20%20%20%0A%3C/body%3E%0A%3Cscript%3E%20%20%20%20%0A%20%20%20%20%0A%20%20%20%20%20%20%20%20%20%20%20%20var%20map_8201657e756d42e6af37a304e64fdd7a%20%3D%20L.map%28%0A%20%20%20%20%20%20%20%20%20%20%20%20%20%20%20%20%22map_8201657e756d42e6af37a304e64fdd7a%22%2C%0A%20%20%20%20%20%20%20%20%20%20%20%20%20%20%20%20%7B%0A%20%20%20%20%20%20%20%20%20%20%20%20%20%20%20%20%20%20%20%20center%3A%20%5B40.715479%2C%20-74.005545%5D%2C%0A%20%20%20%20%20%20%20%20%20%20%20%20%20%20%20%20%20%20%20%20crs%3A%20L.CRS.EPSG3857%2C%0A%20%20%20%20%20%20%20%20%20%20%20%20%20%20%20%20%20%20%20%20zoom%3A%2015%2C%0A%20%20%20%20%20%20%20%20%20%20%20%20%20%20%20%20%20%20%20%20zoomControl%3A%20true%2C%0A%20%20%20%20%20%20%20%20%20%20%20%20%20%20%20%20%20%20%20%20preferCanvas%3A%20false%2C%0A%20%20%20%20%20%20%20%20%20%20%20%20%20%20%20%20%7D%0A%20%20%20%20%20%20%20%20%20%20%20%20%29%3B%0A%0A%20%20%20%20%20%20%20%20%20%20%20%20%0A%0A%20%20%20%20%20%20%20%20%0A%20%20%20%20%0A%20%20%20%20%20%20%20%20%20%20%20%20var%20tile_layer_ee0f51405ebf487299fa6cdf8d8dd2fb%20%3D%20L.tileLayer%28%0A%20%20%20%20%20%20%20%20%20%20%20%20%20%20%20%20%22https%3A//stamen-tiles-%7Bs%7D.a.ssl.fastly.net/toner/%7Bz%7D/%7Bx%7D/%7By%7D.png%22%2C%0A%20%20%20%20%20%20%20%20%20%20%20%20%20%20%20%20%7B%22attribution%22%3A%20%22Map%20tiles%20by%20%5Cu003ca%20href%3D%5C%22http%3A//stamen.com%5C%22%5Cu003eStamen%20Design%5Cu003c/a%5Cu003e%2C%20under%20%5Cu003ca%20href%3D%5C%22http%3A//creativecommons.org/licenses/by/3.0%5C%22%5Cu003eCC%20BY%203.0%5Cu003c/a%5Cu003e.%20Data%20by%20%5Cu0026copy%3B%20%5Cu003ca%20href%3D%5C%22http%3A//openstreetmap.org%5C%22%5Cu003eOpenStreetMap%5Cu003c/a%5Cu003e%2C%20under%20%5Cu003ca%20href%3D%5C%22http%3A//www.openstreetmap.org/copyright%5C%22%5Cu003eODbL%5Cu003c/a%5Cu003e.%22%2C%20%22detectRetina%22%3A%20false%2C%20%22maxNativeZoom%22%3A%2018%2C%20%22maxZoom%22%3A%2018%2C%20%22minZoom%22%3A%200%2C%20%22noWrap%22%3A%20false%2C%20%22opacity%22%3A%201%2C%20%22subdomains%22%3A%20%22abc%22%2C%20%22tms%22%3A%20false%7D%0A%20%20%20%20%20%20%20%20%20%20%20%20%29.addTo%28map_8201657e756d42e6af37a304e64fdd7a%29%3B%0A%20%20%20%20%20%20%20%20%0A%20%20%20%20%0A%0A%20%20%20%20%20%20%20%20function%20geo_json_cab3a5eb976c457d95c523f3959ffd67_onEachFeature%28feature%2C%20layer%29%20%7B%0A%20%20%20%20%20%20%20%20%20%20%20%20layer.on%28%7B%0A%20%20%20%20%20%20%20%20%20%20%20%20%7D%29%3B%0A%20%20%20%20%20%20%20%20%7D%3B%0A%20%20%20%20%20%20%20%20var%20geo_json_cab3a5eb976c457d95c523f3959ffd67%20%3D%20L.geoJson%28null%2C%20%7B%0A%20%20%20%20%20%20%20%20%20%20%20%20%20%20%20%20onEachFeature%3A%20geo_json_cab3a5eb976c457d95c523f3959ffd67_onEachFeature%2C%0A%20%20%20%20%20%20%20%20%20%20%20%20%0A%20%20%20%20%20%20%20%20%7D%29%3B%0A%0A%20%20%20%20%20%20%20%20function%20geo_json_cab3a5eb976c457d95c523f3959ffd67_add%20%28data%29%20%7B%0A%20%20%20%20%20%20%20%20%20%20%20%20geo_json_cab3a5eb976c457d95c523f3959ffd67%0A%20%20%20%20%20%20%20%20%20%20%20%20%20%20%20%20.addData%28data%29%0A%20%20%20%20%20%20%20%20%20%20%20%20%20%20%20%20.addTo%28map_8201657e756d42e6af37a304e64fdd7a%29%3B%0A%20%20%20%20%20%20%20%20%7D%0A%20%20%20%20%20%20%20%20%20%20%20%20geo_json_cab3a5eb976c457d95c523f3959ffd67_add%28%7B%22bbox%22%3A%20%5B-74.012068%2C%2040.709946%2C%20-74.00373%2C%2040.716204%5D%2C%20%22features%22%3A%20%5B%7B%22geometry%22%3A%20%7B%22coordinates%22%3A%20%5B%5B%5B-74.012068%2C%2040.714752%5D%2C%20%5B-74.011198%2C%2040.711755%5D%2C%20%5B-74.009972%2C%2040.710254%5D%2C%20%5B-74.009696%2C%2040.710023%5D%2C%20%5B-74.009398%2C%2040.709946%5D%2C%20%5B-74.00554%2C%2040.710201%5D%2C%20%5B-74.00551%2C%2040.710231%5D%2C%20%5B-74.005329%2C%2040.710479%5D%2C%20%5B-74.004175%2C%2040.712137%5D%2C%20%5B-74.00373%2C%2040.713045%5D%2C%20%5B-74.003752%2C%2040.71322%5D%2C%20%5B-74.004682%2C%2040.715828%5D%2C%20%5B-74.004957%2C%2040.716061%5D%2C%20%5B-74.00507%2C%2040.716088%5D%2C%20%5B-74.007014%2C%2040.716204%5D%2C%20%5B-74.007219%2C%2040.71618%5D%2C%20%5B-74.009277%2C%2040.715829%5D%2C%20%5B-74.01133%2C%2040.715457%5D%2C%20%5B-74.011732%2C%2040.715261%5D%2C%20%5B-74.011879%2C%2040.71519%5D%2C%20%5B-74.012016%2C%2040.715109%5D%2C%20%5B-74.012068%2C%2040.714752%5D%5D%5D%2C%20%22type%22%3A%20%22Polygon%22%7D%2C%20%22properties%22%3A%20%7B%22center%22%3A%20%5B-74.00770490753631%2C%2040.713188731245175%5D%2C%20%22group_index%22%3A%200%2C%20%22total_pop%22%3A%208155.0%2C%20%22value%22%3A%20300.0%7D%2C%20%22type%22%3A%20%22Feature%22%7D%5D%2C%20%22metadata%22%3A%20%7B%22attribution%22%3A%20%22openrouteservice.org%20%7C%20OpenStreetMap%20contributors%22%2C%20%22engine%22%3A%20%7B%22build_date%22%3A%20%222021-07-05T10%3A57%3A48Z%22%2C%20%22graph_date%22%3A%20%222021-08-24T19%3A49%3A49Z%22%2C%20%22version%22%3A%20%226.6.1%22%7D%2C%20%22query%22%3A%20%7B%22attributes%22%3A%20%5B%22total_pop%22%5D%2C%20%22locations%22%3A%20%5B%5B-74.00773%2C%2040.7131583%5D%5D%2C%20%22range%22%3A%20%5B300.0%5D%2C%20%22range_type%22%3A%20%22time%22%7D%2C%20%22service%22%3A%20%22isochrones%22%2C%20%22timestamp%22%3A%201630877795358%7D%2C%20%22type%22%3A%20%22FeatureCollection%22%7D%29%3B%0A%0A%20%20%20%20%20%20%20%20%0A%20%20%20%20%0A%20%20%20%20%20%20%20%20%20%20%20%20var%20marker_cb2dccd00b0541f7942f2eebc7db4887%20%3D%20L.marker%28%0A%20%20%20%20%20%20%20%20%20%20%20%20%20%20%20%20%5B40.7131583%2C%20-74.00773%5D%2C%0A%20%20%20%20%20%20%20%20%20%20%20%20%20%20%20%20%7B%7D%0A%20%20%20%20%20%20%20%20%20%20%20%20%29.addTo%28map_8201657e756d42e6af37a304e64fdd7a%29%3B%0A%20%20%20%20%20%20%20%20%0A%20%20%20%20%0A%20%20%20%20%20%20%20%20%20%20%20%20var%20icon_72eb0fcb836543e78216d2a7c53caa36%20%3D%20L.AwesomeMarkers.icon%28%0A%20%20%20%20%20%20%20%20%20%20%20%20%20%20%20%20%7B%22extraClasses%22%3A%20%22fa-rotate-0%22%2C%20%22icon%22%3A%20%22subway%22%2C%20%22iconColor%22%3A%20%22%23cc0000%22%2C%20%22markerColor%22%3A%20%22lightgray%22%2C%20%22prefix%22%3A%20%22fa%22%7D%0A%20%20%20%20%20%20%20%20%20%20%20%20%29%3B%0A%20%20%20%20%20%20%20%20%20%20%20%20marker_cb2dccd00b0541f7942f2eebc7db4887.setIcon%28icon_72eb0fcb836543e78216d2a7c53caa36%29%3B%0A%20%20%20%20%20%20%20%20%0A%20%20%20%20%0A%20%20%20%20%20%20%20%20var%20popup_97cbd384c5cc4b3da221decb7cf16aef%20%3D%20L.popup%28%7B%22maxWidth%22%3A%20%22100%25%22%7D%29%3B%0A%0A%20%20%20%20%20%20%20%20%0A%20%20%20%20%20%20%20%20%20%20%20%20var%20html_460690f3a02f4051b042fd3dbafbb8a4%20%3D%20%24%28%60%3Cdiv%20id%3D%22html_460690f3a02f4051b042fd3dbafbb8a4%22%20style%3D%22width%3A%20100.0%25%3B%20height%3A%20100.0%25%3B%22%3ECity%20Hall%3C/div%3E%60%29%5B0%5D%3B%0A%20%20%20%20%20%20%20%20%20%20%20%20popup_97cbd384c5cc4b3da221decb7cf16aef.setContent%28html_460690f3a02f4051b042fd3dbafbb8a4%29%3B%0A%20%20%20%20%20%20%20%20%0A%0A%20%20%20%20%20%20%20%20marker_cb2dccd00b0541f7942f2eebc7db4887.bindPopup%28popup_97cbd384c5cc4b3da221decb7cf16aef%29%0A%20%20%20%20%20%20%20%20%3B%0A%0A%20%20%20%20%20%20%20%20%0A%20%20%20%20%0A%20%20%20%20%0A%0A%20%20%20%20%20%20%20%20function%20geo_json_de2fee9c53b9457ca2831859bc45f5c2_onEachFeature%28feature%2C%20layer%29%20%7B%0A%20%20%20%20%20%20%20%20%20%20%20%20layer.on%28%7B%0A%20%20%20%20%20%20%20%20%20%20%20%20%7D%29%3B%0A%20%20%20%20%20%20%20%20%7D%3B%0A%20%20%20%20%20%20%20%20var%20geo_json_de2fee9c53b9457ca2831859bc45f5c2%20%3D%20L.geoJson%28null%2C%20%7B%0A%20%20%20%20%20%20%20%20%20%20%20%20%20%20%20%20onEachFeature%3A%20geo_json_de2fee9c53b9457ca2831859bc45f5c2_onEachFeature%2C%0A%20%20%20%20%20%20%20%20%20%20%20%20%0A%20%20%20%20%20%20%20%20%7D%29%3B%0A%0A%20%20%20%20%20%20%20%20function%20geo_json_de2fee9c53b9457ca2831859bc45f5c2_add%20%28data%29%20%7B%0A%20%20%20%20%20%20%20%20%20%20%20%20geo_json_de2fee9c53b9457ca2831859bc45f5c2%0A%20%20%20%20%20%20%20%20%20%20%20%20%20%20%20%20.addData%28data%29%0A%20%20%20%20%20%20%20%20%20%20%20%20%20%20%20%20.addTo%28map_8201657e756d42e6af37a304e64fdd7a%29%3B%0A%20%20%20%20%20%20%20%20%7D%0A%20%20%20%20%20%20%20%20%20%20%20%20geo_json_de2fee9c53b9457ca2831859bc45f5c2_add%28%7B%22bbox%22%3A%20%5B-74.013437%2C%2040.709708%2C%20-74.005089%2C%2040.716497%5D%2C%20%22features%22%3A%20%5B%7B%22geometry%22%3A%20%7B%22coordinates%22%3A%20%5B%5B%5B-74.013437%2C%2040.714451%5D%2C%20%5B-74.013273%2C%2040.713171%5D%2C%20%5B-74.01286%2C%2040.712211%5D%2C%20%5B-74.011726%2C%2040.709884%5D%2C%20%5B-74.011412%2C%2040.709708%5D%2C%20%5B-74.007325%2C%2040.710462%5D%2C%20%5B-74.006066%2C%2040.710683%5D%2C%20%5B-74.005911%2C%2040.710745%5D%2C%20%5B-74.005829%2C%2040.710796%5D%2C%20%5B-74.005362%2C%2040.711753%5D%2C%20%5B-74.005089%2C%2040.712376%5D%2C%20%5B-74.006532%2C%2040.716021%5D%2C%20%5B-74.006661%2C%2040.716275%5D%2C%20%5B-74.006944%2C%2040.716497%5D%2C%20%5B-74.011331%2C%2040.716024%5D%2C%20%5B-74.011389%2C%2040.716006%5D%2C%20%5B-74.011555%2C%2040.715916%5D%2C%20%5B-74.012828%2C%2040.71523%5D%2C%20%5B-74.01342%2C%2040.714517%5D%2C%20%5B-74.013437%2C%2040.714451%5D%5D%5D%2C%20%22type%22%3A%20%22Polygon%22%7D%2C%20%22properties%22%3A%20%7B%22center%22%3A%20%5B-74.0092982646204%2C%2040.71317211471518%5D%2C%20%22group_index%22%3A%200%2C%20%22total_pop%22%3A%207655.0%2C%20%22value%22%3A%20300.0%7D%2C%20%22type%22%3A%20%22Feature%22%7D%5D%2C%20%22metadata%22%3A%20%7B%22attribution%22%3A%20%22openrouteservice.org%20%7C%20OpenStreetMap%20contributors%22%2C%20%22engine%22%3A%20%7B%22build_date%22%3A%20%222021-07-05T10%3A57%3A48Z%22%2C%20%22graph_date%22%3A%20%222021-08-24T19%3A49%3A49Z%22%2C%20%22version%22%3A%20%226.6.1%22%7D%2C%20%22query%22%3A%20%7B%22attributes%22%3A%20%5B%22total_pop%22%5D%2C%20%22locations%22%3A%20%5B%5B-74.0092965%2C%2040.7131736%5D%5D%2C%20%22range%22%3A%20%5B300.0%5D%2C%20%22range_type%22%3A%20%22time%22%7D%2C%20%22service%22%3A%20%22isochrones%22%2C%20%22timestamp%22%3A%201630877795656%7D%2C%20%22type%22%3A%20%22FeatureCollection%22%7D%29%3B%0A%0A%20%20%20%20%20%20%20%20%0A%20%20%20%20%0A%20%20%20%20%20%20%20%20%20%20%20%20var%20marker_406a9e7118ea46c9bcae58f78348179c%20%3D%20L.marker%28%0A%20%20%20%20%20%20%20%20%20%20%20%20%20%20%20%20%5B40.7131736%2C%20-74.0092965%5D%2C%0A%20%20%20%20%20%20%20%20%20%20%20%20%20%20%20%20%7B%7D%0A%20%20%20%20%20%20%20%20%20%20%20%20%29.addTo%28map_8201657e756d42e6af37a304e64fdd7a%29%3B%0A%20%20%20%20%20%20%20%20%0A%20%20%20%20%0A%20%20%20%20%20%20%20%20%20%20%20%20var%20icon_06f2c4e40cb74066be61d2b794cfea65%20%3D%20L.AwesomeMarkers.icon%28%0A%20%20%20%20%20%20%20%20%20%20%20%20%20%20%20%20%7B%22extraClasses%22%3A%20%22fa-rotate-0%22%2C%20%22icon%22%3A%20%22subway%22%2C%20%22iconColor%22%3A%20%22%23cc0000%22%2C%20%22markerColor%22%3A%20%22lightgray%22%2C%20%22prefix%22%3A%20%22fa%22%7D%0A%20%20%20%20%20%20%20%20%20%20%20%20%29%3B%0A%20%20%20%20%20%20%20%20%20%20%20%20marker_406a9e7118ea46c9bcae58f78348179c.setIcon%28icon_06f2c4e40cb74066be61d2b794cfea65%29%3B%0A%20%20%20%20%20%20%20%20%0A%20%20%20%20%0A%20%20%20%20%20%20%20%20var%20popup_ad4e9200c9f042d5a7f8b89dac4dfaae%20%3D%20L.popup%28%7B%22maxWidth%22%3A%20%22100%25%22%7D%29%3B%0A%0A%20%20%20%20%20%20%20%20%0A%20%20%20%20%20%20%20%20%20%20%20%20var%20html_6eb1753738cf40019bdffc087f930f64%20%3D%20%24%28%60%3Cdiv%20id%3D%22html_6eb1753738cf40019bdffc087f930f64%22%20style%3D%22width%3A%20100.0%25%3B%20height%3A%20100.0%25%3B%22%3EPark%20Place%3C/div%3E%60%29%5B0%5D%3B%0A%20%20%20%20%20%20%20%20%20%20%20%20popup_ad4e9200c9f042d5a7f8b89dac4dfaae.setContent%28html_6eb1753738cf40019bdffc087f930f64%29%3B%0A%20%20%20%20%20%20%20%20%0A%0A%20%20%20%20%20%20%20%20marker_406a9e7118ea46c9bcae58f78348179c.bindPopup%28popup_ad4e9200c9f042d5a7f8b89dac4dfaae%29%0A%20%20%20%20%20%20%20%20%3B%0A%0A%20%20%20%20%20%20%20%20%0A%20%20%20%20%0A%20%20%20%20%0A%0A%20%20%20%20%20%20%20%20function%20geo_json_3476ffe2b2864ef8a698c4133b1c3c75_onEachFeature%28feature%2C%20layer%29%20%7B%0A%20%20%20%20%20%20%20%20%20%20%20%20layer.on%28%7B%0A%20%20%20%20%20%20%20%20%20%20%20%20%7D%29%3B%0A%20%20%20%20%20%20%20%20%7D%3B%0A%20%20%20%20%20%20%20%20var%20geo_json_3476ffe2b2864ef8a698c4133b1c3c75%20%3D%20L.geoJson%28null%2C%20%7B%0A%20%20%20%20%20%20%20%20%20%20%20%20%20%20%20%20onEachFeature%3A%20geo_json_3476ffe2b2864ef8a698c4133b1c3c75_onEachFeature%2C%0A%20%20%20%20%20%20%20%20%20%20%20%20%0A%20%20%20%20%20%20%20%20%7D%29%3B%0A%0A%20%20%20%20%20%20%20%20function%20geo_json_3476ffe2b2864ef8a698c4133b1c3c75_add%20%28data%29%20%7B%0A%20%20%20%20%20%20%20%20%20%20%20%20geo_json_3476ffe2b2864ef8a698c4133b1c3c75%0A%20%20%20%20%20%20%20%20%20%20%20%20%20%20%20%20.addData%28data%29%0A%20%20%20%20%20%20%20%20%20%20%20%20%20%20%20%20.addTo%28map_8201657e756d42e6af37a304e64fdd7a%29%3B%0A%20%20%20%20%20%20%20%20%7D%0A%20%20%20%20%20%20%20%20%20%20%20%20geo_json_3476ffe2b2864ef8a698c4133b1c3c75_add%28%7B%22bbox%22%3A%20%5B-74.014371%2C%2040.708397%2C%20-74.005393%2C%2040.714815%5D%2C%20%22features%22%3A%20%5B%7B%22geometry%22%3A%20%7B%22coordinates%22%3A%20%5B%5B%5B-74.014371%2C%2040.712998%5D%2C%20%5B-74.014061%2C%2040.711857%5D%2C%20%5B-74.013956%2C%2040.711526%5D%2C%20%5B-74.013915%2C%2040.711394%5D%2C%20%5B-74.01373%2C%2040.710881%5D%2C%20%5B-74.01369%2C%2040.710785%5D%2C%20%5B-74.012604%2C%2040.708622%5D%2C%20%5B-74.012306%2C%2040.70842%5D%2C%20%5B-74.012211%2C%2040.708397%5D%2C%20%5B-74.010777%2C%2040.708559%5D%2C%20%5B-74.007886%2C%2040.708857%5D%2C%20%5B-74.007809%2C%2040.70887%5D%2C%20%5B-74.006209%2C%2040.709316%5D%2C%20%5B-74.005871%2C%2040.709805%5D%2C%20%5B-74.005393%2C%2040.711806%5D%2C%20%5B-74.005456%2C%2040.712161%5D%2C%20%5B-74.007824%2C%2040.71459%5D%2C%20%5B-74.00811%2C%2040.714809%5D%2C%20%5B-74.008277%2C%2040.714815%5D%2C%20%5B-74.011656%2C%2040.714535%5D%2C%20%5B-74.012372%2C%2040.714248%5D%2C%20%5B-74.012553%2C%2040.714172%5D%2C%20%5B-74.01346%2C%2040.713797%5D%2C%20%5B-74.013673%2C%2040.713662%5D%2C%20%5B-74.014325%2C%2040.713148%5D%2C%20%5B-74.01433%2C%2040.713134%5D%2C%20%5B-74.01433%2C%2040.713134%5D%2C%20%5B-74.014371%2C%2040.712998%5D%5D%5D%2C%20%22type%22%3A%20%22Polygon%22%7D%2C%20%22properties%22%3A%20%7B%22center%22%3A%20%5B-74.00998009442152%2C%2040.71150603102416%5D%2C%20%22group_index%22%3A%200%2C%20%22total_pop%22%3A%206913.0%2C%20%22value%22%3A%20300.0%7D%2C%20%22type%22%3A%20%22Feature%22%7D%5D%2C%20%22metadata%22%3A%20%7B%22attribution%22%3A%20%22openrouteservice.org%20%7C%20OpenStreetMap%20contributors%22%2C%20%22engine%22%3A%20%7B%22build_date%22%3A%20%222021-07-05T10%3A57%3A48Z%22%2C%20%22graph_date%22%3A%20%222021-08-24T19%3A49%3A49Z%22%2C%20%22version%22%3A%20%226.6.1%22%7D%2C%20%22query%22%3A%20%7B%22attributes%22%3A%20%5B%22total_pop%22%5D%2C%20%22locations%22%3A%20%5B%5B-74.009928%2C%2040.7115643%5D%5D%2C%20%22range%22%3A%20%5B300.0%5D%2C%20%22range_type%22%3A%20%22time%22%7D%2C%20%22service%22%3A%20%22isochrones%22%2C%20%22timestamp%22%3A%201630877795937%7D%2C%20%22type%22%3A%20%22FeatureCollection%22%7D%29%3B%0A%0A%20%20%20%20%20%20%20%20%0A%20%20%20%20%0A%20%20%20%20%20%20%20%20%20%20%20%20var%20marker_9df07c0a2353475e8fb70a42ea8b0e8d%20%3D%20L.marker%28%0A%20%20%20%20%20%20%20%20%20%20%20%20%20%20%20%20%5B40.7115643%2C%20-74.009928%5D%2C%0A%20%20%20%20%20%20%20%20%20%20%20%20%20%20%20%20%7B%7D%0A%20%20%20%20%20%20%20%20%20%20%20%20%29.addTo%28map_8201657e756d42e6af37a304e64fdd7a%29%3B%0A%20%20%20%20%20%20%20%20%0A%20%20%20%20%0A%20%20%20%20%20%20%20%20%20%20%20%20var%20icon_7bc21233eb514ba894bb0c2b28990264%20%3D%20L.AwesomeMarkers.icon%28%0A%20%20%20%20%20%20%20%20%20%20%20%20%20%20%20%20%7B%22extraClasses%22%3A%20%22fa-rotate-0%22%2C%20%22icon%22%3A%20%22subway%22%2C%20%22iconColor%22%3A%20%22%23cc0000%22%2C%20%22markerColor%22%3A%20%22lightgray%22%2C%20%22prefix%22%3A%20%22fa%22%7D%0A%20%20%20%20%20%20%20%20%20%20%20%20%29%3B%0A%20%20%20%20%20%20%20%20%20%20%20%20marker_9df07c0a2353475e8fb70a42ea8b0e8d.setIcon%28icon_7bc21233eb514ba894bb0c2b28990264%29%3B%0A%20%20%20%20%20%20%20%20%0A%20%20%20%20%0A%20%20%20%20%20%20%20%20var%20popup_4a5c4d2c3c944f79aa8fdb5f935b1123%20%3D%20L.popup%28%7B%22maxWidth%22%3A%20%22100%25%22%7D%29%3B%0A%0A%20%20%20%20%20%20%20%20%0A%20%20%20%20%20%20%20%20%20%20%20%20var%20html_911ed95e076240ad83abf034286add71%20%3D%20%24%28%60%3Cdiv%20id%3D%22html_911ed95e076240ad83abf034286add71%22%20style%3D%22width%3A%20100.0%25%3B%20height%3A%20100.0%25%3B%22%3EFulton%20Street%3C/div%3E%60%29%5B0%5D%3B%0A%20%20%20%20%20%20%20%20%20%20%20%20popup_4a5c4d2c3c944f79aa8fdb5f935b1123.setContent%28html_911ed95e076240ad83abf034286add71%29%3B%0A%20%20%20%20%20%20%20%20%0A%0A%20%20%20%20%20%20%20%20marker_9df07c0a2353475e8fb70a42ea8b0e8d.bindPopup%28popup_4a5c4d2c3c944f79aa8fdb5f935b1123%29%0A%20%20%20%20%20%20%20%20%3B%0A%0A%20%20%20%20%20%20%20%20%0A%20%20%20%20%0A%3C/script%3E onload=\"this.contentDocument.open();this.contentDocument.write(    decodeURIComponent(this.getAttribute('data-html')));this.contentDocument.close();\" allowfullscreen webkitallowfullscreen mozallowfullscreen></iframe></div></div>"
      ],
      "text/plain": [
       "<folium.folium.Map at 0x7fe59ccb6b20>"
      ]
     },
     "execution_count": 70,
     "metadata": {},
     "output_type": "execute_result"
    }
   ],
   "source": [
    "clnt = client.Client(key=OSR_TOKEN)\n",
    "map1 = folium.Map(tiles='Stamen Toner', location=([40.715479, -74.005545]), zoom_start=15)    \n",
    "\n",
    "params_iso = {'profile': 'foot-walking',\n",
    "              'range': [300], #300/60 = 5 mins walking\n",
    "              'attributes': ['total_pop']\n",
    "             }\n",
    "\n",
    "result = []\n",
    "for station_name, lat, lng in stations.values:\n",
    "    point = [lng, lat]\n",
    "    params_iso['locations'] = [point]\n",
    "    iso = clnt.isochrones(**params_iso)\n",
    "    \n",
    "    folium.features.GeoJson(iso).add_to(map1)\n",
    "    result.append(iso)\n",
    "    #result.append(iso['features'][0]['geometry'])\n",
    "    \n",
    "    folium.map.Marker(list(reversed(point)), # reverse coords due to weird folium lat/lon syntax\n",
    "                      icon=folium.Icon(color='lightgray',\n",
    "                                        icon_color='#cc0000',\n",
    "                                        icon='subway',\n",
    "                                        prefix='fa',\n",
    "                                       ),\n",
    "                      popup=station_name,\n",
    "            ).add_to(map1) # Add apartment locations to map\n",
    "    \n",
    "#print(result)\n",
    "\n",
    "#stations['geometry'] = result\n",
    "    \n",
    "map1"
   ]
  },
  {
   "cell_type": "markdown",
   "id": "f5bbcf27",
   "metadata": {},
   "source": [
    "These isochrones from each MTA station illustrate the spatial polygon of a 5-minute walking distance. Using these isochrones, we can figure out which MTA stations are within a walking distance of our Duane Reade store and calculate the approximate foot traffic coming from the nearby MTA stations per day.\n",
    "\n",
    "Later on in this notebook, I will create Geopandas dataframes from both the `stations` and `drlocations` dfs, and then left join on the `stations` dataframe to identify all the station isochrones that contain the Duane Reade coordinates. \n"
   ]
  },
  {
   "cell_type": "code",
   "execution_count": 29,
   "id": "2097e3d6",
   "metadata": {},
   "outputs": [
    {
     "name": "stdout",
     "output_type": "stream",
     "text": [
      "                                            geometry\n",
      "0  POLYGON ((36.39427 -18.62673, 36.39427 -18.558...\n"
     ]
    }
   ],
   "source": [
    "# Example code\n",
    "#import geopandas as gpd\n",
    "#study_area = json.loads(\"\"\"\n",
    "# {\"type\": \"FeatureCollection\", \"features\": [{\"type\": \"Feature\", \"properties\": {}, \"geometry\": {\"type\": \"Polygon\", \"coordinates\": [[[36.394272, -18.626726], [36.394272, -18.558391], [36.489716, -18.558391], [36.489716, -18.626726], [36.394272, -18.626726]]]}}]}\n",
    "#\"\"\")\n",
    "#gdf = gpd.GeoDataFrame.from_features(study_area[\"features\"])\n",
    "#print(gdf.head())"
   ]
  },
  {
   "cell_type": "code",
   "execution_count": null,
   "id": "f2e8dd84",
   "metadata": {},
   "outputs": [],
   "source": [
    "#gdf = geopandas.GeoDataFrame.from_features(stations[\"features\"])"
   ]
  },
  {
   "cell_type": "code",
   "execution_count": 61,
   "id": "e1233ad3",
   "metadata": {},
   "outputs": [
    {
     "data": {
      "text/html": [
       "<div>\n",
       "<style scoped>\n",
       "    .dataframe tbody tr th:only-of-type {\n",
       "        vertical-align: middle;\n",
       "    }\n",
       "\n",
       "    .dataframe tbody tr th {\n",
       "        vertical-align: top;\n",
       "    }\n",
       "\n",
       "    .dataframe thead th {\n",
       "        text-align: right;\n",
       "    }\n",
       "</style>\n",
       "<table border=\"1\" class=\"dataframe\">\n",
       "  <thead>\n",
       "    <tr style=\"text-align: right;\">\n",
       "      <th></th>\n",
       "      <th>station_name</th>\n",
       "      <th>lat</th>\n",
       "      <th>lng</th>\n",
       "      <th>geom</th>\n",
       "    </tr>\n",
       "  </thead>\n",
       "  <tbody>\n",
       "    <tr>\n",
       "      <th>0</th>\n",
       "      <td>City Hall</td>\n",
       "      <td>40.7131583</td>\n",
       "      <td>-74.00773</td>\n",
       "      <td>{'coordinates': [[[-74.012068, 40.714752], [-7...</td>\n",
       "    </tr>\n",
       "    <tr>\n",
       "      <th>1</th>\n",
       "      <td>Park Place</td>\n",
       "      <td>40.7131736</td>\n",
       "      <td>-74.0092965</td>\n",
       "      <td>{'coordinates': [[[-74.013437, 40.714451], [-7...</td>\n",
       "    </tr>\n",
       "    <tr>\n",
       "      <th>2</th>\n",
       "      <td>Fulton Street</td>\n",
       "      <td>40.7115643</td>\n",
       "      <td>-74.009928</td>\n",
       "      <td>{'coordinates': [[[-74.014371, 40.712998], [-7...</td>\n",
       "    </tr>\n",
       "  </tbody>\n",
       "</table>\n",
       "</div>"
      ],
      "text/plain": [
       "    station_name         lat          lng  \\\n",
       "0      City Hall  40.7131583    -74.00773   \n",
       "1     Park Place  40.7131736  -74.0092965   \n",
       "2  Fulton Street  40.7115643   -74.009928   \n",
       "\n",
       "                                                geom  \n",
       "0  {'coordinates': [[[-74.012068, 40.714752], [-7...  \n",
       "1  {'coordinates': [[[-74.013437, 40.714451], [-7...  \n",
       "2  {'coordinates': [[[-74.014371, 40.712998], [-7...  "
      ]
     },
     "execution_count": 61,
     "metadata": {},
     "output_type": "execute_result"
    }
   ],
   "source": [
    "#stations['geom'] = result\n",
    "#stations"
   ]
  },
  {
   "cell_type": "code",
   "execution_count": null,
   "id": "16d7ef73",
   "metadata": {},
   "outputs": [],
   "source": [
    "#from shapely.geometry import shape\n",
    "#stations['geometry'] = result"
   ]
  },
  {
   "cell_type": "code",
   "execution_count": null,
   "id": "f7300cc3",
   "metadata": {},
   "outputs": [],
   "source": [
    "# DO NOT USE - EXAMPLE CODE FOR LATER USE \n",
    "# (https://www.linkedin.com/pulse/isochrones-geopandas-paul-whiteside/)\n",
    "#l_processed = []\n",
    "\n",
    "#for station_name, lat, lng  in stations.values:\n",
    "#    if not station_name in l_processed:\n",
    "#        print(station_name)\n",
    "#        point = [lat, lng]\n",
    "#        \n",
    "#         try:\n",
    "#             clnt = client.Client(key=api_key)\n",
    "#             r = clnt.isochrones(**params_iso)\n",
    "            \n",
    "#             for feature in r['features']:\n",
    "#                 feature['properties']['name'] = place\n",
    "                \n",
    "#             with open(f'isochrones/{place}.json', 'w') as f:\n",
    "#                 f.write(json.dumps(r))\n",
    "#                 l_processed.append(place)\n",
    "#         except:\n",
    "#             print(f\"Problem processing {place}\")\n",
    "        \n",
    "#         time.sleep(2)"
   ]
  }
 ],
 "metadata": {
  "kernelspec": {
   "display_name": "Python [conda env:metis] *",
   "language": "python",
   "name": "conda-env-metis-py"
  },
  "language_info": {
   "codemirror_mode": {
    "name": "ipython",
    "version": 3
   },
   "file_extension": ".py",
   "mimetype": "text/x-python",
   "name": "python",
   "nbconvert_exporter": "python",
   "pygments_lexer": "ipython3",
   "version": "3.8.10"
  }
 },
 "nbformat": 4,
 "nbformat_minor": 5
}
