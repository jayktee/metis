{
 "cells": [
  {
   "cell_type": "markdown",
   "id": "04f80daf",
   "metadata": {},
   "source": [
    "## MVP submission\n",
    "Identifying foot traffic for a single Duane Reade store using MTA station entry data."
   ]
  },
  {
   "cell_type": "markdown",
   "id": "01e9f8bf",
   "metadata": {},
   "source": [
    "### Importing and selecting a Duane Reade store"
   ]
  },
  {
   "cell_type": "code",
   "execution_count": 126,
   "id": "0f1f7f49",
   "metadata": {},
   "outputs": [],
   "source": [
    "# Import env variable API key\n",
    "from dotenv import dotenv_values\n",
    "config = dotenv_values(\".env\")\n",
    "API_KEY = config[\"API_KEY\"]\n",
    "OSR_TOKEN = config[\"OSR_TOKEN\"]"
   ]
  },
  {
   "cell_type": "code",
   "execution_count": 127,
   "id": "ecc704be",
   "metadata": {},
   "outputs": [],
   "source": [
    "# Import libraries\n",
    "import pandas as pd\n",
    "import numpy as np\n",
    "import geopandas\n",
    "import matplotlib.pyplot as plt\n",
    "\n",
    "import glob\n",
    "import json\n",
    "import requests\n",
    "from geojson import Feature, Point, FeatureCollection, Polygon\n",
    "\n",
    "import folium\n",
    "from openrouteservice import client\n",
    "from datetime import datetime\n",
    "\n",
    "drlocations = pd.read_csv('/Users/joycetagal/GitHub/metis-eda/drlocations_new.csv')"
   ]
  },
  {
   "cell_type": "code",
   "execution_count": 128,
   "id": "6991da2b",
   "metadata": {},
   "outputs": [],
   "source": [
    "# Code for geocoding latlongs from address. Commented out to ensure API isn't pinged unnecessarily\n",
    "# import googlemaps\n",
    "# gmaps = googlemaps.Client(key=API_KEY)\n",
    "# drlocations[\"latlon\"] = drlocations.address.apply(lambda address : gmaps.geocode(address)[0]['geometry']['location'])\n",
    "# drlocations = pd.concat([drlocations, drlocations['latlon']\n",
    "#                         .apply(pd.Series)], axis=1\n",
    "#                       ).drop(\"latlon\", axis=1)\n",
    "# drlocations.to_csv(\"drlocations_new.csv\", index=False)"
   ]
  },
  {
   "cell_type": "code",
   "execution_count": 129,
   "id": "1418bdba",
   "metadata": {},
   "outputs": [
    {
     "data": {
      "text/html": [
       "<div>\n",
       "<style scoped>\n",
       "    .dataframe tbody tr th:only-of-type {\n",
       "        vertical-align: middle;\n",
       "    }\n",
       "\n",
       "    .dataframe tbody tr th {\n",
       "        vertical-align: top;\n",
       "    }\n",
       "\n",
       "    .dataframe thead th {\n",
       "        text-align: right;\n",
       "    }\n",
       "</style>\n",
       "<table border=\"1\" class=\"dataframe\">\n",
       "  <thead>\n",
       "    <tr style=\"text-align: right;\">\n",
       "      <th></th>\n",
       "      <th>store_name</th>\n",
       "      <th>address</th>\n",
       "      <th>lat</th>\n",
       "      <th>lng</th>\n",
       "    </tr>\n",
       "  </thead>\n",
       "  <tbody>\n",
       "    <tr>\n",
       "      <th>0</th>\n",
       "      <td>Duane Reade</td>\n",
       "      <td>250 BROADWAY, NEW YORK, NY 10007</td>\n",
       "      <td>40.713008</td>\n",
       "      <td>-74.007821</td>\n",
       "    </tr>\n",
       "    <tr>\n",
       "      <th>1</th>\n",
       "      <td>Duane Reade</td>\n",
       "      <td>305 BROADWAY, NEW YORK, NY 10007</td>\n",
       "      <td>40.715479</td>\n",
       "      <td>-74.005545</td>\n",
       "    </tr>\n",
       "    <tr>\n",
       "      <th>2</th>\n",
       "      <td>Duane Reade</td>\n",
       "      <td>17 JOHN ST NEW YORK, NY 10038</td>\n",
       "      <td>40.709970</td>\n",
       "      <td>-74.008741</td>\n",
       "    </tr>\n",
       "    <tr>\n",
       "      <th>3</th>\n",
       "      <td>Duane Reade</td>\n",
       "      <td>185 GREENWICH ST, NEW YORK, NY 10007</td>\n",
       "      <td>40.711566</td>\n",
       "      <td>-74.011426</td>\n",
       "    </tr>\n",
       "    <tr>\n",
       "      <th>4</th>\n",
       "      <td>Duane Reade</td>\n",
       "      <td>200 WATER ST, NEW YORK, NY 10038</td>\n",
       "      <td>40.707256</td>\n",
       "      <td>-74.004805</td>\n",
       "    </tr>\n",
       "  </tbody>\n",
       "</table>\n",
       "</div>"
      ],
      "text/plain": [
       "    store_name                               address        lat        lng\n",
       "0  Duane Reade      250 BROADWAY, NEW YORK, NY 10007  40.713008 -74.007821\n",
       "1  Duane Reade      305 BROADWAY, NEW YORK, NY 10007  40.715479 -74.005545\n",
       "2  Duane Reade         17 JOHN ST NEW YORK, NY 10038  40.709970 -74.008741\n",
       "3  Duane Reade  185 GREENWICH ST, NEW YORK, NY 10007  40.711566 -74.011426\n",
       "4  Duane Reade      200 WATER ST, NEW YORK, NY 10038  40.707256 -74.004805"
      ]
     },
     "execution_count": 129,
     "metadata": {},
     "output_type": "execute_result"
    }
   ],
   "source": [
    "drlocations.head()"
   ]
  },
  {
   "cell_type": "markdown",
   "id": "804ad2aa",
   "metadata": {},
   "source": [
    "For the purposes of this notebook, I will just use the first Duane Reade store in this dataset, i.e. the one at 250 Broadway."
   ]
  },
  {
   "cell_type": "code",
   "execution_count": 130,
   "id": "798a8334",
   "metadata": {},
   "outputs": [
    {
     "data": {
      "text/html": [
       "<div>\n",
       "<style scoped>\n",
       "    .dataframe tbody tr th:only-of-type {\n",
       "        vertical-align: middle;\n",
       "    }\n",
       "\n",
       "    .dataframe tbody tr th {\n",
       "        vertical-align: top;\n",
       "    }\n",
       "\n",
       "    .dataframe thead th {\n",
       "        text-align: right;\n",
       "    }\n",
       "</style>\n",
       "<table border=\"1\" class=\"dataframe\">\n",
       "  <thead>\n",
       "    <tr style=\"text-align: right;\">\n",
       "      <th></th>\n",
       "      <th>store_name</th>\n",
       "      <th>address</th>\n",
       "      <th>lat</th>\n",
       "      <th>lng</th>\n",
       "    </tr>\n",
       "  </thead>\n",
       "  <tbody>\n",
       "    <tr>\n",
       "      <th>1</th>\n",
       "      <td>Duane Reade</td>\n",
       "      <td>305 BROADWAY, NEW YORK, NY 10007</td>\n",
       "      <td>40.715479</td>\n",
       "      <td>-74.005545</td>\n",
       "    </tr>\n",
       "  </tbody>\n",
       "</table>\n",
       "</div>"
      ],
      "text/plain": [
       "    store_name                           address        lat        lng\n",
       "1  Duane Reade  305 BROADWAY, NEW YORK, NY 10007  40.715479 -74.005545"
      ]
     },
     "execution_count": 130,
     "metadata": {},
     "output_type": "execute_result"
    }
   ],
   "source": [
    "drlocation = drlocations.iloc[[1,]]\n",
    "drlocation"
   ]
  },
  {
   "cell_type": "markdown",
   "id": "39011633",
   "metadata": {},
   "source": [
    "## Identifying isochrones for the MTA locations"
   ]
  },
  {
   "cell_type": "code",
   "execution_count": 131,
   "id": "9f1e1cc7",
   "metadata": {},
   "outputs": [],
   "source": [
    "# First we import our MTA stations dataset. For the MVP I'm just using 3 stations.\n",
    "\n",
    "d = [['City Hall', '40.7131583', '-74.00773'], \n",
    "     ['Park Place', '40.7131736', '-74.0092965'], \n",
    "     ['Fulton Street', '40.7115643' , '-74.009928']\n",
    "    ]"
   ]
  },
  {
   "cell_type": "code",
   "execution_count": 132,
   "id": "b6503dbb",
   "metadata": {},
   "outputs": [],
   "source": [
    "stations = pd.DataFrame(d, columns = ['station_name', 'lat', 'lng'])"
   ]
  },
  {
   "cell_type": "code",
   "execution_count": 133,
   "id": "e82393e5",
   "metadata": {},
   "outputs": [
    {
     "data": {
      "text/html": [
       "<div>\n",
       "<style scoped>\n",
       "    .dataframe tbody tr th:only-of-type {\n",
       "        vertical-align: middle;\n",
       "    }\n",
       "\n",
       "    .dataframe tbody tr th {\n",
       "        vertical-align: top;\n",
       "    }\n",
       "\n",
       "    .dataframe thead th {\n",
       "        text-align: right;\n",
       "    }\n",
       "</style>\n",
       "<table border=\"1\" class=\"dataframe\">\n",
       "  <thead>\n",
       "    <tr style=\"text-align: right;\">\n",
       "      <th></th>\n",
       "      <th>station_name</th>\n",
       "      <th>lat</th>\n",
       "      <th>lng</th>\n",
       "    </tr>\n",
       "  </thead>\n",
       "  <tbody>\n",
       "    <tr>\n",
       "      <th>0</th>\n",
       "      <td>City Hall</td>\n",
       "      <td>40.7131583</td>\n",
       "      <td>-74.00773</td>\n",
       "    </tr>\n",
       "    <tr>\n",
       "      <th>1</th>\n",
       "      <td>Park Place</td>\n",
       "      <td>40.7131736</td>\n",
       "      <td>-74.0092965</td>\n",
       "    </tr>\n",
       "    <tr>\n",
       "      <th>2</th>\n",
       "      <td>Fulton Street</td>\n",
       "      <td>40.7115643</td>\n",
       "      <td>-74.009928</td>\n",
       "    </tr>\n",
       "  </tbody>\n",
       "</table>\n",
       "</div>"
      ],
      "text/plain": [
       "    station_name         lat          lng\n",
       "0      City Hall  40.7131583    -74.00773\n",
       "1     Park Place  40.7131736  -74.0092965\n",
       "2  Fulton Street  40.7115643   -74.009928"
      ]
     },
     "execution_count": 133,
     "metadata": {},
     "output_type": "execute_result"
    }
   ],
   "source": [
    "stations"
   ]
  },
  {
   "cell_type": "code",
   "execution_count": 164,
   "id": "7bf8a0dc",
   "metadata": {},
   "outputs": [
    {
     "data": {
      "text/plain": [
       "array([['City Hall', '40.7131583', '-74.00773'],\n",
       "       ['Park Place', '40.7131736', '-74.0092965'],\n",
       "       ['Fulton Street', '40.7115643', '-74.009928']], dtype=object)"
      ]
     },
     "execution_count": 164,
     "metadata": {},
     "output_type": "execute_result"
    }
   ],
   "source": [
    "stations.values"
   ]
  },
  {
   "cell_type": "code",
   "execution_count": 165,
   "id": "8a6cec47",
   "metadata": {},
   "outputs": [
    {
     "name": "stdout",
     "output_type": "stream",
     "text": [
      "['-74.00773', '40.7131583']\n",
      "['-74.0092965', '40.7131736']\n",
      "['-74.009928', '40.7115643']\n"
     ]
    },
    {
     "data": {
      "text/html": [
       "<div style=\"width:100%;\"><div style=\"position:relative;width:100%;height:0;padding-bottom:60%;\"><span style=\"color:#565656\">Make this Notebook Trusted to load map: File -> Trust Notebook</span><iframe src=\"about:blank\" style=\"position:absolute;width:100%;height:100%;left:0;top:0;border:none !important;\" data-html=%3C%21DOCTYPE%20html%3E%0A%3Chead%3E%20%20%20%20%0A%20%20%20%20%3Cmeta%20http-equiv%3D%22content-type%22%20content%3D%22text/html%3B%20charset%3DUTF-8%22%20/%3E%0A%20%20%20%20%0A%20%20%20%20%20%20%20%20%3Cscript%3E%0A%20%20%20%20%20%20%20%20%20%20%20%20L_NO_TOUCH%20%3D%20false%3B%0A%20%20%20%20%20%20%20%20%20%20%20%20L_DISABLE_3D%20%3D%20false%3B%0A%20%20%20%20%20%20%20%20%3C/script%3E%0A%20%20%20%20%0A%20%20%20%20%3Cstyle%3Ehtml%2C%20body%20%7Bwidth%3A%20100%25%3Bheight%3A%20100%25%3Bmargin%3A%200%3Bpadding%3A%200%3B%7D%3C/style%3E%0A%20%20%20%20%3Cstyle%3E%23map%20%7Bposition%3Aabsolute%3Btop%3A0%3Bbottom%3A0%3Bright%3A0%3Bleft%3A0%3B%7D%3C/style%3E%0A%20%20%20%20%3Cscript%20src%3D%22https%3A//cdn.jsdelivr.net/npm/leaflet%401.6.0/dist/leaflet.js%22%3E%3C/script%3E%0A%20%20%20%20%3Cscript%20src%3D%22https%3A//code.jquery.com/jquery-1.12.4.min.js%22%3E%3C/script%3E%0A%20%20%20%20%3Cscript%20src%3D%22https%3A//maxcdn.bootstrapcdn.com/bootstrap/3.2.0/js/bootstrap.min.js%22%3E%3C/script%3E%0A%20%20%20%20%3Cscript%20src%3D%22https%3A//cdnjs.cloudflare.com/ajax/libs/Leaflet.awesome-markers/2.0.2/leaflet.awesome-markers.js%22%3E%3C/script%3E%0A%20%20%20%20%3Clink%20rel%3D%22stylesheet%22%20href%3D%22https%3A//cdn.jsdelivr.net/npm/leaflet%401.6.0/dist/leaflet.css%22/%3E%0A%20%20%20%20%3Clink%20rel%3D%22stylesheet%22%20href%3D%22https%3A//maxcdn.bootstrapcdn.com/bootstrap/3.2.0/css/bootstrap.min.css%22/%3E%0A%20%20%20%20%3Clink%20rel%3D%22stylesheet%22%20href%3D%22https%3A//maxcdn.bootstrapcdn.com/bootstrap/3.2.0/css/bootstrap-theme.min.css%22/%3E%0A%20%20%20%20%3Clink%20rel%3D%22stylesheet%22%20href%3D%22https%3A//maxcdn.bootstrapcdn.com/font-awesome/4.6.3/css/font-awesome.min.css%22/%3E%0A%20%20%20%20%3Clink%20rel%3D%22stylesheet%22%20href%3D%22https%3A//cdnjs.cloudflare.com/ajax/libs/Leaflet.awesome-markers/2.0.2/leaflet.awesome-markers.css%22/%3E%0A%20%20%20%20%3Clink%20rel%3D%22stylesheet%22%20href%3D%22https%3A//cdn.jsdelivr.net/gh/python-visualization/folium/folium/templates/leaflet.awesome.rotate.min.css%22/%3E%0A%20%20%20%20%0A%20%20%20%20%20%20%20%20%20%20%20%20%3Cmeta%20name%3D%22viewport%22%20content%3D%22width%3Ddevice-width%2C%0A%20%20%20%20%20%20%20%20%20%20%20%20%20%20%20%20initial-scale%3D1.0%2C%20maximum-scale%3D1.0%2C%20user-scalable%3Dno%22%20/%3E%0A%20%20%20%20%20%20%20%20%20%20%20%20%3Cstyle%3E%0A%20%20%20%20%20%20%20%20%20%20%20%20%20%20%20%20%23map_01ba3abc4fe24095a8225cbe817f435a%20%7B%0A%20%20%20%20%20%20%20%20%20%20%20%20%20%20%20%20%20%20%20%20position%3A%20relative%3B%0A%20%20%20%20%20%20%20%20%20%20%20%20%20%20%20%20%20%20%20%20width%3A%20100.0%25%3B%0A%20%20%20%20%20%20%20%20%20%20%20%20%20%20%20%20%20%20%20%20height%3A%20100.0%25%3B%0A%20%20%20%20%20%20%20%20%20%20%20%20%20%20%20%20%20%20%20%20left%3A%200.0%25%3B%0A%20%20%20%20%20%20%20%20%20%20%20%20%20%20%20%20%20%20%20%20top%3A%200.0%25%3B%0A%20%20%20%20%20%20%20%20%20%20%20%20%20%20%20%20%7D%0A%20%20%20%20%20%20%20%20%20%20%20%20%3C/style%3E%0A%20%20%20%20%20%20%20%20%0A%3C/head%3E%0A%3Cbody%3E%20%20%20%20%0A%20%20%20%20%0A%20%20%20%20%20%20%20%20%20%20%20%20%3Cdiv%20class%3D%22folium-map%22%20id%3D%22map_01ba3abc4fe24095a8225cbe817f435a%22%20%3E%3C/div%3E%0A%20%20%20%20%20%20%20%20%0A%3C/body%3E%0A%3Cscript%3E%20%20%20%20%0A%20%20%20%20%0A%20%20%20%20%20%20%20%20%20%20%20%20var%20map_01ba3abc4fe24095a8225cbe817f435a%20%3D%20L.map%28%0A%20%20%20%20%20%20%20%20%20%20%20%20%20%20%20%20%22map_01ba3abc4fe24095a8225cbe817f435a%22%2C%0A%20%20%20%20%20%20%20%20%20%20%20%20%20%20%20%20%7B%0A%20%20%20%20%20%20%20%20%20%20%20%20%20%20%20%20%20%20%20%20center%3A%20%5B40.715479%2C%20-74.005545%5D%2C%0A%20%20%20%20%20%20%20%20%20%20%20%20%20%20%20%20%20%20%20%20crs%3A%20L.CRS.EPSG3857%2C%0A%20%20%20%20%20%20%20%20%20%20%20%20%20%20%20%20%20%20%20%20zoom%3A%2015%2C%0A%20%20%20%20%20%20%20%20%20%20%20%20%20%20%20%20%20%20%20%20zoomControl%3A%20true%2C%0A%20%20%20%20%20%20%20%20%20%20%20%20%20%20%20%20%20%20%20%20preferCanvas%3A%20false%2C%0A%20%20%20%20%20%20%20%20%20%20%20%20%20%20%20%20%7D%0A%20%20%20%20%20%20%20%20%20%20%20%20%29%3B%0A%0A%20%20%20%20%20%20%20%20%20%20%20%20%0A%0A%20%20%20%20%20%20%20%20%0A%20%20%20%20%0A%20%20%20%20%20%20%20%20%20%20%20%20var%20tile_layer_c6b1f7e836664623ae41e3d045658725%20%3D%20L.tileLayer%28%0A%20%20%20%20%20%20%20%20%20%20%20%20%20%20%20%20%22https%3A//stamen-tiles-%7Bs%7D.a.ssl.fastly.net/toner/%7Bz%7D/%7Bx%7D/%7By%7D.png%22%2C%0A%20%20%20%20%20%20%20%20%20%20%20%20%20%20%20%20%7B%22attribution%22%3A%20%22Map%20tiles%20by%20%5Cu003ca%20href%3D%5C%22http%3A//stamen.com%5C%22%5Cu003eStamen%20Design%5Cu003c/a%5Cu003e%2C%20under%20%5Cu003ca%20href%3D%5C%22http%3A//creativecommons.org/licenses/by/3.0%5C%22%5Cu003eCC%20BY%203.0%5Cu003c/a%5Cu003e.%20Data%20by%20%5Cu0026copy%3B%20%5Cu003ca%20href%3D%5C%22http%3A//openstreetmap.org%5C%22%5Cu003eOpenStreetMap%5Cu003c/a%5Cu003e%2C%20under%20%5Cu003ca%20href%3D%5C%22http%3A//www.openstreetmap.org/copyright%5C%22%5Cu003eODbL%5Cu003c/a%5Cu003e.%22%2C%20%22detectRetina%22%3A%20false%2C%20%22maxNativeZoom%22%3A%2018%2C%20%22maxZoom%22%3A%2018%2C%20%22minZoom%22%3A%200%2C%20%22noWrap%22%3A%20false%2C%20%22opacity%22%3A%201%2C%20%22subdomains%22%3A%20%22abc%22%2C%20%22tms%22%3A%20false%7D%0A%20%20%20%20%20%20%20%20%20%20%20%20%29.addTo%28map_01ba3abc4fe24095a8225cbe817f435a%29%3B%0A%20%20%20%20%20%20%20%20%0A%20%20%20%20%0A%0A%20%20%20%20%20%20%20%20function%20geo_json_797089ffde7c48b7a37a7730655e2938_onEachFeature%28feature%2C%20layer%29%20%7B%0A%20%20%20%20%20%20%20%20%20%20%20%20layer.on%28%7B%0A%20%20%20%20%20%20%20%20%20%20%20%20%7D%29%3B%0A%20%20%20%20%20%20%20%20%7D%3B%0A%20%20%20%20%20%20%20%20var%20geo_json_797089ffde7c48b7a37a7730655e2938%20%3D%20L.geoJson%28null%2C%20%7B%0A%20%20%20%20%20%20%20%20%20%20%20%20%20%20%20%20onEachFeature%3A%20geo_json_797089ffde7c48b7a37a7730655e2938_onEachFeature%2C%0A%20%20%20%20%20%20%20%20%20%20%20%20%0A%20%20%20%20%20%20%20%20%7D%29%3B%0A%0A%20%20%20%20%20%20%20%20function%20geo_json_797089ffde7c48b7a37a7730655e2938_add%20%28data%29%20%7B%0A%20%20%20%20%20%20%20%20%20%20%20%20geo_json_797089ffde7c48b7a37a7730655e2938%0A%20%20%20%20%20%20%20%20%20%20%20%20%20%20%20%20.addData%28data%29%0A%20%20%20%20%20%20%20%20%20%20%20%20%20%20%20%20.addTo%28map_01ba3abc4fe24095a8225cbe817f435a%29%3B%0A%20%20%20%20%20%20%20%20%7D%0A%20%20%20%20%20%20%20%20%20%20%20%20geo_json_797089ffde7c48b7a37a7730655e2938_add%28%7B%22bbox%22%3A%20%5B-74.012068%2C%2040.709946%2C%20-74.00373%2C%2040.716204%5D%2C%20%22features%22%3A%20%5B%7B%22geometry%22%3A%20%7B%22coordinates%22%3A%20%5B%5B%5B-74.012068%2C%2040.714752%5D%2C%20%5B-74.011198%2C%2040.711755%5D%2C%20%5B-74.009972%2C%2040.710254%5D%2C%20%5B-74.009696%2C%2040.710023%5D%2C%20%5B-74.009398%2C%2040.709946%5D%2C%20%5B-74.00554%2C%2040.710201%5D%2C%20%5B-74.00551%2C%2040.710231%5D%2C%20%5B-74.005329%2C%2040.710479%5D%2C%20%5B-74.004175%2C%2040.712137%5D%2C%20%5B-74.00373%2C%2040.713045%5D%2C%20%5B-74.003752%2C%2040.71322%5D%2C%20%5B-74.004682%2C%2040.715828%5D%2C%20%5B-74.004957%2C%2040.716061%5D%2C%20%5B-74.00507%2C%2040.716088%5D%2C%20%5B-74.007014%2C%2040.716204%5D%2C%20%5B-74.007219%2C%2040.71618%5D%2C%20%5B-74.009277%2C%2040.715829%5D%2C%20%5B-74.01133%2C%2040.715457%5D%2C%20%5B-74.011732%2C%2040.715261%5D%2C%20%5B-74.011879%2C%2040.71519%5D%2C%20%5B-74.012016%2C%2040.715109%5D%2C%20%5B-74.012068%2C%2040.714752%5D%5D%5D%2C%20%22type%22%3A%20%22Polygon%22%7D%2C%20%22properties%22%3A%20%7B%22center%22%3A%20%5B-74.00770490753631%2C%2040.713188731245175%5D%2C%20%22group_index%22%3A%200%2C%20%22station_name%22%3A%20%22City%20Hall%22%2C%20%22total_pop%22%3A%208155.0%2C%20%22value%22%3A%20300.0%7D%2C%20%22type%22%3A%20%22Feature%22%7D%5D%2C%20%22metadata%22%3A%20%7B%22attribution%22%3A%20%22openrouteservice.org%20%7C%20OpenStreetMap%20contributors%22%2C%20%22engine%22%3A%20%7B%22build_date%22%3A%20%222021-07-05T10%3A57%3A48Z%22%2C%20%22graph_date%22%3A%20%222021-08-31T00%3A43%3A05Z%22%2C%20%22version%22%3A%20%226.6.1%22%7D%2C%20%22query%22%3A%20%7B%22attributes%22%3A%20%5B%22total_pop%22%5D%2C%20%22locations%22%3A%20%5B%5B-74.00773%2C%2040.7131583%5D%5D%2C%20%22range%22%3A%20%5B300.0%5D%2C%20%22range_type%22%3A%20%22time%22%7D%2C%20%22service%22%3A%20%22isochrones%22%2C%20%22timestamp%22%3A%201631644095524%7D%2C%20%22type%22%3A%20%22FeatureCollection%22%7D%29%3B%0A%0A%20%20%20%20%20%20%20%20%0A%20%20%20%20%0A%20%20%20%20%20%20%20%20%20%20%20%20var%20marker_1885cd7df35b46b189904f366eafa2bc%20%3D%20L.marker%28%0A%20%20%20%20%20%20%20%20%20%20%20%20%20%20%20%20%5B40.7131583%2C%20-74.00773%5D%2C%0A%20%20%20%20%20%20%20%20%20%20%20%20%20%20%20%20%7B%7D%0A%20%20%20%20%20%20%20%20%20%20%20%20%29.addTo%28map_01ba3abc4fe24095a8225cbe817f435a%29%3B%0A%20%20%20%20%20%20%20%20%0A%20%20%20%20%0A%20%20%20%20%20%20%20%20%20%20%20%20var%20icon_d40e8ee933fc4e6dad3fcf05541ef980%20%3D%20L.AwesomeMarkers.icon%28%0A%20%20%20%20%20%20%20%20%20%20%20%20%20%20%20%20%7B%22extraClasses%22%3A%20%22fa-rotate-0%22%2C%20%22icon%22%3A%20%22subway%22%2C%20%22iconColor%22%3A%20%22%23cc0000%22%2C%20%22markerColor%22%3A%20%22lightgray%22%2C%20%22prefix%22%3A%20%22fa%22%7D%0A%20%20%20%20%20%20%20%20%20%20%20%20%29%3B%0A%20%20%20%20%20%20%20%20%20%20%20%20marker_1885cd7df35b46b189904f366eafa2bc.setIcon%28icon_d40e8ee933fc4e6dad3fcf05541ef980%29%3B%0A%20%20%20%20%20%20%20%20%0A%20%20%20%20%0A%20%20%20%20%20%20%20%20var%20popup_431a1ae2f28b4fc4bca5aeadfa226324%20%3D%20L.popup%28%7B%22maxWidth%22%3A%20%22100%25%22%7D%29%3B%0A%0A%20%20%20%20%20%20%20%20%0A%20%20%20%20%20%20%20%20%20%20%20%20var%20html_8d45e56e493f4c11ac51e1249665b00b%20%3D%20%24%28%60%3Cdiv%20id%3D%22html_8d45e56e493f4c11ac51e1249665b00b%22%20style%3D%22width%3A%20100.0%25%3B%20height%3A%20100.0%25%3B%22%3ECity%20Hall%3C/div%3E%60%29%5B0%5D%3B%0A%20%20%20%20%20%20%20%20%20%20%20%20popup_431a1ae2f28b4fc4bca5aeadfa226324.setContent%28html_8d45e56e493f4c11ac51e1249665b00b%29%3B%0A%20%20%20%20%20%20%20%20%0A%0A%20%20%20%20%20%20%20%20marker_1885cd7df35b46b189904f366eafa2bc.bindPopup%28popup_431a1ae2f28b4fc4bca5aeadfa226324%29%0A%20%20%20%20%20%20%20%20%3B%0A%0A%20%20%20%20%20%20%20%20%0A%20%20%20%20%0A%20%20%20%20%0A%0A%20%20%20%20%20%20%20%20function%20geo_json_0b872526caf94366880925db8b05ce9c_onEachFeature%28feature%2C%20layer%29%20%7B%0A%20%20%20%20%20%20%20%20%20%20%20%20layer.on%28%7B%0A%20%20%20%20%20%20%20%20%20%20%20%20%7D%29%3B%0A%20%20%20%20%20%20%20%20%7D%3B%0A%20%20%20%20%20%20%20%20var%20geo_json_0b872526caf94366880925db8b05ce9c%20%3D%20L.geoJson%28null%2C%20%7B%0A%20%20%20%20%20%20%20%20%20%20%20%20%20%20%20%20onEachFeature%3A%20geo_json_0b872526caf94366880925db8b05ce9c_onEachFeature%2C%0A%20%20%20%20%20%20%20%20%20%20%20%20%0A%20%20%20%20%20%20%20%20%7D%29%3B%0A%0A%20%20%20%20%20%20%20%20function%20geo_json_0b872526caf94366880925db8b05ce9c_add%20%28data%29%20%7B%0A%20%20%20%20%20%20%20%20%20%20%20%20geo_json_0b872526caf94366880925db8b05ce9c%0A%20%20%20%20%20%20%20%20%20%20%20%20%20%20%20%20.addData%28data%29%0A%20%20%20%20%20%20%20%20%20%20%20%20%20%20%20%20.addTo%28map_01ba3abc4fe24095a8225cbe817f435a%29%3B%0A%20%20%20%20%20%20%20%20%7D%0A%20%20%20%20%20%20%20%20%20%20%20%20geo_json_0b872526caf94366880925db8b05ce9c_add%28%7B%22bbox%22%3A%20%5B-74.013437%2C%2040.709708%2C%20-74.005089%2C%2040.716497%5D%2C%20%22features%22%3A%20%5B%7B%22geometry%22%3A%20%7B%22coordinates%22%3A%20%5B%5B%5B-74.013437%2C%2040.714451%5D%2C%20%5B-74.013273%2C%2040.713171%5D%2C%20%5B-74.01286%2C%2040.712211%5D%2C%20%5B-74.011726%2C%2040.709884%5D%2C%20%5B-74.011412%2C%2040.709708%5D%2C%20%5B-74.007325%2C%2040.710462%5D%2C%20%5B-74.006066%2C%2040.710683%5D%2C%20%5B-74.005911%2C%2040.710745%5D%2C%20%5B-74.005829%2C%2040.710796%5D%2C%20%5B-74.005362%2C%2040.711753%5D%2C%20%5B-74.005089%2C%2040.712376%5D%2C%20%5B-74.006532%2C%2040.716021%5D%2C%20%5B-74.006661%2C%2040.716275%5D%2C%20%5B-74.006944%2C%2040.716497%5D%2C%20%5B-74.011331%2C%2040.716024%5D%2C%20%5B-74.011389%2C%2040.716006%5D%2C%20%5B-74.011555%2C%2040.715916%5D%2C%20%5B-74.012828%2C%2040.71523%5D%2C%20%5B-74.01342%2C%2040.714517%5D%2C%20%5B-74.013437%2C%2040.714451%5D%5D%5D%2C%20%22type%22%3A%20%22Polygon%22%7D%2C%20%22properties%22%3A%20%7B%22center%22%3A%20%5B-74.0092982646204%2C%2040.71317211471518%5D%2C%20%22group_index%22%3A%200%2C%20%22station_name%22%3A%20%22Park%20Place%22%2C%20%22total_pop%22%3A%207655.0%2C%20%22value%22%3A%20300.0%7D%2C%20%22type%22%3A%20%22Feature%22%7D%5D%2C%20%22metadata%22%3A%20%7B%22attribution%22%3A%20%22openrouteservice.org%20%7C%20OpenStreetMap%20contributors%22%2C%20%22engine%22%3A%20%7B%22build_date%22%3A%20%222021-07-05T10%3A57%3A48Z%22%2C%20%22graph_date%22%3A%20%222021-08-31T00%3A43%3A05Z%22%2C%20%22version%22%3A%20%226.6.1%22%7D%2C%20%22query%22%3A%20%7B%22attributes%22%3A%20%5B%22total_pop%22%5D%2C%20%22locations%22%3A%20%5B%5B-74.0092965%2C%2040.7131736%5D%5D%2C%20%22range%22%3A%20%5B300.0%5D%2C%20%22range_type%22%3A%20%22time%22%7D%2C%20%22service%22%3A%20%22isochrones%22%2C%20%22timestamp%22%3A%201631644095834%7D%2C%20%22type%22%3A%20%22FeatureCollection%22%7D%29%3B%0A%0A%20%20%20%20%20%20%20%20%0A%20%20%20%20%0A%20%20%20%20%20%20%20%20%20%20%20%20var%20marker_b5d138e44a70404997c4f57dfe17ebdd%20%3D%20L.marker%28%0A%20%20%20%20%20%20%20%20%20%20%20%20%20%20%20%20%5B40.7131736%2C%20-74.0092965%5D%2C%0A%20%20%20%20%20%20%20%20%20%20%20%20%20%20%20%20%7B%7D%0A%20%20%20%20%20%20%20%20%20%20%20%20%29.addTo%28map_01ba3abc4fe24095a8225cbe817f435a%29%3B%0A%20%20%20%20%20%20%20%20%0A%20%20%20%20%0A%20%20%20%20%20%20%20%20%20%20%20%20var%20icon_616b2c722f6141d69aa2dd62a49ded8d%20%3D%20L.AwesomeMarkers.icon%28%0A%20%20%20%20%20%20%20%20%20%20%20%20%20%20%20%20%7B%22extraClasses%22%3A%20%22fa-rotate-0%22%2C%20%22icon%22%3A%20%22subway%22%2C%20%22iconColor%22%3A%20%22%23cc0000%22%2C%20%22markerColor%22%3A%20%22lightgray%22%2C%20%22prefix%22%3A%20%22fa%22%7D%0A%20%20%20%20%20%20%20%20%20%20%20%20%29%3B%0A%20%20%20%20%20%20%20%20%20%20%20%20marker_b5d138e44a70404997c4f57dfe17ebdd.setIcon%28icon_616b2c722f6141d69aa2dd62a49ded8d%29%3B%0A%20%20%20%20%20%20%20%20%0A%20%20%20%20%0A%20%20%20%20%20%20%20%20var%20popup_21324925bc6e423192f7379ba933288e%20%3D%20L.popup%28%7B%22maxWidth%22%3A%20%22100%25%22%7D%29%3B%0A%0A%20%20%20%20%20%20%20%20%0A%20%20%20%20%20%20%20%20%20%20%20%20var%20html_12b331dfab614df6949c9cd80fbbd845%20%3D%20%24%28%60%3Cdiv%20id%3D%22html_12b331dfab614df6949c9cd80fbbd845%22%20style%3D%22width%3A%20100.0%25%3B%20height%3A%20100.0%25%3B%22%3EPark%20Place%3C/div%3E%60%29%5B0%5D%3B%0A%20%20%20%20%20%20%20%20%20%20%20%20popup_21324925bc6e423192f7379ba933288e.setContent%28html_12b331dfab614df6949c9cd80fbbd845%29%3B%0A%20%20%20%20%20%20%20%20%0A%0A%20%20%20%20%20%20%20%20marker_b5d138e44a70404997c4f57dfe17ebdd.bindPopup%28popup_21324925bc6e423192f7379ba933288e%29%0A%20%20%20%20%20%20%20%20%3B%0A%0A%20%20%20%20%20%20%20%20%0A%20%20%20%20%0A%20%20%20%20%0A%0A%20%20%20%20%20%20%20%20function%20geo_json_8e508ef162f24db7b9d30d37bb09e36c_onEachFeature%28feature%2C%20layer%29%20%7B%0A%20%20%20%20%20%20%20%20%20%20%20%20layer.on%28%7B%0A%20%20%20%20%20%20%20%20%20%20%20%20%7D%29%3B%0A%20%20%20%20%20%20%20%20%7D%3B%0A%20%20%20%20%20%20%20%20var%20geo_json_8e508ef162f24db7b9d30d37bb09e36c%20%3D%20L.geoJson%28null%2C%20%7B%0A%20%20%20%20%20%20%20%20%20%20%20%20%20%20%20%20onEachFeature%3A%20geo_json_8e508ef162f24db7b9d30d37bb09e36c_onEachFeature%2C%0A%20%20%20%20%20%20%20%20%20%20%20%20%0A%20%20%20%20%20%20%20%20%7D%29%3B%0A%0A%20%20%20%20%20%20%20%20function%20geo_json_8e508ef162f24db7b9d30d37bb09e36c_add%20%28data%29%20%7B%0A%20%20%20%20%20%20%20%20%20%20%20%20geo_json_8e508ef162f24db7b9d30d37bb09e36c%0A%20%20%20%20%20%20%20%20%20%20%20%20%20%20%20%20.addData%28data%29%0A%20%20%20%20%20%20%20%20%20%20%20%20%20%20%20%20.addTo%28map_01ba3abc4fe24095a8225cbe817f435a%29%3B%0A%20%20%20%20%20%20%20%20%7D%0A%20%20%20%20%20%20%20%20%20%20%20%20geo_json_8e508ef162f24db7b9d30d37bb09e36c_add%28%7B%22bbox%22%3A%20%5B-74.014371%2C%2040.708397%2C%20-74.005393%2C%2040.714815%5D%2C%20%22features%22%3A%20%5B%7B%22geometry%22%3A%20%7B%22coordinates%22%3A%20%5B%5B%5B-74.014371%2C%2040.712998%5D%2C%20%5B-74.014061%2C%2040.711857%5D%2C%20%5B-74.013956%2C%2040.711526%5D%2C%20%5B-74.013915%2C%2040.711394%5D%2C%20%5B-74.01373%2C%2040.710881%5D%2C%20%5B-74.01369%2C%2040.710785%5D%2C%20%5B-74.012604%2C%2040.708622%5D%2C%20%5B-74.012306%2C%2040.70842%5D%2C%20%5B-74.012211%2C%2040.708397%5D%2C%20%5B-74.010777%2C%2040.708559%5D%2C%20%5B-74.007886%2C%2040.708857%5D%2C%20%5B-74.007809%2C%2040.70887%5D%2C%20%5B-74.006209%2C%2040.709316%5D%2C%20%5B-74.005871%2C%2040.709805%5D%2C%20%5B-74.005393%2C%2040.711806%5D%2C%20%5B-74.005456%2C%2040.712161%5D%2C%20%5B-74.007824%2C%2040.71459%5D%2C%20%5B-74.00811%2C%2040.714809%5D%2C%20%5B-74.008277%2C%2040.714815%5D%2C%20%5B-74.011656%2C%2040.714535%5D%2C%20%5B-74.012372%2C%2040.714248%5D%2C%20%5B-74.012553%2C%2040.714172%5D%2C%20%5B-74.01346%2C%2040.713797%5D%2C%20%5B-74.013673%2C%2040.713662%5D%2C%20%5B-74.014325%2C%2040.713148%5D%2C%20%5B-74.01433%2C%2040.713134%5D%2C%20%5B-74.01433%2C%2040.713134%5D%2C%20%5B-74.014371%2C%2040.712998%5D%5D%5D%2C%20%22type%22%3A%20%22Polygon%22%7D%2C%20%22properties%22%3A%20%7B%22center%22%3A%20%5B-74.00998009442152%2C%2040.71150603102416%5D%2C%20%22group_index%22%3A%200%2C%20%22station_name%22%3A%20%22Fulton%20Street%22%2C%20%22total_pop%22%3A%206913.0%2C%20%22value%22%3A%20300.0%7D%2C%20%22type%22%3A%20%22Feature%22%7D%5D%2C%20%22metadata%22%3A%20%7B%22attribution%22%3A%20%22openrouteservice.org%20%7C%20OpenStreetMap%20contributors%22%2C%20%22engine%22%3A%20%7B%22build_date%22%3A%20%222021-07-05T10%3A57%3A48Z%22%2C%20%22graph_date%22%3A%20%222021-08-31T00%3A43%3A05Z%22%2C%20%22version%22%3A%20%226.6.1%22%7D%2C%20%22query%22%3A%20%7B%22attributes%22%3A%20%5B%22total_pop%22%5D%2C%20%22locations%22%3A%20%5B%5B-74.009928%2C%2040.7115643%5D%5D%2C%20%22range%22%3A%20%5B300.0%5D%2C%20%22range_type%22%3A%20%22time%22%7D%2C%20%22service%22%3A%20%22isochrones%22%2C%20%22timestamp%22%3A%201631644096131%7D%2C%20%22type%22%3A%20%22FeatureCollection%22%7D%29%3B%0A%0A%20%20%20%20%20%20%20%20%0A%20%20%20%20%0A%20%20%20%20%20%20%20%20%20%20%20%20var%20marker_08b6f2a73adb4c5dbf5acf460b695b99%20%3D%20L.marker%28%0A%20%20%20%20%20%20%20%20%20%20%20%20%20%20%20%20%5B40.7115643%2C%20-74.009928%5D%2C%0A%20%20%20%20%20%20%20%20%20%20%20%20%20%20%20%20%7B%7D%0A%20%20%20%20%20%20%20%20%20%20%20%20%29.addTo%28map_01ba3abc4fe24095a8225cbe817f435a%29%3B%0A%20%20%20%20%20%20%20%20%0A%20%20%20%20%0A%20%20%20%20%20%20%20%20%20%20%20%20var%20icon_7f9bbeb76ad14f4884645bee9bbdb3f1%20%3D%20L.AwesomeMarkers.icon%28%0A%20%20%20%20%20%20%20%20%20%20%20%20%20%20%20%20%7B%22extraClasses%22%3A%20%22fa-rotate-0%22%2C%20%22icon%22%3A%20%22subway%22%2C%20%22iconColor%22%3A%20%22%23cc0000%22%2C%20%22markerColor%22%3A%20%22lightgray%22%2C%20%22prefix%22%3A%20%22fa%22%7D%0A%20%20%20%20%20%20%20%20%20%20%20%20%29%3B%0A%20%20%20%20%20%20%20%20%20%20%20%20marker_08b6f2a73adb4c5dbf5acf460b695b99.setIcon%28icon_7f9bbeb76ad14f4884645bee9bbdb3f1%29%3B%0A%20%20%20%20%20%20%20%20%0A%20%20%20%20%0A%20%20%20%20%20%20%20%20var%20popup_775f6e36456042e9ac8a7fa5aaa7c34c%20%3D%20L.popup%28%7B%22maxWidth%22%3A%20%22100%25%22%7D%29%3B%0A%0A%20%20%20%20%20%20%20%20%0A%20%20%20%20%20%20%20%20%20%20%20%20var%20html_b6824dc7638d4c6d83dc7a673c2f9281%20%3D%20%24%28%60%3Cdiv%20id%3D%22html_b6824dc7638d4c6d83dc7a673c2f9281%22%20style%3D%22width%3A%20100.0%25%3B%20height%3A%20100.0%25%3B%22%3EFulton%20Street%3C/div%3E%60%29%5B0%5D%3B%0A%20%20%20%20%20%20%20%20%20%20%20%20popup_775f6e36456042e9ac8a7fa5aaa7c34c.setContent%28html_b6824dc7638d4c6d83dc7a673c2f9281%29%3B%0A%20%20%20%20%20%20%20%20%0A%0A%20%20%20%20%20%20%20%20marker_08b6f2a73adb4c5dbf5acf460b695b99.bindPopup%28popup_775f6e36456042e9ac8a7fa5aaa7c34c%29%0A%20%20%20%20%20%20%20%20%3B%0A%0A%20%20%20%20%20%20%20%20%0A%20%20%20%20%0A%3C/script%3E onload=\"this.contentDocument.open();this.contentDocument.write(    decodeURIComponent(this.getAttribute('data-html')));this.contentDocument.close();\" allowfullscreen webkitallowfullscreen mozallowfullscreen></iframe></div></div>"
      ],
      "text/plain": [
       "<folium.folium.Map at 0x7feb502ab190>"
      ]
     },
     "execution_count": 165,
     "metadata": {},
     "output_type": "execute_result"
    }
   ],
   "source": [
    "clnt = client.Client(key=OSR_TOKEN)\n",
    "map1 = folium.Map(tiles='Stamen Toner', location=([40.715479, -74.005545]), zoom_start=15)    \n",
    "\n",
    "params_iso = {'profile': 'foot-walking',\n",
    "              'range': [300], #300/60 = 5 mins walking\n",
    "              'attributes': ['total_pop']\n",
    "             }\n",
    "\n",
    "l_dfs = []\n",
    "for station_name, lat, lng in stations.values:\n",
    "    point = [lng, lat]\n",
    "    print(point)\n",
    "    params_iso['locations'] = [point]\n",
    "    iso = clnt.isochrones(**params_iso)\n",
    "    \n",
    "    for feature in iso['features']:\n",
    "        feature['properties']['station_name'] = station_name \n",
    "   \n",
    "    gdf = geopandas.GeoDataFrame.from_features(iso)\n",
    "    l_dfs.append(gdf)\n",
    "    \n",
    "    folium.features.GeoJson(iso).add_to(map1)\n",
    "    \n",
    "    folium.map.Marker(list(reversed(point)), # reverse coords due to weird folium lat/lon syntax\n",
    "                      icon=folium.Icon(color='lightgray',\n",
    "                                        icon_color='#cc0000',\n",
    "                                        icon='subway',\n",
    "                                        prefix='fa',\n",
    "                                       ),\n",
    "                      popup=station_name,\n",
    "            ).add_to(map1) # Add apartment locations to map\n",
    "    \n",
    "#print(l_dfs)\n",
    "\n",
    "\n",
    "    \n",
    "map1"
   ]
  },
  {
   "cell_type": "markdown",
   "id": "f5bbcf27",
   "metadata": {},
   "source": [
    "These isochrones from each MTA station illustrate the spatial polygon of a 5-minute walking distance. Using these isochrones, we can figure out which MTA stations are within a walking distance of our Duane Reade store and calculate the approximate foot traffic coming from the nearby MTA stations per day.\n",
    "\n",
    "Later on in this notebook, I will create Geopandas dataframes from both the `stations` and `drlocations` dfs, and then left join on the `stations` dataframe to identify all the station isochrones that contain the Duane Reade coordinates. \n"
   ]
  },
  {
   "cell_type": "code",
   "execution_count": 163,
   "id": "7b66bccc",
   "metadata": {},
   "outputs": [
    {
     "data": {
      "text/plain": [
       "[                                            geometry  group_index  value  \\\n",
       " 0  POLYGON ((-74.01207 40.71475, -74.01120 40.711...            0  300.0   \n",
       " \n",
       "                                      center  total_pop station_name  \n",
       " 0  [-74.00770490753631, 40.713188731245175]     8155.0    City Hall  ,\n",
       "                                             geometry  group_index  value  \\\n",
       " 0  POLYGON ((-74.01344 40.71445, -74.01327 40.713...            0  300.0   \n",
       " \n",
       "                                    center  total_pop station_name  \n",
       " 0  [-74.0092982646204, 40.71317211471518]     7655.0   Park Place  ,\n",
       "                                             geometry  group_index  value  \\\n",
       " 0  POLYGON ((-74.01437 40.71300, -74.01406 40.711...            0  300.0   \n",
       " \n",
       "                                     center  total_pop   station_name  \n",
       " 0  [-74.00998009442152, 40.71150603102416]     6913.0  Fulton Street  ]"
      ]
     },
     "execution_count": 163,
     "metadata": {},
     "output_type": "execute_result"
    }
   ],
   "source": [
    "l_dfs"
   ]
  },
  {
   "cell_type": "code",
   "execution_count": 141,
   "id": "6fd0c07e",
   "metadata": {},
   "outputs": [
    {
     "data": {
      "text/html": [
       "<div>\n",
       "<style scoped>\n",
       "    .dataframe tbody tr th:only-of-type {\n",
       "        vertical-align: middle;\n",
       "    }\n",
       "\n",
       "    .dataframe tbody tr th {\n",
       "        vertical-align: top;\n",
       "    }\n",
       "\n",
       "    .dataframe thead th {\n",
       "        text-align: right;\n",
       "    }\n",
       "</style>\n",
       "<table border=\"1\" class=\"dataframe\">\n",
       "  <thead>\n",
       "    <tr style=\"text-align: right;\">\n",
       "      <th></th>\n",
       "      <th>store_name</th>\n",
       "      <th>address</th>\n",
       "      <th>lat</th>\n",
       "      <th>lng</th>\n",
       "    </tr>\n",
       "  </thead>\n",
       "  <tbody>\n",
       "    <tr>\n",
       "      <th>0</th>\n",
       "      <td>Duane Reade</td>\n",
       "      <td>250 BROADWAY, NEW YORK, NY 10007</td>\n",
       "      <td>40.713008</td>\n",
       "      <td>-74.007821</td>\n",
       "    </tr>\n",
       "    <tr>\n",
       "      <th>1</th>\n",
       "      <td>Duane Reade</td>\n",
       "      <td>305 BROADWAY, NEW YORK, NY 10007</td>\n",
       "      <td>40.715479</td>\n",
       "      <td>-74.005545</td>\n",
       "    </tr>\n",
       "    <tr>\n",
       "      <th>2</th>\n",
       "      <td>Duane Reade</td>\n",
       "      <td>17 JOHN ST NEW YORK, NY 10038</td>\n",
       "      <td>40.709970</td>\n",
       "      <td>-74.008741</td>\n",
       "    </tr>\n",
       "    <tr>\n",
       "      <th>3</th>\n",
       "      <td>Duane Reade</td>\n",
       "      <td>185 GREENWICH ST, NEW YORK, NY 10007</td>\n",
       "      <td>40.711566</td>\n",
       "      <td>-74.011426</td>\n",
       "    </tr>\n",
       "    <tr>\n",
       "      <th>4</th>\n",
       "      <td>Duane Reade</td>\n",
       "      <td>200 WATER ST, NEW YORK, NY 10038</td>\n",
       "      <td>40.707256</td>\n",
       "      <td>-74.004805</td>\n",
       "    </tr>\n",
       "  </tbody>\n",
       "</table>\n",
       "</div>"
      ],
      "text/plain": [
       "    store_name                               address        lat        lng\n",
       "0  Duane Reade      250 BROADWAY, NEW YORK, NY 10007  40.713008 -74.007821\n",
       "1  Duane Reade      305 BROADWAY, NEW YORK, NY 10007  40.715479 -74.005545\n",
       "2  Duane Reade         17 JOHN ST NEW YORK, NY 10038  40.709970 -74.008741\n",
       "3  Duane Reade  185 GREENWICH ST, NEW YORK, NY 10007  40.711566 -74.011426\n",
       "4  Duane Reade      200 WATER ST, NEW YORK, NY 10038  40.707256 -74.004805"
      ]
     },
     "execution_count": 141,
     "metadata": {},
     "output_type": "execute_result"
    }
   ],
   "source": [
    "drlocations.head()"
   ]
  },
  {
   "cell_type": "code",
   "execution_count": 160,
   "id": "5cf8e4e2",
   "metadata": {},
   "outputs": [],
   "source": [
    "clnt = client.Client(key=OSR_TOKEN)\n",
    "map2 = folium.Map(tiles='Stamen Toner', location=([40.715479, -74.005545]), zoom_start=15)    \n",
    "\n",
    "for store_name, address, lat, lng in drlocations.values:\n",
    "    point = [lng, lat]\n",
    "    #folium.features.GeoJson(iso).add_to(map2)\n",
    "    \n",
    "    folium.map.Marker(list(reversed(point)), # reverse coords due to weird folium lat/lon syntax\n",
    "                      icon=folium.Icon(color='lightgray',\n",
    "                                        icon_color='#cc0000',\n",
    "                                        icon='plus',\n",
    "                                        prefix='fa',\n",
    "                                       ),\n",
    "                      popup=address,\n",
    "            ).add_to(map2)"
   ]
  },
  {
   "cell_type": "code",
   "execution_count": 161,
   "id": "0feb3862",
   "metadata": {},
   "outputs": [
    {
     "data": {
      "text/html": [
       "<div style=\"width:100%;\"><div style=\"position:relative;width:100%;height:0;padding-bottom:60%;\"><span style=\"color:#565656\">Make this Notebook Trusted to load map: File -> Trust Notebook</span><iframe src=\"about:blank\" style=\"position:absolute;width:100%;height:100%;left:0;top:0;border:none !important;\" data-html=%3C%21DOCTYPE%20html%3E%0A%3Chead%3E%20%20%20%20%0A%20%20%20%20%3Cmeta%20http-equiv%3D%22content-type%22%20content%3D%22text/html%3B%20charset%3DUTF-8%22%20/%3E%0A%20%20%20%20%0A%20%20%20%20%20%20%20%20%3Cscript%3E%0A%20%20%20%20%20%20%20%20%20%20%20%20L_NO_TOUCH%20%3D%20false%3B%0A%20%20%20%20%20%20%20%20%20%20%20%20L_DISABLE_3D%20%3D%20false%3B%0A%20%20%20%20%20%20%20%20%3C/script%3E%0A%20%20%20%20%0A%20%20%20%20%3Cstyle%3Ehtml%2C%20body%20%7Bwidth%3A%20100%25%3Bheight%3A%20100%25%3Bmargin%3A%200%3Bpadding%3A%200%3B%7D%3C/style%3E%0A%20%20%20%20%3Cstyle%3E%23map%20%7Bposition%3Aabsolute%3Btop%3A0%3Bbottom%3A0%3Bright%3A0%3Bleft%3A0%3B%7D%3C/style%3E%0A%20%20%20%20%3Cscript%20src%3D%22https%3A//cdn.jsdelivr.net/npm/leaflet%401.6.0/dist/leaflet.js%22%3E%3C/script%3E%0A%20%20%20%20%3Cscript%20src%3D%22https%3A//code.jquery.com/jquery-1.12.4.min.js%22%3E%3C/script%3E%0A%20%20%20%20%3Cscript%20src%3D%22https%3A//maxcdn.bootstrapcdn.com/bootstrap/3.2.0/js/bootstrap.min.js%22%3E%3C/script%3E%0A%20%20%20%20%3Cscript%20src%3D%22https%3A//cdnjs.cloudflare.com/ajax/libs/Leaflet.awesome-markers/2.0.2/leaflet.awesome-markers.js%22%3E%3C/script%3E%0A%20%20%20%20%3Clink%20rel%3D%22stylesheet%22%20href%3D%22https%3A//cdn.jsdelivr.net/npm/leaflet%401.6.0/dist/leaflet.css%22/%3E%0A%20%20%20%20%3Clink%20rel%3D%22stylesheet%22%20href%3D%22https%3A//maxcdn.bootstrapcdn.com/bootstrap/3.2.0/css/bootstrap.min.css%22/%3E%0A%20%20%20%20%3Clink%20rel%3D%22stylesheet%22%20href%3D%22https%3A//maxcdn.bootstrapcdn.com/bootstrap/3.2.0/css/bootstrap-theme.min.css%22/%3E%0A%20%20%20%20%3Clink%20rel%3D%22stylesheet%22%20href%3D%22https%3A//maxcdn.bootstrapcdn.com/font-awesome/4.6.3/css/font-awesome.min.css%22/%3E%0A%20%20%20%20%3Clink%20rel%3D%22stylesheet%22%20href%3D%22https%3A//cdnjs.cloudflare.com/ajax/libs/Leaflet.awesome-markers/2.0.2/leaflet.awesome-markers.css%22/%3E%0A%20%20%20%20%3Clink%20rel%3D%22stylesheet%22%20href%3D%22https%3A//cdn.jsdelivr.net/gh/python-visualization/folium/folium/templates/leaflet.awesome.rotate.min.css%22/%3E%0A%20%20%20%20%0A%20%20%20%20%20%20%20%20%20%20%20%20%3Cmeta%20name%3D%22viewport%22%20content%3D%22width%3Ddevice-width%2C%0A%20%20%20%20%20%20%20%20%20%20%20%20%20%20%20%20initial-scale%3D1.0%2C%20maximum-scale%3D1.0%2C%20user-scalable%3Dno%22%20/%3E%0A%20%20%20%20%20%20%20%20%20%20%20%20%3Cstyle%3E%0A%20%20%20%20%20%20%20%20%20%20%20%20%20%20%20%20%23map_7492aaf893ff4167b71f6263ba84ab79%20%7B%0A%20%20%20%20%20%20%20%20%20%20%20%20%20%20%20%20%20%20%20%20position%3A%20relative%3B%0A%20%20%20%20%20%20%20%20%20%20%20%20%20%20%20%20%20%20%20%20width%3A%20100.0%25%3B%0A%20%20%20%20%20%20%20%20%20%20%20%20%20%20%20%20%20%20%20%20height%3A%20100.0%25%3B%0A%20%20%20%20%20%20%20%20%20%20%20%20%20%20%20%20%20%20%20%20left%3A%200.0%25%3B%0A%20%20%20%20%20%20%20%20%20%20%20%20%20%20%20%20%20%20%20%20top%3A%200.0%25%3B%0A%20%20%20%20%20%20%20%20%20%20%20%20%20%20%20%20%7D%0A%20%20%20%20%20%20%20%20%20%20%20%20%3C/style%3E%0A%20%20%20%20%20%20%20%20%0A%3C/head%3E%0A%3Cbody%3E%20%20%20%20%0A%20%20%20%20%0A%20%20%20%20%20%20%20%20%20%20%20%20%3Cdiv%20class%3D%22folium-map%22%20id%3D%22map_7492aaf893ff4167b71f6263ba84ab79%22%20%3E%3C/div%3E%0A%20%20%20%20%20%20%20%20%0A%3C/body%3E%0A%3Cscript%3E%20%20%20%20%0A%20%20%20%20%0A%20%20%20%20%20%20%20%20%20%20%20%20var%20map_7492aaf893ff4167b71f6263ba84ab79%20%3D%20L.map%28%0A%20%20%20%20%20%20%20%20%20%20%20%20%20%20%20%20%22map_7492aaf893ff4167b71f6263ba84ab79%22%2C%0A%20%20%20%20%20%20%20%20%20%20%20%20%20%20%20%20%7B%0A%20%20%20%20%20%20%20%20%20%20%20%20%20%20%20%20%20%20%20%20center%3A%20%5B40.715479%2C%20-74.005545%5D%2C%0A%20%20%20%20%20%20%20%20%20%20%20%20%20%20%20%20%20%20%20%20crs%3A%20L.CRS.EPSG3857%2C%0A%20%20%20%20%20%20%20%20%20%20%20%20%20%20%20%20%20%20%20%20zoom%3A%2015%2C%0A%20%20%20%20%20%20%20%20%20%20%20%20%20%20%20%20%20%20%20%20zoomControl%3A%20true%2C%0A%20%20%20%20%20%20%20%20%20%20%20%20%20%20%20%20%20%20%20%20preferCanvas%3A%20false%2C%0A%20%20%20%20%20%20%20%20%20%20%20%20%20%20%20%20%7D%0A%20%20%20%20%20%20%20%20%20%20%20%20%29%3B%0A%0A%20%20%20%20%20%20%20%20%20%20%20%20%0A%0A%20%20%20%20%20%20%20%20%0A%20%20%20%20%0A%20%20%20%20%20%20%20%20%20%20%20%20var%20tile_layer_f9c483793b9f442aaaeb31b2d82b3ae7%20%3D%20L.tileLayer%28%0A%20%20%20%20%20%20%20%20%20%20%20%20%20%20%20%20%22https%3A//stamen-tiles-%7Bs%7D.a.ssl.fastly.net/toner/%7Bz%7D/%7Bx%7D/%7By%7D.png%22%2C%0A%20%20%20%20%20%20%20%20%20%20%20%20%20%20%20%20%7B%22attribution%22%3A%20%22Map%20tiles%20by%20%5Cu003ca%20href%3D%5C%22http%3A//stamen.com%5C%22%5Cu003eStamen%20Design%5Cu003c/a%5Cu003e%2C%20under%20%5Cu003ca%20href%3D%5C%22http%3A//creativecommons.org/licenses/by/3.0%5C%22%5Cu003eCC%20BY%203.0%5Cu003c/a%5Cu003e.%20Data%20by%20%5Cu0026copy%3B%20%5Cu003ca%20href%3D%5C%22http%3A//openstreetmap.org%5C%22%5Cu003eOpenStreetMap%5Cu003c/a%5Cu003e%2C%20under%20%5Cu003ca%20href%3D%5C%22http%3A//www.openstreetmap.org/copyright%5C%22%5Cu003eODbL%5Cu003c/a%5Cu003e.%22%2C%20%22detectRetina%22%3A%20false%2C%20%22maxNativeZoom%22%3A%2018%2C%20%22maxZoom%22%3A%2018%2C%20%22minZoom%22%3A%200%2C%20%22noWrap%22%3A%20false%2C%20%22opacity%22%3A%201%2C%20%22subdomains%22%3A%20%22abc%22%2C%20%22tms%22%3A%20false%7D%0A%20%20%20%20%20%20%20%20%20%20%20%20%29.addTo%28map_7492aaf893ff4167b71f6263ba84ab79%29%3B%0A%20%20%20%20%20%20%20%20%0A%20%20%20%20%0A%20%20%20%20%20%20%20%20%20%20%20%20var%20marker_a69e68ea948b4e1fb81948ee6ab93dde%20%3D%20L.marker%28%0A%20%20%20%20%20%20%20%20%20%20%20%20%20%20%20%20%5B40.7130079%2C%20-74.0078212%5D%2C%0A%20%20%20%20%20%20%20%20%20%20%20%20%20%20%20%20%7B%7D%0A%20%20%20%20%20%20%20%20%20%20%20%20%29.addTo%28map_7492aaf893ff4167b71f6263ba84ab79%29%3B%0A%20%20%20%20%20%20%20%20%0A%20%20%20%20%0A%20%20%20%20%20%20%20%20%20%20%20%20var%20icon_9a20b11474504fb2bea9e14b2730e606%20%3D%20L.AwesomeMarkers.icon%28%0A%20%20%20%20%20%20%20%20%20%20%20%20%20%20%20%20%7B%22extraClasses%22%3A%20%22fa-rotate-0%22%2C%20%22icon%22%3A%20%22plus%22%2C%20%22iconColor%22%3A%20%22%23cc0000%22%2C%20%22markerColor%22%3A%20%22lightgray%22%2C%20%22prefix%22%3A%20%22fa%22%7D%0A%20%20%20%20%20%20%20%20%20%20%20%20%29%3B%0A%20%20%20%20%20%20%20%20%20%20%20%20marker_a69e68ea948b4e1fb81948ee6ab93dde.setIcon%28icon_9a20b11474504fb2bea9e14b2730e606%29%3B%0A%20%20%20%20%20%20%20%20%0A%20%20%20%20%0A%20%20%20%20%20%20%20%20var%20popup_3e3c909628ce4c6582678318e71a7f12%20%3D%20L.popup%28%7B%22maxWidth%22%3A%20%22100%25%22%7D%29%3B%0A%0A%20%20%20%20%20%20%20%20%0A%20%20%20%20%20%20%20%20%20%20%20%20var%20html_14982975503e451f8e679ed42ecd1beb%20%3D%20%24%28%60%3Cdiv%20id%3D%22html_14982975503e451f8e679ed42ecd1beb%22%20style%3D%22width%3A%20100.0%25%3B%20height%3A%20100.0%25%3B%22%3E250%20BROADWAY%2C%20NEW%20YORK%2C%C2%A0NY%C2%A010007%3C/div%3E%60%29%5B0%5D%3B%0A%20%20%20%20%20%20%20%20%20%20%20%20popup_3e3c909628ce4c6582678318e71a7f12.setContent%28html_14982975503e451f8e679ed42ecd1beb%29%3B%0A%20%20%20%20%20%20%20%20%0A%0A%20%20%20%20%20%20%20%20marker_a69e68ea948b4e1fb81948ee6ab93dde.bindPopup%28popup_3e3c909628ce4c6582678318e71a7f12%29%0A%20%20%20%20%20%20%20%20%3B%0A%0A%20%20%20%20%20%20%20%20%0A%20%20%20%20%0A%20%20%20%20%0A%20%20%20%20%20%20%20%20%20%20%20%20var%20marker_4c63a0a240234ed4ad634cc191d54998%20%3D%20L.marker%28%0A%20%20%20%20%20%20%20%20%20%20%20%20%20%20%20%20%5B40.7154787%2C%20-74.005545%5D%2C%0A%20%20%20%20%20%20%20%20%20%20%20%20%20%20%20%20%7B%7D%0A%20%20%20%20%20%20%20%20%20%20%20%20%29.addTo%28map_7492aaf893ff4167b71f6263ba84ab79%29%3B%0A%20%20%20%20%20%20%20%20%0A%20%20%20%20%0A%20%20%20%20%20%20%20%20%20%20%20%20var%20icon_10a8436ac2ce43abb85333ee2b9934da%20%3D%20L.AwesomeMarkers.icon%28%0A%20%20%20%20%20%20%20%20%20%20%20%20%20%20%20%20%7B%22extraClasses%22%3A%20%22fa-rotate-0%22%2C%20%22icon%22%3A%20%22plus%22%2C%20%22iconColor%22%3A%20%22%23cc0000%22%2C%20%22markerColor%22%3A%20%22lightgray%22%2C%20%22prefix%22%3A%20%22fa%22%7D%0A%20%20%20%20%20%20%20%20%20%20%20%20%29%3B%0A%20%20%20%20%20%20%20%20%20%20%20%20marker_4c63a0a240234ed4ad634cc191d54998.setIcon%28icon_10a8436ac2ce43abb85333ee2b9934da%29%3B%0A%20%20%20%20%20%20%20%20%0A%20%20%20%20%0A%20%20%20%20%20%20%20%20var%20popup_fc219764d57a4ee2b6b60ece1e5dbcf9%20%3D%20L.popup%28%7B%22maxWidth%22%3A%20%22100%25%22%7D%29%3B%0A%0A%20%20%20%20%20%20%20%20%0A%20%20%20%20%20%20%20%20%20%20%20%20var%20html_0eea2e8d4e6946d0bdbc878d0f18845e%20%3D%20%24%28%60%3Cdiv%20id%3D%22html_0eea2e8d4e6946d0bdbc878d0f18845e%22%20style%3D%22width%3A%20100.0%25%3B%20height%3A%20100.0%25%3B%22%3E305%20BROADWAY%2C%20NEW%20YORK%2C%20NY%2010007%3C/div%3E%60%29%5B0%5D%3B%0A%20%20%20%20%20%20%20%20%20%20%20%20popup_fc219764d57a4ee2b6b60ece1e5dbcf9.setContent%28html_0eea2e8d4e6946d0bdbc878d0f18845e%29%3B%0A%20%20%20%20%20%20%20%20%0A%0A%20%20%20%20%20%20%20%20marker_4c63a0a240234ed4ad634cc191d54998.bindPopup%28popup_fc219764d57a4ee2b6b60ece1e5dbcf9%29%0A%20%20%20%20%20%20%20%20%3B%0A%0A%20%20%20%20%20%20%20%20%0A%20%20%20%20%0A%20%20%20%20%0A%20%20%20%20%20%20%20%20%20%20%20%20var%20marker_33edc4de93b94c2d8b79264fdd609d54%20%3D%20L.marker%28%0A%20%20%20%20%20%20%20%20%20%20%20%20%20%20%20%20%5B40.7099702%2C%20-74.0087412%5D%2C%0A%20%20%20%20%20%20%20%20%20%20%20%20%20%20%20%20%7B%7D%0A%20%20%20%20%20%20%20%20%20%20%20%20%29.addTo%28map_7492aaf893ff4167b71f6263ba84ab79%29%3B%0A%20%20%20%20%20%20%20%20%0A%20%20%20%20%0A%20%20%20%20%20%20%20%20%20%20%20%20var%20icon_356b70be1f1348029130cc3dbe3d3c71%20%3D%20L.AwesomeMarkers.icon%28%0A%20%20%20%20%20%20%20%20%20%20%20%20%20%20%20%20%7B%22extraClasses%22%3A%20%22fa-rotate-0%22%2C%20%22icon%22%3A%20%22plus%22%2C%20%22iconColor%22%3A%20%22%23cc0000%22%2C%20%22markerColor%22%3A%20%22lightgray%22%2C%20%22prefix%22%3A%20%22fa%22%7D%0A%20%20%20%20%20%20%20%20%20%20%20%20%29%3B%0A%20%20%20%20%20%20%20%20%20%20%20%20marker_33edc4de93b94c2d8b79264fdd609d54.setIcon%28icon_356b70be1f1348029130cc3dbe3d3c71%29%3B%0A%20%20%20%20%20%20%20%20%0A%20%20%20%20%0A%20%20%20%20%20%20%20%20var%20popup_4771556960ff46c6b0c0665ca9e45a61%20%3D%20L.popup%28%7B%22maxWidth%22%3A%20%22100%25%22%7D%29%3B%0A%0A%20%20%20%20%20%20%20%20%0A%20%20%20%20%20%20%20%20%20%20%20%20var%20html_fc867fcecb98460386e4e5d32af3a291%20%3D%20%24%28%60%3Cdiv%20id%3D%22html_fc867fcecb98460386e4e5d32af3a291%22%20style%3D%22width%3A%20100.0%25%3B%20height%3A%20100.0%25%3B%22%3E17%20JOHN%20ST%20NEW%20YORK%2C%20NY%2010038%3C/div%3E%60%29%5B0%5D%3B%0A%20%20%20%20%20%20%20%20%20%20%20%20popup_4771556960ff46c6b0c0665ca9e45a61.setContent%28html_fc867fcecb98460386e4e5d32af3a291%29%3B%0A%20%20%20%20%20%20%20%20%0A%0A%20%20%20%20%20%20%20%20marker_33edc4de93b94c2d8b79264fdd609d54.bindPopup%28popup_4771556960ff46c6b0c0665ca9e45a61%29%0A%20%20%20%20%20%20%20%20%3B%0A%0A%20%20%20%20%20%20%20%20%0A%20%20%20%20%0A%20%20%20%20%0A%20%20%20%20%20%20%20%20%20%20%20%20var%20marker_cfd30e88d74c4fbba08c51a50e71180d%20%3D%20L.marker%28%0A%20%20%20%20%20%20%20%20%20%20%20%20%20%20%20%20%5B40.7115663%2C%20-74.0114261%5D%2C%0A%20%20%20%20%20%20%20%20%20%20%20%20%20%20%20%20%7B%7D%0A%20%20%20%20%20%20%20%20%20%20%20%20%29.addTo%28map_7492aaf893ff4167b71f6263ba84ab79%29%3B%0A%20%20%20%20%20%20%20%20%0A%20%20%20%20%0A%20%20%20%20%20%20%20%20%20%20%20%20var%20icon_38a78d553e6d412db350343c94d2a14e%20%3D%20L.AwesomeMarkers.icon%28%0A%20%20%20%20%20%20%20%20%20%20%20%20%20%20%20%20%7B%22extraClasses%22%3A%20%22fa-rotate-0%22%2C%20%22icon%22%3A%20%22plus%22%2C%20%22iconColor%22%3A%20%22%23cc0000%22%2C%20%22markerColor%22%3A%20%22lightgray%22%2C%20%22prefix%22%3A%20%22fa%22%7D%0A%20%20%20%20%20%20%20%20%20%20%20%20%29%3B%0A%20%20%20%20%20%20%20%20%20%20%20%20marker_cfd30e88d74c4fbba08c51a50e71180d.setIcon%28icon_38a78d553e6d412db350343c94d2a14e%29%3B%0A%20%20%20%20%20%20%20%20%0A%20%20%20%20%0A%20%20%20%20%20%20%20%20var%20popup_444890d1c3b242429ae6e6f9f698dbe1%20%3D%20L.popup%28%7B%22maxWidth%22%3A%20%22100%25%22%7D%29%3B%0A%0A%20%20%20%20%20%20%20%20%0A%20%20%20%20%20%20%20%20%20%20%20%20var%20html_dfc36ea211b24746b01dffd68f521cf2%20%3D%20%24%28%60%3Cdiv%20id%3D%22html_dfc36ea211b24746b01dffd68f521cf2%22%20style%3D%22width%3A%20100.0%25%3B%20height%3A%20100.0%25%3B%22%3E185%20GREENWICH%20ST%2C%20NEW%20YORK%2C%20NY%2010007%3C/div%3E%60%29%5B0%5D%3B%0A%20%20%20%20%20%20%20%20%20%20%20%20popup_444890d1c3b242429ae6e6f9f698dbe1.setContent%28html_dfc36ea211b24746b01dffd68f521cf2%29%3B%0A%20%20%20%20%20%20%20%20%0A%0A%20%20%20%20%20%20%20%20marker_cfd30e88d74c4fbba08c51a50e71180d.bindPopup%28popup_444890d1c3b242429ae6e6f9f698dbe1%29%0A%20%20%20%20%20%20%20%20%3B%0A%0A%20%20%20%20%20%20%20%20%0A%20%20%20%20%0A%20%20%20%20%0A%20%20%20%20%20%20%20%20%20%20%20%20var%20marker_c5c39ba3a4a343d8a3f5f4f15d48dec1%20%3D%20L.marker%28%0A%20%20%20%20%20%20%20%20%20%20%20%20%20%20%20%20%5B40.7072559%2C%20-74.0048047%5D%2C%0A%20%20%20%20%20%20%20%20%20%20%20%20%20%20%20%20%7B%7D%0A%20%20%20%20%20%20%20%20%20%20%20%20%29.addTo%28map_7492aaf893ff4167b71f6263ba84ab79%29%3B%0A%20%20%20%20%20%20%20%20%0A%20%20%20%20%0A%20%20%20%20%20%20%20%20%20%20%20%20var%20icon_155a0cedf7d842888eb9a4c76b6cddd0%20%3D%20L.AwesomeMarkers.icon%28%0A%20%20%20%20%20%20%20%20%20%20%20%20%20%20%20%20%7B%22extraClasses%22%3A%20%22fa-rotate-0%22%2C%20%22icon%22%3A%20%22plus%22%2C%20%22iconColor%22%3A%20%22%23cc0000%22%2C%20%22markerColor%22%3A%20%22lightgray%22%2C%20%22prefix%22%3A%20%22fa%22%7D%0A%20%20%20%20%20%20%20%20%20%20%20%20%29%3B%0A%20%20%20%20%20%20%20%20%20%20%20%20marker_c5c39ba3a4a343d8a3f5f4f15d48dec1.setIcon%28icon_155a0cedf7d842888eb9a4c76b6cddd0%29%3B%0A%20%20%20%20%20%20%20%20%0A%20%20%20%20%0A%20%20%20%20%20%20%20%20var%20popup_8670d184efb444758853a62dd5958d81%20%3D%20L.popup%28%7B%22maxWidth%22%3A%20%22100%25%22%7D%29%3B%0A%0A%20%20%20%20%20%20%20%20%0A%20%20%20%20%20%20%20%20%20%20%20%20var%20html_fac9ec7d67b0420aa3fcb5e468d9c1e1%20%3D%20%24%28%60%3Cdiv%20id%3D%22html_fac9ec7d67b0420aa3fcb5e468d9c1e1%22%20style%3D%22width%3A%20100.0%25%3B%20height%3A%20100.0%25%3B%22%3E200%20WATER%20ST%2C%20NEW%20YORK%2C%C2%A0NY%C2%A010038%3C/div%3E%60%29%5B0%5D%3B%0A%20%20%20%20%20%20%20%20%20%20%20%20popup_8670d184efb444758853a62dd5958d81.setContent%28html_fac9ec7d67b0420aa3fcb5e468d9c1e1%29%3B%0A%20%20%20%20%20%20%20%20%0A%0A%20%20%20%20%20%20%20%20marker_c5c39ba3a4a343d8a3f5f4f15d48dec1.bindPopup%28popup_8670d184efb444758853a62dd5958d81%29%0A%20%20%20%20%20%20%20%20%3B%0A%0A%20%20%20%20%20%20%20%20%0A%20%20%20%20%0A%20%20%20%20%0A%20%20%20%20%20%20%20%20%20%20%20%20var%20marker_13bea1d4319e4535a5ab01a7290fc645%20%3D%20L.marker%28%0A%20%20%20%20%20%20%20%20%20%20%20%20%20%20%20%20%5B40.7079934%2C%20-74.0110538%5D%2C%0A%20%20%20%20%20%20%20%20%20%20%20%20%20%20%20%20%7B%7D%0A%20%20%20%20%20%20%20%20%20%20%20%20%29.addTo%28map_7492aaf893ff4167b71f6263ba84ab79%29%3B%0A%20%20%20%20%20%20%20%20%0A%20%20%20%20%0A%20%20%20%20%20%20%20%20%20%20%20%20var%20icon_efc5ffafb55f4b68b0a0672ea813893a%20%3D%20L.AwesomeMarkers.icon%28%0A%20%20%20%20%20%20%20%20%20%20%20%20%20%20%20%20%7B%22extraClasses%22%3A%20%22fa-rotate-0%22%2C%20%22icon%22%3A%20%22plus%22%2C%20%22iconColor%22%3A%20%22%23cc0000%22%2C%20%22markerColor%22%3A%20%22lightgray%22%2C%20%22prefix%22%3A%20%22fa%22%7D%0A%20%20%20%20%20%20%20%20%20%20%20%20%29%3B%0A%20%20%20%20%20%20%20%20%20%20%20%20marker_13bea1d4319e4535a5ab01a7290fc645.setIcon%28icon_efc5ffafb55f4b68b0a0672ea813893a%29%3B%0A%20%20%20%20%20%20%20%20%0A%20%20%20%20%0A%20%20%20%20%20%20%20%20var%20popup_ebf87cb188f9495e9110fe4e5edd5a17%20%3D%20L.popup%28%7B%22maxWidth%22%3A%20%22100%25%22%7D%29%3B%0A%0A%20%20%20%20%20%20%20%20%0A%20%20%20%20%20%20%20%20%20%20%20%20var%20html_9a1f2bb6bd2643b3995d73c0b0c739cd%20%3D%20%24%28%60%3Cdiv%20id%3D%22html_9a1f2bb6bd2643b3995d73c0b0c739cd%22%20style%3D%22width%3A%20100.0%25%3B%20height%3A%20100.0%25%3B%22%3E100%20BROADWAY%2C%20NEW%20YORK%2C%20NY%2010005%3C/div%3E%60%29%5B0%5D%3B%0A%20%20%20%20%20%20%20%20%20%20%20%20popup_ebf87cb188f9495e9110fe4e5edd5a17.setContent%28html_9a1f2bb6bd2643b3995d73c0b0c739cd%29%3B%0A%20%20%20%20%20%20%20%20%0A%0A%20%20%20%20%20%20%20%20marker_13bea1d4319e4535a5ab01a7290fc645.bindPopup%28popup_ebf87cb188f9495e9110fe4e5edd5a17%29%0A%20%20%20%20%20%20%20%20%3B%0A%0A%20%20%20%20%20%20%20%20%0A%20%20%20%20%0A%20%20%20%20%0A%20%20%20%20%20%20%20%20%20%20%20%20var%20marker_3a459eef766a4f32be31ed39baddd160%20%3D%20L.marker%28%0A%20%20%20%20%20%20%20%20%20%20%20%20%20%20%20%20%5B40.7067136%2C%20-74.0096305%5D%2C%0A%20%20%20%20%20%20%20%20%20%20%20%20%20%20%20%20%7B%7D%0A%20%20%20%20%20%20%20%20%20%20%20%20%29.addTo%28map_7492aaf893ff4167b71f6263ba84ab79%29%3B%0A%20%20%20%20%20%20%20%20%0A%20%20%20%20%0A%20%20%20%20%20%20%20%20%20%20%20%20var%20icon_830306c0d1eb49be82180939367641b4%20%3D%20L.AwesomeMarkers.icon%28%0A%20%20%20%20%20%20%20%20%20%20%20%20%20%20%20%20%7B%22extraClasses%22%3A%20%22fa-rotate-0%22%2C%20%22icon%22%3A%20%22plus%22%2C%20%22iconColor%22%3A%20%22%23cc0000%22%2C%20%22markerColor%22%3A%20%22lightgray%22%2C%20%22prefix%22%3A%20%22fa%22%7D%0A%20%20%20%20%20%20%20%20%20%20%20%20%29%3B%0A%20%20%20%20%20%20%20%20%20%20%20%20marker_3a459eef766a4f32be31ed39baddd160.setIcon%28icon_830306c0d1eb49be82180939367641b4%29%3B%0A%20%20%20%20%20%20%20%20%0A%20%20%20%20%0A%20%20%20%20%20%20%20%20var%20popup_314635b270a0441098ebd4a893f04262%20%3D%20L.popup%28%7B%22maxWidth%22%3A%20%22100%25%22%7D%29%3B%0A%0A%20%20%20%20%20%20%20%20%0A%20%20%20%20%20%20%20%20%20%20%20%20var%20html_1aa9d8da49db490397c9b91a5db76845%20%3D%20%24%28%60%3Cdiv%20id%3D%22html_1aa9d8da49db490397c9b91a5db76845%22%20style%3D%22width%3A%20100.0%25%3B%20height%3A%20100.0%25%3B%22%3E40%20WALL%20ST%2C%20NEW%20YORK%2C%20NY%2010005%3C/div%3E%60%29%5B0%5D%3B%0A%20%20%20%20%20%20%20%20%20%20%20%20popup_314635b270a0441098ebd4a893f04262.setContent%28html_1aa9d8da49db490397c9b91a5db76845%29%3B%0A%20%20%20%20%20%20%20%20%0A%0A%20%20%20%20%20%20%20%20marker_3a459eef766a4f32be31ed39baddd160.bindPopup%28popup_314635b270a0441098ebd4a893f04262%29%0A%20%20%20%20%20%20%20%20%3B%0A%0A%20%20%20%20%20%20%20%20%0A%20%20%20%20%0A%20%20%20%20%0A%20%20%20%20%20%20%20%20%20%20%20%20var%20marker_f717a30c97a34a9bb98bbb2375968aa2%20%3D%20L.marker%28%0A%20%20%20%20%20%20%20%20%20%20%20%20%20%20%20%20%5B40.719172%2C%20-74.0107611%5D%2C%0A%20%20%20%20%20%20%20%20%20%20%20%20%20%20%20%20%7B%7D%0A%20%20%20%20%20%20%20%20%20%20%20%20%29.addTo%28map_7492aaf893ff4167b71f6263ba84ab79%29%3B%0A%20%20%20%20%20%20%20%20%0A%20%20%20%20%0A%20%20%20%20%20%20%20%20%20%20%20%20var%20icon_d467533979c64dd5919eb29ee3a343fc%20%3D%20L.AwesomeMarkers.icon%28%0A%20%20%20%20%20%20%20%20%20%20%20%20%20%20%20%20%7B%22extraClasses%22%3A%20%22fa-rotate-0%22%2C%20%22icon%22%3A%20%22plus%22%2C%20%22iconColor%22%3A%20%22%23cc0000%22%2C%20%22markerColor%22%3A%20%22lightgray%22%2C%20%22prefix%22%3A%20%22fa%22%7D%0A%20%20%20%20%20%20%20%20%20%20%20%20%29%3B%0A%20%20%20%20%20%20%20%20%20%20%20%20marker_f717a30c97a34a9bb98bbb2375968aa2.setIcon%28icon_d467533979c64dd5919eb29ee3a343fc%29%3B%0A%20%20%20%20%20%20%20%20%0A%20%20%20%20%0A%20%20%20%20%20%20%20%20var%20popup_667513ee08d14239ba35b7496d07b921%20%3D%20L.popup%28%7B%22maxWidth%22%3A%20%22100%25%22%7D%29%3B%0A%0A%20%20%20%20%20%20%20%20%0A%20%20%20%20%20%20%20%20%20%20%20%20var%20html_e28f2558f92244899cee5438f51fa63f%20%3D%20%24%28%60%3Cdiv%20id%3D%22html_e28f2558f92244899cee5438f51fa63f%22%20style%3D%22width%3A%20100.0%25%3B%20height%3A%20100.0%25%3B%22%3E352%20GREENWICH%20ST%2C%20NEW%20YORK%2C%20NY%2010013%3C/div%3E%60%29%5B0%5D%3B%0A%20%20%20%20%20%20%20%20%20%20%20%20popup_667513ee08d14239ba35b7496d07b921.setContent%28html_e28f2558f92244899cee5438f51fa63f%29%3B%0A%20%20%20%20%20%20%20%20%0A%0A%20%20%20%20%20%20%20%20marker_f717a30c97a34a9bb98bbb2375968aa2.bindPopup%28popup_667513ee08d14239ba35b7496d07b921%29%0A%20%20%20%20%20%20%20%20%3B%0A%0A%20%20%20%20%20%20%20%20%0A%20%20%20%20%0A%20%20%20%20%0A%20%20%20%20%20%20%20%20%20%20%20%20var%20marker_56070f2d01f64a988722b4de20459c5c%20%3D%20L.marker%28%0A%20%20%20%20%20%20%20%20%20%20%20%20%20%20%20%20%5B40.7167182%2C%20-74.0150367%5D%2C%0A%20%20%20%20%20%20%20%20%20%20%20%20%20%20%20%20%7B%7D%0A%20%20%20%20%20%20%20%20%20%20%20%20%29.addTo%28map_7492aaf893ff4167b71f6263ba84ab79%29%3B%0A%20%20%20%20%20%20%20%20%0A%20%20%20%20%0A%20%20%20%20%20%20%20%20%20%20%20%20var%20icon_b0c3894704a14757a6795ac3bf1a8afd%20%3D%20L.AwesomeMarkers.icon%28%0A%20%20%20%20%20%20%20%20%20%20%20%20%20%20%20%20%7B%22extraClasses%22%3A%20%22fa-rotate-0%22%2C%20%22icon%22%3A%20%22plus%22%2C%20%22iconColor%22%3A%20%22%23cc0000%22%2C%20%22markerColor%22%3A%20%22lightgray%22%2C%20%22prefix%22%3A%20%22fa%22%7D%0A%20%20%20%20%20%20%20%20%20%20%20%20%29%3B%0A%20%20%20%20%20%20%20%20%20%20%20%20marker_56070f2d01f64a988722b4de20459c5c.setIcon%28icon_b0c3894704a14757a6795ac3bf1a8afd%29%3B%0A%20%20%20%20%20%20%20%20%0A%20%20%20%20%0A%20%20%20%20%20%20%20%20var%20popup_10eab0e717fd49dea215b9833fa03ba0%20%3D%20L.popup%28%7B%22maxWidth%22%3A%20%22100%25%22%7D%29%3B%0A%0A%20%20%20%20%20%20%20%20%0A%20%20%20%20%20%20%20%20%20%20%20%20var%20html_c53f227d12ac437490d3debf12b39a40%20%3D%20%24%28%60%3Cdiv%20id%3D%22html_c53f227d12ac437490d3debf12b39a40%22%20style%3D%22width%3A%20100.0%25%3B%20height%3A%20100.0%25%3B%22%3E315%20N%20END%20AVE%2C%20NEW%20YORK%2C%20NY%2010282%3C/div%3E%60%29%5B0%5D%3B%0A%20%20%20%20%20%20%20%20%20%20%20%20popup_10eab0e717fd49dea215b9833fa03ba0.setContent%28html_c53f227d12ac437490d3debf12b39a40%29%3B%0A%20%20%20%20%20%20%20%20%0A%0A%20%20%20%20%20%20%20%20marker_56070f2d01f64a988722b4de20459c5c.bindPopup%28popup_10eab0e717fd49dea215b9833fa03ba0%29%0A%20%20%20%20%20%20%20%20%3B%0A%0A%20%20%20%20%20%20%20%20%0A%20%20%20%20%0A%20%20%20%20%0A%20%20%20%20%20%20%20%20%20%20%20%20var%20marker_b7a0e770d846470081287cd12f434936%20%3D%20L.marker%28%0A%20%20%20%20%20%20%20%20%20%20%20%20%20%20%20%20%5B40.7048215%2C%20-74.0075621%5D%2C%0A%20%20%20%20%20%20%20%20%20%20%20%20%20%20%20%20%7B%7D%0A%20%20%20%20%20%20%20%20%20%20%20%20%29.addTo%28map_7492aaf893ff4167b71f6263ba84ab79%29%3B%0A%20%20%20%20%20%20%20%20%0A%20%20%20%20%0A%20%20%20%20%20%20%20%20%20%20%20%20var%20icon_41b9cc4dfaec4ab5830b35f896ef2e28%20%3D%20L.AwesomeMarkers.icon%28%0A%20%20%20%20%20%20%20%20%20%20%20%20%20%20%20%20%7B%22extraClasses%22%3A%20%22fa-rotate-0%22%2C%20%22icon%22%3A%20%22plus%22%2C%20%22iconColor%22%3A%20%22%23cc0000%22%2C%20%22markerColor%22%3A%20%22lightgray%22%2C%20%22prefix%22%3A%20%22fa%22%7D%0A%20%20%20%20%20%20%20%20%20%20%20%20%29%3B%0A%20%20%20%20%20%20%20%20%20%20%20%20marker_b7a0e770d846470081287cd12f434936.setIcon%28icon_41b9cc4dfaec4ab5830b35f896ef2e28%29%3B%0A%20%20%20%20%20%20%20%20%0A%20%20%20%20%0A%20%20%20%20%20%20%20%20var%20popup_2c8f9f822a4a46c9808cd429a4076219%20%3D%20L.popup%28%7B%22maxWidth%22%3A%20%22100%25%22%7D%29%3B%0A%0A%20%20%20%20%20%20%20%20%0A%20%20%20%20%20%20%20%20%20%20%20%20var%20html_ce030a38246e467f86acf21f97a5511b%20%3D%20%24%28%60%3Cdiv%20id%3D%22html_ce030a38246e467f86acf21f97a5511b%22%20style%3D%22width%3A%20100.0%25%3B%20height%3A%20100.0%25%3B%22%3E95%20WALL%20ST%2C%20NEW%20YORK%2C%20NY%2010005%3C/div%3E%60%29%5B0%5D%3B%0A%20%20%20%20%20%20%20%20%20%20%20%20popup_2c8f9f822a4a46c9808cd429a4076219.setContent%28html_ce030a38246e467f86acf21f97a5511b%29%3B%0A%20%20%20%20%20%20%20%20%0A%0A%20%20%20%20%20%20%20%20marker_b7a0e770d846470081287cd12f434936.bindPopup%28popup_2c8f9f822a4a46c9808cd429a4076219%29%0A%20%20%20%20%20%20%20%20%3B%0A%0A%20%20%20%20%20%20%20%20%0A%20%20%20%20%0A%20%20%20%20%0A%20%20%20%20%20%20%20%20%20%20%20%20var%20marker_b0dc2dfc2e7e4c8bbd3bd0b3ca4c6a73%20%3D%20L.marker%28%0A%20%20%20%20%20%20%20%20%20%20%20%20%20%20%20%20%5B40.7062214%2C%20-74.0132177%5D%2C%0A%20%20%20%20%20%20%20%20%20%20%20%20%20%20%20%20%7B%7D%0A%20%20%20%20%20%20%20%20%20%20%20%20%29.addTo%28map_7492aaf893ff4167b71f6263ba84ab79%29%3B%0A%20%20%20%20%20%20%20%20%0A%20%20%20%20%0A%20%20%20%20%20%20%20%20%20%20%20%20var%20icon_dbf86eb257694f88ab207a3a018427d5%20%3D%20L.AwesomeMarkers.icon%28%0A%20%20%20%20%20%20%20%20%20%20%20%20%20%20%20%20%7B%22extraClasses%22%3A%20%22fa-rotate-0%22%2C%20%22icon%22%3A%20%22plus%22%2C%20%22iconColor%22%3A%20%22%23cc0000%22%2C%20%22markerColor%22%3A%20%22lightgray%22%2C%20%22prefix%22%3A%20%22fa%22%7D%0A%20%20%20%20%20%20%20%20%20%20%20%20%29%3B%0A%20%20%20%20%20%20%20%20%20%20%20%20marker_b0dc2dfc2e7e4c8bbd3bd0b3ca4c6a73.setIcon%28icon_dbf86eb257694f88ab207a3a018427d5%29%3B%0A%20%20%20%20%20%20%20%20%0A%20%20%20%20%0A%20%20%20%20%20%20%20%20var%20popup_700b7f2edf7f4a3cb36f0263a1357d87%20%3D%20L.popup%28%7B%22maxWidth%22%3A%20%22100%25%22%7D%29%3B%0A%0A%20%20%20%20%20%20%20%20%0A%20%20%20%20%20%20%20%20%20%20%20%20var%20html_4fc7530d1a5e4fa68577d1a1d59932d8%20%3D%20%24%28%60%3Cdiv%20id%3D%22html_4fc7530d1a5e4fa68577d1a1d59932d8%22%20style%3D%22width%3A%20100.0%25%3B%20height%3A%20100.0%25%3B%22%3E37%20BROADWAY%2C%20NEW%20YORK%2C%20NY%2010006%3C/div%3E%60%29%5B0%5D%3B%0A%20%20%20%20%20%20%20%20%20%20%20%20popup_700b7f2edf7f4a3cb36f0263a1357d87.setContent%28html_4fc7530d1a5e4fa68577d1a1d59932d8%29%3B%0A%20%20%20%20%20%20%20%20%0A%0A%20%20%20%20%20%20%20%20marker_b0dc2dfc2e7e4c8bbd3bd0b3ca4c6a73.bindPopup%28popup_700b7f2edf7f4a3cb36f0263a1357d87%29%0A%20%20%20%20%20%20%20%20%3B%0A%0A%20%20%20%20%20%20%20%20%0A%20%20%20%20%0A%20%20%20%20%0A%20%20%20%20%20%20%20%20%20%20%20%20var%20marker_629b9becaf3048b9947eb04222c215bb%20%3D%20L.marker%28%0A%20%20%20%20%20%20%20%20%20%20%20%20%20%20%20%20%5B40.7048579%2C%20-74.0113224%5D%2C%0A%20%20%20%20%20%20%20%20%20%20%20%20%20%20%20%20%7B%7D%0A%20%20%20%20%20%20%20%20%20%20%20%20%29.addTo%28map_7492aaf893ff4167b71f6263ba84ab79%29%3B%0A%20%20%20%20%20%20%20%20%0A%20%20%20%20%0A%20%20%20%20%20%20%20%20%20%20%20%20var%20icon_aa139647a56d46058abde43f9df973cb%20%3D%20L.AwesomeMarkers.icon%28%0A%20%20%20%20%20%20%20%20%20%20%20%20%20%20%20%20%7B%22extraClasses%22%3A%20%22fa-rotate-0%22%2C%20%22icon%22%3A%20%22plus%22%2C%20%22iconColor%22%3A%20%22%23cc0000%22%2C%20%22markerColor%22%3A%20%22lightgray%22%2C%20%22prefix%22%3A%20%22fa%22%7D%0A%20%20%20%20%20%20%20%20%20%20%20%20%29%3B%0A%20%20%20%20%20%20%20%20%20%20%20%20marker_629b9becaf3048b9947eb04222c215bb.setIcon%28icon_aa139647a56d46058abde43f9df973cb%29%3B%0A%20%20%20%20%20%20%20%20%0A%20%20%20%20%0A%20%20%20%20%20%20%20%20var%20popup_b0a133302b10484e9b7432fba18320be%20%3D%20L.popup%28%7B%22maxWidth%22%3A%20%22100%25%22%7D%29%3B%0A%0A%20%20%20%20%20%20%20%20%0A%20%20%20%20%20%20%20%20%20%20%20%20var%20html_ecee5764d3e542529bfcc17ecc645b4a%20%3D%20%24%28%60%3Cdiv%20id%3D%22html_ecee5764d3e542529bfcc17ecc645b4a%22%20style%3D%22width%3A%20100.0%25%3B%20height%3A%20100.0%25%3B%22%3E67%20BROAD%20ST%2C%20NEW%20YORK%2C%20NY%2010004%3C/div%3E%60%29%5B0%5D%3B%0A%20%20%20%20%20%20%20%20%20%20%20%20popup_b0a133302b10484e9b7432fba18320be.setContent%28html_ecee5764d3e542529bfcc17ecc645b4a%29%3B%0A%20%20%20%20%20%20%20%20%0A%0A%20%20%20%20%20%20%20%20marker_629b9becaf3048b9947eb04222c215bb.bindPopup%28popup_b0a133302b10484e9b7432fba18320be%29%0A%20%20%20%20%20%20%20%20%3B%0A%0A%20%20%20%20%20%20%20%20%0A%20%20%20%20%0A%20%20%20%20%0A%20%20%20%20%20%20%20%20%20%20%20%20var%20marker_b8963a56418e40e68e59373d5933c38b%20%3D%20L.marker%28%0A%20%20%20%20%20%20%20%20%20%20%20%20%20%20%20%20%5B40.7208592%2C%20-74.0009613%5D%2C%0A%20%20%20%20%20%20%20%20%20%20%20%20%20%20%20%20%7B%7D%0A%20%20%20%20%20%20%20%20%20%20%20%20%29.addTo%28map_7492aaf893ff4167b71f6263ba84ab79%29%3B%0A%20%20%20%20%20%20%20%20%0A%20%20%20%20%0A%20%20%20%20%20%20%20%20%20%20%20%20var%20icon_1088507c9821479ab4a83f8060c95bb2%20%3D%20L.AwesomeMarkers.icon%28%0A%20%20%20%20%20%20%20%20%20%20%20%20%20%20%20%20%7B%22extraClasses%22%3A%20%22fa-rotate-0%22%2C%20%22icon%22%3A%20%22plus%22%2C%20%22iconColor%22%3A%20%22%23cc0000%22%2C%20%22markerColor%22%3A%20%22lightgray%22%2C%20%22prefix%22%3A%20%22fa%22%7D%0A%20%20%20%20%20%20%20%20%20%20%20%20%29%3B%0A%20%20%20%20%20%20%20%20%20%20%20%20marker_b8963a56418e40e68e59373d5933c38b.setIcon%28icon_1088507c9821479ab4a83f8060c95bb2%29%3B%0A%20%20%20%20%20%20%20%20%0A%20%20%20%20%0A%20%20%20%20%20%20%20%20var%20popup_5595c483321745528931b114d78cf5b8%20%3D%20L.popup%28%7B%22maxWidth%22%3A%20%22100%25%22%7D%29%3B%0A%0A%20%20%20%20%20%20%20%20%0A%20%20%20%20%20%20%20%20%20%20%20%20var%20html_c3f5d5c2833b43dab9b4c29f54975e3b%20%3D%20%24%28%60%3Cdiv%20id%3D%22html_c3f5d5c2833b43dab9b4c29f54975e3b%22%20style%3D%22width%3A%20100.0%25%3B%20height%3A%20100.0%25%3B%22%3E459%20BROADWAY%2C%20NEW%20YORK%2C%20NY%2010013%3C/div%3E%60%29%5B0%5D%3B%0A%20%20%20%20%20%20%20%20%20%20%20%20popup_5595c483321745528931b114d78cf5b8.setContent%28html_c3f5d5c2833b43dab9b4c29f54975e3b%29%3B%0A%20%20%20%20%20%20%20%20%0A%0A%20%20%20%20%20%20%20%20marker_b8963a56418e40e68e59373d5933c38b.bindPopup%28popup_5595c483321745528931b114d78cf5b8%29%0A%20%20%20%20%20%20%20%20%3B%0A%0A%20%20%20%20%20%20%20%20%0A%20%20%20%20%0A%20%20%20%20%0A%20%20%20%20%20%20%20%20%20%20%20%20var%20marker_202b790af18f43f7b193825c98d4deb9%20%3D%20L.marker%28%0A%20%20%20%20%20%20%20%20%20%20%20%20%20%20%20%20%5B40.7038046%2C%20-74.0128442%5D%2C%0A%20%20%20%20%20%20%20%20%20%20%20%20%20%20%20%20%7B%7D%0A%20%20%20%20%20%20%20%20%20%20%20%20%29.addTo%28map_7492aaf893ff4167b71f6263ba84ab79%29%3B%0A%20%20%20%20%20%20%20%20%0A%20%20%20%20%0A%20%20%20%20%20%20%20%20%20%20%20%20var%20icon_6db94741e3c749e98e1ba06d99e5b421%20%3D%20L.AwesomeMarkers.icon%28%0A%20%20%20%20%20%20%20%20%20%20%20%20%20%20%20%20%7B%22extraClasses%22%3A%20%22fa-rotate-0%22%2C%20%22icon%22%3A%20%22plus%22%2C%20%22iconColor%22%3A%20%22%23cc0000%22%2C%20%22markerColor%22%3A%20%22lightgray%22%2C%20%22prefix%22%3A%20%22fa%22%7D%0A%20%20%20%20%20%20%20%20%20%20%20%20%29%3B%0A%20%20%20%20%20%20%20%20%20%20%20%20marker_202b790af18f43f7b193825c98d4deb9.setIcon%28icon_6db94741e3c749e98e1ba06d99e5b421%29%3B%0A%20%20%20%20%20%20%20%20%0A%20%20%20%20%0A%20%20%20%20%20%20%20%20var%20popup_fe860b3fc82747c9ba8691dc5d032afe%20%3D%20L.popup%28%7B%22maxWidth%22%3A%20%22100%25%22%7D%29%3B%0A%0A%20%20%20%20%20%20%20%20%0A%20%20%20%20%20%20%20%20%20%20%20%20var%20html_5adc20b3b707480b9bead1ee56d6d5fa%20%3D%20%24%28%60%3Cdiv%20id%3D%22html_5adc20b3b707480b9bead1ee56d6d5fa%22%20style%3D%22width%3A%20100.0%25%3B%20height%3A%20100.0%25%3B%22%3E1%20WHITEHALL%20ST%2C%20NEW%20YORK%2C%20NY%2010004%3C/div%3E%60%29%5B0%5D%3B%0A%20%20%20%20%20%20%20%20%20%20%20%20popup_fe860b3fc82747c9ba8691dc5d032afe.setContent%28html_5adc20b3b707480b9bead1ee56d6d5fa%29%3B%0A%20%20%20%20%20%20%20%20%0A%0A%20%20%20%20%20%20%20%20marker_202b790af18f43f7b193825c98d4deb9.bindPopup%28popup_fe860b3fc82747c9ba8691dc5d032afe%29%0A%20%20%20%20%20%20%20%20%3B%0A%0A%20%20%20%20%20%20%20%20%0A%20%20%20%20%0A%20%20%20%20%0A%20%20%20%20%20%20%20%20%20%20%20%20var%20marker_44a83731ab064e83ba22ab8fd8193b0d%20%3D%20L.marker%28%0A%20%20%20%20%20%20%20%20%20%20%20%20%20%20%20%20%5B40.7220095%2C%20-73.99694269999999%5D%2C%0A%20%20%20%20%20%20%20%20%20%20%20%20%20%20%20%20%7B%7D%0A%20%20%20%20%20%20%20%20%20%20%20%20%29.addTo%28map_7492aaf893ff4167b71f6263ba84ab79%29%3B%0A%20%20%20%20%20%20%20%20%0A%20%20%20%20%0A%20%20%20%20%20%20%20%20%20%20%20%20var%20icon_2ce8b5f3416644cb8373883a056fc1be%20%3D%20L.AwesomeMarkers.icon%28%0A%20%20%20%20%20%20%20%20%20%20%20%20%20%20%20%20%7B%22extraClasses%22%3A%20%22fa-rotate-0%22%2C%20%22icon%22%3A%20%22plus%22%2C%20%22iconColor%22%3A%20%22%23cc0000%22%2C%20%22markerColor%22%3A%20%22lightgray%22%2C%20%22prefix%22%3A%20%22fa%22%7D%0A%20%20%20%20%20%20%20%20%20%20%20%20%29%3B%0A%20%20%20%20%20%20%20%20%20%20%20%20marker_44a83731ab064e83ba22ab8fd8193b0d.setIcon%28icon_2ce8b5f3416644cb8373883a056fc1be%29%3B%0A%20%20%20%20%20%20%20%20%0A%20%20%20%20%0A%20%20%20%20%20%20%20%20var%20popup_1aa14fc6ffdd4ba488dbce6ff21a0673%20%3D%20L.popup%28%7B%22maxWidth%22%3A%20%22100%25%22%7D%29%3B%0A%0A%20%20%20%20%20%20%20%20%0A%20%20%20%20%20%20%20%20%20%20%20%20var%20html_1f5c5c1733514212a11ed9bc3b085d28%20%3D%20%24%28%60%3Cdiv%20id%3D%22html_1f5c5c1733514212a11ed9bc3b085d28%22%20style%3D%22width%3A%20100.0%25%3B%20height%3A%20100.0%25%3B%22%3E60%20SPRING%20ST%2C%20NEW%20YORK%2C%20NY%2010012%3C/div%3E%60%29%5B0%5D%3B%0A%20%20%20%20%20%20%20%20%20%20%20%20popup_1aa14fc6ffdd4ba488dbce6ff21a0673.setContent%28html_1f5c5c1733514212a11ed9bc3b085d28%29%3B%0A%20%20%20%20%20%20%20%20%0A%0A%20%20%20%20%20%20%20%20marker_44a83731ab064e83ba22ab8fd8193b0d.bindPopup%28popup_1aa14fc6ffdd4ba488dbce6ff21a0673%29%0A%20%20%20%20%20%20%20%20%3B%0A%0A%20%20%20%20%20%20%20%20%0A%20%20%20%20%0A%20%20%20%20%0A%20%20%20%20%20%20%20%20%20%20%20%20var%20marker_40cb66359452423cbe8d24f8a404529c%20%3D%20L.marker%28%0A%20%20%20%20%20%20%20%20%20%20%20%20%20%20%20%20%5B40.7189698%2C%20-73.9888045%5D%2C%0A%20%20%20%20%20%20%20%20%20%20%20%20%20%20%20%20%7B%7D%0A%20%20%20%20%20%20%20%20%20%20%20%20%29.addTo%28map_7492aaf893ff4167b71f6263ba84ab79%29%3B%0A%20%20%20%20%20%20%20%20%0A%20%20%20%20%0A%20%20%20%20%20%20%20%20%20%20%20%20var%20icon_a979699a473a4595a5ef590c6f2b0a50%20%3D%20L.AwesomeMarkers.icon%28%0A%20%20%20%20%20%20%20%20%20%20%20%20%20%20%20%20%7B%22extraClasses%22%3A%20%22fa-rotate-0%22%2C%20%22icon%22%3A%20%22plus%22%2C%20%22iconColor%22%3A%20%22%23cc0000%22%2C%20%22markerColor%22%3A%20%22lightgray%22%2C%20%22prefix%22%3A%20%22fa%22%7D%0A%20%20%20%20%20%20%20%20%20%20%20%20%29%3B%0A%20%20%20%20%20%20%20%20%20%20%20%20marker_40cb66359452423cbe8d24f8a404529c.setIcon%28icon_a979699a473a4595a5ef590c6f2b0a50%29%3B%0A%20%20%20%20%20%20%20%20%0A%20%20%20%20%0A%20%20%20%20%20%20%20%20var%20popup_5c3a3e177cee449f8bebc00a33dbeb7b%20%3D%20L.popup%28%7B%22maxWidth%22%3A%20%22100%25%22%7D%29%3B%0A%0A%20%20%20%20%20%20%20%20%0A%20%20%20%20%20%20%20%20%20%20%20%20var%20html_4699eabb12be4420b060455f4a780827%20%3D%20%24%28%60%3Cdiv%20id%3D%22html_4699eabb12be4420b060455f4a780827%22%20style%3D%22width%3A%20100.0%25%3B%20height%3A%20100.0%25%3B%22%3E100%20DELANCEY%20ST%2C%20NEW%20YORK%2C%20NY%2010002%3C/div%3E%60%29%5B0%5D%3B%0A%20%20%20%20%20%20%20%20%20%20%20%20popup_5c3a3e177cee449f8bebc00a33dbeb7b.setContent%28html_4699eabb12be4420b060455f4a780827%29%3B%0A%20%20%20%20%20%20%20%20%0A%0A%20%20%20%20%20%20%20%20marker_40cb66359452423cbe8d24f8a404529c.bindPopup%28popup_5c3a3e177cee449f8bebc00a33dbeb7b%29%0A%20%20%20%20%20%20%20%20%3B%0A%0A%20%20%20%20%20%20%20%20%0A%20%20%20%20%0A%20%20%20%20%0A%20%20%20%20%20%20%20%20%20%20%20%20var%20marker_ecb04b401eac44628ba6a313ceca339b%20%3D%20L.marker%28%0A%20%20%20%20%20%20%20%20%20%20%20%20%20%20%20%20%5B40.7283773%2C%20-73.9947392%5D%2C%0A%20%20%20%20%20%20%20%20%20%20%20%20%20%20%20%20%7B%7D%0A%20%20%20%20%20%20%20%20%20%20%20%20%29.addTo%28map_7492aaf893ff4167b71f6263ba84ab79%29%3B%0A%20%20%20%20%20%20%20%20%0A%20%20%20%20%0A%20%20%20%20%20%20%20%20%20%20%20%20var%20icon_ba205803826d403baa81e66ca13337e5%20%3D%20L.AwesomeMarkers.icon%28%0A%20%20%20%20%20%20%20%20%20%20%20%20%20%20%20%20%7B%22extraClasses%22%3A%20%22fa-rotate-0%22%2C%20%22icon%22%3A%20%22plus%22%2C%20%22iconColor%22%3A%20%22%23cc0000%22%2C%20%22markerColor%22%3A%20%22lightgray%22%2C%20%22prefix%22%3A%20%22fa%22%7D%0A%20%20%20%20%20%20%20%20%20%20%20%20%29%3B%0A%20%20%20%20%20%20%20%20%20%20%20%20marker_ecb04b401eac44628ba6a313ceca339b.setIcon%28icon_ba205803826d403baa81e66ca13337e5%29%3B%0A%20%20%20%20%20%20%20%20%0A%20%20%20%20%0A%20%20%20%20%20%20%20%20var%20popup_e1d4d4e505f64242a38f9ceb8f279499%20%3D%20L.popup%28%7B%22maxWidth%22%3A%20%22100%25%22%7D%29%3B%0A%0A%20%20%20%20%20%20%20%20%0A%20%20%20%20%20%20%20%20%20%20%20%20var%20html_1aa7ad6c8a494faba34cc51b2af8a84d%20%3D%20%24%28%60%3Cdiv%20id%3D%22html_1aa7ad6c8a494faba34cc51b2af8a84d%22%20style%3D%22width%3A%20100.0%25%3B%20height%3A%20100.0%25%3B%22%3E4%20W%204TH%20ST%2C%20NEW%20YORK%2C%C2%A0NY%C2%A010012%3C/div%3E%60%29%5B0%5D%3B%0A%20%20%20%20%20%20%20%20%20%20%20%20popup_e1d4d4e505f64242a38f9ceb8f279499.setContent%28html_1aa7ad6c8a494faba34cc51b2af8a84d%29%3B%0A%20%20%20%20%20%20%20%20%0A%0A%20%20%20%20%20%20%20%20marker_ecb04b401eac44628ba6a313ceca339b.bindPopup%28popup_e1d4d4e505f64242a38f9ceb8f279499%29%0A%20%20%20%20%20%20%20%20%3B%0A%0A%20%20%20%20%20%20%20%20%0A%20%20%20%20%0A%20%20%20%20%0A%20%20%20%20%20%20%20%20%20%20%20%20var%20marker_c7e4c203e8664af18abe4cd1c561616b%20%3D%20L.marker%28%0A%20%20%20%20%20%20%20%20%20%20%20%20%20%20%20%20%5B40.722343%2C%20-73.9836916%5D%2C%0A%20%20%20%20%20%20%20%20%20%20%20%20%20%20%20%20%7B%7D%0A%20%20%20%20%20%20%20%20%20%20%20%20%29.addTo%28map_7492aaf893ff4167b71f6263ba84ab79%29%3B%0A%20%20%20%20%20%20%20%20%0A%20%20%20%20%0A%20%20%20%20%20%20%20%20%20%20%20%20var%20icon_63e84403721f4a58837d8edd57a3b178%20%3D%20L.AwesomeMarkers.icon%28%0A%20%20%20%20%20%20%20%20%20%20%20%20%20%20%20%20%7B%22extraClasses%22%3A%20%22fa-rotate-0%22%2C%20%22icon%22%3A%20%22plus%22%2C%20%22iconColor%22%3A%20%22%23cc0000%22%2C%20%22markerColor%22%3A%20%22lightgray%22%2C%20%22prefix%22%3A%20%22fa%22%7D%0A%20%20%20%20%20%20%20%20%20%20%20%20%29%3B%0A%20%20%20%20%20%20%20%20%20%20%20%20marker_c7e4c203e8664af18abe4cd1c561616b.setIcon%28icon_63e84403721f4a58837d8edd57a3b178%29%3B%0A%20%20%20%20%20%20%20%20%0A%20%20%20%20%0A%20%20%20%20%20%20%20%20var%20popup_bae7fa7f05ae4a39bdb1f56ce26ecba7%20%3D%20L.popup%28%7B%22maxWidth%22%3A%20%22100%25%22%7D%29%3B%0A%0A%20%20%20%20%20%20%20%20%0A%20%20%20%20%20%20%20%20%20%20%20%20var%20html_fd99f53b3ccf4b2b89a9a1fb5dacb709%20%3D%20%24%28%60%3Cdiv%20id%3D%22html_fd99f53b3ccf4b2b89a9a1fb5dacb709%22%20style%3D%22width%3A%20100.0%25%3B%20height%3A%20100.0%25%3B%22%3E194%20E%202ND%20ST%2C%20NEW%20YORK%2C%20NY%2010009%3C/div%3E%60%29%5B0%5D%3B%0A%20%20%20%20%20%20%20%20%20%20%20%20popup_bae7fa7f05ae4a39bdb1f56ce26ecba7.setContent%28html_fd99f53b3ccf4b2b89a9a1fb5dacb709%29%3B%0A%20%20%20%20%20%20%20%20%0A%0A%20%20%20%20%20%20%20%20marker_c7e4c203e8664af18abe4cd1c561616b.bindPopup%28popup_bae7fa7f05ae4a39bdb1f56ce26ecba7%29%0A%20%20%20%20%20%20%20%20%3B%0A%0A%20%20%20%20%20%20%20%20%0A%20%20%20%20%0A%20%20%20%20%0A%20%20%20%20%20%20%20%20%20%20%20%20var%20marker_f9d369aabf92403b9a0cf5d91fb89143%20%3D%20L.marker%28%0A%20%20%20%20%20%20%20%20%20%20%20%20%20%20%20%20%5B40.6936215%2C%20-73.99085989999999%5D%2C%0A%20%20%20%20%20%20%20%20%20%20%20%20%20%20%20%20%7B%7D%0A%20%20%20%20%20%20%20%20%20%20%20%20%29.addTo%28map_7492aaf893ff4167b71f6263ba84ab79%29%3B%0A%20%20%20%20%20%20%20%20%0A%20%20%20%20%0A%20%20%20%20%20%20%20%20%20%20%20%20var%20icon_b21dc3b8575344398e12077ce26af286%20%3D%20L.AwesomeMarkers.icon%28%0A%20%20%20%20%20%20%20%20%20%20%20%20%20%20%20%20%7B%22extraClasses%22%3A%20%22fa-rotate-0%22%2C%20%22icon%22%3A%20%22plus%22%2C%20%22iconColor%22%3A%20%22%23cc0000%22%2C%20%22markerColor%22%3A%20%22lightgray%22%2C%20%22prefix%22%3A%20%22fa%22%7D%0A%20%20%20%20%20%20%20%20%20%20%20%20%29%3B%0A%20%20%20%20%20%20%20%20%20%20%20%20marker_f9d369aabf92403b9a0cf5d91fb89143.setIcon%28icon_b21dc3b8575344398e12077ce26af286%29%3B%0A%20%20%20%20%20%20%20%20%0A%20%20%20%20%0A%20%20%20%20%20%20%20%20var%20popup_57a2669312f247ac83f150997b0160ea%20%3D%20L.popup%28%7B%22maxWidth%22%3A%20%22100%25%22%7D%29%3B%0A%0A%20%20%20%20%20%20%20%20%0A%20%20%20%20%20%20%20%20%20%20%20%20var%20html_8fc5d4d9dfb144d68ddb0cacbfe33739%20%3D%20%24%28%60%3Cdiv%20id%3D%22html_8fc5d4d9dfb144d68ddb0cacbfe33739%22%20style%3D%22width%3A%20100.0%25%3B%20height%3A%20100.0%25%3B%22%3E16%20COURT%20ST%2C%20BROOKLYN%2C%20NY%2011241%3C/div%3E%60%29%5B0%5D%3B%0A%20%20%20%20%20%20%20%20%20%20%20%20popup_57a2669312f247ac83f150997b0160ea.setContent%28html_8fc5d4d9dfb144d68ddb0cacbfe33739%29%3B%0A%20%20%20%20%20%20%20%20%0A%0A%20%20%20%20%20%20%20%20marker_f9d369aabf92403b9a0cf5d91fb89143.bindPopup%28popup_57a2669312f247ac83f150997b0160ea%29%0A%20%20%20%20%20%20%20%20%3B%0A%0A%20%20%20%20%20%20%20%20%0A%20%20%20%20%0A%20%20%20%20%0A%20%20%20%20%20%20%20%20%20%20%20%20var%20marker_c3980094eb714fa2a9e39648e0044942%20%3D%20L.marker%28%0A%20%20%20%20%20%20%20%20%20%20%20%20%20%20%20%20%5B40.7341793%2C%20-73.9896698%5D%2C%0A%20%20%20%20%20%20%20%20%20%20%20%20%20%20%20%20%7B%7D%0A%20%20%20%20%20%20%20%20%20%20%20%20%29.addTo%28map_7492aaf893ff4167b71f6263ba84ab79%29%3B%0A%20%20%20%20%20%20%20%20%0A%20%20%20%20%0A%20%20%20%20%20%20%20%20%20%20%20%20var%20icon_9ce1d8f423ad4d9ca82abb4a3a712952%20%3D%20L.AwesomeMarkers.icon%28%0A%20%20%20%20%20%20%20%20%20%20%20%20%20%20%20%20%7B%22extraClasses%22%3A%20%22fa-rotate-0%22%2C%20%22icon%22%3A%20%22plus%22%2C%20%22iconColor%22%3A%20%22%23cc0000%22%2C%20%22markerColor%22%3A%20%22lightgray%22%2C%20%22prefix%22%3A%20%22fa%22%7D%0A%20%20%20%20%20%20%20%20%20%20%20%20%29%3B%0A%20%20%20%20%20%20%20%20%20%20%20%20marker_c3980094eb714fa2a9e39648e0044942.setIcon%28icon_9ce1d8f423ad4d9ca82abb4a3a712952%29%3B%0A%20%20%20%20%20%20%20%20%0A%20%20%20%20%0A%20%20%20%20%20%20%20%20var%20popup_29fd9238ac304fefabd8892a41d7ce09%20%3D%20L.popup%28%7B%22maxWidth%22%3A%20%22100%25%22%7D%29%3B%0A%0A%20%20%20%20%20%20%20%20%0A%20%20%20%20%20%20%20%20%20%20%20%20var%20html_2689e043c7ed4eb185f57c24684c0c52%20%3D%20%24%28%60%3Cdiv%20id%3D%22html_2689e043c7ed4eb185f57c24684c0c52%22%20style%3D%22width%3A%20100.0%25%3B%20height%3A%20100.0%25%3B%22%3E145%204TH%20AVE%2C%20NEW%20YORK%2C%20NY%2010003%3C/div%3E%60%29%5B0%5D%3B%0A%20%20%20%20%20%20%20%20%20%20%20%20popup_29fd9238ac304fefabd8892a41d7ce09.setContent%28html_2689e043c7ed4eb185f57c24684c0c52%29%3B%0A%20%20%20%20%20%20%20%20%0A%0A%20%20%20%20%20%20%20%20marker_c3980094eb714fa2a9e39648e0044942.bindPopup%28popup_29fd9238ac304fefabd8892a41d7ce09%29%0A%20%20%20%20%20%20%20%20%3B%0A%0A%20%20%20%20%20%20%20%20%0A%20%20%20%20%0A%20%20%20%20%0A%20%20%20%20%20%20%20%20%20%20%20%20var%20marker_38c1b0646ea14472b7aa6689dd9b551a%20%3D%20L.marker%28%0A%20%20%20%20%20%20%20%20%20%20%20%20%20%20%20%20%5B40.734279%2C%20-73.9902571%5D%2C%0A%20%20%20%20%20%20%20%20%20%20%20%20%20%20%20%20%7B%7D%0A%20%20%20%20%20%20%20%20%20%20%20%20%29.addTo%28map_7492aaf893ff4167b71f6263ba84ab79%29%3B%0A%20%20%20%20%20%20%20%20%0A%20%20%20%20%0A%20%20%20%20%20%20%20%20%20%20%20%20var%20icon_d954bea394544e6191853f2d3a708400%20%3D%20L.AwesomeMarkers.icon%28%0A%20%20%20%20%20%20%20%20%20%20%20%20%20%20%20%20%7B%22extraClasses%22%3A%20%22fa-rotate-0%22%2C%20%22icon%22%3A%20%22plus%22%2C%20%22iconColor%22%3A%20%22%23cc0000%22%2C%20%22markerColor%22%3A%20%22lightgray%22%2C%20%22prefix%22%3A%20%22fa%22%7D%0A%20%20%20%20%20%20%20%20%20%20%20%20%29%3B%0A%20%20%20%20%20%20%20%20%20%20%20%20marker_38c1b0646ea14472b7aa6689dd9b551a.setIcon%28icon_d954bea394544e6191853f2d3a708400%29%3B%0A%20%20%20%20%20%20%20%20%0A%20%20%20%20%0A%20%20%20%20%20%20%20%20var%20popup_86cdc756d29b4e6bbd088132d1a3f5c8%20%3D%20L.popup%28%7B%22maxWidth%22%3A%20%22100%25%22%7D%29%3B%0A%0A%20%20%20%20%20%20%20%20%0A%20%20%20%20%20%20%20%20%20%20%20%20var%20html_d6ed8858f45249279695acfbfa414f1d%20%3D%20%24%28%60%3Cdiv%20id%3D%22html_d6ed8858f45249279695acfbfa414f1d%22%20style%3D%22width%3A%20100.0%25%3B%20height%3A%20100.0%25%3B%22%3E1%20UNION%20SQUARE%20SOUTH%2C%20NEW%20YORK%2C%20NY%2010003%3C/div%3E%60%29%5B0%5D%3B%0A%20%20%20%20%20%20%20%20%20%20%20%20popup_86cdc756d29b4e6bbd088132d1a3f5c8.setContent%28html_d6ed8858f45249279695acfbfa414f1d%29%3B%0A%20%20%20%20%20%20%20%20%0A%0A%20%20%20%20%20%20%20%20marker_38c1b0646ea14472b7aa6689dd9b551a.bindPopup%28popup_86cdc756d29b4e6bbd088132d1a3f5c8%29%0A%20%20%20%20%20%20%20%20%3B%0A%0A%20%20%20%20%20%20%20%20%0A%20%20%20%20%0A%20%20%20%20%0A%20%20%20%20%20%20%20%20%20%20%20%20var%20marker_6f0e963cd9cf43349cf5f934218af89a%20%3D%20L.marker%28%0A%20%20%20%20%20%20%20%20%20%20%20%20%20%20%20%20%5B40.7333893%2C%20-73.9867451%5D%2C%0A%20%20%20%20%20%20%20%20%20%20%20%20%20%20%20%20%7B%7D%0A%20%20%20%20%20%20%20%20%20%20%20%20%29.addTo%28map_7492aaf893ff4167b71f6263ba84ab79%29%3B%0A%20%20%20%20%20%20%20%20%0A%20%20%20%20%0A%20%20%20%20%20%20%20%20%20%20%20%20var%20icon_dfe3d4a5e30846bc8c9871c7d4013d52%20%3D%20L.AwesomeMarkers.icon%28%0A%20%20%20%20%20%20%20%20%20%20%20%20%20%20%20%20%7B%22extraClasses%22%3A%20%22fa-rotate-0%22%2C%20%22icon%22%3A%20%22plus%22%2C%20%22iconColor%22%3A%20%22%23cc0000%22%2C%20%22markerColor%22%3A%20%22lightgray%22%2C%20%22prefix%22%3A%20%22fa%22%7D%0A%20%20%20%20%20%20%20%20%20%20%20%20%29%3B%0A%20%20%20%20%20%20%20%20%20%20%20%20marker_6f0e963cd9cf43349cf5f934218af89a.setIcon%28icon_dfe3d4a5e30846bc8c9871c7d4013d52%29%3B%0A%20%20%20%20%20%20%20%20%0A%20%20%20%20%0A%20%20%20%20%20%20%20%20var%20popup_47cfc8ecb21b4f00b345abe3bae07fec%20%3D%20L.popup%28%7B%22maxWidth%22%3A%20%22100%25%22%7D%29%3B%0A%0A%20%20%20%20%20%20%20%20%0A%20%20%20%20%20%20%20%20%20%20%20%20var%20html_a2683b55f8b84307bc15207814e93036%20%3D%20%24%28%60%3Cdiv%20id%3D%22html_a2683b55f8b84307bc15207814e93036%22%20style%3D%22width%3A%20100.0%25%3B%20height%3A%20100.0%25%3B%22%3E125-133%203RD%20AVE%2C%20NEW%20YORK%2C%C2%A0NY%C2%A010003%3C/div%3E%60%29%5B0%5D%3B%0A%20%20%20%20%20%20%20%20%20%20%20%20popup_47cfc8ecb21b4f00b345abe3bae07fec.setContent%28html_a2683b55f8b84307bc15207814e93036%29%3B%0A%20%20%20%20%20%20%20%20%0A%0A%20%20%20%20%20%20%20%20marker_6f0e963cd9cf43349cf5f934218af89a.bindPopup%28popup_47cfc8ecb21b4f00b345abe3bae07fec%29%0A%20%20%20%20%20%20%20%20%3B%0A%0A%20%20%20%20%20%20%20%20%0A%20%20%20%20%0A%20%20%20%20%0A%20%20%20%20%20%20%20%20%20%20%20%20var%20marker_008389d73b6e48cca841c7499adb3e08%20%3D%20L.marker%28%0A%20%20%20%20%20%20%20%20%20%20%20%20%20%20%20%20%5B40.7387517%2C%20-73.99907639999999%5D%2C%0A%20%20%20%20%20%20%20%20%20%20%20%20%20%20%20%20%7B%7D%0A%20%20%20%20%20%20%20%20%20%20%20%20%29.addTo%28map_7492aaf893ff4167b71f6263ba84ab79%29%3B%0A%20%20%20%20%20%20%20%20%0A%20%20%20%20%0A%20%20%20%20%20%20%20%20%20%20%20%20var%20icon_bc0b70e8e2e94730b31bc0a9185bac84%20%3D%20L.AwesomeMarkers.icon%28%0A%20%20%20%20%20%20%20%20%20%20%20%20%20%20%20%20%7B%22extraClasses%22%3A%20%22fa-rotate-0%22%2C%20%22icon%22%3A%20%22plus%22%2C%20%22iconColor%22%3A%20%22%23cc0000%22%2C%20%22markerColor%22%3A%20%22lightgray%22%2C%20%22prefix%22%3A%20%22fa%22%7D%0A%20%20%20%20%20%20%20%20%20%20%20%20%29%3B%0A%20%20%20%20%20%20%20%20%20%20%20%20marker_008389d73b6e48cca841c7499adb3e08.setIcon%28icon_bc0b70e8e2e94730b31bc0a9185bac84%29%3B%0A%20%20%20%20%20%20%20%20%0A%20%20%20%20%0A%20%20%20%20%20%20%20%20var%20popup_cf15cc38d7e54d83b8c3f8b47dffd29d%20%3D%20L.popup%28%7B%22maxWidth%22%3A%20%22100%25%22%7D%29%3B%0A%0A%20%20%20%20%20%20%20%20%0A%20%20%20%20%20%20%20%20%20%20%20%20var%20html_f8e28a9b56bb4c31bc923df9ef12c969%20%3D%20%24%28%60%3Cdiv%20id%3D%22html_f8e28a9b56bb4c31bc923df9ef12c969%22%20style%3D%22width%3A%20100.0%25%3B%20height%3A%20100.0%25%3B%22%3E77%207TH%20AVE%2C%20NEW%20YORK%2C%20NY%2010011%3C/div%3E%60%29%5B0%5D%3B%0A%20%20%20%20%20%20%20%20%20%20%20%20popup_cf15cc38d7e54d83b8c3f8b47dffd29d.setContent%28html_f8e28a9b56bb4c31bc923df9ef12c969%29%3B%0A%20%20%20%20%20%20%20%20%0A%0A%20%20%20%20%20%20%20%20marker_008389d73b6e48cca841c7499adb3e08.bindPopup%28popup_cf15cc38d7e54d83b8c3f8b47dffd29d%29%0A%20%20%20%20%20%20%20%20%3B%0A%0A%20%20%20%20%20%20%20%20%0A%20%20%20%20%0A%20%20%20%20%0A%20%20%20%20%20%20%20%20%20%20%20%20var%20marker_bdca8cb8744c43da803d4d448d65f9e3%20%3D%20L.marker%28%0A%20%20%20%20%20%20%20%20%20%20%20%20%20%20%20%20%5B40.7333053%2C%20-73.98071039999999%5D%2C%0A%20%20%20%20%20%20%20%20%20%20%20%20%20%20%20%20%7B%7D%0A%20%20%20%20%20%20%20%20%20%20%20%20%29.addTo%28map_7492aaf893ff4167b71f6263ba84ab79%29%3B%0A%20%20%20%20%20%20%20%20%0A%20%20%20%20%0A%20%20%20%20%20%20%20%20%20%20%20%20var%20icon_bc42d0eac5a94c91bb30c8ab70c5e79d%20%3D%20L.AwesomeMarkers.icon%28%0A%20%20%20%20%20%20%20%20%20%20%20%20%20%20%20%20%7B%22extraClasses%22%3A%20%22fa-rotate-0%22%2C%20%22icon%22%3A%20%22plus%22%2C%20%22iconColor%22%3A%20%22%23cc0000%22%2C%20%22markerColor%22%3A%20%22lightgray%22%2C%20%22prefix%22%3A%20%22fa%22%7D%0A%20%20%20%20%20%20%20%20%20%20%20%20%29%3B%0A%20%20%20%20%20%20%20%20%20%20%20%20marker_bdca8cb8744c43da803d4d448d65f9e3.setIcon%28icon_bc42d0eac5a94c91bb30c8ab70c5e79d%29%3B%0A%20%20%20%20%20%20%20%20%0A%20%20%20%20%0A%20%20%20%20%20%20%20%20var%20popup_3ea1e759eb4a4d7dbdfb0361b6b03060%20%3D%20L.popup%28%7B%22maxWidth%22%3A%20%22100%25%22%7D%29%3B%0A%0A%20%20%20%20%20%20%20%20%0A%20%20%20%20%20%20%20%20%20%20%20%20var%20html_9d2f0cf761c444c39c3e492a9da6b726%20%3D%20%24%28%60%3Cdiv%20id%3D%22html_9d2f0cf761c444c39c3e492a9da6b726%22%20style%3D%22width%3A%20100.0%25%3B%20height%3A%20100.0%25%3B%22%3E298%201ST%20AVE%2C%20NEW%20YORK%2C%20NY%2010009%3C/div%3E%60%29%5B0%5D%3B%0A%20%20%20%20%20%20%20%20%20%20%20%20popup_3ea1e759eb4a4d7dbdfb0361b6b03060.setContent%28html_9d2f0cf761c444c39c3e492a9da6b726%29%3B%0A%20%20%20%20%20%20%20%20%0A%0A%20%20%20%20%20%20%20%20marker_bdca8cb8744c43da803d4d448d65f9e3.bindPopup%28popup_3ea1e759eb4a4d7dbdfb0361b6b03060%29%0A%20%20%20%20%20%20%20%20%3B%0A%0A%20%20%20%20%20%20%20%20%0A%20%20%20%20%0A%20%20%20%20%0A%20%20%20%20%20%20%20%20%20%20%20%20var%20marker_7b5040f4f74045c4919af70516f4f20b%20%3D%20L.marker%28%0A%20%20%20%20%20%20%20%20%20%20%20%20%20%20%20%20%5B40.7417607%2C%20-73.9970059%5D%2C%0A%20%20%20%20%20%20%20%20%20%20%20%20%20%20%20%20%7B%7D%0A%20%20%20%20%20%20%20%20%20%20%20%20%29.addTo%28map_7492aaf893ff4167b71f6263ba84ab79%29%3B%0A%20%20%20%20%20%20%20%20%0A%20%20%20%20%0A%20%20%20%20%20%20%20%20%20%20%20%20var%20icon_8310108cb2cd4225a43934500c012f57%20%3D%20L.AwesomeMarkers.icon%28%0A%20%20%20%20%20%20%20%20%20%20%20%20%20%20%20%20%7B%22extraClasses%22%3A%20%22fa-rotate-0%22%2C%20%22icon%22%3A%20%22plus%22%2C%20%22iconColor%22%3A%20%22%23cc0000%22%2C%20%22markerColor%22%3A%20%22lightgray%22%2C%20%22prefix%22%3A%20%22fa%22%7D%0A%20%20%20%20%20%20%20%20%20%20%20%20%29%3B%0A%20%20%20%20%20%20%20%20%20%20%20%20marker_7b5040f4f74045c4919af70516f4f20b.setIcon%28icon_8310108cb2cd4225a43934500c012f57%29%3B%0A%20%20%20%20%20%20%20%20%0A%20%20%20%20%0A%20%20%20%20%20%20%20%20var%20popup_98dfa0479cc646e2a0d2b4a781dc6e32%20%3D%20L.popup%28%7B%22maxWidth%22%3A%20%22100%25%22%7D%29%3B%0A%0A%20%20%20%20%20%20%20%20%0A%20%20%20%20%20%20%20%20%20%20%20%20var%20html_fde0020c5101454baf86a6447f9dd7af%20%3D%20%24%28%60%3Cdiv%20id%3D%22html_fde0020c5101454baf86a6447f9dd7af%22%20style%3D%22width%3A%20100.0%25%3B%20height%3A%20100.0%25%3B%22%3E180%20W%2020TH%20ST%2C%20NEW%20YORK%2C%20NY%2010011%3C/div%3E%60%29%5B0%5D%3B%0A%20%20%20%20%20%20%20%20%20%20%20%20popup_98dfa0479cc646e2a0d2b4a781dc6e32.setContent%28html_fde0020c5101454baf86a6447f9dd7af%29%3B%0A%20%20%20%20%20%20%20%20%0A%0A%20%20%20%20%20%20%20%20marker_7b5040f4f74045c4919af70516f4f20b.bindPopup%28popup_98dfa0479cc646e2a0d2b4a781dc6e32%29%0A%20%20%20%20%20%20%20%20%3B%0A%0A%20%20%20%20%20%20%20%20%0A%20%20%20%20%0A%20%20%20%20%0A%20%20%20%20%20%20%20%20%20%20%20%20var%20marker_91efb1df1a5c4d42bd720023fdf07c55%20%3D%20L.marker%28%0A%20%20%20%20%20%20%20%20%20%20%20%20%20%20%20%20%5B40.7403566%2C%20-73.9871431%5D%2C%0A%20%20%20%20%20%20%20%20%20%20%20%20%20%20%20%20%7B%7D%0A%20%20%20%20%20%20%20%20%20%20%20%20%29.addTo%28map_7492aaf893ff4167b71f6263ba84ab79%29%3B%0A%20%20%20%20%20%20%20%20%0A%20%20%20%20%0A%20%20%20%20%20%20%20%20%20%20%20%20var%20icon_8af3a33bb08a408a9433c7d60cce8382%20%3D%20L.AwesomeMarkers.icon%28%0A%20%20%20%20%20%20%20%20%20%20%20%20%20%20%20%20%7B%22extraClasses%22%3A%20%22fa-rotate-0%22%2C%20%22icon%22%3A%20%22plus%22%2C%20%22iconColor%22%3A%20%22%23cc0000%22%2C%20%22markerColor%22%3A%20%22lightgray%22%2C%20%22prefix%22%3A%20%22fa%22%7D%0A%20%20%20%20%20%20%20%20%20%20%20%20%29%3B%0A%20%20%20%20%20%20%20%20%20%20%20%20marker_91efb1df1a5c4d42bd720023fdf07c55.setIcon%28icon_8af3a33bb08a408a9433c7d60cce8382%29%3B%0A%20%20%20%20%20%20%20%20%0A%20%20%20%20%0A%20%20%20%20%20%20%20%20var%20popup_0e7b012d887440c1864ce8d7f49ec242%20%3D%20L.popup%28%7B%22maxWidth%22%3A%20%22100%25%22%7D%29%3B%0A%0A%20%20%20%20%20%20%20%20%0A%20%20%20%20%20%20%20%20%20%20%20%20var%20html_9b0a87ee00ac463382520b42611b76af%20%3D%20%24%28%60%3Cdiv%20id%3D%22html_9b0a87ee00ac463382520b42611b76af%22%20style%3D%22width%3A%20100.0%25%3B%20height%3A%20100.0%25%3B%22%3E304%20PARK%20AVE%20SOUTH%2C%20NEW%20YORK%2C%20NY%2010010%3C/div%3E%60%29%5B0%5D%3B%0A%20%20%20%20%20%20%20%20%20%20%20%20popup_0e7b012d887440c1864ce8d7f49ec242.setContent%28html_9b0a87ee00ac463382520b42611b76af%29%3B%0A%20%20%20%20%20%20%20%20%0A%0A%20%20%20%20%20%20%20%20marker_91efb1df1a5c4d42bd720023fdf07c55.bindPopup%28popup_0e7b012d887440c1864ce8d7f49ec242%29%0A%20%20%20%20%20%20%20%20%3B%0A%0A%20%20%20%20%20%20%20%20%0A%20%20%20%20%0A%20%20%20%20%0A%20%20%20%20%20%20%20%20%20%20%20%20var%20marker_7713d3aa083f422f963d4d71bf7df0d1%20%3D%20L.marker%28%0A%20%20%20%20%20%20%20%20%20%20%20%20%20%20%20%20%5B40.7414676%2C%20-73.99003789999999%5D%2C%0A%20%20%20%20%20%20%20%20%20%20%20%20%20%20%20%20%7B%7D%0A%20%20%20%20%20%20%20%20%20%20%20%20%29.addTo%28map_7492aaf893ff4167b71f6263ba84ab79%29%3B%0A%20%20%20%20%20%20%20%20%0A%20%20%20%20%0A%20%20%20%20%20%20%20%20%20%20%20%20var%20icon_1139d68524764cfd85db4630d0dbf916%20%3D%20L.AwesomeMarkers.icon%28%0A%20%20%20%20%20%20%20%20%20%20%20%20%20%20%20%20%7B%22extraClasses%22%3A%20%22fa-rotate-0%22%2C%20%22icon%22%3A%20%22plus%22%2C%20%22iconColor%22%3A%20%22%23cc0000%22%2C%20%22markerColor%22%3A%20%22lightgray%22%2C%20%22prefix%22%3A%20%22fa%22%7D%0A%20%20%20%20%20%20%20%20%20%20%20%20%29%3B%0A%20%20%20%20%20%20%20%20%20%20%20%20marker_7713d3aa083f422f963d4d71bf7df0d1.setIcon%28icon_1139d68524764cfd85db4630d0dbf916%29%3B%0A%20%20%20%20%20%20%20%20%0A%20%20%20%20%0A%20%20%20%20%20%20%20%20var%20popup_bb63b2b1fc244f0eba7d360266947ff8%20%3D%20L.popup%28%7B%22maxWidth%22%3A%20%22100%25%22%7D%29%3B%0A%0A%20%20%20%20%20%20%20%20%0A%20%20%20%20%20%20%20%20%20%20%20%20var%20html_9993e37cca814894a58673b02b9f6063%20%3D%20%24%28%60%3Cdiv%20id%3D%22html_9993e37cca814894a58673b02b9f6063%22%20style%3D%22width%3A%20100.0%25%3B%20height%3A%20100.0%25%3B%22%3E184%205TH%20AVE%2C%20NEW%20YORK%2C%20NY%2010010%3C/div%3E%60%29%5B0%5D%3B%0A%20%20%20%20%20%20%20%20%20%20%20%20popup_bb63b2b1fc244f0eba7d360266947ff8.setContent%28html_9993e37cca814894a58673b02b9f6063%29%3B%0A%20%20%20%20%20%20%20%20%0A%0A%20%20%20%20%20%20%20%20marker_7713d3aa083f422f963d4d71bf7df0d1.bindPopup%28popup_bb63b2b1fc244f0eba7d360266947ff8%29%0A%20%20%20%20%20%20%20%20%3B%0A%0A%20%20%20%20%20%20%20%20%0A%20%20%20%20%0A%20%20%20%20%0A%20%20%20%20%20%20%20%20%20%20%20%20var%20marker_75254a00a1164496a968125585f75a98%20%3D%20L.marker%28%0A%20%20%20%20%20%20%20%20%20%20%20%20%20%20%20%20%5B40.7438735%2C%20-74.00001309999999%5D%2C%0A%20%20%20%20%20%20%20%20%20%20%20%20%20%20%20%20%7B%7D%0A%20%20%20%20%20%20%20%20%20%20%20%20%29.addTo%28map_7492aaf893ff4167b71f6263ba84ab79%29%3B%0A%20%20%20%20%20%20%20%20%0A%20%20%20%20%0A%20%20%20%20%20%20%20%20%20%20%20%20var%20icon_3fd4484882254ca3b2cc5ec0ec5512d5%20%3D%20L.AwesomeMarkers.icon%28%0A%20%20%20%20%20%20%20%20%20%20%20%20%20%20%20%20%7B%22extraClasses%22%3A%20%22fa-rotate-0%22%2C%20%22icon%22%3A%20%22plus%22%2C%20%22iconColor%22%3A%20%22%23cc0000%22%2C%20%22markerColor%22%3A%20%22lightgray%22%2C%20%22prefix%22%3A%20%22fa%22%7D%0A%20%20%20%20%20%20%20%20%20%20%20%20%29%3B%0A%20%20%20%20%20%20%20%20%20%20%20%20marker_75254a00a1164496a968125585f75a98.setIcon%28icon_3fd4484882254ca3b2cc5ec0ec5512d5%29%3B%0A%20%20%20%20%20%20%20%20%0A%20%20%20%20%0A%20%20%20%20%20%20%20%20var%20popup_425094487a424e53bde664b8f1fb3b85%20%3D%20L.popup%28%7B%22maxWidth%22%3A%20%22100%25%22%7D%29%3B%0A%0A%20%20%20%20%20%20%20%20%0A%20%20%20%20%20%20%20%20%20%20%20%20var%20html_7873ebdad6004511b260cf5990d04ae1%20%3D%20%24%28%60%3Cdiv%20id%3D%22html_7873ebdad6004511b260cf5990d04ae1%22%20style%3D%22width%3A%20100.0%25%3B%20height%3A%20100.0%25%3B%22%3E205%208TH%20AVE%2C%20NEW%20YORK%2C%C2%A0NY%C2%A010011%3C/div%3E%60%29%5B0%5D%3B%0A%20%20%20%20%20%20%20%20%20%20%20%20popup_425094487a424e53bde664b8f1fb3b85.setContent%28html_7873ebdad6004511b260cf5990d04ae1%29%3B%0A%20%20%20%20%20%20%20%20%0A%0A%20%20%20%20%20%20%20%20marker_75254a00a1164496a968125585f75a98.bindPopup%28popup_425094487a424e53bde664b8f1fb3b85%29%0A%20%20%20%20%20%20%20%20%3B%0A%0A%20%20%20%20%20%20%20%20%0A%20%20%20%20%0A%20%20%20%20%0A%20%20%20%20%20%20%20%20%20%20%20%20var%20marker_ced74f9322974eab80c718ab632f6df1%20%3D%20L.marker%28%0A%20%20%20%20%20%20%20%20%20%20%20%20%20%20%20%20%5B40.74021949999999%2C%20-73.9795651%5D%2C%0A%20%20%20%20%20%20%20%20%20%20%20%20%20%20%20%20%7B%7D%0A%20%20%20%20%20%20%20%20%20%20%20%20%29.addTo%28map_7492aaf893ff4167b71f6263ba84ab79%29%3B%0A%20%20%20%20%20%20%20%20%0A%20%20%20%20%0A%20%20%20%20%20%20%20%20%20%20%20%20var%20icon_63f66d14165b453186e474f708807111%20%3D%20L.AwesomeMarkers.icon%28%0A%20%20%20%20%20%20%20%20%20%20%20%20%20%20%20%20%7B%22extraClasses%22%3A%20%22fa-rotate-0%22%2C%20%22icon%22%3A%20%22plus%22%2C%20%22iconColor%22%3A%20%22%23cc0000%22%2C%20%22markerColor%22%3A%20%22lightgray%22%2C%20%22prefix%22%3A%20%22fa%22%7D%0A%20%20%20%20%20%20%20%20%20%20%20%20%29%3B%0A%20%20%20%20%20%20%20%20%20%20%20%20marker_ced74f9322974eab80c718ab632f6df1.setIcon%28icon_63f66d14165b453186e474f708807111%29%3B%0A%20%20%20%20%20%20%20%20%0A%20%20%20%20%0A%20%20%20%20%20%20%20%20var%20popup_921d067cb0e54dd1a6a629dd5f41895a%20%3D%20L.popup%28%7B%22maxWidth%22%3A%20%22100%25%22%7D%29%3B%0A%0A%20%20%20%20%20%20%20%20%0A%20%20%20%20%20%20%20%20%20%20%20%20var%20html_53aca5292bd242aca2ef23b674c7b5e0%20%3D%20%24%28%60%3Cdiv%20id%3D%22html_53aca5292bd242aca2ef23b674c7b5e0%22%20style%3D%22width%3A%20100.0%25%3B%20height%3A%20100.0%25%3B%22%3E465%202ND%20AVE%2C%20NEW%20YORK%2C%20NY%2010016%3C/div%3E%60%29%5B0%5D%3B%0A%20%20%20%20%20%20%20%20%20%20%20%20popup_921d067cb0e54dd1a6a629dd5f41895a.setContent%28html_53aca5292bd242aca2ef23b674c7b5e0%29%3B%0A%20%20%20%20%20%20%20%20%0A%0A%20%20%20%20%20%20%20%20marker_ced74f9322974eab80c718ab632f6df1.bindPopup%28popup_921d067cb0e54dd1a6a629dd5f41895a%29%0A%20%20%20%20%20%20%20%20%3B%0A%0A%20%20%20%20%20%20%20%20%0A%20%20%20%20%0A%20%20%20%20%0A%20%20%20%20%20%20%20%20%20%20%20%20var%20marker_6cd4dc2f92334ca3a8588884e75d29fb%20%3D%20L.marker%28%0A%20%20%20%20%20%20%20%20%20%20%20%20%20%20%20%20%5B40.7452317%2C%20-73.9915041%5D%2C%0A%20%20%20%20%20%20%20%20%20%20%20%20%20%20%20%20%7B%7D%0A%20%20%20%20%20%20%20%20%20%20%20%20%29.addTo%28map_7492aaf893ff4167b71f6263ba84ab79%29%3B%0A%20%20%20%20%20%20%20%20%0A%20%20%20%20%0A%20%20%20%20%20%20%20%20%20%20%20%20var%20icon_452b0aa0388e4ae49dfe42226c15c13c%20%3D%20L.AwesomeMarkers.icon%28%0A%20%20%20%20%20%20%20%20%20%20%20%20%20%20%20%20%7B%22extraClasses%22%3A%20%22fa-rotate-0%22%2C%20%22icon%22%3A%20%22plus%22%2C%20%22iconColor%22%3A%20%22%23cc0000%22%2C%20%22markerColor%22%3A%20%22lightgray%22%2C%20%22prefix%22%3A%20%22fa%22%7D%0A%20%20%20%20%20%20%20%20%20%20%20%20%29%3B%0A%20%20%20%20%20%20%20%20%20%20%20%20marker_6cd4dc2f92334ca3a8588884e75d29fb.setIcon%28icon_452b0aa0388e4ae49dfe42226c15c13c%29%3B%0A%20%20%20%20%20%20%20%20%0A%20%20%20%20%0A%20%20%20%20%20%20%20%20var%20popup_0c0b9697cc804ca1a1ef7b19a4b860f7%20%3D%20L.popup%28%7B%22maxWidth%22%3A%20%22100%25%22%7D%29%3B%0A%0A%20%20%20%20%20%20%20%20%0A%20%20%20%20%20%20%20%20%20%20%20%20var%20html_9456a70184af4d2093f5b39454455c4f%20%3D%20%24%28%60%3Cdiv%20id%3D%22html_9456a70184af4d2093f5b39454455c4f%22%20style%3D%22width%3A%20100.0%25%3B%20height%3A%20100.0%25%3B%22%3E777%20AVENUE%20OF%20THE%20AMERICAS%2C%20NEW%20YORK%2C%20NY%2010001%3C/div%3E%60%29%5B0%5D%3B%0A%20%20%20%20%20%20%20%20%20%20%20%20popup_0c0b9697cc804ca1a1ef7b19a4b860f7.setContent%28html_9456a70184af4d2093f5b39454455c4f%29%3B%0A%20%20%20%20%20%20%20%20%0A%0A%20%20%20%20%20%20%20%20marker_6cd4dc2f92334ca3a8588884e75d29fb.bindPopup%28popup_0c0b9697cc804ca1a1ef7b19a4b860f7%29%0A%20%20%20%20%20%20%20%20%3B%0A%0A%20%20%20%20%20%20%20%20%0A%20%20%20%20%0A%20%20%20%20%0A%20%20%20%20%20%20%20%20%20%20%20%20var%20marker_587d101dc7384b52860f37f100b543ea%20%3D%20L.marker%28%0A%20%20%20%20%20%20%20%20%20%20%20%20%20%20%20%20%5B40.7429621%2C%20-73.98403929999999%5D%2C%0A%20%20%20%20%20%20%20%20%20%20%20%20%20%20%20%20%7B%7D%0A%20%20%20%20%20%20%20%20%20%20%20%20%29.addTo%28map_7492aaf893ff4167b71f6263ba84ab79%29%3B%0A%20%20%20%20%20%20%20%20%0A%20%20%20%20%0A%20%20%20%20%20%20%20%20%20%20%20%20var%20icon_998efeb0c7a345f89eb4f37f02666469%20%3D%20L.AwesomeMarkers.icon%28%0A%20%20%20%20%20%20%20%20%20%20%20%20%20%20%20%20%7B%22extraClasses%22%3A%20%22fa-rotate-0%22%2C%20%22icon%22%3A%20%22plus%22%2C%20%22iconColor%22%3A%20%22%23cc0000%22%2C%20%22markerColor%22%3A%20%22lightgray%22%2C%20%22prefix%22%3A%20%22fa%22%7D%0A%20%20%20%20%20%20%20%20%20%20%20%20%29%3B%0A%20%20%20%20%20%20%20%20%20%20%20%20marker_587d101dc7384b52860f37f100b543ea.setIcon%28icon_998efeb0c7a345f89eb4f37f02666469%29%3B%0A%20%20%20%20%20%20%20%20%0A%20%20%20%20%0A%20%20%20%20%20%20%20%20var%20popup_e2902483507f4433ac3f9f81b5bae37c%20%3D%20L.popup%28%7B%22maxWidth%22%3A%20%22100%25%22%7D%29%3B%0A%0A%20%20%20%20%20%20%20%20%0A%20%20%20%20%20%20%20%20%20%20%20%20var%20html_d6fd83ce726944738bbdefc4d6fde9ff%20%3D%20%24%28%60%3Cdiv%20id%3D%22html_d6fd83ce726944738bbdefc4d6fde9ff%22%20style%3D%22width%3A%20100.0%25%3B%20height%3A%20100.0%25%3B%22%3E401%20PARK%20AVE%20S%2C%20NEW%20YORK%2C%C2%A0NY%C2%A010016%3C/div%3E%60%29%5B0%5D%3B%0A%20%20%20%20%20%20%20%20%20%20%20%20popup_e2902483507f4433ac3f9f81b5bae37c.setContent%28html_d6fd83ce726944738bbdefc4d6fde9ff%29%3B%0A%20%20%20%20%20%20%20%20%0A%0A%20%20%20%20%20%20%20%20marker_587d101dc7384b52860f37f100b543ea.bindPopup%28popup_e2902483507f4433ac3f9f81b5bae37c%29%0A%20%20%20%20%20%20%20%20%3B%0A%0A%20%20%20%20%20%20%20%20%0A%20%20%20%20%0A%3C/script%3E onload=\"this.contentDocument.open();this.contentDocument.write(    decodeURIComponent(this.getAttribute('data-html')));this.contentDocument.close();\" allowfullscreen webkitallowfullscreen mozallowfullscreen></iframe></div></div>"
      ],
      "text/plain": [
       "<folium.folium.Map at 0x7feb5026d3a0>"
      ]
     },
     "execution_count": 161,
     "metadata": {},
     "output_type": "execute_result"
    }
   ],
   "source": [
    "map2"
   ]
  },
  {
   "cell_type": "markdown",
   "id": "85ea5f0d",
   "metadata": {},
   "source": [
    "## Creating GeoDataFrames\n",
    "\n",
    "In this section I create GeoDataFrames for both of the previous datasets, to then identify which MTA stations are within 5 minutes walking distance of the DR locations. I will then use the associated MTA entries to calculate foot traffic in that DR vicinity."
   ]
  },
  {
   "cell_type": "code",
   "execution_count": 139,
   "id": "19267259",
   "metadata": {},
   "outputs": [
    {
     "data": {
      "text/html": [
       "<div>\n",
       "<style scoped>\n",
       "    .dataframe tbody tr th:only-of-type {\n",
       "        vertical-align: middle;\n",
       "    }\n",
       "\n",
       "    .dataframe tbody tr th {\n",
       "        vertical-align: top;\n",
       "    }\n",
       "\n",
       "    .dataframe thead th {\n",
       "        text-align: right;\n",
       "    }\n",
       "</style>\n",
       "<table border=\"1\" class=\"dataframe\">\n",
       "  <thead>\n",
       "    <tr style=\"text-align: right;\">\n",
       "      <th></th>\n",
       "      <th>store_name</th>\n",
       "      <th>address</th>\n",
       "      <th>lat</th>\n",
       "      <th>lng</th>\n",
       "      <th>geometry</th>\n",
       "    </tr>\n",
       "  </thead>\n",
       "  <tbody>\n",
       "    <tr>\n",
       "      <th>1</th>\n",
       "      <td>Duane Reade</td>\n",
       "      <td>305 BROADWAY, NEW YORK, NY 10007</td>\n",
       "      <td>40.715479</td>\n",
       "      <td>-74.005545</td>\n",
       "      <td>POINT (-74.00554 40.71548)</td>\n",
       "    </tr>\n",
       "  </tbody>\n",
       "</table>\n",
       "</div>"
      ],
      "text/plain": [
       "    store_name                           address        lat        lng  \\\n",
       "1  Duane Reade  305 BROADWAY, NEW YORK, NY 10007  40.715479 -74.005545   \n",
       "\n",
       "                     geometry  \n",
       "1  POINT (-74.00554 40.71548)  "
      ]
     },
     "execution_count": 139,
     "metadata": {},
     "output_type": "execute_result"
    }
   ],
   "source": [
    "dr_gdf = geopandas.GeoDataFrame(drlocation, geometry=geopandas.points_from_xy(drlocation.lng, drlocation.lat))\n",
    "dr_gdf"
   ]
  },
  {
   "cell_type": "code",
   "execution_count": 138,
   "id": "c41377c6",
   "metadata": {},
   "outputs": [
    {
     "data": {
      "text/html": [
       "<div>\n",
       "<style scoped>\n",
       "    .dataframe tbody tr th:only-of-type {\n",
       "        vertical-align: middle;\n",
       "    }\n",
       "\n",
       "    .dataframe tbody tr th {\n",
       "        vertical-align: top;\n",
       "    }\n",
       "\n",
       "    .dataframe thead th {\n",
       "        text-align: right;\n",
       "    }\n",
       "</style>\n",
       "<table border=\"1\" class=\"dataframe\">\n",
       "  <thead>\n",
       "    <tr style=\"text-align: right;\">\n",
       "      <th></th>\n",
       "      <th>geometry</th>\n",
       "      <th>group_index</th>\n",
       "      <th>value</th>\n",
       "      <th>center</th>\n",
       "      <th>total_pop</th>\n",
       "      <th>station_name</th>\n",
       "      <th>lat</th>\n",
       "      <th>lng</th>\n",
       "    </tr>\n",
       "  </thead>\n",
       "  <tbody>\n",
       "    <tr>\n",
       "      <th>0</th>\n",
       "      <td>POLYGON ((-74.01207 40.71475, -74.01120 40.711...</td>\n",
       "      <td>0</td>\n",
       "      <td>300.0</td>\n",
       "      <td>[-74.00770490753631, 40.713188731245175]</td>\n",
       "      <td>8155.0</td>\n",
       "      <td>City Hall</td>\n",
       "      <td>40.7131583</td>\n",
       "      <td>-74.00773</td>\n",
       "    </tr>\n",
       "    <tr>\n",
       "      <th>1</th>\n",
       "      <td>POLYGON ((-74.01344 40.71445, -74.01327 40.713...</td>\n",
       "      <td>0</td>\n",
       "      <td>300.0</td>\n",
       "      <td>[-74.0092982646204, 40.71317211471518]</td>\n",
       "      <td>7655.0</td>\n",
       "      <td>Park Place</td>\n",
       "      <td>40.7131736</td>\n",
       "      <td>-74.0092965</td>\n",
       "    </tr>\n",
       "    <tr>\n",
       "      <th>2</th>\n",
       "      <td>POLYGON ((-74.01437 40.71300, -74.01406 40.711...</td>\n",
       "      <td>0</td>\n",
       "      <td>300.0</td>\n",
       "      <td>[-74.00998009442152, 40.71150603102416]</td>\n",
       "      <td>6913.0</td>\n",
       "      <td>Fulton Street</td>\n",
       "      <td>40.7115643</td>\n",
       "      <td>-74.009928</td>\n",
       "    </tr>\n",
       "  </tbody>\n",
       "</table>\n",
       "</div>"
      ],
      "text/plain": [
       "                                            geometry  group_index  value  \\\n",
       "0  POLYGON ((-74.01207 40.71475, -74.01120 40.711...            0  300.0   \n",
       "1  POLYGON ((-74.01344 40.71445, -74.01327 40.713...            0  300.0   \n",
       "2  POLYGON ((-74.01437 40.71300, -74.01406 40.711...            0  300.0   \n",
       "\n",
       "                                     center  total_pop   station_name  \\\n",
       "0  [-74.00770490753631, 40.713188731245175]     8155.0      City Hall   \n",
       "1    [-74.0092982646204, 40.71317211471518]     7655.0     Park Place   \n",
       "2   [-74.00998009442152, 40.71150603102416]     6913.0  Fulton Street   \n",
       "\n",
       "          lat          lng  \n",
       "0  40.7131583    -74.00773  \n",
       "1  40.7131736  -74.0092965  \n",
       "2  40.7115643   -74.009928  "
      ]
     },
     "execution_count": 138,
     "metadata": {},
     "output_type": "execute_result"
    }
   ],
   "source": [
    "gdf_isochrones = pd.concat(l_dfs)\n",
    "stations_gdf = gdf_isochrones.merge(stations, on='station_name')\n",
    "stations_gdf"
   ]
  }
 ],
 "metadata": {
  "kernelspec": {
   "display_name": "Python [conda env:metis] *",
   "language": "python",
   "name": "conda-env-metis-py"
  },
  "language_info": {
   "codemirror_mode": {
    "name": "ipython",
    "version": 3
   },
   "file_extension": ".py",
   "mimetype": "text/x-python",
   "name": "python",
   "nbconvert_exporter": "python",
   "pygments_lexer": "ipython3",
   "version": "3.8.10"
  }
 },
 "nbformat": 4,
 "nbformat_minor": 5
}
