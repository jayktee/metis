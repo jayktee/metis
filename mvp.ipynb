{
 "cells": [
  {
   "cell_type": "markdown",
   "id": "b61e0d02",
   "metadata": {},
   "source": [
    "## MVP submission\n",
    "Identifying foot traffic for a single Duane Reade store using MTA station entry data."
   ]
  },
  {
   "cell_type": "markdown",
   "id": "5fbdb283",
   "metadata": {},
   "source": [
    "### Importing and selecting a Duane Reade store"
   ]
  },
  {
   "cell_type": "code",
   "execution_count": 117,
   "id": "94a4fcb1",
   "metadata": {},
   "outputs": [],
   "source": [
    "# Import env variable API key\n",
    "from dotenv import dotenv_values\n",
    "config = dotenv_values(\".env\")\n",
    "API_KEY = config[\"API_KEY\"]"
   ]
  },
  {
   "cell_type": "code",
   "execution_count": 159,
   "id": "91af2193",
   "metadata": {},
   "outputs": [],
   "source": [
    "# Import libraries\n",
    "import pandas as pd\n",
    "import numpy as np\n",
    "from datetime import datetime\n",
    "\n",
    "drlocations = pd.read_csv('/Users/joycetagal/GitHub/metis-eda/drlocations_new.csv')"
   ]
  },
  {
   "cell_type": "code",
   "execution_count": 142,
   "id": "2cffa109",
   "metadata": {},
   "outputs": [],
   "source": [
    "# Code for geocoding latlongs from address. Commented out to ensure API isn't pinged unnecessarily\n",
    "# import googlemaps\n",
    "# gmaps = googlemaps.Client(key=API_KEY)\n",
    "# drlocations[\"latlon\"] = drlocations.address.apply(lambda address : gmaps.geocode(address)[0]['geometry']['location'])\n",
    "# drlocations = pd.concat([drlocations, drlocations['latlon']\n",
    "#                         .apply(pd.Series)], axis=1\n",
    "#                       ).drop(\"latlon\", axis=1)\n",
    "# drlocations.to_csv(\"drlocations_new.csv\", index=False)"
   ]
  },
  {
   "cell_type": "code",
   "execution_count": 161,
   "id": "5d3f3805",
   "metadata": {},
   "outputs": [
    {
     "data": {
      "text/html": [
       "<div>\n",
       "<style scoped>\n",
       "    .dataframe tbody tr th:only-of-type {\n",
       "        vertical-align: middle;\n",
       "    }\n",
       "\n",
       "    .dataframe tbody tr th {\n",
       "        vertical-align: top;\n",
       "    }\n",
       "\n",
       "    .dataframe thead th {\n",
       "        text-align: right;\n",
       "    }\n",
       "</style>\n",
       "<table border=\"1\" class=\"dataframe\">\n",
       "  <thead>\n",
       "    <tr style=\"text-align: right;\">\n",
       "      <th></th>\n",
       "      <th>store_name</th>\n",
       "      <th>address</th>\n",
       "      <th>lat</th>\n",
       "      <th>lng</th>\n",
       "    </tr>\n",
       "  </thead>\n",
       "  <tbody>\n",
       "    <tr>\n",
       "      <th>0</th>\n",
       "      <td>Duane Reade</td>\n",
       "      <td>250 BROADWAY, NEW YORK, NY 10007</td>\n",
       "      <td>40.713008</td>\n",
       "      <td>-74.007821</td>\n",
       "    </tr>\n",
       "    <tr>\n",
       "      <th>1</th>\n",
       "      <td>Duane Reade</td>\n",
       "      <td>305 BROADWAY, NEW YORK, NY 10007</td>\n",
       "      <td>40.715479</td>\n",
       "      <td>-74.005545</td>\n",
       "    </tr>\n",
       "    <tr>\n",
       "      <th>2</th>\n",
       "      <td>Duane Reade</td>\n",
       "      <td>17 JOHN ST NEW YORK, NY 10038</td>\n",
       "      <td>40.709970</td>\n",
       "      <td>-74.008741</td>\n",
       "    </tr>\n",
       "    <tr>\n",
       "      <th>3</th>\n",
       "      <td>Duane Reade</td>\n",
       "      <td>185 GREENWICH ST, NEW YORK, NY 10007</td>\n",
       "      <td>40.711566</td>\n",
       "      <td>-74.011426</td>\n",
       "    </tr>\n",
       "    <tr>\n",
       "      <th>4</th>\n",
       "      <td>Duane Reade</td>\n",
       "      <td>200 WATER ST, NEW YORK, NY 10038</td>\n",
       "      <td>40.707256</td>\n",
       "      <td>-74.004805</td>\n",
       "    </tr>\n",
       "  </tbody>\n",
       "</table>\n",
       "</div>"
      ],
      "text/plain": [
       "    store_name                               address        lat        lng\n",
       "0  Duane Reade      250 BROADWAY, NEW YORK, NY 10007  40.713008 -74.007821\n",
       "1  Duane Reade      305 BROADWAY, NEW YORK, NY 10007  40.715479 -74.005545\n",
       "2  Duane Reade         17 JOHN ST NEW YORK, NY 10038  40.709970 -74.008741\n",
       "3  Duane Reade  185 GREENWICH ST, NEW YORK, NY 10007  40.711566 -74.011426\n",
       "4  Duane Reade      200 WATER ST, NEW YORK, NY 10038  40.707256 -74.004805"
      ]
     },
     "execution_count": 161,
     "metadata": {},
     "output_type": "execute_result"
    }
   ],
   "source": [
    "drlocations.head()"
   ]
  },
  {
   "cell_type": "markdown",
   "id": "f48f2e79",
   "metadata": {},
   "source": [
    "For the purposes of this notebook, I will just use the first Duane Reade store in this dataset, i.e. the one at 250 Broadway."
   ]
  },
  {
   "cell_type": "code",
   "execution_count": 162,
   "id": "c5b24d2a",
   "metadata": {},
   "outputs": [
    {
     "data": {
      "text/html": [
       "<div>\n",
       "<style scoped>\n",
       "    .dataframe tbody tr th:only-of-type {\n",
       "        vertical-align: middle;\n",
       "    }\n",
       "\n",
       "    .dataframe tbody tr th {\n",
       "        vertical-align: top;\n",
       "    }\n",
       "\n",
       "    .dataframe thead th {\n",
       "        text-align: right;\n",
       "    }\n",
       "</style>\n",
       "<table border=\"1\" class=\"dataframe\">\n",
       "  <thead>\n",
       "    <tr style=\"text-align: right;\">\n",
       "      <th></th>\n",
       "      <th>store_name</th>\n",
       "      <th>address</th>\n",
       "      <th>lat</th>\n",
       "      <th>lng</th>\n",
       "    </tr>\n",
       "  </thead>\n",
       "  <tbody>\n",
       "    <tr>\n",
       "      <th>1</th>\n",
       "      <td>Duane Reade</td>\n",
       "      <td>305 BROADWAY, NEW YORK, NY 10007</td>\n",
       "      <td>40.715479</td>\n",
       "      <td>-74.005545</td>\n",
       "    </tr>\n",
       "  </tbody>\n",
       "</table>\n",
       "</div>"
      ],
      "text/plain": [
       "    store_name                           address        lat        lng\n",
       "1  Duane Reade  305 BROADWAY, NEW YORK, NY 10007  40.715479 -74.005545"
      ]
     },
     "execution_count": 162,
     "metadata": {},
     "output_type": "execute_result"
    }
   ],
   "source": [
    "drlocation = drlocations.iloc[[1,]]\n",
    "drlocation"
   ]
  },
  {
   "cell_type": "markdown",
   "id": "9b9f7e7a",
   "metadata": {},
   "source": [
    "## Identifying isochrones for the DR location"
   ]
  },
  {
   "cell_type": "code",
   "execution_count": 156,
   "id": "5290f15c",
   "metadata": {},
   "outputs": [],
   "source": [
    "# First we import our MTA stations dataset. For the MVP I'm just using 3 stations.\n",
    "\n",
    "d = [['City Hall', '40.7131583', '-74.00773'], \n",
    "     ['Park Place', '40.7131736', '-74.0092965'], \n",
    "     ['Fulton Street', '40.7115643' , '-74.009928']\n",
    "    ]"
   ]
  },
  {
   "cell_type": "code",
   "execution_count": 157,
   "id": "a7605623",
   "metadata": {},
   "outputs": [],
   "source": [
    "stations = pd.DataFrame(d, columns = ['station_name', 'lat', 'lng'])"
   ]
  },
  {
   "cell_type": "code",
   "execution_count": 158,
   "id": "5ce4c39c",
   "metadata": {},
   "outputs": [
    {
     "data": {
      "text/html": [
       "<div>\n",
       "<style scoped>\n",
       "    .dataframe tbody tr th:only-of-type {\n",
       "        vertical-align: middle;\n",
       "    }\n",
       "\n",
       "    .dataframe tbody tr th {\n",
       "        vertical-align: top;\n",
       "    }\n",
       "\n",
       "    .dataframe thead th {\n",
       "        text-align: right;\n",
       "    }\n",
       "</style>\n",
       "<table border=\"1\" class=\"dataframe\">\n",
       "  <thead>\n",
       "    <tr style=\"text-align: right;\">\n",
       "      <th></th>\n",
       "      <th>station_name</th>\n",
       "      <th>lat</th>\n",
       "      <th>lng</th>\n",
       "    </tr>\n",
       "  </thead>\n",
       "  <tbody>\n",
       "    <tr>\n",
       "      <th>0</th>\n",
       "      <td>City Hall</td>\n",
       "      <td>40.7131583</td>\n",
       "      <td>-74.00773</td>\n",
       "    </tr>\n",
       "    <tr>\n",
       "      <th>1</th>\n",
       "      <td>Park Place</td>\n",
       "      <td>40.7131736</td>\n",
       "      <td>-74.0092965</td>\n",
       "    </tr>\n",
       "    <tr>\n",
       "      <th>2</th>\n",
       "      <td>Fulton Street</td>\n",
       "      <td>40.7115643</td>\n",
       "      <td>-74.009928</td>\n",
       "    </tr>\n",
       "  </tbody>\n",
       "</table>\n",
       "</div>"
      ],
      "text/plain": [
       "    station_name         lat          lng\n",
       "0      City Hall  40.7131583    -74.00773\n",
       "1     Park Place  40.7131736  -74.0092965\n",
       "2  Fulton Street  40.7115643   -74.009928"
      ]
     },
     "execution_count": 158,
     "metadata": {},
     "output_type": "execute_result"
    }
   ],
   "source": [
    "# Inspiration: https://github.com/ghing/isochrones-python-apis/blob/master/Isochrones%20with%20Python%20and%20APIs.ipynb\n",
    "\n",
    "stations"
   ]
  },
  {
   "cell_type": "code",
   "execution_count": null,
   "id": "4fb944b1",
   "metadata": {},
   "outputs": [],
   "source": []
  }
 ],
 "metadata": {
  "kernelspec": {
   "display_name": "Python [conda env:metis] *",
   "language": "python",
   "name": "conda-env-metis-py"
  },
  "language_info": {
   "codemirror_mode": {
    "name": "ipython",
    "version": 3
   },
   "file_extension": ".py",
   "mimetype": "text/x-python",
   "name": "python",
   "nbconvert_exporter": "python",
   "pygments_lexer": "ipython3",
   "version": "3.8.10"
  }
 },
 "nbformat": 4,
 "nbformat_minor": 5
}
