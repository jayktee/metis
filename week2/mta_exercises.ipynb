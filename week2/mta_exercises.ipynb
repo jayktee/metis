{
 "cells": [
  {
   "cell_type": "markdown",
   "id": "4580b0be",
   "metadata": {},
   "source": [
    "# MTA 1 Exercise"
   ]
  },
  {
   "cell_type": "code",
   "execution_count": 2,
   "id": "e54381d4",
   "metadata": {},
   "outputs": [],
   "source": [
    "syd25!\n"
   ]
  },
  {
   "cell_type": "markdown",
   "id": "bdaa71ee",
   "metadata": {},
   "source": [
    "## Exercise 1\n",
    "\n",
    "- Open up a new IPython notebook\n",
    "- Download MTA turnstile data files for the following three dates: ```160903, 160910, 160917```\n",
    "\n",
    "- Load the files into a pandas DataFrame (hint: `pd.read_csv()` to load files and `pd.concat()` to combine DataFrames)\n"
   ]
  },
  {
   "cell_type": "code",
   "execution_count": 3,
   "id": "90c4bf84",
   "metadata": {},
   "outputs": [],
   "source": [
    "one = pd.read_csv(\"http://web.mta.info/developers/data/nyct/turnstile/turnstile_160903.txt\")\n",
    "two = pd.read_csv(\"http://web.mta.info/developers/data/nyct/turnstile/turnstile_160910.txt\")\n",
    "three = pd.read_csv(\"http://web.mta.info/developers/data/nyct/turnstile/turnstile_160917.txt\")"
   ]
  },
  {
   "cell_type": "code",
   "execution_count": null,
   "id": "c51e7e11",
   "metadata": {},
   "outputs": [],
   "source": [
    "one"
   ]
  },
  {
   "cell_type": "code",
   "execution_count": null,
   "id": "57bcab10",
   "metadata": {},
   "outputs": [],
   "source": [
    "df = pd.concat([one, two, three], join=\"inner\", ignore_index=True)"
   ]
  },
  {
   "cell_type": "code",
   "execution_count": null,
   "id": "f0c7b05e",
   "metadata": {},
   "outputs": [],
   "source": [
    "df.head()"
   ]
  },
  {
   "cell_type": "markdown",
   "id": "ec79ce0c",
   "metadata": {},
   "source": [
    "## Exercise 2\n",
    "\n",
    "- Let's turn this into a time series.\n",
    "\n",
    "- Our pandas dataframe has columns called `Date` and `Time` (what datatype did pandas assign to these columns on import?). However, in python and pandas we can convert date and time information to _datetime_ objects, which allow us to do time-based operations\n",
    "\n",
    "- Using either [pd.to_datetime](https://pandas.pydata.org/pandas-docs/stable/reference/api/pandas.to_datetime.html) in pandas or the [python datetime library](https://docs.python.org/2/library/datetime.html), combine the `Date` and `Time` columns into a single new column of the datetime datatype"
   ]
  },
  {
   "cell_type": "code",
   "execution_count": null,
   "id": "9af196b9",
   "metadata": {},
   "outputs": [],
   "source": [
    "df.dtypes"
   ]
  },
  {
   "cell_type": "markdown",
   "id": "dbd03448",
   "metadata": {},
   "source": [
    "Pandas assigned an `object` (i.e. string) type to the `DATE` and `TIME` columns on import."
   ]
  },
  {
   "cell_type": "markdown",
   "id": "c92a9dd7",
   "metadata": {},
   "source": [
    "To begin with for data cleaning, I will clean the column names to make it easier to wrangle later on."
   ]
  },
  {
   "cell_type": "code",
   "execution_count": null,
   "id": "742e1a35",
   "metadata": {},
   "outputs": [],
   "source": [
    "df.columns = [column.strip().lower().replace('/','_') for column in df.columns] \n",
    "df.columns"
   ]
  },
  {
   "cell_type": "code",
   "execution_count": null,
   "id": "b46606b4",
   "metadata": {},
   "outputs": [],
   "source": [
    "df['date_time'] = pd.to_datetime(df.date + ' ' + df.time)"
   ]
  },
  {
   "cell_type": "code",
   "execution_count": null,
   "id": "74e02b48",
   "metadata": {},
   "outputs": [],
   "source": [
    "df.dtypes"
   ]
  },
  {
   "cell_type": "markdown",
   "id": "0e1fd2dc",
   "metadata": {},
   "source": [
    "The `date_time` column is now a datetime object."
   ]
  },
  {
   "cell_type": "markdown",
   "id": "795f7fc0",
   "metadata": {},
   "source": [
    "## Exercise 3a\n",
    "* Each combination of C/A, UNIT, SCP, and STATION represents a unique turnstile. Take a look at one specific turnstile on a specific date. What does each row in the dataframe represent?\n",
    "* Obtain the maximum ENTRIES value for each day, for each unique turnstile."
   ]
  },
  {
   "cell_type": "markdown",
   "id": "e2b6d662",
   "metadata": {},
   "source": [
    "To look at a specifc turnstile, I'll use a mask. "
   ]
  },
  {
   "cell_type": "code",
   "execution_count": null,
   "id": "d993c8a7",
   "metadata": {},
   "outputs": [],
   "source": [
    "mask = ((df[\"c_a\"] == \"A002\") &\n",
    "        (df[\"unit\"] == \"R051\") & \n",
    "        (df[\"scp\"] == \"02-00-00\") & \n",
    "        (df[\"station\"] == \"59 ST\"))\n",
    "\n",
    "df[mask].head()"
   ]
  },
  {
   "cell_type": "markdown",
   "id": "8ca3d34b",
   "metadata": {},
   "source": [
    "It looks like, for a unique turnstile, each row represents a 4 hour window for a specific day with the total number of CUMULATIVE entries and exits at that point. \n",
    "\n",
    "As per the question, let's filter for the maximum entries in a four hour window per day and call that new dataframe `df_daily`. The last reading for each day is the maximum number of entries, therefore we would filter for the last row in each day. "
   ]
  },
  {
   "cell_type": "code",
   "execution_count": null,
   "id": "91f06e6d",
   "metadata": {},
   "outputs": [],
   "source": [
    "df_daily = (df\n",
    "            .groupby([\"c_a\", \"unit\", \"scp\", \"station\", \"date\"],as_index=False)\n",
    "            .entries.last())"
   ]
  },
  {
   "cell_type": "code",
   "execution_count": null,
   "id": "fb27005e",
   "metadata": {},
   "outputs": [],
   "source": [
    "df_daily"
   ]
  },
  {
   "cell_type": "markdown",
   "id": "82c7f8b4",
   "metadata": {},
   "source": [
    "## Exercise 3b\n",
    "\n",
    "- Work off of the daily maximum `ENTRIES` calculations from Problem 3a. Recall that the `ENTRIES` column contains cumulative entries on each day. We would now like you to calculate daily entries, i.e. the number of new entries gained each day\n",
    "- Hint: Group the data by turnstile and use the Pandas `.apply()` method to compute the same differencing function for each turnstile. Check out the `.shift()` and `.diff()` DataFrame methods for this purpose\n",
    "- Look through your results. Do they all make sense?"
   ]
  },
  {
   "cell_type": "markdown",
   "id": "3001bcfa",
   "metadata": {},
   "source": [
    "To calculate daily entries, I have to deduct the former day's cumulative entries from each row's `entries` column. I can do this by using `.apply()` to apply a single function for each turnstile."
   ]
  },
  {
   "cell_type": "code",
   "execution_count": null,
   "id": "aa785949",
   "metadata": {},
   "outputs": [],
   "source": [
    "df_daily[['prev_date', 'prev_entries']] = (df_daily\n",
    "                                   .groupby([\"c_a\", \"unit\", \"scp\", \"station\"])[\"date\", \"entries\"]\n",
    "                                   .apply(lambda x : x.shift(1)))"
   ]
  },
  {
   "cell_type": "code",
   "execution_count": null,
   "id": "19348567",
   "metadata": {},
   "outputs": [],
   "source": [
    "df_daily.head()"
   ]
  },
  {
   "cell_type": "markdown",
   "id": "da7e935c",
   "metadata": {},
   "source": [
    "I will remove the NaN value for the first row for each turnstile."
   ]
  },
  {
   "cell_type": "code",
   "execution_count": null,
   "id": "960434bb",
   "metadata": {},
   "outputs": [],
   "source": [
    "df_daily.dropna(subset=['prev_date'], inplace=True)"
   ]
  },
  {
   "cell_type": "code",
   "execution_count": null,
   "id": "bf638906",
   "metadata": {},
   "outputs": [],
   "source": [
    "df_daily.head()"
   ]
  },
  {
   "cell_type": "code",
   "execution_count": null,
   "id": "59d5ea34",
   "metadata": {},
   "outputs": [],
   "source": [
    "df_daily['daily_entries'] = df_daily['entries'] - df_daily['prev_entries']"
   ]
  },
  {
   "cell_type": "code",
   "execution_count": null,
   "id": "0ea939e4",
   "metadata": {},
   "outputs": [],
   "source": [
    "df_daily.head()"
   ]
  },
  {
   "cell_type": "markdown",
   "id": "29999c7e",
   "metadata": {},
   "source": [
    "Now let's see if there's anything funky with the `daily_entries` column."
   ]
  },
  {
   "cell_type": "code",
   "execution_count": null,
   "id": "11293ccd",
   "metadata": {},
   "outputs": [],
   "source": [
    "(df_daily[df_daily['daily_entries'] < 0]\n",
    " .groupby(['c_a', 'unit', 'scp', 'station'])).head()"
   ]
  },
  {
   "cell_type": "markdown",
   "id": "14452c04",
   "metadata": {},
   "source": [
    "Looks like there are negative values for `daily_entries` -- possibly because the previous day's entries are higher than the current day. Let's see how many rows this is happening for."
   ]
  },
  {
   "cell_type": "code",
   "execution_count": null,
   "id": "99c3433c",
   "metadata": {},
   "outputs": [],
   "source": [
    "df_daily[df_daily['entries'] < df_daily['prev_entries']].head()"
   ]
  },
  {
   "cell_type": "markdown",
   "id": "2a033024",
   "metadata": {},
   "source": [
    "Let's look at a specific instance of 2 consecutive days to see what is happening."
   ]
  },
  {
   "cell_type": "code",
   "execution_count": null,
   "id": "de995381",
   "metadata": {},
   "outputs": [],
   "source": [
    "mask3 = ((df[\"c_a\"] == \"A011\") &\n",
    "        (df[\"unit\"] == \"R080\") & \n",
    "        (df[\"scp\"] == \"01-00-00\") & \n",
    "        (df[\"station\"] == \"57 ST-7 AV\") &\n",
    "        ((df[\"date\"] == \"08/28/2016\") |\n",
    "        (df[\"date\"] == \"08/29/2016\")))\n",
    "\n",
    "df[mask3]"
   ]
  },
  {
   "cell_type": "markdown",
   "id": "3fbeeacd",
   "metadata": {},
   "source": [
    "The counter seems to be working in reverse, so I will assume we can just take the inverse sign of the `daily_entries` column for the rows which have negative values."
   ]
  },
  {
   "cell_type": "code",
   "execution_count": null,
   "id": "0434c966",
   "metadata": {},
   "outputs": [],
   "source": [
    "df_daily['daily_entries'] = df_daily.daily_entries.apply(lambda x: -x if x < 0 else x)"
   ]
  },
  {
   "cell_type": "code",
   "execution_count": 188,
   "id": "091b79b0",
   "metadata": {},
   "outputs": [
    {
     "data": {
      "text/plain": [
       "0"
      ]
     },
     "execution_count": 188,
     "metadata": {},
     "output_type": "execute_result"
    }
   ],
   "source": [
    "# Let's see if there are any more negative values\n",
    "\n",
    "(df_daily[df_daily['daily_entries'] < 0]).size"
   ]
  },
  {
   "cell_type": "markdown",
   "id": "559b32c6",
   "metadata": {},
   "source": [
    "### Problem 4\n",
    "\n",
    "So far we've been operating on a single turnstile level. Now let's\n",
    "  combine turnstiles that fall within the same ControlArea/Unit/Station combo. There\n",
    "  are some ControlArea/Unit/Station groups that have a single\n",
    "  turnstile, but most have multiple turnstiles -- same value for the\n",
    "  C/A, UNIT and STATION columns, different values for the SCP column.\n",
    "\n",
    "We want to combine the numbers together. For each\n",
    "ControlArea/UNIT/STATION combo, for each day, sum the counts from each\n",
    "turnstile belonging to that combo. (hint: `pd.groupby`)"
   ]
  },
  {
   "cell_type": "code",
   "execution_count": 202,
   "id": "6fb2a8ba",
   "metadata": {},
   "outputs": [],
   "source": [
    "df_unit_station_daily = df_daily.groupby(['c_a', 'unit', 'station', 'date']).daily_entries.sum().reset_index()"
   ]
  },
  {
   "cell_type": "code",
   "execution_count": 203,
   "id": "972191ab",
   "metadata": {},
   "outputs": [
    {
     "data": {
      "text/html": [
       "<div>\n",
       "<style scoped>\n",
       "    .dataframe tbody tr th:only-of-type {\n",
       "        vertical-align: middle;\n",
       "    }\n",
       "\n",
       "    .dataframe tbody tr th {\n",
       "        vertical-align: top;\n",
       "    }\n",
       "\n",
       "    .dataframe thead th {\n",
       "        text-align: right;\n",
       "    }\n",
       "</style>\n",
       "<table border=\"1\" class=\"dataframe\">\n",
       "  <thead>\n",
       "    <tr style=\"text-align: right;\">\n",
       "      <th></th>\n",
       "      <th>c_a</th>\n",
       "      <th>unit</th>\n",
       "      <th>station</th>\n",
       "      <th>date</th>\n",
       "      <th>daily_entries</th>\n",
       "    </tr>\n",
       "  </thead>\n",
       "  <tbody>\n",
       "    <tr>\n",
       "      <th>0</th>\n",
       "      <td>A002</td>\n",
       "      <td>R051</td>\n",
       "      <td>59 ST</td>\n",
       "      <td>08/28/2016</td>\n",
       "      <td>7896.0</td>\n",
       "    </tr>\n",
       "    <tr>\n",
       "      <th>1</th>\n",
       "      <td>A002</td>\n",
       "      <td>R051</td>\n",
       "      <td>59 ST</td>\n",
       "      <td>08/29/2016</td>\n",
       "      <td>15462.0</td>\n",
       "    </tr>\n",
       "    <tr>\n",
       "      <th>2</th>\n",
       "      <td>A002</td>\n",
       "      <td>R051</td>\n",
       "      <td>59 ST</td>\n",
       "      <td>08/30/2016</td>\n",
       "      <td>16622.0</td>\n",
       "    </tr>\n",
       "    <tr>\n",
       "      <th>3</th>\n",
       "      <td>A002</td>\n",
       "      <td>R051</td>\n",
       "      <td>59 ST</td>\n",
       "      <td>08/31/2016</td>\n",
       "      <td>16557.0</td>\n",
       "    </tr>\n",
       "    <tr>\n",
       "      <th>4</th>\n",
       "      <td>A002</td>\n",
       "      <td>R051</td>\n",
       "      <td>59 ST</td>\n",
       "      <td>09/01/2016</td>\n",
       "      <td>16464.0</td>\n",
       "    </tr>\n",
       "  </tbody>\n",
       "</table>\n",
       "</div>"
      ],
      "text/plain": [
       "    c_a  unit station        date  daily_entries\n",
       "0  A002  R051   59 ST  08/28/2016         7896.0\n",
       "1  A002  R051   59 ST  08/29/2016        15462.0\n",
       "2  A002  R051   59 ST  08/30/2016        16622.0\n",
       "3  A002  R051   59 ST  08/31/2016        16557.0\n",
       "4  A002  R051   59 ST  09/01/2016        16464.0"
      ]
     },
     "execution_count": 203,
     "metadata": {},
     "output_type": "execute_result"
    }
   ],
   "source": [
    "df_unit_station_daily.head()"
   ]
  },
  {
   "cell_type": "markdown",
   "id": "a23121a3",
   "metadata": {},
   "source": [
    "### Problem 5\n",
    "\n",
    "Similarly, come up with daily time series for each STATION, by adding up all the turnstiles in a station."
   ]
  },
  {
   "cell_type": "code",
   "execution_count": 207,
   "id": "e9c4ced9",
   "metadata": {},
   "outputs": [],
   "source": [
    "df_station_daily = df_unit_station_daily.groupby(['station', 'date']).daily_entries.sum().reset_index()"
   ]
  },
  {
   "cell_type": "code",
   "execution_count": 209,
   "id": "1a3d0d98",
   "metadata": {},
   "outputs": [
    {
     "data": {
      "text/html": [
       "<div>\n",
       "<style scoped>\n",
       "    .dataframe tbody tr th:only-of-type {\n",
       "        vertical-align: middle;\n",
       "    }\n",
       "\n",
       "    .dataframe tbody tr th {\n",
       "        vertical-align: top;\n",
       "    }\n",
       "\n",
       "    .dataframe thead th {\n",
       "        text-align: right;\n",
       "    }\n",
       "</style>\n",
       "<table border=\"1\" class=\"dataframe\">\n",
       "  <thead>\n",
       "    <tr style=\"text-align: right;\">\n",
       "      <th></th>\n",
       "      <th>station</th>\n",
       "      <th>date</th>\n",
       "      <th>daily_entries</th>\n",
       "    </tr>\n",
       "  </thead>\n",
       "  <tbody>\n",
       "    <tr>\n",
       "      <th>0</th>\n",
       "      <td>1 AV</td>\n",
       "      <td>08/28/2016</td>\n",
       "      <td>13871.0</td>\n",
       "    </tr>\n",
       "    <tr>\n",
       "      <th>1</th>\n",
       "      <td>1 AV</td>\n",
       "      <td>08/29/2016</td>\n",
       "      <td>18064.0</td>\n",
       "    </tr>\n",
       "    <tr>\n",
       "      <th>2</th>\n",
       "      <td>1 AV</td>\n",
       "      <td>08/30/2016</td>\n",
       "      <td>19182.0</td>\n",
       "    </tr>\n",
       "    <tr>\n",
       "      <th>3</th>\n",
       "      <td>1 AV</td>\n",
       "      <td>08/31/2016</td>\n",
       "      <td>19616.0</td>\n",
       "    </tr>\n",
       "    <tr>\n",
       "      <th>4</th>\n",
       "      <td>1 AV</td>\n",
       "      <td>09/01/2016</td>\n",
       "      <td>20170.0</td>\n",
       "    </tr>\n",
       "  </tbody>\n",
       "</table>\n",
       "</div>"
      ],
      "text/plain": [
       "  station        date  daily_entries\n",
       "0    1 AV  08/28/2016        13871.0\n",
       "1    1 AV  08/29/2016        18064.0\n",
       "2    1 AV  08/30/2016        19182.0\n",
       "3    1 AV  08/31/2016        19616.0\n",
       "4    1 AV  09/01/2016        20170.0"
      ]
     },
     "execution_count": 209,
     "metadata": {},
     "output_type": "execute_result"
    }
   ],
   "source": [
    "df_station_daily.head()"
   ]
  },
  {
   "cell_type": "markdown",
   "id": "4b71843d",
   "metadata": {},
   "source": [
    "### Problem 6\n",
    "\n",
    "Over multiple weeks, sum total ridership for each station and sort\n",
    "  them, so you can find out the stations with the highest traffic\n",
    "  during the time you investigate."
   ]
  },
  {
   "cell_type": "code",
   "execution_count": 216,
   "id": "0f28ab8c",
   "metadata": {},
   "outputs": [],
   "source": [
    "df_station_alltime = df_station_daily.groupby('station').sum().sort_values('daily_entries', ascending=False).reset_index()"
   ]
  },
  {
   "cell_type": "code",
   "execution_count": 222,
   "id": "9bd3801d",
   "metadata": {},
   "outputs": [
    {
     "data": {
      "text/html": [
       "<div>\n",
       "<style scoped>\n",
       "    .dataframe tbody tr th:only-of-type {\n",
       "        vertical-align: middle;\n",
       "    }\n",
       "\n",
       "    .dataframe tbody tr th {\n",
       "        vertical-align: top;\n",
       "    }\n",
       "\n",
       "    .dataframe thead th {\n",
       "        text-align: right;\n",
       "    }\n",
       "</style>\n",
       "<table border=\"1\" class=\"dataframe\">\n",
       "  <thead>\n",
       "    <tr style=\"text-align: right;\">\n",
       "      <th></th>\n",
       "      <th>station</th>\n",
       "      <th>daily_entries</th>\n",
       "    </tr>\n",
       "  </thead>\n",
       "  <tbody>\n",
       "    <tr>\n",
       "      <th>0</th>\n",
       "      <td>HIGH ST</td>\n",
       "      <td>1905251230.0</td>\n",
       "    </tr>\n",
       "    <tr>\n",
       "      <th>1</th>\n",
       "      <td>57 ST-7 AV</td>\n",
       "      <td>1895370561.0</td>\n",
       "    </tr>\n",
       "    <tr>\n",
       "      <th>2</th>\n",
       "      <td>EUCLID AV</td>\n",
       "      <td>1508883271.0</td>\n",
       "    </tr>\n",
       "    <tr>\n",
       "      <th>3</th>\n",
       "      <td>CHRISTOPHER ST</td>\n",
       "      <td>1145702830.0</td>\n",
       "    </tr>\n",
       "    <tr>\n",
       "      <th>4</th>\n",
       "      <td>137 ST CITY COL</td>\n",
       "      <td>418038454.0</td>\n",
       "    </tr>\n",
       "    <tr>\n",
       "      <th>...</th>\n",
       "      <td>...</td>\n",
       "      <td>...</td>\n",
       "    </tr>\n",
       "    <tr>\n",
       "      <th>368</th>\n",
       "      <td>BEACH 44 ST</td>\n",
       "      <td>12581.0</td>\n",
       "    </tr>\n",
       "    <tr>\n",
       "      <th>369</th>\n",
       "      <td>BEACH 105 ST</td>\n",
       "      <td>6556.0</td>\n",
       "    </tr>\n",
       "    <tr>\n",
       "      <th>370</th>\n",
       "      <td>BROAD CHANNEL</td>\n",
       "      <td>5597.0</td>\n",
       "    </tr>\n",
       "    <tr>\n",
       "      <th>371</th>\n",
       "      <td>ORCHARD BEACH</td>\n",
       "      <td>1020.0</td>\n",
       "    </tr>\n",
       "    <tr>\n",
       "      <th>372</th>\n",
       "      <td>SARATOGA AV</td>\n",
       "      <td>25.0</td>\n",
       "    </tr>\n",
       "  </tbody>\n",
       "</table>\n",
       "<p>373 rows × 2 columns</p>\n",
       "</div>"
      ],
      "text/plain": [
       "             station  daily_entries\n",
       "0            HIGH ST   1905251230.0\n",
       "1         57 ST-7 AV   1895370561.0\n",
       "2          EUCLID AV   1508883271.0\n",
       "3     CHRISTOPHER ST   1145702830.0\n",
       "4    137 ST CITY COL    418038454.0\n",
       "..               ...            ...\n",
       "368      BEACH 44 ST        12581.0\n",
       "369     BEACH 105 ST         6556.0\n",
       "370    BROAD CHANNEL         5597.0\n",
       "371    ORCHARD BEACH         1020.0\n",
       "372      SARATOGA AV           25.0\n",
       "\n",
       "[373 rows x 2 columns]"
      ]
     },
     "execution_count": 222,
     "metadata": {},
     "output_type": "execute_result"
    }
   ],
   "source": [
    "df_station_alltime"
   ]
  }
 ],
 "metadata": {
  "kernelspec": {
   "display_name": "Python [conda env:metis] *",
   "language": "python",
   "name": "conda-env-metis-py"
  },
  "language_info": {
   "codemirror_mode": {
    "name": "ipython",
    "version": 3
   },
   "file_extension": ".py",
   "mimetype": "text/x-python",
   "name": "python",
   "nbconvert_exporter": "python",
   "pygments_lexer": "ipython3",
   "version": "3.8.10"
  }
 },
 "nbformat": 4,
 "nbformat_minor": 5
}
