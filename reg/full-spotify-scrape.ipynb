{
 "cells": [
  {
   "cell_type": "code",
   "execution_count": 176,
   "id": "2f7e3635",
   "metadata": {},
   "outputs": [],
   "source": [
    "from bs4 import BeautifulSoup\n",
    "import pandas as pd\n",
    "import requests\n",
    "import os\n",
    "from time import sleep, time\n",
    "from datetime import date, timedelta"
   ]
  },
  {
   "cell_type": "code",
   "execution_count": 177,
   "id": "fd4b9e17",
   "metadata": {},
   "outputs": [],
   "source": [
    "from selenium import webdriver\n",
    "from selenium.webdriver.common.keys import Keys\n",
    "\n",
    "chromedriver = \"/Applications/chromedriver\" # path to the chromedriver executable\n",
    "os.environ[\"webdriver.chrome.driver\"] = chromedriver"
   ]
  },
  {
   "cell_type": "code",
   "execution_count": 178,
   "id": "514cdcbb",
   "metadata": {},
   "outputs": [],
   "source": [
    "base_url = 'https://spotifycharts.com/regional/us/weekly/latest'\n",
    "driver = webdriver.Chrome(chromedriver)\n",
    "driver.get(base_url)"
   ]
  },
  {
   "cell_type": "code",
   "execution_count": 179,
   "id": "a1b7b6d8",
   "metadata": {},
   "outputs": [],
   "source": [
    "#function for going through each row in each url and finding relevant song info\n",
    "\n",
    "def song_scrape(songs):\n",
    "    for tr in songs.find(\"tbody\").findAll(\"tr\"):\n",
    "        artist = tr.find(\"td\", {\"class\": \"chart-table-track\"}).find(\"span\").text\n",
    "        artist = artist.replace(\"by \",\"\").strip()\n",
    "  \n",
    "        title = tr.find(\"td\", {\"class\": \"chart-table-track\"}).find(\"strong\").text\n",
    "        \n",
    "        streams = tr.find(\"td\", {\"class\": \"chart-table-streams\"}).text\n",
    "        songid = tr.find(\"td\", {\"class\": \"chart-table-image\"}).find(\"a\").get(\"href\")\n",
    "        songid = songid.split(\"track/\")[1]\n",
    "    \n",
    "        url_date= f\"{prev_start} - {prev_end}\"\n",
    "        \n",
    "        final_list.append([title, artist, songid, streams, url_date])"
   ]
  },
  {
   "cell_type": "code",
   "execution_count": 181,
   "id": "f38bb33b",
   "metadata": {
    "scrolled": false
   },
   "outputs": [],
   "source": [
    "from selenium.common.exceptions import NoSuchElementException\n",
    "\n",
    "first_date = date(2021, 9, 30)\n",
    "last_date = date(2020, 9, 30)\n",
    "diff_end = -6\n",
    "diff_start = -13\n",
    "prev_end = (first_date + timedelta(days=-6)).strftime('%Y-%m-%d')\n",
    "prev_start = (first_date + timedelta(days=-13)).strftime('%Y-%m-%d')\n",
    "final_list = []\n",
    "\n",
    "while pd.to_datetime(prev_start).date() > last_date:   \n",
    "    try:\n",
    "        filter_button = driver.find_element_by_xpath(\n",
    "            '//a[contains(@class, \"menu-button\")]'\n",
    "        )\n",
    "        filter_button.click()\n",
    "        \n",
    "        date_button = driver.find_element_by_xpath(\n",
    "            '//div[@data-type=\"date\"]'\n",
    "        )\n",
    "        date_button.click()\n",
    "        \n",
    "        date_select = driver.find_element_by_xpath(\n",
    "            f'//li[@data-value=\"{prev_start}--{prev_end}\"]'\n",
    "        )\n",
    "\n",
    "        date_select.click()\n",
    "        \n",
    "        sleep(1)\n",
    "        \n",
    "        html_source = driver.page_source \n",
    "        \n",
    "        soup = BeautifulSoup(html_source, \"html.parser\")\n",
    "        songs = soup.find(\"table\", {\"class\":\"chart-table\"})\n",
    "        song_scrape(songs)\n",
    "        \n",
    "        sleep(2)\n",
    "        \n",
    "    except NoSuchElementException:\n",
    "        print(\"No such element. Stopping scrape.\")\n",
    "\n",
    "    prev_end = (pd.to_datetime(prev_end).date() - timedelta(days=7)).strftime('%Y-%m-%d')\n",
    "    prev_start = (pd.to_datetime(prev_start).date() - timedelta(days=7)).strftime('%Y-%m-%d')\n",
    "    #print(prev_start, prev_end)\n"
   ]
  },
  {
   "cell_type": "code",
   "execution_count": 184,
   "id": "317b6e88",
   "metadata": {},
   "outputs": [
    {
     "data": {
      "text/html": [
       "<div>\n",
       "<style scoped>\n",
       "    .dataframe tbody tr th:only-of-type {\n",
       "        vertical-align: middle;\n",
       "    }\n",
       "\n",
       "    .dataframe tbody tr th {\n",
       "        vertical-align: top;\n",
       "    }\n",
       "\n",
       "    .dataframe thead th {\n",
       "        text-align: right;\n",
       "    }\n",
       "</style>\n",
       "<table border=\"1\" class=\"dataframe\">\n",
       "  <thead>\n",
       "    <tr style=\"text-align: right;\">\n",
       "      <th></th>\n",
       "      <th>Title</th>\n",
       "      <th>Artist</th>\n",
       "      <th>Song ID</th>\n",
       "      <th>Streams</th>\n",
       "      <th>Weekly Chart Date</th>\n",
       "    </tr>\n",
       "  </thead>\n",
       "  <tbody>\n",
       "    <tr>\n",
       "      <th>0</th>\n",
       "      <td>INDUSTRY BABY (feat. Jack Harlow)</td>\n",
       "      <td>Lil Nas X</td>\n",
       "      <td>5Z9KJZvQzH6PFmb8SNkxuk</td>\n",
       "      <td>13,890,659</td>\n",
       "      <td>2021-09-17 - 2021-09-24</td>\n",
       "    </tr>\n",
       "    <tr>\n",
       "      <th>1</th>\n",
       "      <td>Way 2 Sexy (with Future &amp; Young Thug)</td>\n",
       "      <td>Drake</td>\n",
       "      <td>0k1WUmIRnG3xU6fvvDVfRG</td>\n",
       "      <td>10,897,624</td>\n",
       "      <td>2021-09-17 - 2021-09-24</td>\n",
       "    </tr>\n",
       "    <tr>\n",
       "      <th>2</th>\n",
       "      <td>STAY (with Justin Bieber)</td>\n",
       "      <td>The Kid LAROI</td>\n",
       "      <td>5PjdY0CKGZdEuoNab3yDmX</td>\n",
       "      <td>10,613,177</td>\n",
       "      <td>2021-09-17 - 2021-09-24</td>\n",
       "    </tr>\n",
       "    <tr>\n",
       "      <th>3</th>\n",
       "      <td>THATS WHAT I WANT</td>\n",
       "      <td>Lil Nas X</td>\n",
       "      <td>0e8nrvls4Qqv5Rfa2UhqmO</td>\n",
       "      <td>10,150,153</td>\n",
       "      <td>2021-09-17 - 2021-09-24</td>\n",
       "    </tr>\n",
       "    <tr>\n",
       "      <th>4</th>\n",
       "      <td>Knife Talk (with 21 Savage ft. Project Pat)</td>\n",
       "      <td>Drake</td>\n",
       "      <td>2BcMwX1MPV6ZHP4tUT9uq6</td>\n",
       "      <td>9,492,188</td>\n",
       "      <td>2021-09-17 - 2021-09-24</td>\n",
       "    </tr>\n",
       "  </tbody>\n",
       "</table>\n",
       "</div>"
      ],
      "text/plain": [
       "                                         Title         Artist  \\\n",
       "0            INDUSTRY BABY (feat. Jack Harlow)      Lil Nas X   \n",
       "1        Way 2 Sexy (with Future & Young Thug)          Drake   \n",
       "2                    STAY (with Justin Bieber)  The Kid LAROI   \n",
       "3                            THATS WHAT I WANT      Lil Nas X   \n",
       "4  Knife Talk (with 21 Savage ft. Project Pat)          Drake   \n",
       "\n",
       "                  Song ID     Streams        Weekly Chart Date  \n",
       "0  5Z9KJZvQzH6PFmb8SNkxuk  13,890,659  2021-09-17 - 2021-09-24  \n",
       "1  0k1WUmIRnG3xU6fvvDVfRG  10,897,624  2021-09-17 - 2021-09-24  \n",
       "2  5PjdY0CKGZdEuoNab3yDmX  10,613,177  2021-09-17 - 2021-09-24  \n",
       "3  0e8nrvls4Qqv5Rfa2UhqmO  10,150,153  2021-09-17 - 2021-09-24  \n",
       "4  2BcMwX1MPV6ZHP4tUT9uq6   9,492,188  2021-09-17 - 2021-09-24  "
      ]
     },
     "execution_count": 184,
     "metadata": {},
     "output_type": "execute_result"
    }
   ],
   "source": [
    "final_df = pd.DataFrame(final_list, columns= [\"Title\", \"Artist\", \"Song ID\", \"Streams\", \"Weekly Chart Date\"])\n",
    "final_df.head()"
   ]
  },
  {
   "cell_type": "code",
   "execution_count": 183,
   "id": "5ee9786b",
   "metadata": {},
   "outputs": [],
   "source": [
    "with open('spotifydata_{}_{}.csv'.format(last_date, first_date), 'w') as f:\n",
    "        final_df.to_csv(f, header= True, index=False)"
   ]
  }
 ],
 "metadata": {
  "kernelspec": {
   "display_name": "Python [conda env:metis] *",
   "language": "python",
   "name": "conda-env-metis-py"
  },
  "language_info": {
   "codemirror_mode": {
    "name": "ipython",
    "version": 3
   },
   "file_extension": ".py",
   "mimetype": "text/x-python",
   "name": "python",
   "nbconvert_exporter": "python",
   "pygments_lexer": "ipython3",
   "version": "3.8.10"
  }
 },
 "nbformat": 4,
 "nbformat_minor": 5
}
