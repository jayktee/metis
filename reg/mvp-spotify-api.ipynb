{
 "cells": [
  {
   "cell_type": "code",
   "execution_count": 7,
   "id": "6b47ddbe",
   "metadata": {},
   "outputs": [],
   "source": [
    "import requests\n",
    "import base64\n",
    "from dotenv import dotenv_values\n",
    "config = dotenv_values(\".env\")\n",
    "CLIENT_ID = config[\"CLIENT_ID\"]\n",
    "CLIENT_SECRET = config[\"CLIENT_SECRET\"]\n",
    "\n",
    "to_encode = CLIENT_ID + ':' + CLIENT_SECRET\n",
    "base64_encoded_id_secret = base64.b64encode(to_encode.encode()).decode()\n",
    "\n",
    "headers = {\n",
    "  'Content-Type': 'application/x-www-form-urlencoded',\n",
    "  'Authorization': 'Basic {}'.format(base64_encoded_id_secret)\n",
    "}\n",
    "\n",
    "params = {'grant_type': 'client_credentials'}\n",
    "\n",
    "r = requests.post('https://accounts.spotify.com/api/token', headers=headers, params=params)\n",
    "\n",
    "token = r.json()['access_token']"
   ]
  },
  {
   "cell_type": "code",
   "execution_count": 15,
   "id": "ab1ecee5",
   "metadata": {},
   "outputs": [],
   "source": [
    "header = {'Authorization': 'Bearer ' + token }\n",
    "\n",
    "r = requests.get('https://api.spotify.com/v1/audio-features/4Oun2ylbjFKMPTiaSbbCih', headers=header)\n",
    "\n",
    "result = r.json()"
   ]
  },
  {
   "cell_type": "code",
   "execution_count": 16,
   "id": "a02f45cb",
   "metadata": {},
   "outputs": [
    {
     "data": {
      "text/plain": [
       "{'danceability': 0.935,\n",
       " 'energy': 0.454,\n",
       " 'key': 1,\n",
       " 'loudness': -7.509,\n",
       " 'mode': 1,\n",
       " 'speechiness': 0.375,\n",
       " 'acousticness': 0.0194,\n",
       " 'instrumentalness': 0,\n",
       " 'liveness': 0.0824,\n",
       " 'valence': 0.357,\n",
       " 'tempo': 133.073,\n",
       " 'type': 'audio_features',\n",
       " 'id': '4Oun2ylbjFKMPTiaSbbCih',\n",
       " 'uri': 'spotify:track:4Oun2ylbjFKMPTiaSbbCih',\n",
       " 'track_href': 'https://api.spotify.com/v1/tracks/4Oun2ylbjFKMPTiaSbbCih',\n",
       " 'analysis_url': 'https://api.spotify.com/v1/audio-analysis/4Oun2ylbjFKMPTiaSbbCih',\n",
       " 'duration_ms': 187541,\n",
       " 'time_signature': 4}"
      ]
     },
     "execution_count": 16,
     "metadata": {},
     "output_type": "execute_result"
    }
   ],
   "source": [
    "result"
   ]
  },
  {
   "cell_type": "code",
   "execution_count": 14,
   "id": "324aa829",
   "metadata": {},
   "outputs": [
    {
     "data": {
      "text/plain": [
       "83"
      ]
     },
     "execution_count": 14,
     "metadata": {},
     "output_type": "execute_result"
    }
   ],
   "source": [
    "result['popularity']"
   ]
  }
 ],
 "metadata": {
  "kernelspec": {
   "display_name": "Python [conda env:metis] *",
   "language": "python",
   "name": "conda-env-metis-py"
  },
  "language_info": {
   "codemirror_mode": {
    "name": "ipython",
    "version": 3
   },
   "file_extension": ".py",
   "mimetype": "text/x-python",
   "name": "python",
   "nbconvert_exporter": "python",
   "pygments_lexer": "ipython3",
   "version": "3.8.10"
  }
 },
 "nbformat": 4,
 "nbformat_minor": 5
}
