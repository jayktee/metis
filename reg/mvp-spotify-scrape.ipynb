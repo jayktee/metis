{
 "cells": [
  {
   "cell_type": "code",
   "execution_count": 78,
   "id": "2f7e3635",
   "metadata": {},
   "outputs": [],
   "source": [
    "from bs4 import BeautifulSoup\n",
    "import pandas as pd\n",
    "import requests\n",
    "from time import sleep\n",
    "from datetime import date, timedelta"
   ]
  },
  {
   "cell_type": "code",
   "execution_count": 79,
   "id": "46c0bd86",
   "metadata": {},
   "outputs": [],
   "source": [
    "#create empty arrays\n",
    "dates = []\n",
    "url_list =[]\n",
    "final_list = []\n",
    "\n",
    "#map site\n",
    "url = \"https://spotifycharts.com/regional/us/daily/\"\n",
    "start_date = date(2020, 9, 1)\n",
    "end_date = date(2020, 9, 5)\n",
    "\n",
    "delta = end_date-start_date\n",
    "\n",
    "for i in range(delta.days+1):\n",
    "    day = start_date + timedelta(days=i)\n",
    "    day_string = day.strftime(\"%Y-%m-%d\")\n",
    "    dates.append(day_string)\n",
    "\n",
    "\n",
    "for date in dates:\n",
    "    pg_string = url+date\n",
    "    url_list.append(pg_string)"
   ]
  },
  {
   "cell_type": "code",
   "execution_count": 80,
   "id": "e5b6265d",
   "metadata": {
    "scrolled": true
   },
   "outputs": [
    {
     "data": {
      "text/plain": [
       "['https://spotifycharts.com/regional/us/daily/2020-09-01',\n",
       " 'https://spotifycharts.com/regional/us/daily/2020-09-02',\n",
       " 'https://spotifycharts.com/regional/us/daily/2020-09-03',\n",
       " 'https://spotifycharts.com/regional/us/daily/2020-09-04',\n",
       " 'https://spotifycharts.com/regional/us/daily/2020-09-05']"
      ]
     },
     "execution_count": 80,
     "metadata": {},
     "output_type": "execute_result"
    }
   ],
   "source": [
    "url_list"
   ]
  },
  {
   "cell_type": "code",
   "execution_count": 67,
   "id": "d17dd6d7",
   "metadata": {},
   "outputs": [],
   "source": [
    "#function for going through each row in each url and finding relevant song info\n",
    "\n",
    "def song_scrape(x):\n",
    "    pg = x\n",
    "    for tr in songs.find(\"tbody\").findAll(\"tr\"):\n",
    "        artist = tr.find(\"td\", {\"class\": \"chart-table-track\"}).find(\"span\").text\n",
    "        artist = artist.replace(\"by \",\"\").strip()\n",
    "  \n",
    "        title = tr.find(\"td\", {\"class\": \"chart-table-track\"}).find(\"strong\").text\n",
    "        \n",
    "        streams = tr.find(\"td\", {\"class\": \"chart-table-streams\"}).text\n",
    "        songid = tr.find(\"td\", {\"class\": \"chart-table-image\"}).find(\"a\").get(\"href\")\n",
    "        songid = songid.split(\"track/\")[1]\n",
    "    \n",
    "        url_date= x.split(\"daily/\")[1]\n",
    "        \n",
    "        final_list.append([title, artist, songid, streams, url_date])"
   ]
  },
  {
   "cell_type": "code",
   "execution_count": 68,
   "id": "03f31927",
   "metadata": {},
   "outputs": [],
   "source": [
    "#data scraping pipeline for list of urls\n",
    "\n",
    "for url in url_list:\n",
    "    page = requests.get(u, headers={'User-Agent': 'Mozilla/5.0'}) # Use headers to prevent 403 error\n",
    "    sleep(2)\n",
    "    soup = BeautifulSoup(page.text, \"html.parser\")\n",
    "    songs = soup.find(\"table\", {\"class\":\"chart-table\"})\n",
    "    song_scrape(url)"
   ]
  },
  {
   "cell_type": "code",
   "execution_count": 74,
   "id": "9260fdba",
   "metadata": {},
   "outputs": [],
   "source": [
    "#convert to data frame\n",
    "\n",
    "final_df = pd.DataFrame(final, columns= [\"Title\", \"Artist\", \"Song ID\", \"Streams\", \"Chart Date\"])\n",
    "\n",
    "#write to csv\n",
    "\n",
    "with open('spotifydata_{}_{}.csv'.format(start_date, end_date), 'w') as f:\n",
    "        final_df.to_csv(f, header= True, index=False)"
   ]
  },
  {
   "cell_type": "code",
   "execution_count": 81,
   "id": "80652ce2",
   "metadata": {},
   "outputs": [
    {
     "data": {
      "text/html": [
       "<div>\n",
       "<style scoped>\n",
       "    .dataframe tbody tr th:only-of-type {\n",
       "        vertical-align: middle;\n",
       "    }\n",
       "\n",
       "    .dataframe tbody tr th {\n",
       "        vertical-align: top;\n",
       "    }\n",
       "\n",
       "    .dataframe thead th {\n",
       "        text-align: right;\n",
       "    }\n",
       "</style>\n",
       "<table border=\"1\" class=\"dataframe\">\n",
       "  <thead>\n",
       "    <tr style=\"text-align: right;\">\n",
       "      <th></th>\n",
       "      <th>Title</th>\n",
       "      <th>Artist</th>\n",
       "      <th>Song ID</th>\n",
       "      <th>Streams</th>\n",
       "      <th>Chart Date</th>\n",
       "    </tr>\n",
       "  </thead>\n",
       "  <tbody>\n",
       "    <tr>\n",
       "      <th>0</th>\n",
       "      <td>WAP (feat. Megan Thee Stallion)</td>\n",
       "      <td>Cardi B</td>\n",
       "      <td>4Oun2ylbjFKMPTiaSbbCih</td>\n",
       "      <td>2,314,661</td>\n",
       "      <td>2020-09-01</td>\n",
       "    </tr>\n",
       "    <tr>\n",
       "      <th>1</th>\n",
       "      <td>Laugh Now Cry Later (feat. Lil Durk)</td>\n",
       "      <td>Drake</td>\n",
       "      <td>2SAqBLGA283SUiwJ3xOUVI</td>\n",
       "      <td>1,440,082</td>\n",
       "      <td>2020-09-01</td>\n",
       "    </tr>\n",
       "    <tr>\n",
       "      <th>2</th>\n",
       "      <td>Mood (feat. iann dior)</td>\n",
       "      <td>24kGoldn</td>\n",
       "      <td>3tjFYV6RSFtuktYl3ZtYcq</td>\n",
       "      <td>1,420,198</td>\n",
       "      <td>2020-09-01</td>\n",
       "    </tr>\n",
       "    <tr>\n",
       "      <th>3</th>\n",
       "      <td>For The Night (feat. Lil Baby &amp; DaBaby)</td>\n",
       "      <td>Pop Smoke</td>\n",
       "      <td>0PvFJmanyNQMseIFrU708S</td>\n",
       "      <td>967,178</td>\n",
       "      <td>2020-09-01</td>\n",
       "    </tr>\n",
       "    <tr>\n",
       "      <th>4</th>\n",
       "      <td>ROCKSTAR (feat. Roddy Ricch)</td>\n",
       "      <td>DaBaby</td>\n",
       "      <td>7ytR5pFWmSjzHJIeQkgog4</td>\n",
       "      <td>963,189</td>\n",
       "      <td>2020-09-01</td>\n",
       "    </tr>\n",
       "  </tbody>\n",
       "</table>\n",
       "</div>"
      ],
      "text/plain": [
       "                                     Title     Artist                 Song ID  \\\n",
       "0          WAP (feat. Megan Thee Stallion)    Cardi B  4Oun2ylbjFKMPTiaSbbCih   \n",
       "1     Laugh Now Cry Later (feat. Lil Durk)      Drake  2SAqBLGA283SUiwJ3xOUVI   \n",
       "2                   Mood (feat. iann dior)   24kGoldn  3tjFYV6RSFtuktYl3ZtYcq   \n",
       "3  For The Night (feat. Lil Baby & DaBaby)  Pop Smoke  0PvFJmanyNQMseIFrU708S   \n",
       "4             ROCKSTAR (feat. Roddy Ricch)     DaBaby  7ytR5pFWmSjzHJIeQkgog4   \n",
       "\n",
       "     Streams  Chart Date  \n",
       "0  2,314,661  2020-09-01  \n",
       "1  1,440,082  2020-09-01  \n",
       "2  1,420,198  2020-09-01  \n",
       "3    967,178  2020-09-01  \n",
       "4    963,189  2020-09-01  "
      ]
     },
     "execution_count": 81,
     "metadata": {},
     "output_type": "execute_result"
    }
   ],
   "source": [
    "final_df.head()"
   ]
  }
 ],
 "metadata": {
  "kernelspec": {
   "display_name": "Python [conda env:metis] *",
   "language": "python",
   "name": "conda-env-metis-py"
  },
  "language_info": {
   "codemirror_mode": {
    "name": "ipython",
    "version": 3
   },
   "file_extension": ".py",
   "mimetype": "text/x-python",
   "name": "python",
   "nbconvert_exporter": "python",
   "pygments_lexer": "ipython3",
   "version": "3.8.10"
  }
 },
 "nbformat": 4,
 "nbformat_minor": 5
}
