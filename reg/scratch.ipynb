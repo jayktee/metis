{
 "cells": [
  {
   "cell_type": "code",
   "execution_count": 2,
   "id": "720204aa",
   "metadata": {},
   "outputs": [],
   "source": [
    "from bs4 import BeautifulSoup"
   ]
  },
  {
   "cell_type": "code",
   "execution_count": 20,
   "id": "70dd8f79",
   "metadata": {},
   "outputs": [],
   "source": [
    "scratch_html = '''\n",
    "<html>\n",
    "<h1 itemprop=\"name\">\n",
    "    <span>Aaron Judge</span>\n",
    "        </h1>\n",
    "    <p>\n",
    "    <strong>Position:</strong>\n",
    "    Rightfielder\n",
    "  \n",
    "</p>\n",
    "\n",
    "<p>\n",
    "    <strong>Bats: </strong>Right\n",
    "        &nbsp;&bull;&nbsp;\n",
    "    <strong>Throws: </strong>Right\n",
    "    \n",
    "</p>\n",
    "\n",
    "<p><span itemprop=\"height\">6-7</span>,&nbsp;<span itemprop=\"weight\">282lb</span>&nbsp;(201cm,&nbsp;127kg) </p>\n",
    "\n",
    "  <p>\n",
    "    <strong>Team:</strong>\n",
    "    <a href=\"/teams/NYY/2020.shtml\">New York Yankees</a> (majors)\n",
    "  </p>\n",
    "\n",
    "</html>\n",
    "'''"
   ]
  },
  {
   "cell_type": "code",
   "execution_count": 21,
   "id": "f2012369",
   "metadata": {},
   "outputs": [
    {
     "data": {
      "text/html": [
       "\n",
       "<html>\n",
       "<h1 itemprop=\"name\">\n",
       "    <span>Aaron Judge</span>\n",
       "        </h1>\n",
       "    <p>\n",
       "    <strong>Position:</strong>\n",
       "    Rightfielder\n",
       "  \n",
       "</p>\n",
       "\n",
       "<p>\n",
       "    <strong>Bats: </strong>Right\n",
       "        &nbsp;&bull;&nbsp;\n",
       "    <strong>Throws: </strong>Right\n",
       "    \n",
       "</p>\n",
       "\n",
       "<p><span itemprop=\"height\">6-7</span>,&nbsp;<span itemprop=\"weight\">282lb</span>&nbsp;(201cm,&nbsp;127kg) </p>\n",
       "\n",
       "  <p>\n",
       "    <strong>Team:</strong>\n",
       "    <a href=\"/teams/NYY/2020.shtml\">New York Yankees</a> (majors)\n",
       "  </p>\n",
       "\n",
       "</html>\n"
      ],
      "text/plain": [
       "<IPython.core.display.HTML object>"
      ]
     },
     "metadata": {},
     "output_type": "display_data"
    }
   ],
   "source": [
    "from IPython.core.display import display, HTML\n",
    "display(HTML(scratch_html)) "
   ]
  },
  {
   "cell_type": "code",
   "execution_count": 22,
   "id": "3cae6770",
   "metadata": {},
   "outputs": [],
   "source": [
    "soup = BeautifulSoup(scratch_html)"
   ]
  },
  {
   "cell_type": "code",
   "execution_count": 31,
   "id": "61f74fd1",
   "metadata": {},
   "outputs": [
    {
     "data": {
      "text/plain": [
       "{'name': 'Aaron Judge', 'height': '6-7', 'weight': '282lb'}"
      ]
     },
     "execution_count": 31,
     "metadata": {},
     "output_type": "execute_result"
    }
   ],
   "source": [
    "{e['itemprop'] : e.text.strip() for e in soup.find_all(attrs={'itemprop':True})}"
   ]
  }
 ],
 "metadata": {
  "kernelspec": {
   "display_name": "Python [conda env:metis] *",
   "language": "python",
   "name": "conda-env-metis-py"
  },
  "language_info": {
   "codemirror_mode": {
    "name": "ipython",
    "version": 3
   },
   "file_extension": ".py",
   "mimetype": "text/x-python",
   "name": "python",
   "nbconvert_exporter": "python",
   "pygments_lexer": "ipython3",
   "version": "3.8.10"
  }
 },
 "nbformat": 4,
 "nbformat_minor": 5
}
